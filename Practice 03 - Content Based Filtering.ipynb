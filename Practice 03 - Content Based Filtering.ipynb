{
 "cells": [
  {
   "cell_type": "markdown",
   "metadata": {},
   "source": [
    "# Recommender Systems 2023/24\n",
    "\n",
    "### Practice 3 - Content Based recommenders\n",
    "\n",
    "\n",
    "### Load the data you saw last time:"
   ]
  },
  {
   "cell_type": "code",
   "execution_count": 1,
   "metadata": {},
   "outputs": [],
   "source": [
    "from urllib.request import urlretrieve\n",
    "import zipfile, os\n",
    "\n",
    "# If file exists, skip the download\n",
    "data_file_path = \"Data_manager_split_datasets/Movielens10M/\"\n",
    "data_file_name = data_file_path + \"movielens_10m.zip\"\n",
    "\n",
    "# If directory does not exist, create\n",
    "if not os.path.exists(data_file_path):\n",
    "    os.makedirs(data_file_path)\n",
    "\n",
    "if not os.path.exists(data_file_name):\n",
    "    urlretrieve (\"http://files.grouplens.org/datasets/movielens/ml-10m.zip\", data_file_name)\n",
    "    \n",
    "dataFile = zipfile.ZipFile(data_file_path + \"movielens_10m.zip\")\n",
    "\n",
    "URM_path = dataFile.extract(\"ml-10M100K/ratings.dat\", path = data_file_path + \"decompressed/\")\n",
    "\n",
    "URM_file = open(URM_path, 'r')"
   ]
  },
  {
   "cell_type": "code",
   "execution_count": 2,
   "metadata": {},
   "outputs": [],
   "source": [
    "import pandas as pd\n",
    "\n",
    "URM_all_dataframe = pd.read_csv(filepath_or_buffer=URM_path, \n",
    "                                sep=\"::\", \n",
    "                                header=None, \n",
    "                                dtype={0:int, 1:int, 2:float, 3:int},\n",
    "                                engine='python')\n",
    "\n",
    "URM_all_dataframe.columns = [\"UserID\", \"ItemID\", \"Interaction\", \"Timestamp\"]"
   ]
  },
  {
   "cell_type": "code",
   "execution_count": 3,
   "metadata": {},
   "outputs": [
    {
     "data": {
      "text/html": [
       "<div>\n",
       "<style scoped>\n",
       "    .dataframe tbody tr th:only-of-type {\n",
       "        vertical-align: middle;\n",
       "    }\n",
       "\n",
       "    .dataframe tbody tr th {\n",
       "        vertical-align: top;\n",
       "    }\n",
       "\n",
       "    .dataframe thead th {\n",
       "        text-align: right;\n",
       "    }\n",
       "</style>\n",
       "<table border=\"1\" class=\"dataframe\">\n",
       "  <thead>\n",
       "    <tr style=\"text-align: right;\">\n",
       "      <th></th>\n",
       "      <th>UserID</th>\n",
       "      <th>ItemID</th>\n",
       "      <th>Interaction</th>\n",
       "      <th>Timestamp</th>\n",
       "    </tr>\n",
       "  </thead>\n",
       "  <tbody>\n",
       "    <tr>\n",
       "      <th>0</th>\n",
       "      <td>1</td>\n",
       "      <td>122</td>\n",
       "      <td>5.0</td>\n",
       "      <td>838985046</td>\n",
       "    </tr>\n",
       "    <tr>\n",
       "      <th>1</th>\n",
       "      <td>1</td>\n",
       "      <td>185</td>\n",
       "      <td>5.0</td>\n",
       "      <td>838983525</td>\n",
       "    </tr>\n",
       "    <tr>\n",
       "      <th>2</th>\n",
       "      <td>1</td>\n",
       "      <td>231</td>\n",
       "      <td>5.0</td>\n",
       "      <td>838983392</td>\n",
       "    </tr>\n",
       "    <tr>\n",
       "      <th>3</th>\n",
       "      <td>1</td>\n",
       "      <td>292</td>\n",
       "      <td>5.0</td>\n",
       "      <td>838983421</td>\n",
       "    </tr>\n",
       "    <tr>\n",
       "      <th>4</th>\n",
       "      <td>1</td>\n",
       "      <td>316</td>\n",
       "      <td>5.0</td>\n",
       "      <td>838983392</td>\n",
       "    </tr>\n",
       "    <tr>\n",
       "      <th>5</th>\n",
       "      <td>1</td>\n",
       "      <td>329</td>\n",
       "      <td>5.0</td>\n",
       "      <td>838983392</td>\n",
       "    </tr>\n",
       "    <tr>\n",
       "      <th>6</th>\n",
       "      <td>1</td>\n",
       "      <td>355</td>\n",
       "      <td>5.0</td>\n",
       "      <td>838984474</td>\n",
       "    </tr>\n",
       "    <tr>\n",
       "      <th>7</th>\n",
       "      <td>1</td>\n",
       "      <td>356</td>\n",
       "      <td>5.0</td>\n",
       "      <td>838983653</td>\n",
       "    </tr>\n",
       "    <tr>\n",
       "      <th>8</th>\n",
       "      <td>1</td>\n",
       "      <td>362</td>\n",
       "      <td>5.0</td>\n",
       "      <td>838984885</td>\n",
       "    </tr>\n",
       "    <tr>\n",
       "      <th>9</th>\n",
       "      <td>1</td>\n",
       "      <td>364</td>\n",
       "      <td>5.0</td>\n",
       "      <td>838983707</td>\n",
       "    </tr>\n",
       "  </tbody>\n",
       "</table>\n",
       "</div>"
      ],
      "text/plain": [
       "   UserID  ItemID  Interaction  Timestamp\n",
       "0       1     122          5.0  838985046\n",
       "1       1     185          5.0  838983525\n",
       "2       1     231          5.0  838983392\n",
       "3       1     292          5.0  838983421\n",
       "4       1     316          5.0  838983392\n",
       "5       1     329          5.0  838983392\n",
       "6       1     355          5.0  838984474\n",
       "7       1     356          5.0  838983653\n",
       "8       1     362          5.0  838984885\n",
       "9       1     364          5.0  838983707"
      ]
     },
     "execution_count": 3,
     "metadata": {},
     "output_type": "execute_result"
    }
   ],
   "source": [
    "URM_all_dataframe.head(n=10)"
   ]
  },
  {
   "cell_type": "markdown",
   "metadata": {},
   "source": [
    "## And now load the content informations in the same way:\n",
    "## In this case we are using tags. The ICM also contains the user that added the tag in column 0 (but we don't use that information)."
   ]
  },
  {
   "cell_type": "code",
   "execution_count": 4,
   "metadata": {},
   "outputs": [],
   "source": [
    "ICM_path = dataFile.extract(\"ml-10M100K/tags.dat\", path = data_file_path + \"decompressed/\")\n",
    "\n",
    "ICM_dataframe = pd.read_csv(filepath_or_buffer=ICM_path, \n",
    "                            sep=\"::\", \n",
    "                            header=None, \n",
    "                            dtype={0:int, 1:int, 2:str, 3:int},\n",
    "                            engine='python')\n",
    "\n",
    "ICM_dataframe.columns = [\"UserID\", \"ItemID\", \"FeatureID\", \"Timestamp\"]\n",
    "\n",
    "# Some nan values exist, remove them\n",
    "ICM_dataframe = ICM_dataframe[ICM_dataframe[\"FeatureID\"].notna()]"
   ]
  },
  {
   "cell_type": "code",
   "execution_count": 5,
   "metadata": {},
   "outputs": [
    {
     "data": {
      "text/html": [
       "<div>\n",
       "<style scoped>\n",
       "    .dataframe tbody tr th:only-of-type {\n",
       "        vertical-align: middle;\n",
       "    }\n",
       "\n",
       "    .dataframe tbody tr th {\n",
       "        vertical-align: top;\n",
       "    }\n",
       "\n",
       "    .dataframe thead th {\n",
       "        text-align: right;\n",
       "    }\n",
       "</style>\n",
       "<table border=\"1\" class=\"dataframe\">\n",
       "  <thead>\n",
       "    <tr style=\"text-align: right;\">\n",
       "      <th></th>\n",
       "      <th>UserID</th>\n",
       "      <th>ItemID</th>\n",
       "      <th>FeatureID</th>\n",
       "      <th>Timestamp</th>\n",
       "    </tr>\n",
       "  </thead>\n",
       "  <tbody>\n",
       "    <tr>\n",
       "      <th>0</th>\n",
       "      <td>15</td>\n",
       "      <td>4973</td>\n",
       "      <td>excellent!</td>\n",
       "      <td>1215184630</td>\n",
       "    </tr>\n",
       "    <tr>\n",
       "      <th>1</th>\n",
       "      <td>20</td>\n",
       "      <td>1747</td>\n",
       "      <td>politics</td>\n",
       "      <td>1188263867</td>\n",
       "    </tr>\n",
       "    <tr>\n",
       "      <th>2</th>\n",
       "      <td>20</td>\n",
       "      <td>1747</td>\n",
       "      <td>satire</td>\n",
       "      <td>1188263867</td>\n",
       "    </tr>\n",
       "    <tr>\n",
       "      <th>3</th>\n",
       "      <td>20</td>\n",
       "      <td>2424</td>\n",
       "      <td>chick flick 212</td>\n",
       "      <td>1188263835</td>\n",
       "    </tr>\n",
       "    <tr>\n",
       "      <th>4</th>\n",
       "      <td>20</td>\n",
       "      <td>2424</td>\n",
       "      <td>hanks</td>\n",
       "      <td>1188263835</td>\n",
       "    </tr>\n",
       "    <tr>\n",
       "      <th>5</th>\n",
       "      <td>20</td>\n",
       "      <td>2424</td>\n",
       "      <td>ryan</td>\n",
       "      <td>1188263835</td>\n",
       "    </tr>\n",
       "    <tr>\n",
       "      <th>6</th>\n",
       "      <td>20</td>\n",
       "      <td>2947</td>\n",
       "      <td>action</td>\n",
       "      <td>1188263755</td>\n",
       "    </tr>\n",
       "    <tr>\n",
       "      <th>7</th>\n",
       "      <td>20</td>\n",
       "      <td>2947</td>\n",
       "      <td>bond</td>\n",
       "      <td>1188263756</td>\n",
       "    </tr>\n",
       "    <tr>\n",
       "      <th>8</th>\n",
       "      <td>20</td>\n",
       "      <td>3033</td>\n",
       "      <td>spoof</td>\n",
       "      <td>1188263880</td>\n",
       "    </tr>\n",
       "    <tr>\n",
       "      <th>9</th>\n",
       "      <td>20</td>\n",
       "      <td>3033</td>\n",
       "      <td>star wars</td>\n",
       "      <td>1188263880</td>\n",
       "    </tr>\n",
       "  </tbody>\n",
       "</table>\n",
       "</div>"
      ],
      "text/plain": [
       "   UserID  ItemID        FeatureID   Timestamp\n",
       "0      15    4973       excellent!  1215184630\n",
       "1      20    1747         politics  1188263867\n",
       "2      20    1747           satire  1188263867\n",
       "3      20    2424  chick flick 212  1188263835\n",
       "4      20    2424            hanks  1188263835\n",
       "5      20    2424             ryan  1188263835\n",
       "6      20    2947           action  1188263755\n",
       "7      20    2947             bond  1188263756\n",
       "8      20    3033            spoof  1188263880\n",
       "9      20    3033        star wars  1188263880"
      ]
     },
     "execution_count": 5,
     "metadata": {},
     "output_type": "execute_result"
    }
   ],
   "source": [
    "ICM_dataframe.head(n=10)"
   ]
  },
  {
   "cell_type": "markdown",
   "metadata": {},
   "source": [
    "### We can see that most users and items have no data associated to them"
   ]
  },
  {
   "cell_type": "code",
   "execution_count": 6,
   "metadata": {},
   "outputs": [
    {
     "name": "stdout",
     "output_type": "stream",
     "text": [
      "Number of tags\t 16528, Number of item-tag tuples 95564\n"
     ]
    }
   ],
   "source": [
    "n_features = len(ICM_dataframe[\"FeatureID\"].unique())\n",
    "\n",
    "print (\"Number of tags\\t {}, Number of item-tag tuples {}\".format(n_features, len(ICM_dataframe)))"
   ]
  },
  {
   "cell_type": "markdown",
   "metadata": {},
   "source": [
    "## We now build the sparse URM and ICM matrices\n",
    "\n",
    "### The tags are strings, we should traslate them into numbers so we can use them as indices in the ICM.\n",
    "### We should also ensure that the item and user indices we use in ICM and URM are consistent. To do so we use the same mapper, first we populate it with the URM and then we add the new ids that appear only in the ICM"
   ]
  },
  {
   "cell_type": "code",
   "execution_count": 7,
   "metadata": {},
   "outputs": [
    {
     "name": "stdout",
     "output_type": "stream",
     "text": [
      "Unique UserID in the URM are 69878\n",
      "Unique UserID in the URM and ICM are 71567\n"
     ]
    }
   ],
   "source": [
    "mapped_id, original_id = pd.factorize(URM_all_dataframe[\"UserID\"].unique())\n",
    "\n",
    "print(\"Unique UserID in the URM are {}\".format(len(original_id)))\n",
    "\n",
    "all_item_indices = pd.concat([URM_all_dataframe[\"UserID\"], ICM_dataframe[\"UserID\"]], ignore_index=True)\n",
    "mapped_id, original_id = pd.factorize(all_item_indices.unique())\n",
    "\n",
    "print(\"Unique UserID in the URM and ICM are {}\".format(len(original_id)))\n",
    "\n",
    "user_original_ID_to_index = pd.Series(mapped_id, index=original_id)"
   ]
  },
  {
   "cell_type": "code",
   "execution_count": 8,
   "metadata": {},
   "outputs": [
    {
     "name": "stdout",
     "output_type": "stream",
     "text": [
      "Unique ItemID in the URM are 10677\n",
      "Unique ItemID in the URM and ICM are 10681\n"
     ]
    }
   ],
   "source": [
    "mapped_id, original_id = pd.factorize(URM_all_dataframe[\"ItemID\"].unique())\n",
    "\n",
    "print(\"Unique ItemID in the URM are {}\".format(len(original_id)))\n",
    "\n",
    "all_item_indices = pd.concat([URM_all_dataframe[\"ItemID\"], ICM_dataframe[\"ItemID\"]], ignore_index=True)\n",
    "mapped_id, original_id = pd.factorize(all_item_indices.unique())\n",
    "\n",
    "print(\"Unique ItemID in the URM and ICM are {}\".format(len(original_id)))\n",
    "\n",
    "item_original_ID_to_index = pd.Series(mapped_id, index=original_id)"
   ]
  },
  {
   "cell_type": "code",
   "execution_count": 9,
   "metadata": {},
   "outputs": [
    {
     "name": "stdout",
     "output_type": "stream",
     "text": [
      "Unique FeatureID in the URM are 16528\n"
     ]
    }
   ],
   "source": [
    "mapped_id, original_id = pd.factorize(ICM_dataframe[\"FeatureID\"].unique())\n",
    "feature_original_ID_to_index = pd.Series(mapped_id, index=original_id)\n",
    "\n",
    "print(\"Unique FeatureID in the URM are {}\".format(len(feature_original_ID_to_index)))"
   ]
  },
  {
   "cell_type": "code",
   "execution_count": 10,
   "metadata": {},
   "outputs": [
    {
     "name": "stdout",
     "output_type": "stream",
     "text": [
      "New index for feature 'star wars' is 9\n"
     ]
    }
   ],
   "source": [
    "original_feature_ID = \"star wars\"\n",
    "print(\"New index for feature '{}' is {}\".format(original_feature_ID, feature_original_ID_to_index[original_feature_ID]))"
   ]
  },
  {
   "cell_type": "markdown",
   "metadata": {},
   "source": [
    "# We can now build the URM and ICM using the new indices\n"
   ]
  },
  {
   "cell_type": "code",
   "execution_count": 11,
   "metadata": {},
   "outputs": [],
   "source": [
    "URM_all_dataframe[\"UserID\"] = URM_all_dataframe[\"UserID\"].map(user_original_ID_to_index)\n",
    "URM_all_dataframe[\"ItemID\"] = URM_all_dataframe[\"ItemID\"].map(item_original_ID_to_index)"
   ]
  },
  {
   "cell_type": "code",
   "execution_count": 12,
   "metadata": {},
   "outputs": [
    {
     "data": {
      "text/html": [
       "<div>\n",
       "<style scoped>\n",
       "    .dataframe tbody tr th:only-of-type {\n",
       "        vertical-align: middle;\n",
       "    }\n",
       "\n",
       "    .dataframe tbody tr th {\n",
       "        vertical-align: top;\n",
       "    }\n",
       "\n",
       "    .dataframe thead th {\n",
       "        text-align: right;\n",
       "    }\n",
       "</style>\n",
       "<table border=\"1\" class=\"dataframe\">\n",
       "  <thead>\n",
       "    <tr style=\"text-align: right;\">\n",
       "      <th></th>\n",
       "      <th>UserID</th>\n",
       "      <th>ItemID</th>\n",
       "      <th>Interaction</th>\n",
       "      <th>Timestamp</th>\n",
       "    </tr>\n",
       "  </thead>\n",
       "  <tbody>\n",
       "    <tr>\n",
       "      <th>0</th>\n",
       "      <td>0</td>\n",
       "      <td>0</td>\n",
       "      <td>5.0</td>\n",
       "      <td>838985046</td>\n",
       "    </tr>\n",
       "    <tr>\n",
       "      <th>1</th>\n",
       "      <td>0</td>\n",
       "      <td>1</td>\n",
       "      <td>5.0</td>\n",
       "      <td>838983525</td>\n",
       "    </tr>\n",
       "    <tr>\n",
       "      <th>2</th>\n",
       "      <td>0</td>\n",
       "      <td>2</td>\n",
       "      <td>5.0</td>\n",
       "      <td>838983392</td>\n",
       "    </tr>\n",
       "    <tr>\n",
       "      <th>3</th>\n",
       "      <td>0</td>\n",
       "      <td>3</td>\n",
       "      <td>5.0</td>\n",
       "      <td>838983421</td>\n",
       "    </tr>\n",
       "    <tr>\n",
       "      <th>4</th>\n",
       "      <td>0</td>\n",
       "      <td>4</td>\n",
       "      <td>5.0</td>\n",
       "      <td>838983392</td>\n",
       "    </tr>\n",
       "    <tr>\n",
       "      <th>5</th>\n",
       "      <td>0</td>\n",
       "      <td>5</td>\n",
       "      <td>5.0</td>\n",
       "      <td>838983392</td>\n",
       "    </tr>\n",
       "    <tr>\n",
       "      <th>6</th>\n",
       "      <td>0</td>\n",
       "      <td>6</td>\n",
       "      <td>5.0</td>\n",
       "      <td>838984474</td>\n",
       "    </tr>\n",
       "    <tr>\n",
       "      <th>7</th>\n",
       "      <td>0</td>\n",
       "      <td>7</td>\n",
       "      <td>5.0</td>\n",
       "      <td>838983653</td>\n",
       "    </tr>\n",
       "    <tr>\n",
       "      <th>8</th>\n",
       "      <td>0</td>\n",
       "      <td>8</td>\n",
       "      <td>5.0</td>\n",
       "      <td>838984885</td>\n",
       "    </tr>\n",
       "    <tr>\n",
       "      <th>9</th>\n",
       "      <td>0</td>\n",
       "      <td>9</td>\n",
       "      <td>5.0</td>\n",
       "      <td>838983707</td>\n",
       "    </tr>\n",
       "  </tbody>\n",
       "</table>\n",
       "</div>"
      ],
      "text/plain": [
       "   UserID  ItemID  Interaction  Timestamp\n",
       "0       0       0          5.0  838985046\n",
       "1       0       1          5.0  838983525\n",
       "2       0       2          5.0  838983392\n",
       "3       0       3          5.0  838983421\n",
       "4       0       4          5.0  838983392\n",
       "5       0       5          5.0  838983392\n",
       "6       0       6          5.0  838984474\n",
       "7       0       7          5.0  838983653\n",
       "8       0       8          5.0  838984885\n",
       "9       0       9          5.0  838983707"
      ]
     },
     "execution_count": 12,
     "metadata": {},
     "output_type": "execute_result"
    }
   ],
   "source": [
    "URM_all_dataframe.head(n=10)"
   ]
  },
  {
   "cell_type": "code",
   "execution_count": 13,
   "metadata": {},
   "outputs": [],
   "source": [
    "ICM_dataframe[\"UserID\"] = ICM_dataframe[\"UserID\"].map(user_original_ID_to_index)\n",
    "ICM_dataframe[\"ItemID\"] = ICM_dataframe[\"ItemID\"].map(item_original_ID_to_index)\n",
    "ICM_dataframe[\"FeatureID\"] = ICM_dataframe[\"FeatureID\"].map(feature_original_ID_to_index)"
   ]
  },
  {
   "cell_type": "code",
   "execution_count": 14,
   "metadata": {},
   "outputs": [
    {
     "data": {
      "text/html": [
       "<div>\n",
       "<style scoped>\n",
       "    .dataframe tbody tr th:only-of-type {\n",
       "        vertical-align: middle;\n",
       "    }\n",
       "\n",
       "    .dataframe tbody tr th {\n",
       "        vertical-align: top;\n",
       "    }\n",
       "\n",
       "    .dataframe thead th {\n",
       "        text-align: right;\n",
       "    }\n",
       "</style>\n",
       "<table border=\"1\" class=\"dataframe\">\n",
       "  <thead>\n",
       "    <tr style=\"text-align: right;\">\n",
       "      <th></th>\n",
       "      <th>UserID</th>\n",
       "      <th>ItemID</th>\n",
       "      <th>FeatureID</th>\n",
       "      <th>Timestamp</th>\n",
       "    </tr>\n",
       "  </thead>\n",
       "  <tbody>\n",
       "    <tr>\n",
       "      <th>0</th>\n",
       "      <td>69878</td>\n",
       "      <td>1926</td>\n",
       "      <td>0</td>\n",
       "      <td>1215184630</td>\n",
       "    </tr>\n",
       "    <tr>\n",
       "      <th>1</th>\n",
       "      <td>69879</td>\n",
       "      <td>1040</td>\n",
       "      <td>1</td>\n",
       "      <td>1188263867</td>\n",
       "    </tr>\n",
       "    <tr>\n",
       "      <th>2</th>\n",
       "      <td>69879</td>\n",
       "      <td>1040</td>\n",
       "      <td>2</td>\n",
       "      <td>1188263867</td>\n",
       "    </tr>\n",
       "    <tr>\n",
       "      <th>3</th>\n",
       "      <td>69879</td>\n",
       "      <td>1086</td>\n",
       "      <td>3</td>\n",
       "      <td>1188263835</td>\n",
       "    </tr>\n",
       "    <tr>\n",
       "      <th>4</th>\n",
       "      <td>69879</td>\n",
       "      <td>1086</td>\n",
       "      <td>4</td>\n",
       "      <td>1188263835</td>\n",
       "    </tr>\n",
       "    <tr>\n",
       "      <th>5</th>\n",
       "      <td>69879</td>\n",
       "      <td>1086</td>\n",
       "      <td>5</td>\n",
       "      <td>1188263835</td>\n",
       "    </tr>\n",
       "    <tr>\n",
       "      <th>6</th>\n",
       "      <td>69879</td>\n",
       "      <td>612</td>\n",
       "      <td>6</td>\n",
       "      <td>1188263755</td>\n",
       "    </tr>\n",
       "    <tr>\n",
       "      <th>7</th>\n",
       "      <td>69879</td>\n",
       "      <td>612</td>\n",
       "      <td>7</td>\n",
       "      <td>1188263756</td>\n",
       "    </tr>\n",
       "    <tr>\n",
       "      <th>8</th>\n",
       "      <td>69879</td>\n",
       "      <td>628</td>\n",
       "      <td>8</td>\n",
       "      <td>1188263880</td>\n",
       "    </tr>\n",
       "    <tr>\n",
       "      <th>9</th>\n",
       "      <td>69879</td>\n",
       "      <td>628</td>\n",
       "      <td>9</td>\n",
       "      <td>1188263880</td>\n",
       "    </tr>\n",
       "  </tbody>\n",
       "</table>\n",
       "</div>"
      ],
      "text/plain": [
       "   UserID  ItemID  FeatureID   Timestamp\n",
       "0   69878    1926          0  1215184630\n",
       "1   69879    1040          1  1188263867\n",
       "2   69879    1040          2  1188263867\n",
       "3   69879    1086          3  1188263835\n",
       "4   69879    1086          4  1188263835\n",
       "5   69879    1086          5  1188263835\n",
       "6   69879     612          6  1188263755\n",
       "7   69879     612          7  1188263756\n",
       "8   69879     628          8  1188263880\n",
       "9   69879     628          9  1188263880"
      ]
     },
     "execution_count": 14,
     "metadata": {},
     "output_type": "execute_result"
    }
   ],
   "source": [
    "ICM_dataframe.head(n=10)"
   ]
  },
  {
   "cell_type": "markdown",
   "metadata": {},
   "source": [
    "### When we create the matrices we need to make sure they have the same shape. As we have seen some items and users only appear in one of the two matrices and are missing in the other (if they have no tags or no interactions)"
   ]
  },
  {
   "cell_type": "code",
   "execution_count": 15,
   "metadata": {},
   "outputs": [],
   "source": [
    "import scipy.sparse as sps\n",
    "import numpy as np\n",
    "\n",
    "n_users = len(user_original_ID_to_index)\n",
    "n_items = len(item_original_ID_to_index)\n",
    "n_features = len(feature_original_ID_to_index)"
   ]
  },
  {
   "cell_type": "code",
   "execution_count": 16,
   "metadata": {},
   "outputs": [
    {
     "data": {
      "text/plain": [
       "<71567x10681 sparse matrix of type '<class 'numpy.float64'>'\n",
       "\twith 10000054 stored elements in Compressed Sparse Row format>"
      ]
     },
     "execution_count": 16,
     "metadata": {},
     "output_type": "execute_result"
    }
   ],
   "source": [
    "URM_all = sps.csr_matrix((URM_all_dataframe[\"Interaction\"].values, \n",
    "                          (URM_all_dataframe[\"UserID\"].values, URM_all_dataframe[\"ItemID\"].values)),\n",
    "                        shape = (n_users, n_items))\n",
    "\n",
    "URM_all"
   ]
  },
  {
   "cell_type": "code",
   "execution_count": 17,
   "metadata": {},
   "outputs": [
    {
     "data": {
      "text/plain": [
       "<10681x16528 sparse matrix of type '<class 'numpy.float64'>'\n",
       "\twith 71140 stored elements in Compressed Sparse Row format>"
      ]
     },
     "execution_count": 17,
     "metadata": {},
     "output_type": "execute_result"
    }
   ],
   "source": [
    "ICM_all = sps.csr_matrix((np.ones(len(ICM_dataframe[\"ItemID\"].values)), \n",
    "                          (ICM_dataframe[\"ItemID\"].values, ICM_dataframe[\"FeatureID\"].values)),\n",
    "                        shape = (n_items, n_features))\n",
    "\n",
    "ICM_all.data = np.ones_like(ICM_all.data)\n",
    "\n",
    "ICM_all"
   ]
  },
  {
   "cell_type": "markdown",
   "metadata": {},
   "source": [
    "# Let's take a look at the ICM\n",
    "\n",
    "### We leverage CSR and CSC indptr data structure to compute the number of cells that have values for that row or column"
   ]
  },
  {
   "cell_type": "code",
   "execution_count": 18,
   "metadata": {},
   "outputs": [],
   "source": [
    "ICM_all = sps.csr_matrix(ICM_all)\n",
    "features_per_item = np.ediff1d(ICM_all.indptr)\n",
    "\n",
    "ICM_all = sps.csc_matrix(ICM_all)\n",
    "items_per_feature = np.ediff1d(ICM_all.indptr)\n",
    "\n",
    "ICM_all = sps.csr_matrix(ICM_all)"
   ]
  },
  {
   "cell_type": "code",
   "execution_count": 19,
   "metadata": {},
   "outputs": [
    {
     "name": "stdout",
     "output_type": "stream",
     "text": [
      "(10681,)\n",
      "(16528,)\n"
     ]
    }
   ],
   "source": [
    "print(features_per_item.shape)\n",
    "print(items_per_feature.shape)"
   ]
  },
  {
   "cell_type": "code",
   "execution_count": 20,
   "metadata": {},
   "outputs": [],
   "source": [
    "features_per_item = np.sort(features_per_item)\n",
    "items_per_feature = np.sort(items_per_feature)"
   ]
  },
  {
   "cell_type": "code",
   "execution_count": 21,
   "metadata": {},
   "outputs": [
    {
     "data": {
      "image/png": "[encoded data removed]",
      "text/plain": [
       "<Figure size 640x480 with 1 Axes>"
      ]
     },
     "metadata": {},
     "output_type": "display_data"
    }
   ],
   "source": [
    "import matplotlib.pyplot as pyplot\n",
    "%matplotlib inline  \n",
    "\n",
    "pyplot.plot(features_per_item, 'ro')\n",
    "pyplot.ylabel('Num features ')\n",
    "pyplot.xlabel('Sorted items')\n",
    "pyplot.show()"
   ]
  },
  {
   "cell_type": "code",
   "execution_count": 22,
   "metadata": {},
   "outputs": [
    {
     "data": {
      "image/png": "[encoded data removed]",
      "text/plain": [
       "<Figure size 640x480 with 1 Axes>"
      ]
     },
     "metadata": {},
     "output_type": "display_data"
    }
   ],
   "source": [
    "pyplot.plot(items_per_feature, 'ro')\n",
    "pyplot.ylabel('Num items ')\n",
    "pyplot.xlabel('Sorted features')\n",
    "pyplot.show()"
   ]
  },
  {
   "cell_type": "markdown",
   "metadata": {},
   "source": [
    "# We can now build the recommender algorithm, but first we need the train/test split and the evaluation function:"
   ]
  },
  {
   "cell_type": "code",
   "execution_count": 23,
   "metadata": {},
   "outputs": [
    {
     "name": "stdout",
     "output_type": "stream",
     "text": [
      "Warning: 1689 (2.36 %) of 71567 users have no train items\n",
      "Warning: 1778 (2.48 %) of 71567 users have no sampled items\n",
      "Warning: 1689 (2.36 %) of 71567 users have no train items\n",
      "Warning: 1939 (2.71 %) of 71567 users have no sampled items\n",
      "EvaluatorHoldout: Ignoring 1939 ( 2.7%) Users that have less than 1 test interactions\n",
      "EvaluatorHoldout: Ignoring 1778 ( 2.5%) Users that have less than 1 test interactions\n"
     ]
    }
   ],
   "source": [
    "from Evaluation.Evaluator import EvaluatorHoldout\n",
    "from Data_manager.split_functions.split_train_validation_random_holdout import split_train_in_two_percentage_global_sample\n",
    "\n",
    "URM_train, URM_test = split_train_in_two_percentage_global_sample(URM_all, train_percentage = 0.80)\n",
    "URM_train, URM_validation = split_train_in_two_percentage_global_sample(URM_train, train_percentage = 0.80)\n",
    "\n",
    "evaluator_validation = EvaluatorHoldout(URM_validation, cutoff_list=[10])\n",
    "evaluator_test = EvaluatorHoldout(URM_test, cutoff_list=[10])"
   ]
  },
  {
   "cell_type": "markdown",
   "metadata": {},
   "source": [
    "### We need to define Cosine similarity... Let's look at the attached source code"
   ]
  },
  {
   "cell_type": "markdown",
   "metadata": {},
   "source": [
    "### See also a [list of commonly used KNN similarity heuristics](https://github.com/MaurizioFD/RecSys_Course_2018/blob/master/slides/List_of_KNN_similarity_heuristics.pdf)"
   ]
  },
  {
   "cell_type": "markdown",
   "metadata": {},
   "source": [
    "## A KNN is built with the following steps:\n",
    "* Compute the similarity of an item with all others\n",
    "* Select the k-highest similarities"
   ]
  },
  {
   "cell_type": "code",
   "execution_count": 24,
   "metadata": {},
   "outputs": [],
   "source": [
    "item_id = 80\n",
    "shrink = 10"
   ]
  },
  {
   "cell_type": "markdown",
   "metadata": {},
   "source": [
    "The numerator is the dot product of the item features times the whole ICM data transposed"
   ]
  },
  {
   "cell_type": "code",
   "execution_count": 25,
   "metadata": {},
   "outputs": [
    {
     "data": {
      "text/plain": [
       "array([2., 0., 0., ..., 0., 1., 0.])"
      ]
     },
     "execution_count": 25,
     "metadata": {},
     "output_type": "execute_result"
    }
   ],
   "source": [
    "numerator_vector = ICM_all[item_id].dot(ICM_all.T).toarray().ravel()\n",
    "numerator_vector"
   ]
  },
  {
   "cell_type": "code",
   "execution_count": 26,
   "metadata": {},
   "outputs": [
    {
     "data": {
      "text/plain": [
       "array([1.73205081, 4.35889894, 5.29150262, ..., 1.        , 1.41421356,\n",
       "       1.41421356])"
      ]
     },
     "execution_count": 26,
     "metadata": {},
     "output_type": "execute_result"
    }
   ],
   "source": [
    "item_norms = np.sqrt(np.array(ICM_all.T.power(2).sum(axis=0))).ravel()\n",
    "item_norms"
   ]
  },
  {
   "cell_type": "markdown",
   "metadata": {},
   "source": [
    "The denominator will be the product of norms plus the srink term and a small value which prevents the denominator to be zero (only for non-negative data)"
   ]
  },
  {
   "cell_type": "code",
   "execution_count": 27,
   "metadata": {},
   "outputs": [
    {
     "data": {
      "text/plain": [
       "array([15.47722658, 23.78404975, 26.73320153, ..., 13.16227866,\n",
       "       14.47213695, 14.47213695])"
      ]
     },
     "execution_count": 27,
     "metadata": {},
     "output_type": "execute_result"
    }
   ],
   "source": [
    "denominator_vector = item_norms[item_id] * item_norms + shrink + 1e-6\n",
    "denominator_vector"
   ]
  },
  {
   "cell_type": "code",
   "execution_count": 28,
   "metadata": {},
   "outputs": [],
   "source": [
    "similarity_vector = numerator_vector/denominator_vector"
   ]
  },
  {
   "cell_type": "markdown",
   "metadata": {},
   "source": [
    "Let's sort the similarity from the highest to the lowest"
   ]
  },
  {
   "cell_type": "code",
   "execution_count": 29,
   "metadata": {},
   "outputs": [
    {
     "data": {
      "text/plain": [
       "array([   80,  3542,     0, ...,  3938,  3931, 10680], dtype=int64)"
      ]
     },
     "execution_count": 29,
     "metadata": {},
     "output_type": "execute_result"
    }
   ],
   "source": [
    "sorted_item_indices = np.argsort(-similarity_vector)\n",
    "sorted_item_indices"
   ]
  },
  {
   "cell_type": "code",
   "execution_count": 30,
   "metadata": {},
   "outputs": [
    {
     "data": {
      "image/png": "[encoded data removed]",
      "text/plain": [
       "<Figure size 640x480 with 1 Axes>"
      ]
     },
     "metadata": {},
     "output_type": "display_data"
    }
   ],
   "source": [
    "pyplot.plot(similarity_vector[sorted_item_indices], 'ro')\n",
    "pyplot.ylabel('Similarity')\n",
    "pyplot.xlabel('Item')\n",
    "pyplot.show()"
   ]
  },
  {
   "cell_type": "markdown",
   "metadata": {},
   "source": [
    "Now we select the k most similar items"
   ]
  },
  {
   "cell_type": "code",
   "execution_count": 31,
   "metadata": {},
   "outputs": [],
   "source": [
    "k = 100"
   ]
  },
  {
   "cell_type": "code",
   "execution_count": 32,
   "metadata": {},
   "outputs": [
    {
     "data": {
      "image/png": "[encoded data removed]",
      "text/plain": [
       "<Figure size 640x480 with 1 Axes>"
      ]
     },
     "metadata": {},
     "output_type": "display_data"
    }
   ],
   "source": [
    "pyplot.plot(similarity_vector[sorted_item_indices[0:k]], 'ro')\n",
    "pyplot.ylabel('Similarity')\n",
    "pyplot.xlabel('Item')\n",
    "pyplot.show()"
   ]
  },
  {
   "cell_type": "markdown",
   "metadata": {},
   "source": [
    "The operation is performed for all items.\n",
    "A simple strategy to perform it efficiently is to vectorize the most computationally intensive part, the dot product, on a group of items. The speedup can be of a factor of 10-100.\n",
    "This strategy is limited by the fact that the result of the dot product is a huge item-item dense similarity which likely does not fit in memory."
   ]
  },
  {
   "cell_type": "code",
   "execution_count": 33,
   "metadata": {},
   "outputs": [],
   "source": [
    "import traceback\n",
    "\n",
    "try:\n",
    "    numerator_matrix = ICM_all.dot(ICM_all.T).toarray()\n",
    "    \n",
    "except Exception as e:\n",
    "    traceback.print_exc()\n",
    "    "
   ]
  },
  {
   "cell_type": "markdown",
   "metadata": {},
   "source": [
    "The solution is:\n",
    "* Compute the numerator a block of items at a time leveraging vectorization while not running out of memory\n",
    "* Extract the k-nn on those items\n",
    "* Built incrementally the sparse similarity matrix"
   ]
  },
  {
   "cell_type": "code",
   "execution_count": 34,
   "metadata": {},
   "outputs": [
    {
     "data": {
      "text/plain": [
       "(100, 10681)"
      ]
     },
     "execution_count": 34,
     "metadata": {},
     "output_type": "execute_result"
    }
   ],
   "source": [
    "block_size = 100\n",
    "\n",
    "numerator_block = ICM_all[0:block_size].dot(ICM_all.T).toarray()\n",
    "numerator_block.shape"
   ]
  },
  {
   "cell_type": "markdown",
   "metadata": {},
   "source": [
    "Let's compare the speed to compute the dot product on the whole similarity of the two strategies"
   ]
  },
  {
   "cell_type": "code",
   "execution_count": 35,
   "metadata": {},
   "outputs": [
    {
     "name": "stdout",
     "output_type": "stream",
     "text": [
      "Computing the similarity one item at a time runs at 901.44 items/sec\n"
     ]
    }
   ],
   "source": [
    "import time\n",
    "\n",
    "n_items = ICM_all.shape[0]\n",
    "\n",
    "start_time = time.time()\n",
    "\n",
    "for n_item in range(n_items):\n",
    "    numerator_vector = ICM_all[item_id].dot(ICM_all.T).toarray().ravel()\n",
    "    \n",
    "end_time = time.time()\n",
    "\n",
    "print(\"Computing the similarity one item at a time runs at {:.2f} items/sec\".format(n_items/(end_time-start_time)))"
   ]
  },
  {
   "cell_type": "code",
   "execution_count": 36,
   "metadata": {},
   "outputs": [
    {
     "name": "stdout",
     "output_type": "stream",
     "text": [
      "Computing the similarity in blocks of 100 items at a time runs at 20876.37 items/sec\n"
     ]
    }
   ],
   "source": [
    "n_items = ICM_all.shape[0]\n",
    "\n",
    "start_time = time.time()\n",
    "\n",
    "block_size = 100\n",
    "blocks_start_positions = range(0, n_items, block_size)\n",
    "\n",
    "for start_pos in blocks_start_positions:\n",
    "    end_pos = min(start_pos + block_size, n_items)\n",
    "    \n",
    "    numerator_block = ICM_all[start_pos:end_pos].dot(ICM_all.T).toarray()\n",
    "    \n",
    "end_time = time.time()\n",
    "\n",
    "print(\"Computing the similarity in blocks of 100 items at a time runs at {:.2f} items/sec\".format(n_items/(end_time-start_time)))"
   ]
  },
  {
   "cell_type": "markdown",
   "metadata": {},
   "source": [
    "### In this case the vectorized implementation runs >20 times faster!\n",
    "\n",
    "#### Usually most of the speed gain comes with blocks of 100 or so items, depending on the system. Much higher than that tends to not be beneficial while requiring increasingly more memory."
   ]
  },
  {
   "cell_type": "markdown",
   "metadata": {},
   "source": [
    "Now an example of something you should *never* do, nested loops to compute the similarity of each item without vectorization"
   ]
  },
  {
   "cell_type": "code",
   "execution_count": 37,
   "metadata": {},
   "outputs": [
    {
     "name": "stdout",
     "output_type": "stream",
     "text": [
      "Computing the similarity with nested loops runs at 25.47 items/sec\n"
     ]
    }
   ],
   "source": [
    "n_items = 100\n",
    "\n",
    "start_time = time.time()\n",
    "\n",
    "for n_item in range(n_items):\n",
    "    for second_item in range(n_items):\n",
    "        numerator_vector = ICM_all[item_id].dot(ICM_all[second_item].T)\n",
    "    \n",
    "end_time = time.time()\n",
    "\n",
    "print(\"Computing the similarity with nested loops runs at {:.2f} items/sec\".format(n_items/(end_time-start_time)))"
   ]
  },
  {
   "cell_type": "markdown",
   "metadata": {},
   "source": [
    "You see how incredibly slow nested loops are compared to a well vectorized implementation"
   ]
  },
  {
   "cell_type": "markdown",
   "metadata": {},
   "source": [
    "#### Let's now compute the entire similarity matrix and use it to generate recommendations"
   ]
  },
  {
   "cell_type": "code",
   "execution_count": 38,
   "metadata": {},
   "outputs": [
    {
     "name": "stdout",
     "output_type": "stream",
     "text": [
      "Similarity column 10681 (100.0%), 2754.21 column/sec. Elapsed time 3.88 sec\n"
     ]
    },
    {
     "data": {
      "text/plain": [
       "<10681x10681 sparse matrix of type '<class 'numpy.float32'>'\n",
       "\twith 624041 stored elements in Compressed Sparse Row format>"
      ]
     },
     "execution_count": 38,
     "metadata": {},
     "output_type": "execute_result"
    }
   ],
   "source": [
    "from Recommenders.Similarity.Compute_Similarity_Python import Compute_Similarity_Python\n",
    "\n",
    "similarity_object = Compute_Similarity_Python(ICM_all.T, shrink=0.0, \n",
    "                                          topK=100,\n",
    "                                          normalize=True, \n",
    "                                          similarity = \"cosine\")\n",
    "\n",
    "W_sparse = similarity_object.compute_similarity()\n",
    "W_sparse"
   ]
  },
  {
   "cell_type": "code",
   "execution_count": 39,
   "metadata": {},
   "outputs": [
    {
     "data": {
      "text/plain": [
       "<1x10681 sparse matrix of type '<class 'numpy.float64'>'\n",
       "\twith 5579 stored elements in Compressed Sparse Row format>"
      ]
     },
     "execution_count": 39,
     "metadata": {},
     "output_type": "execute_result"
    }
   ],
   "source": [
    "user_id = 200\n",
    "user_profile = URM_train[user_id]\n",
    "\n",
    "scores = user_profile.dot(W_sparse)\n",
    "scores"
   ]
  },
  {
   "cell_type": "code",
   "execution_count": 40,
   "metadata": {},
   "outputs": [
    {
     "data": {
      "text/plain": [
       "array([1.22474447, 4.02028234, 6.30255866, ..., 0.        , 1.49999928,\n",
       "       0.        ])"
      ]
     },
     "execution_count": 40,
     "metadata": {},
     "output_type": "execute_result"
    }
   ],
   "source": [
    "scores = scores.toarray().ravel()\n",
    "scores"
   ]
  },
  {
   "cell_type": "markdown",
   "metadata": {},
   "source": [
    "We can then sort the scores to recommend the highest ranked ones"
   ]
  },
  {
   "cell_type": "code",
   "execution_count": 41,
   "metadata": {},
   "outputs": [
    {
     "data": {
      "text/plain": [
       "array([3082, 7714,  436, 6302,   24, 2643,   37,  235,  177, 3734],\n",
       "      dtype=int64)"
      ]
     },
     "execution_count": 41,
     "metadata": {},
     "output_type": "execute_result"
    }
   ],
   "source": [
    "ranking = scores.argsort()[::-1][0:10]\n",
    "ranking"
   ]
  },
  {
   "cell_type": "code",
   "execution_count": 42,
   "metadata": {},
   "outputs": [
    {
     "data": {
      "text/plain": [
       "array([23.85221259, 23.85221259, 21.72780634, 21.56574956, 21.18882509,\n",
       "       20.8332223 , 20.36917911, 20.00777917, 18.2307644 , 17.74951704])"
      ]
     },
     "execution_count": 42,
     "metadata": {},
     "output_type": "execute_result"
    }
   ],
   "source": [
    "scores[ranking]"
   ]
  },
  {
   "cell_type": "markdown",
   "metadata": {},
   "source": [
    "## Test our CBF recommender:\n",
    "\n",
    "#### We put everything in a Python class with a standard interface"
   ]
  },
  {
   "cell_type": "code",
   "execution_count": 43,
   "metadata": {},
   "outputs": [],
   "source": [
    "from Recommenders.Similarity.Compute_Similarity_Python import Compute_Similarity_Python\n",
    "\n",
    "class ItemKNNCBFRecommender(object):\n",
    "    \n",
    "    def __init__(self, URM, ICM):\n",
    "        self.URM = URM\n",
    "        self.ICM = ICM\n",
    "        \n",
    "            \n",
    "    def fit(self, topK=50, shrink=100, normalize = True, similarity = \"cosine\"):\n",
    "        \n",
    "        similarity_object = Compute_Similarity_Python(self.ICM.T, shrink=shrink, \n",
    "                                                  topK=topK, normalize=normalize, \n",
    "                                                  similarity = similarity)\n",
    "        \n",
    "        self.W_sparse = similarity_object.compute_similarity()\n",
    "\n",
    "        \n",
    "    def recommend(self, user_id, at=None, exclude_seen=True):\n",
    "        # compute the scores using the dot product\n",
    "        user_profile = self.URM[user_id]\n",
    "        scores = user_profile.dot(self.W_sparse).toarray().ravel()\n",
    "\n",
    "        if exclude_seen:\n",
    "            scores = self.filter_seen(user_id, scores)\n",
    "\n",
    "        # rank items\n",
    "        ranking = scores.argsort()[::-1]\n",
    "            \n",
    "        return ranking[:at]\n",
    "    \n",
    "    \n",
    "    def filter_seen(self, user_id, scores):\n",
    "\n",
    "        start_pos = self.URM.indptr[user_id]\n",
    "        end_pos = self.URM.indptr[user_id+1]\n",
    "\n",
    "        user_profile = self.URM.indices[start_pos:end_pos]\n",
    "        \n",
    "        scores[user_profile] = -np.inf\n",
    "\n",
    "        return scores"
   ]
  },
  {
   "cell_type": "code",
   "execution_count": 44,
   "metadata": {},
   "outputs": [
    {
     "name": "stdout",
     "output_type": "stream",
     "text": [
      "Similarity column 10681 (100.0%), 3328.22 column/sec. Elapsed time 3.21 sec\n"
     ]
    }
   ],
   "source": [
    "recommender = ItemKNNCBFRecommender(URM_train, ICM_all)\n",
    "recommender.fit(shrink=0.0, topK=50)"
   ]
  },
  {
   "cell_type": "code",
   "execution_count": 45,
   "metadata": {},
   "outputs": [
    {
     "name": "stdout",
     "output_type": "stream",
     "text": [
      "[1757 1375  835  554  851]\n",
      "[177 196 822 192 401]\n",
      "[5660 5664   64  798 3318]\n",
      "[ 175 1331   31  228  401]\n",
      "[  7 176 403 148 402]\n",
      "[798 822  22 943  60]\n",
      "[ 219  164   44 2207 1441]\n",
      "[  37 2755 4636 3736 1609]\n",
      "[ 585  213  616  788 4390]\n",
      "[  34 1310   22   26 1314]\n"
     ]
    }
   ],
   "source": [
    "for user_id in range(10):\n",
    "    print(recommender.recommend(user_id, at=5))"
   ]
  },
  {
   "cell_type": "markdown",
   "metadata": {},
   "source": [
    "#### Let's talk about speed\n",
    "\n",
    "#### Time to compute recommendations for a fixed group of users"
   ]
  },
  {
   "cell_type": "code",
   "execution_count": 46,
   "metadata": {},
   "outputs": [
    {
     "name": "stdout",
     "output_type": "stream",
     "text": [
      "Reasonable implementation speed is 714.50 usr/sec\n"
     ]
    }
   ],
   "source": [
    "import time\n",
    "\n",
    "n_users_to_test = 1000\n",
    "\n",
    "start_time = time.time()\n",
    "\n",
    "for user_id in range(n_users_to_test):\n",
    "    recommender.recommend(user_id, at=5)\n",
    "    \n",
    "end_time = time.time()\n",
    "\n",
    "print(\"Reasonable implementation speed is {:.2f} usr/sec\".format(n_users_to_test/(end_time-start_time)))"
   ]
  },
  {
   "cell_type": "markdown",
   "metadata": {},
   "source": [
    "### Let's add a common mistake.... a CSC URM"
   ]
  },
  {
   "cell_type": "code",
   "execution_count": 47,
   "metadata": {},
   "outputs": [
    {
     "name": "stdout",
     "output_type": "stream",
     "text": [
      "Similarity column 10681 (100.0%), 3146.38 column/sec. Elapsed time 3.39 sec\n"
     ]
    }
   ],
   "source": [
    "URM_train_csc = URM_train.tocsc()\n",
    "\n",
    "recommender = ItemKNNCBFRecommender(URM_train_csc, ICM_all)\n",
    "recommender.fit(shrink=0.0, topK=50)"
   ]
  },
  {
   "cell_type": "code",
   "execution_count": 48,
   "metadata": {},
   "outputs": [
    {
     "name": "stdout",
     "output_type": "stream",
     "text": [
      "Exception index 10719 is out of bounds for axis 0 with size 10681\n"
     ]
    },
    {
     "name": "stderr",
     "output_type": "stream",
     "text": [
      "Traceback (most recent call last):\n",
      "  File \"C:\\Users\\MaurizioFD\\AppData\\Local\\Temp\\ipykernel_8816\\1155062715.py\", line 10, in <module>\n",
      "    recommender.recommend(user_id, at=5)\n",
      "  File \"C:\\Users\\MaurizioFD\\AppData\\Local\\Temp\\ipykernel_8816\\4145966258.py\", line 25, in recommend\n",
      "    scores = self.filter_seen(user_id, scores)\n",
      "  File \"C:\\Users\\MaurizioFD\\AppData\\Local\\Temp\\ipykernel_8816\\4145966258.py\", line 40, in filter_seen\n",
      "    scores[user_profile] = -np.inf\n",
      "IndexError: index 10719 is out of bounds for axis 0 with size 10681\n"
     ]
    }
   ],
   "source": [
    "import time, traceback\n",
    "\n",
    "try:\n",
    "\n",
    "    n_users_to_test = 1000\n",
    "\n",
    "    start_time = time.time()\n",
    "\n",
    "    for user_id in range(n_users_to_test):\n",
    "        recommender.recommend(user_id, at=5)\n",
    "\n",
    "    end_time = time.time()\n",
    "\n",
    "    print(\"Wrong implementation speed is {:.2f} usr/sec\".format(n_users_to_test/(end_time-start_time)))\n",
    "\n",
    "    \n",
    "except Exception as e:\n",
    "        \n",
    "    print(\"Exception {}\".format(str(e)))\n",
    "    traceback.print_exc()"
   ]
  },
  {
   "cell_type": "markdown",
   "metadata": {},
   "source": [
    "## Hyperparameter tuning\n",
    "\n",
    "#### Once we have built our model we can play with its hyperparameters\n",
    "* Number of neighbors\n",
    "* Shrinkage\n",
    "* Similarity type\n",
    "\n",
    "\n",
    "Do not confuse \"hyperparameter\" with \"parameter\". A hyperparameter is someting that influences the model structure (number of neighbors, similarity type) or its training phase (learning rate, regularization), while the parameters are the model components (for example the actual value of the similarity between two items) whose values are learned with machine learning."
   ]
  },
  {
   "cell_type": "markdown",
   "metadata": {},
   "source": [
    "### Number of neighbors\n",
    "\n",
    "#### First let's use Grid Search. To do that we need to specify a list of values to test. Grid search is simple to implement but is largely obsolete, it is widely known that it is very inefficient and difficult to set up correctly (which values do you choose?). It is strongly discouraged.\n",
    "\n",
    "### Even better, use a random search!\n",
    "\n",
    "#### Just use a random number generator to select the values you want. It is more efficient than greed search and just as simple to implement. It is important to decide if we want to sample with a random distribution or a log-uniform distribution. Use a log-uniform if you need to sample both high and low values, for example you want to sample with uniform probability 10, 20 but also 100 and 200.\n",
    "\n",
    "In this example we will operate sequentially, first by choosing the optimal number of neighbors and then by choosing the shrink value. Alternatively one could search over both hyperparameters at the same time. With a Random search you just need to generate another group of values, with Grid search you need to try all possible shrink values for each neighbor (this creates a carthesian product of the values and is the reason it is called \"grid\")"
   ]
  },
  {
   "cell_type": "code",
   "execution_count": 49,
   "metadata": {},
   "outputs": [
    {
     "name": "stdout",
     "output_type": "stream",
     "text": [
      "ItemKNNCBFRecommender: URM Detected 1689 ( 2.4%) users with no interactions.\n",
      "ItemKNNCBFRecommender: URM Detected 80 ( 0.7%) items with no interactions.\n",
      "ItemKNNCBFRecommender: ICM Detected 3080 (28.8%) items with no features.\n",
      "Similarity column 10681 (100.0%), 14379.67 column/sec. Elapsed time 0.74 sec\n",
      "EvaluatorHoldout: Processed 69628 (100.0%) in 45.40 sec. Users per second: 1534\n",
      "ItemKNNCBFRecommender: URM Detected 1689 ( 2.4%) users with no interactions.\n",
      "ItemKNNCBFRecommender: URM Detected 80 ( 0.7%) items with no interactions.\n",
      "ItemKNNCBFRecommender: ICM Detected 3080 (28.8%) items with no features.\n",
      "Similarity column 10681 (100.0%), 15253.70 column/sec. Elapsed time 0.70 sec\n",
      "EvaluatorHoldout: Processed 69628 (100.0%) in 49.36 sec. Users per second: 1410\n",
      "ItemKNNCBFRecommender: URM Detected 1689 ( 2.4%) users with no interactions.\n",
      "ItemKNNCBFRecommender: URM Detected 80 ( 0.7%) items with no interactions.\n",
      "ItemKNNCBFRecommender: ICM Detected 3080 (28.8%) items with no features.\n",
      "Similarity column 10681 (100.0%), 14649.48 column/sec. Elapsed time 0.73 sec\n",
      "EvaluatorHoldout: Processed 69628 (100.0%) in 48.82 sec. Users per second: 1426\n",
      "ItemKNNCBFRecommender: URM Detected 1689 ( 2.4%) users with no interactions.\n",
      "ItemKNNCBFRecommender: URM Detected 80 ( 0.7%) items with no interactions.\n",
      "ItemKNNCBFRecommender: ICM Detected 3080 (28.8%) items with no features.\n",
      "Similarity column 10681 (100.0%), 13548.28 column/sec. Elapsed time 0.79 sec\n",
      "EvaluatorHoldout: Processed 69628 (100.0%) in 50.03 sec. Users per second: 1392\n",
      "ItemKNNCBFRecommender: URM Detected 1689 ( 2.4%) users with no interactions.\n",
      "ItemKNNCBFRecommender: URM Detected 80 ( 0.7%) items with no interactions.\n",
      "ItemKNNCBFRecommender: ICM Detected 3080 (28.8%) items with no features.\n",
      "Similarity column 10681 (100.0%), 12733.50 column/sec. Elapsed time 0.84 sec\n",
      "EvaluatorHoldout: Processed 69628 (100.0%) in 53.14 sec. Users per second: 1310\n",
      "ItemKNNCBFRecommender: URM Detected 1689 ( 2.4%) users with no interactions.\n",
      "ItemKNNCBFRecommender: URM Detected 80 ( 0.7%) items with no interactions.\n",
      "ItemKNNCBFRecommender: ICM Detected 3080 (28.8%) items with no features.\n",
      "Similarity column 10681 (100.0%), 14284.16 column/sec. Elapsed time 0.75 sec\n",
      "EvaluatorHoldout: Processed 69628 (100.0%) in 57.84 sec. Users per second: 1204\n",
      "ItemKNNCBFRecommender: URM Detected 1689 ( 2.4%) users with no interactions.\n",
      "ItemKNNCBFRecommender: URM Detected 80 ( 0.7%) items with no interactions.\n",
      "ItemKNNCBFRecommender: ICM Detected 3080 (28.8%) items with no features.\n",
      "Similarity column 10681 (100.0%), 13380.15 column/sec. Elapsed time 0.80 sec\n",
      "EvaluatorHoldout: Processed 69628 (100.0%) in 53.85 sec. Users per second: 1293\n",
      "ItemKNNCBFRecommender: URM Detected 1689 ( 2.4%) users with no interactions.\n",
      "ItemKNNCBFRecommender: URM Detected 80 ( 0.7%) items with no interactions.\n",
      "ItemKNNCBFRecommender: ICM Detected 3080 (28.8%) items with no features.\n",
      "Similarity column 10681 (100.0%), 15057.38 column/sec. Elapsed time 0.71 sec\n",
      "EvaluatorHoldout: Processed 69628 (100.0%) in 52.18 sec. Users per second: 1334\n",
      "ItemKNNCBFRecommender: URM Detected 1689 ( 2.4%) users with no interactions.\n",
      "ItemKNNCBFRecommender: URM Detected 80 ( 0.7%) items with no interactions.\n",
      "ItemKNNCBFRecommender: ICM Detected 3080 (28.8%) items with no features.\n",
      "Similarity column 10681 (100.0%), 14130.01 column/sec. Elapsed time 0.76 sec\n",
      "EvaluatorHoldout: Processed 69628 (100.0%) in 55.65 sec. Users per second: 1251\n",
      "ItemKNNCBFRecommender: URM Detected 1689 ( 2.4%) users with no interactions.\n",
      "ItemKNNCBFRecommender: URM Detected 80 ( 0.7%) items with no interactions.\n",
      "ItemKNNCBFRecommender: ICM Detected 3080 (28.8%) items with no features.\n",
      "Similarity column 10681 (100.0%), 14066.63 column/sec. Elapsed time 0.76 sec\n",
      "EvaluatorHoldout: Processed 69628 (100.0%) in 58.66 sec. Users per second: 1187\n",
      "ItemKNNCBFRecommender: URM Detected 1689 ( 2.4%) users with no interactions.\n",
      "ItemKNNCBFRecommender: URM Detected 80 ( 0.7%) items with no interactions.\n",
      "ItemKNNCBFRecommender: ICM Detected 3080 (28.8%) items with no features.\n",
      "Similarity column 10681 (100.0%), 14060.18 column/sec. Elapsed time 0.76 sec\n",
      "EvaluatorHoldout: Processed 69628 (100.0%) in 56.54 sec. Users per second: 1231\n",
      "ItemKNNCBFRecommender: URM Detected 1689 ( 2.4%) users with no interactions.\n",
      "ItemKNNCBFRecommender: URM Detected 80 ( 0.7%) items with no interactions.\n",
      "ItemKNNCBFRecommender: ICM Detected 3080 (28.8%) items with no features.\n",
      "Similarity column 10681 (100.0%), 14306.66 column/sec. Elapsed time 0.75 sec\n",
      "EvaluatorHoldout: Processed 69628 (100.0%) in 44.61 sec. Users per second: 1561\n",
      "ItemKNNCBFRecommender: URM Detected 1689 ( 2.4%) users with no interactions.\n",
      "ItemKNNCBFRecommender: URM Detected 80 ( 0.7%) items with no interactions.\n",
      "ItemKNNCBFRecommender: ICM Detected 3080 (28.8%) items with no features.\n",
      "Similarity column 10681 (100.0%), 15006.02 column/sec. Elapsed time 0.71 sec\n",
      "EvaluatorHoldout: Processed 69628 (100.0%) in 57.88 sec. Users per second: 1203\n",
      "ItemKNNCBFRecommender: URM Detected 1689 ( 2.4%) users with no interactions.\n",
      "ItemKNNCBFRecommender: URM Detected 80 ( 0.7%) items with no interactions.\n",
      "ItemKNNCBFRecommender: ICM Detected 3080 (28.8%) items with no features.\n",
      "Similarity column 10681 (100.0%), 14153.90 column/sec. Elapsed time 0.75 sec\n",
      "EvaluatorHoldout: Processed 69628 (100.0%) in 52.34 sec. Users per second: 1330\n",
      "ItemKNNCBFRecommender: URM Detected 1689 ( 2.4%) users with no interactions.\n",
      "ItemKNNCBFRecommender: URM Detected 80 ( 0.7%) items with no interactions.\n",
      "ItemKNNCBFRecommender: ICM Detected 3080 (28.8%) items with no features.\n",
      "Similarity column 10681 (100.0%), 14233.59 column/sec. Elapsed time 0.75 sec\n",
      "EvaluatorHoldout: Processed 69628 (100.0%) in 58.28 sec. Users per second: 1195\n",
      "ItemKNNCBFRecommender: URM Detected 1689 ( 2.4%) users with no interactions.\n",
      "ItemKNNCBFRecommender: URM Detected 80 ( 0.7%) items with no interactions.\n",
      "ItemKNNCBFRecommender: ICM Detected 3080 (28.8%) items with no features.\n",
      "Similarity column 10681 (100.0%), 14108.75 column/sec. Elapsed time 0.76 sec\n",
      "EvaluatorHoldout: Processed 69628 (100.0%) in 51.36 sec. Users per second: 1356\n",
      "ItemKNNCBFRecommender: URM Detected 1689 ( 2.4%) users with no interactions.\n",
      "ItemKNNCBFRecommender: URM Detected 80 ( 0.7%) items with no interactions.\n",
      "ItemKNNCBFRecommender: ICM Detected 3080 (28.8%) items with no features.\n",
      "Similarity column 10681 (100.0%), 15052.41 column/sec. Elapsed time 0.71 sec\n",
      "EvaluatorHoldout: Processed 69628 (100.0%) in 1.01 min. Users per second: 1147\n",
      "ItemKNNCBFRecommender: URM Detected 1689 ( 2.4%) users with no interactions.\n",
      "ItemKNNCBFRecommender: URM Detected 80 ( 0.7%) items with no interactions.\n",
      "ItemKNNCBFRecommender: ICM Detected 3080 (28.8%) items with no features.\n",
      "Similarity column 10681 (100.0%), 13510.06 column/sec. Elapsed time 0.79 sec\n",
      "EvaluatorHoldout: Processed 69628 (100.0%) in 50.87 sec. Users per second: 1369\n",
      "ItemKNNCBFRecommender: URM Detected 1689 ( 2.4%) users with no interactions.\n",
      "ItemKNNCBFRecommender: URM Detected 80 ( 0.7%) items with no interactions.\n",
      "ItemKNNCBFRecommender: ICM Detected 3080 (28.8%) items with no features.\n",
      "Similarity column 10681 (100.0%), 13036.74 column/sec. Elapsed time 0.82 sec\n",
      "EvaluatorHoldout: Processed 69628 (100.0%) in 1.01 min. Users per second: 1154\n",
      "ItemKNNCBFRecommender: URM Detected 1689 ( 2.4%) users with no interactions.\n",
      "ItemKNNCBFRecommender: URM Detected 80 ( 0.7%) items with no interactions.\n",
      "ItemKNNCBFRecommender: ICM Detected 3080 (28.8%) items with no features.\n",
      "Similarity column 10681 (100.0%), 14469.15 column/sec. Elapsed time 0.74 sec\n",
      "EvaluatorHoldout: Processed 69628 (100.0%) in 49.97 sec. Users per second: 1394\n",
      "ItemKNNCBFRecommender: URM Detected 1689 ( 2.4%) users with no interactions.\n",
      "ItemKNNCBFRecommender: URM Detected 80 ( 0.7%) items with no interactions.\n",
      "ItemKNNCBFRecommender: ICM Detected 3080 (28.8%) items with no features.\n",
      "Similarity column 10681 (100.0%), 14094.98 column/sec. Elapsed time 0.76 sec\n",
      "EvaluatorHoldout: Processed 69628 (100.0%) in 1.01 min. Users per second: 1148\n",
      "ItemKNNCBFRecommender: URM Detected 1689 ( 2.4%) users with no interactions.\n",
      "ItemKNNCBFRecommender: URM Detected 80 ( 0.7%) items with no interactions.\n",
      "ItemKNNCBFRecommender: ICM Detected 3080 (28.8%) items with no features.\n"
     ]
    },
    {
     "name": "stdout",
     "output_type": "stream",
     "text": [
      "Similarity column 10681 (100.0%), 14088.80 column/sec. Elapsed time 0.76 sec\n",
      "EvaluatorHoldout: Processed 69628 (100.0%) in 1.06 min. Users per second: 1092\n",
      "ItemKNNCBFRecommender: URM Detected 1689 ( 2.4%) users with no interactions.\n",
      "ItemKNNCBFRecommender: URM Detected 80 ( 0.7%) items with no interactions.\n",
      "ItemKNNCBFRecommender: ICM Detected 3080 (28.8%) items with no features.\n",
      "Similarity column 10681 (100.0%), 14280.24 column/sec. Elapsed time 0.75 sec\n",
      "EvaluatorHoldout: Processed 69628 (100.0%) in 1.13 min. Users per second: 1030\n",
      "ItemKNNCBFRecommender: URM Detected 1689 ( 2.4%) users with no interactions.\n",
      "ItemKNNCBFRecommender: URM Detected 80 ( 0.7%) items with no interactions.\n",
      "ItemKNNCBFRecommender: ICM Detected 3080 (28.8%) items with no features.\n",
      "Similarity column 10681 (100.0%), 14295.71 column/sec. Elapsed time 0.75 sec\n",
      "EvaluatorHoldout: Processed 69628 (100.0%) in 54.84 sec. Users per second: 1270\n"
     ]
    }
   ],
   "source": [
    "from Recommenders.KNN.ItemKNNCBFRecommender import ItemKNNCBFRecommender\n",
    "from scipy.stats import loguniform\n",
    "\n",
    "MAP_per_k_grid = pd.DataFrame(columns = [\"k\", \"MAP\"])\n",
    "MAP_per_k_grid[\"k\"] = [10, 50, 100, 150, 200, 250, 300, 350, 400, 450, 500, 1000]\n",
    "\n",
    "MAP_per_k_rnd = pd.DataFrame(columns = [\"k\", \"MAP\"])\n",
    "MAP_per_k_rnd[\"k\"] = loguniform.rvs(10, 1000, size=len(MAP_per_k_grid)).astype(int)\n",
    "MAP_per_k_rnd = MAP_per_k_rnd.sort_values(by=\"k\")\n",
    "\n",
    "\n",
    "for index in MAP_per_k_grid.index:\n",
    "    \n",
    "    recommender = ItemKNNCBFRecommender(URM_train, ICM_all)\n",
    "    recommender.fit(shrink=0.0, topK=MAP_per_k_grid.loc[index,\"k\"])\n",
    "    \n",
    "    result_df, _ = evaluator_validation.evaluateRecommender(recommender)\n",
    "    MAP_per_k_grid.loc[index,\"MAP\"] = result_df.loc[10][\"MAP\"]\n",
    "\n",
    "    \n",
    "    recommender = ItemKNNCBFRecommender(URM_train, ICM_all)\n",
    "    recommender.fit(shrink=0.0, topK=MAP_per_k_rnd.loc[index,\"k\"])\n",
    "    \n",
    "    result_df, _ = evaluator_validation.evaluateRecommender(recommender)\n",
    "    MAP_per_k_rnd.loc[index,\"MAP\"] = result_df.loc[10][\"MAP\"]"
   ]
  },
  {
   "cell_type": "code",
   "execution_count": 50,
   "metadata": {},
   "outputs": [
    {
     "data": {
      "text/html": [
       "<div>\n",
       "<style scoped>\n",
       "    .dataframe tbody tr th:only-of-type {\n",
       "        vertical-align: middle;\n",
       "    }\n",
       "\n",
       "    .dataframe tbody tr th {\n",
       "        vertical-align: top;\n",
       "    }\n",
       "\n",
       "    .dataframe thead th {\n",
       "        text-align: right;\n",
       "    }\n",
       "</style>\n",
       "<table border=\"1\" class=\"dataframe\">\n",
       "  <thead>\n",
       "    <tr style=\"text-align: right;\">\n",
       "      <th></th>\n",
       "      <th>k</th>\n",
       "      <th>MAP</th>\n",
       "    </tr>\n",
       "  </thead>\n",
       "  <tbody>\n",
       "    <tr>\n",
       "      <th>0</th>\n",
       "      <td>10</td>\n",
       "      <td>0.035159</td>\n",
       "    </tr>\n",
       "    <tr>\n",
       "      <th>1</th>\n",
       "      <td>50</td>\n",
       "      <td>0.042957</td>\n",
       "    </tr>\n",
       "    <tr>\n",
       "      <th>2</th>\n",
       "      <td>100</td>\n",
       "      <td>0.039651</td>\n",
       "    </tr>\n",
       "    <tr>\n",
       "      <th>3</th>\n",
       "      <td>150</td>\n",
       "      <td>0.035309</td>\n",
       "    </tr>\n",
       "    <tr>\n",
       "      <th>4</th>\n",
       "      <td>200</td>\n",
       "      <td>0.02867</td>\n",
       "    </tr>\n",
       "    <tr>\n",
       "      <th>5</th>\n",
       "      <td>250</td>\n",
       "      <td>0.023846</td>\n",
       "    </tr>\n",
       "    <tr>\n",
       "      <th>6</th>\n",
       "      <td>300</td>\n",
       "      <td>0.023227</td>\n",
       "    </tr>\n",
       "    <tr>\n",
       "      <th>7</th>\n",
       "      <td>350</td>\n",
       "      <td>0.024986</td>\n",
       "    </tr>\n",
       "    <tr>\n",
       "      <th>8</th>\n",
       "      <td>400</td>\n",
       "      <td>0.024797</td>\n",
       "    </tr>\n",
       "    <tr>\n",
       "      <th>9</th>\n",
       "      <td>450</td>\n",
       "      <td>0.025786</td>\n",
       "    </tr>\n",
       "    <tr>\n",
       "      <th>10</th>\n",
       "      <td>500</td>\n",
       "      <td>0.026422</td>\n",
       "    </tr>\n",
       "    <tr>\n",
       "      <th>11</th>\n",
       "      <td>1000</td>\n",
       "      <td>0.026186</td>\n",
       "    </tr>\n",
       "  </tbody>\n",
       "</table>\n",
       "</div>"
      ],
      "text/plain": [
       "       k       MAP\n",
       "0     10  0.035159\n",
       "1     50  0.042957\n",
       "2    100  0.039651\n",
       "3    150  0.035309\n",
       "4    200   0.02867\n",
       "5    250  0.023846\n",
       "6    300  0.023227\n",
       "7    350  0.024986\n",
       "8    400  0.024797\n",
       "9    450  0.025786\n",
       "10   500  0.026422\n",
       "11  1000  0.026186"
      ]
     },
     "execution_count": 50,
     "metadata": {},
     "output_type": "execute_result"
    }
   ],
   "source": [
    "MAP_per_k_grid"
   ]
  },
  {
   "cell_type": "code",
   "execution_count": 75,
   "metadata": {},
   "outputs": [
    {
     "data": {
      "text/html": [
       "<div>\n",
       "<style scoped>\n",
       "    .dataframe tbody tr th:only-of-type {\n",
       "        vertical-align: middle;\n",
       "    }\n",
       "\n",
       "    .dataframe tbody tr th {\n",
       "        vertical-align: top;\n",
       "    }\n",
       "\n",
       "    .dataframe thead th {\n",
       "        text-align: right;\n",
       "    }\n",
       "</style>\n",
       "<table border=\"1\" class=\"dataframe\">\n",
       "  <thead>\n",
       "    <tr style=\"text-align: right;\">\n",
       "      <th></th>\n",
       "      <th>k</th>\n",
       "      <th>MAP</th>\n",
       "    </tr>\n",
       "  </thead>\n",
       "  <tbody>\n",
       "    <tr>\n",
       "      <th>5</th>\n",
       "      <td>29</td>\n",
       "      <td>0.041944</td>\n",
       "    </tr>\n",
       "    <tr>\n",
       "      <th>0</th>\n",
       "      <td>45</td>\n",
       "      <td>0.042971</td>\n",
       "    </tr>\n",
       "    <tr>\n",
       "      <th>1</th>\n",
       "      <td>60</td>\n",
       "      <td>0.043182</td>\n",
       "    </tr>\n",
       "    <tr>\n",
       "      <th>8</th>\n",
       "      <td>71</td>\n",
       "      <td>0.041821</td>\n",
       "    </tr>\n",
       "    <tr>\n",
       "      <th>9</th>\n",
       "      <td>77</td>\n",
       "      <td>0.041399</td>\n",
       "    </tr>\n",
       "    <tr>\n",
       "      <th>3</th>\n",
       "      <td>140</td>\n",
       "      <td>0.036644</td>\n",
       "    </tr>\n",
       "    <tr>\n",
       "      <th>6</th>\n",
       "      <td>145</td>\n",
       "      <td>0.035952</td>\n",
       "    </tr>\n",
       "    <tr>\n",
       "      <th>7</th>\n",
       "      <td>148</td>\n",
       "      <td>0.035581</td>\n",
       "    </tr>\n",
       "    <tr>\n",
       "      <th>11</th>\n",
       "      <td>182</td>\n",
       "      <td>0.030547</td>\n",
       "    </tr>\n",
       "    <tr>\n",
       "      <th>2</th>\n",
       "      <td>241</td>\n",
       "      <td>0.025278</td>\n",
       "    </tr>\n",
       "    <tr>\n",
       "      <th>4</th>\n",
       "      <td>306</td>\n",
       "      <td>0.023515</td>\n",
       "    </tr>\n",
       "    <tr>\n",
       "      <th>10</th>\n",
       "      <td>540</td>\n",
       "      <td>0.026667</td>\n",
       "    </tr>\n",
       "  </tbody>\n",
       "</table>\n",
       "</div>"
      ],
      "text/plain": [
       "      k       MAP\n",
       "5    29  0.041944\n",
       "0    45  0.042971\n",
       "1    60  0.043182\n",
       "8    71  0.041821\n",
       "9    77  0.041399\n",
       "3   140  0.036644\n",
       "6   145  0.035952\n",
       "7   148  0.035581\n",
       "11  182  0.030547\n",
       "2   241  0.025278\n",
       "4   306  0.023515\n",
       "10  540  0.026667"
      ]
     },
     "execution_count": 75,
     "metadata": {},
     "output_type": "execute_result"
    }
   ],
   "source": [
    "MAP_per_k_rnd"
   ]
  },
  {
   "cell_type": "code",
   "execution_count": 51,
   "metadata": {},
   "outputs": [
    {
     "data": {
      "image/png": "[encoded data removed]",
      "text/plain": [
       "<Figure size 640x480 with 1 Axes>"
      ]
     },
     "metadata": {},
     "output_type": "display_data"
    }
   ],
   "source": [
    "pyplot.plot(MAP_per_k_grid[\"k\"].values, MAP_per_k_grid[\"MAP\"].values, label=\"Grid\")\n",
    "pyplot.plot(MAP_per_k_rnd[\"k\"].values, MAP_per_k_rnd[\"MAP\"].values, label=\"Rnd\")\n",
    "pyplot.ylabel('MAP')\n",
    "pyplot.xlabel('TopK')\n",
    "pyplot.legend()\n",
    "pyplot.show()"
   ]
  },
  {
   "cell_type": "markdown",
   "metadata": {},
   "source": [
    "#### On this dataset the number of neighbors has a small absolute impact on MAP but a large relative one. Fine-tuning around the best values is needed.\n",
    "\n",
    "#### Different datasets will behave in different ways."
   ]
  },
  {
   "cell_type": "markdown",
   "metadata": {},
   "source": [
    "### Shrinkage\n",
    "\n",
    "- Select the best number of neighbors, then use this to choose the shrink term"
   ]
  },
  {
   "cell_type": "code",
   "execution_count": 52,
   "metadata": {},
   "outputs": [
    {
     "data": {
      "text/plain": [
       "k            60\n",
       "MAP    0.043182\n",
       "Name: 1, dtype: object"
      ]
     },
     "execution_count": 52,
     "metadata": {},
     "output_type": "execute_result"
    }
   ],
   "source": [
    "best_k_value = MAP_per_k_rnd.loc[MAP_per_k_rnd[\"MAP\"].astype(float).idxmax()]\n",
    "best_k_value"
   ]
  },
  {
   "cell_type": "code",
   "execution_count": 53,
   "metadata": {},
   "outputs": [
    {
     "name": "stdout",
     "output_type": "stream",
     "text": [
      "ItemKNNCBFRecommender: URM Detected 1689 ( 2.4%) users with no interactions.\n",
      "ItemKNNCBFRecommender: URM Detected 80 ( 0.7%) items with no interactions.\n",
      "ItemKNNCBFRecommender: ICM Detected 3080 (28.8%) items with no features.\n",
      "Similarity column 10681 (100.0%), 15238.83 column/sec. Elapsed time 0.70 sec\n",
      "EvaluatorHoldout: Processed 69628 (100.0%) in 47.44 sec. Users per second: 1468\n",
      "ItemKNNCBFRecommender: URM Detected 1689 ( 2.4%) users with no interactions.\n",
      "ItemKNNCBFRecommender: URM Detected 80 ( 0.7%) items with no interactions.\n",
      "ItemKNNCBFRecommender: ICM Detected 3080 (28.8%) items with no features.\n",
      "Similarity column 10681 (100.0%), 14488.71 column/sec. Elapsed time 0.74 sec\n",
      "EvaluatorHoldout: Processed 69628 (100.0%) in 49.45 sec. Users per second: 1408\n",
      "ItemKNNCBFRecommender: URM Detected 1689 ( 2.4%) users with no interactions.\n",
      "ItemKNNCBFRecommender: URM Detected 80 ( 0.7%) items with no interactions.\n",
      "ItemKNNCBFRecommender: ICM Detected 3080 (28.8%) items with no features.\n",
      "Similarity column 10681 (100.0%), 13565.93 column/sec. Elapsed time 0.79 sec\n",
      "EvaluatorHoldout: Processed 69628 (100.0%) in 51.35 sec. Users per second: 1356\n",
      "ItemKNNCBFRecommender: URM Detected 1689 ( 2.4%) users with no interactions.\n",
      "ItemKNNCBFRecommender: URM Detected 80 ( 0.7%) items with no interactions.\n",
      "ItemKNNCBFRecommender: ICM Detected 3080 (28.8%) items with no features.\n",
      "Similarity column 10681 (100.0%), 13914.18 column/sec. Elapsed time 0.77 sec\n",
      "EvaluatorHoldout: Processed 69628 (100.0%) in 55.46 sec. Users per second: 1256\n",
      "ItemKNNCBFRecommender: URM Detected 1689 ( 2.4%) users with no interactions.\n",
      "ItemKNNCBFRecommender: URM Detected 80 ( 0.7%) items with no interactions.\n",
      "ItemKNNCBFRecommender: ICM Detected 3080 (28.8%) items with no features.\n",
      "Similarity column 10681 (100.0%), 15099.45 column/sec. Elapsed time 0.71 sec\n",
      "EvaluatorHoldout: Processed 69628 (100.0%) in 54.57 sec. Users per second: 1276\n",
      "ItemKNNCBFRecommender: URM Detected 1689 ( 2.4%) users with no interactions.\n",
      "ItemKNNCBFRecommender: URM Detected 80 ( 0.7%) items with no interactions.\n",
      "ItemKNNCBFRecommender: ICM Detected 3080 (28.8%) items with no features.\n",
      "Similarity column 10681 (100.0%), 14618.80 column/sec. Elapsed time 0.73 sec\n",
      "EvaluatorHoldout: Processed 69628 (100.0%) in 51.30 sec. Users per second: 1357\n",
      "ItemKNNCBFRecommender: URM Detected 1689 ( 2.4%) users with no interactions.\n",
      "ItemKNNCBFRecommender: URM Detected 80 ( 0.7%) items with no interactions.\n",
      "ItemKNNCBFRecommender: ICM Detected 3080 (28.8%) items with no features.\n",
      "Similarity column 10681 (100.0%), 13179.92 column/sec. Elapsed time 0.81 sec\n",
      "EvaluatorHoldout: Processed 69628 (100.0%) in 54.49 sec. Users per second: 1278\n",
      "ItemKNNCBFRecommender: URM Detected 1689 ( 2.4%) users with no interactions.\n",
      "ItemKNNCBFRecommender: URM Detected 80 ( 0.7%) items with no interactions.\n",
      "ItemKNNCBFRecommender: ICM Detected 3080 (28.8%) items with no features.\n",
      "Similarity column 10681 (100.0%), 14805.67 column/sec. Elapsed time 0.72 sec\n",
      "EvaluatorHoldout: Processed 69628 (100.0%) in 51.83 sec. Users per second: 1343\n",
      "ItemKNNCBFRecommender: URM Detected 1689 ( 2.4%) users with no interactions.\n",
      "ItemKNNCBFRecommender: URM Detected 80 ( 0.7%) items with no interactions.\n",
      "ItemKNNCBFRecommender: ICM Detected 3080 (28.8%) items with no features.\n",
      "Similarity column 10681 (100.0%), 13183.48 column/sec. Elapsed time 0.81 sec\n",
      "EvaluatorHoldout: Processed 69628 (100.0%) in 53.92 sec. Users per second: 1291\n",
      "ItemKNNCBFRecommender: URM Detected 1689 ( 2.4%) users with no interactions.\n",
      "ItemKNNCBFRecommender: URM Detected 80 ( 0.7%) items with no interactions.\n",
      "ItemKNNCBFRecommender: ICM Detected 3080 (28.8%) items with no features.\n",
      "Similarity column 10681 (100.0%), 13920.58 column/sec. Elapsed time 0.77 sec\n",
      "EvaluatorHoldout: Processed 69628 (100.0%) in 51.56 sec. Users per second: 1350\n",
      "ItemKNNCBFRecommender: URM Detected 1689 ( 2.4%) users with no interactions.\n",
      "ItemKNNCBFRecommender: URM Detected 80 ( 0.7%) items with no interactions.\n",
      "ItemKNNCBFRecommender: ICM Detected 3080 (28.8%) items with no features.\n",
      "Similarity column 10681 (100.0%), 14074.69 column/sec. Elapsed time 0.76 sec\n",
      "EvaluatorHoldout: Processed 69628 (100.0%) in 54.66 sec. Users per second: 1274\n",
      "ItemKNNCBFRecommender: URM Detected 1689 ( 2.4%) users with no interactions.\n",
      "ItemKNNCBFRecommender: URM Detected 80 ( 0.7%) items with no interactions.\n",
      "ItemKNNCBFRecommender: ICM Detected 3080 (28.8%) items with no features.\n",
      "Similarity column 10681 (100.0%), 14232.53 column/sec. Elapsed time 0.75 sec\n",
      "EvaluatorHoldout: Processed 69628 (100.0%) in 50.15 sec. Users per second: 1388\n",
      "ItemKNNCBFRecommender: URM Detected 1689 ( 2.4%) users with no interactions.\n",
      "ItemKNNCBFRecommender: URM Detected 80 ( 0.7%) items with no interactions.\n",
      "ItemKNNCBFRecommender: ICM Detected 3080 (28.8%) items with no features.\n",
      "Similarity column 10681 (100.0%), 13890.22 column/sec. Elapsed time 0.77 sec\n",
      "EvaluatorHoldout: Processed 69628 (100.0%) in 54.95 sec. Users per second: 1267\n",
      "ItemKNNCBFRecommender: URM Detected 1689 ( 2.4%) users with no interactions.\n",
      "ItemKNNCBFRecommender: URM Detected 80 ( 0.7%) items with no interactions.\n",
      "ItemKNNCBFRecommender: ICM Detected 3080 (28.8%) items with no features.\n",
      "Similarity column 10681 (100.0%), 14622.99 column/sec. Elapsed time 0.73 sec\n",
      "EvaluatorHoldout: Processed 69628 (100.0%) in 52.93 sec. Users per second: 1316\n",
      "ItemKNNCBFRecommender: URM Detected 1689 ( 2.4%) users with no interactions.\n",
      "ItemKNNCBFRecommender: URM Detected 80 ( 0.7%) items with no interactions.\n",
      "ItemKNNCBFRecommender: ICM Detected 3080 (28.8%) items with no features.\n",
      "Similarity column 10681 (100.0%), 14260.52 column/sec. Elapsed time 0.75 sec\n",
      "EvaluatorHoldout: Processed 69628 (100.0%) in 52.72 sec. Users per second: 1321\n",
      "ItemKNNCBFRecommender: URM Detected 1689 ( 2.4%) users with no interactions.\n",
      "ItemKNNCBFRecommender: URM Detected 80 ( 0.7%) items with no interactions.\n",
      "ItemKNNCBFRecommender: ICM Detected 3080 (28.8%) items with no features.\n",
      "Similarity column 10681 (100.0%), 14219.57 column/sec. Elapsed time 0.75 sec\n",
      "EvaluatorHoldout: Processed 69628 (100.0%) in 55.05 sec. Users per second: 1265\n",
      "ItemKNNCBFRecommender: URM Detected 1689 ( 2.4%) users with no interactions.\n",
      "ItemKNNCBFRecommender: URM Detected 80 ( 0.7%) items with no interactions.\n",
      "ItemKNNCBFRecommender: ICM Detected 3080 (28.8%) items with no features.\n",
      "Similarity column 10681 (100.0%), 13684.86 column/sec. Elapsed time 0.78 sec\n",
      "EvaluatorHoldout: Processed 69628 (100.0%) in 53.19 sec. Users per second: 1309\n",
      "ItemKNNCBFRecommender: URM Detected 1689 ( 2.4%) users with no interactions.\n",
      "ItemKNNCBFRecommender: URM Detected 80 ( 0.7%) items with no interactions.\n",
      "ItemKNNCBFRecommender: ICM Detected 3080 (28.8%) items with no features.\n",
      "Similarity column 10681 (100.0%), 13559.81 column/sec. Elapsed time 0.79 sec\n",
      "EvaluatorHoldout: Processed 69628 (100.0%) in 48.07 sec. Users per second: 1448\n",
      "ItemKNNCBFRecommender: URM Detected 1689 ( 2.4%) users with no interactions.\n",
      "ItemKNNCBFRecommender: URM Detected 80 ( 0.7%) items with no interactions.\n",
      "ItemKNNCBFRecommender: ICM Detected 3080 (28.8%) items with no features.\n",
      "Similarity column 10681 (100.0%), 15256.18 column/sec. Elapsed time 0.70 sec\n",
      "EvaluatorHoldout: Processed 69628 (100.0%) in 54.39 sec. Users per second: 1280\n",
      "ItemKNNCBFRecommender: URM Detected 1689 ( 2.4%) users with no interactions.\n",
      "ItemKNNCBFRecommender: URM Detected 80 ( 0.7%) items with no interactions.\n",
      "ItemKNNCBFRecommender: ICM Detected 3080 (28.8%) items with no features.\n",
      "Similarity column 10681 (100.0%), 13844.29 column/sec. Elapsed time 0.77 sec\n",
      "EvaluatorHoldout: Processed 69628 (100.0%) in 54.02 sec. Users per second: 1289\n",
      "ItemKNNCBFRecommender: URM Detected 1689 ( 2.4%) users with no interactions.\n",
      "ItemKNNCBFRecommender: URM Detected 80 ( 0.7%) items with no interactions.\n",
      "ItemKNNCBFRecommender: ICM Detected 3080 (28.8%) items with no features.\n",
      "Similarity column 10681 (100.0%), 13499.51 column/sec. Elapsed time 0.79 sec\n",
      "EvaluatorHoldout: Processed 69628 (100.0%) in 53.40 sec. Users per second: 1304\n",
      "ItemKNNCBFRecommender: URM Detected 1689 ( 2.4%) users with no interactions.\n",
      "ItemKNNCBFRecommender: URM Detected 80 ( 0.7%) items with no interactions.\n",
      "ItemKNNCBFRecommender: ICM Detected 3080 (28.8%) items with no features.\n"
     ]
    },
    {
     "name": "stdout",
     "output_type": "stream",
     "text": [
      "Similarity column 10681 (100.0%), 14434.05 column/sec. Elapsed time 0.74 sec\n",
      "EvaluatorHoldout: Processed 69628 (100.0%) in 52.29 sec. Users per second: 1332\n",
      "ItemKNNCBFRecommender: URM Detected 1689 ( 2.4%) users with no interactions.\n",
      "ItemKNNCBFRecommender: URM Detected 80 ( 0.7%) items with no interactions.\n",
      "ItemKNNCBFRecommender: ICM Detected 3080 (28.8%) items with no features.\n",
      "Similarity column 10681 (100.0%), 13747.47 column/sec. Elapsed time 0.78 sec\n",
      "EvaluatorHoldout: Processed 69628 (100.0%) in 53.61 sec. Users per second: 1299\n",
      "ItemKNNCBFRecommender: URM Detected 1689 ( 2.4%) users with no interactions.\n",
      "ItemKNNCBFRecommender: URM Detected 80 ( 0.7%) items with no interactions.\n",
      "ItemKNNCBFRecommender: ICM Detected 3080 (28.8%) items with no features.\n",
      "Similarity column 10681 (100.0%), 14776.09 column/sec. Elapsed time 0.72 sec\n",
      "EvaluatorHoldout: Processed 69628 (100.0%) in 49.93 sec. Users per second: 1394\n",
      "ItemKNNCBFRecommender: URM Detected 1689 ( 2.4%) users with no interactions.\n",
      "ItemKNNCBFRecommender: URM Detected 80 ( 0.7%) items with no interactions.\n",
      "ItemKNNCBFRecommender: ICM Detected 3080 (28.8%) items with no features.\n",
      "Similarity column 10681 (100.0%), 13846.93 column/sec. Elapsed time 0.77 sec\n",
      "EvaluatorHoldout: Processed 69628 (100.0%) in 51.86 sec. Users per second: 1343\n",
      "ItemKNNCBFRecommender: URM Detected 1689 ( 2.4%) users with no interactions.\n",
      "ItemKNNCBFRecommender: URM Detected 80 ( 0.7%) items with no interactions.\n",
      "ItemKNNCBFRecommender: ICM Detected 3080 (28.8%) items with no features.\n",
      "Similarity column 10681 (100.0%), 14307.29 column/sec. Elapsed time 0.75 sec\n",
      "EvaluatorHoldout: Processed 69628 (100.0%) in 53.95 sec. Users per second: 1291\n"
     ]
    }
   ],
   "source": [
    "MAP_per_shrinkage_grid = pd.DataFrame(columns = [\"k\", \"shrink\", \"MAP\"])\n",
    "MAP_per_shrinkage_grid[\"shrink\"] = [0, 10, 50, 100, 150, 200, 250, 300, 350, 400, 450, 500, 1000]\n",
    "MAP_per_shrinkage_grid[\"k\"] = best_k_value[\"k\"]\n",
    "\n",
    "\n",
    "MAP_per_shrinkage_rnd = pd.DataFrame(columns = [\"k\", \"shrink\", \"MAP\"])\n",
    "MAP_per_shrinkage_rnd[\"shrink\"] = loguniform.rvs(0.1, 1000, size=len(MAP_per_shrinkage_grid)).astype(int)\n",
    "MAP_per_shrinkage_rnd = MAP_per_shrinkage_rnd.sort_values(by=\"shrink\")\n",
    "MAP_per_shrinkage_rnd[\"k\"] = best_k_value[\"k\"]\n",
    "\n",
    "\n",
    "for index in MAP_per_shrinkage_grid.index:\n",
    "    \n",
    "    recommender = ItemKNNCBFRecommender(URM_train, ICM_all)\n",
    "    recommender.fit(shrink=MAP_per_shrinkage_grid.loc[index,\"shrink\"], topK=MAP_per_shrinkage_grid.loc[index,\"k\"])\n",
    "    \n",
    "    result_df, _ = evaluator_validation.evaluateRecommender(recommender)\n",
    "    MAP_per_shrinkage_grid.loc[index,\"MAP\"] = result_df.loc[10][\"MAP\"]\n",
    "\n",
    "    \n",
    "    recommender = ItemKNNCBFRecommender(URM_train, ICM_all)\n",
    "    recommender.fit(shrink=MAP_per_shrinkage_rnd.loc[index,\"shrink\"], topK=MAP_per_shrinkage_rnd.loc[index,\"k\"])\n",
    "    \n",
    "    result_df, _ = evaluator_validation.evaluateRecommender(recommender)\n",
    "    MAP_per_shrinkage_rnd.loc[index,\"MAP\"] = result_df.loc[10][\"MAP\"]"
   ]
  },
  {
   "cell_type": "code",
   "execution_count": 54,
   "metadata": {},
   "outputs": [
    {
     "data": {
      "text/html": [
       "<div>\n",
       "<style scoped>\n",
       "    .dataframe tbody tr th:only-of-type {\n",
       "        vertical-align: middle;\n",
       "    }\n",
       "\n",
       "    .dataframe tbody tr th {\n",
       "        vertical-align: top;\n",
       "    }\n",
       "\n",
       "    .dataframe thead th {\n",
       "        text-align: right;\n",
       "    }\n",
       "</style>\n",
       "<table border=\"1\" class=\"dataframe\">\n",
       "  <thead>\n",
       "    <tr style=\"text-align: right;\">\n",
       "      <th></th>\n",
       "      <th>k</th>\n",
       "      <th>shrink</th>\n",
       "      <th>MAP</th>\n",
       "    </tr>\n",
       "  </thead>\n",
       "  <tbody>\n",
       "    <tr>\n",
       "      <th>0</th>\n",
       "      <td>60</td>\n",
       "      <td>0</td>\n",
       "      <td>0.043182</td>\n",
       "    </tr>\n",
       "    <tr>\n",
       "      <th>1</th>\n",
       "      <td>60</td>\n",
       "      <td>10</td>\n",
       "      <td>0.05449</td>\n",
       "    </tr>\n",
       "    <tr>\n",
       "      <th>2</th>\n",
       "      <td>60</td>\n",
       "      <td>50</td>\n",
       "      <td>0.056564</td>\n",
       "    </tr>\n",
       "    <tr>\n",
       "      <th>3</th>\n",
       "      <td>60</td>\n",
       "      <td>100</td>\n",
       "      <td>0.057695</td>\n",
       "    </tr>\n",
       "    <tr>\n",
       "      <th>4</th>\n",
       "      <td>60</td>\n",
       "      <td>150</td>\n",
       "      <td>0.057737</td>\n",
       "    </tr>\n",
       "    <tr>\n",
       "      <th>5</th>\n",
       "      <td>60</td>\n",
       "      <td>200</td>\n",
       "      <td>0.05777</td>\n",
       "    </tr>\n",
       "    <tr>\n",
       "      <th>6</th>\n",
       "      <td>60</td>\n",
       "      <td>250</td>\n",
       "      <td>0.057875</td>\n",
       "    </tr>\n",
       "    <tr>\n",
       "      <th>7</th>\n",
       "      <td>60</td>\n",
       "      <td>300</td>\n",
       "      <td>0.057479</td>\n",
       "    </tr>\n",
       "    <tr>\n",
       "      <th>8</th>\n",
       "      <td>60</td>\n",
       "      <td>350</td>\n",
       "      <td>0.057239</td>\n",
       "    </tr>\n",
       "    <tr>\n",
       "      <th>9</th>\n",
       "      <td>60</td>\n",
       "      <td>400</td>\n",
       "      <td>0.057157</td>\n",
       "    </tr>\n",
       "    <tr>\n",
       "      <th>10</th>\n",
       "      <td>60</td>\n",
       "      <td>450</td>\n",
       "      <td>0.057036</td>\n",
       "    </tr>\n",
       "    <tr>\n",
       "      <th>11</th>\n",
       "      <td>60</td>\n",
       "      <td>500</td>\n",
       "      <td>0.057022</td>\n",
       "    </tr>\n",
       "    <tr>\n",
       "      <th>12</th>\n",
       "      <td>60</td>\n",
       "      <td>1000</td>\n",
       "      <td>0.056839</td>\n",
       "    </tr>\n",
       "  </tbody>\n",
       "</table>\n",
       "</div>"
      ],
      "text/plain": [
       "     k  shrink       MAP\n",
       "0   60       0  0.043182\n",
       "1   60      10   0.05449\n",
       "2   60      50  0.056564\n",
       "3   60     100  0.057695\n",
       "4   60     150  0.057737\n",
       "5   60     200   0.05777\n",
       "6   60     250  0.057875\n",
       "7   60     300  0.057479\n",
       "8   60     350  0.057239\n",
       "9   60     400  0.057157\n",
       "10  60     450  0.057036\n",
       "11  60     500  0.057022\n",
       "12  60    1000  0.056839"
      ]
     },
     "execution_count": 54,
     "metadata": {},
     "output_type": "execute_result"
    }
   ],
   "source": [
    "MAP_per_shrinkage_grid"
   ]
  },
  {
   "cell_type": "code",
   "execution_count": 78,
   "metadata": {},
   "outputs": [
    {
     "data": {
      "image/png": "[encoded data removed]",
      "text/plain": [
       "<Figure size 640x480 with 1 Axes>"
      ]
     },
     "metadata": {},
     "output_type": "display_data"
    }
   ],
   "source": [
    "pyplot.plot(MAP_per_shrinkage_grid[\"shrink\"].values, MAP_per_shrinkage_grid[\"MAP\"].values, label=\"Grid\")\n",
    "pyplot.plot(MAP_per_shrinkage_rnd[\"shrink\"].values, MAP_per_shrinkage_rnd[\"MAP\"].values, label=\"Rnd\")\n",
    "pyplot.ylabel('MAP')\n",
    "pyplot.xlabel('Shrinkage')\n",
    "pyplot.legend()\n",
    "pyplot.show()"
   ]
  },
  {
   "cell_type": "markdown",
   "metadata": {},
   "source": [
    "The shrinkage value (i.e. support) has a much stronger impact. Combine a hyperparameter search with the two to ensure maximum recommendation quality"
   ]
  },
  {
   "cell_type": "markdown",
   "metadata": {},
   "source": [
    "We now would like to use the hyperparameters we found to train the model that will be evaluated on the test data. We need to\n",
    "* Select the best hyperparameters based on the validation data\n",
    "* Train the model again on the union of training and validation data\n",
    "* Compute the recommendations"
   ]
  },
  {
   "cell_type": "code",
   "execution_count": 79,
   "metadata": {},
   "outputs": [
    {
     "data": {
      "text/html": [
       "<div>\n",
       "<style scoped>\n",
       "    .dataframe tbody tr th:only-of-type {\n",
       "        vertical-align: middle;\n",
       "    }\n",
       "\n",
       "    .dataframe tbody tr th {\n",
       "        vertical-align: top;\n",
       "    }\n",
       "\n",
       "    .dataframe thead th {\n",
       "        text-align: right;\n",
       "    }\n",
       "</style>\n",
       "<table border=\"1\" class=\"dataframe\">\n",
       "  <thead>\n",
       "    <tr style=\"text-align: right;\">\n",
       "      <th></th>\n",
       "      <th>k</th>\n",
       "      <th>shrink</th>\n",
       "      <th>MAP</th>\n",
       "    </tr>\n",
       "  </thead>\n",
       "  <tbody>\n",
       "    <tr>\n",
       "      <th>0</th>\n",
       "      <td>60</td>\n",
       "      <td>0</td>\n",
       "      <td>0.043182</td>\n",
       "    </tr>\n",
       "    <tr>\n",
       "      <th>8</th>\n",
       "      <td>60</td>\n",
       "      <td>0</td>\n",
       "      <td>0.043182</td>\n",
       "    </tr>\n",
       "    <tr>\n",
       "      <th>11</th>\n",
       "      <td>60</td>\n",
       "      <td>0</td>\n",
       "      <td>0.043182</td>\n",
       "    </tr>\n",
       "    <tr>\n",
       "      <th>2</th>\n",
       "      <td>60</td>\n",
       "      <td>2</td>\n",
       "      <td>0.050998</td>\n",
       "    </tr>\n",
       "    <tr>\n",
       "      <th>3</th>\n",
       "      <td>60</td>\n",
       "      <td>3</td>\n",
       "      <td>0.052349</td>\n",
       "    </tr>\n",
       "    <tr>\n",
       "      <th>5</th>\n",
       "      <td>60</td>\n",
       "      <td>10</td>\n",
       "      <td>0.05449</td>\n",
       "    </tr>\n",
       "    <tr>\n",
       "      <th>10</th>\n",
       "      <td>60</td>\n",
       "      <td>33</td>\n",
       "      <td>0.056479</td>\n",
       "    </tr>\n",
       "    <tr>\n",
       "      <th>6</th>\n",
       "      <td>60</td>\n",
       "      <td>57</td>\n",
       "      <td>0.056842</td>\n",
       "    </tr>\n",
       "    <tr>\n",
       "      <th>4</th>\n",
       "      <td>60</td>\n",
       "      <td>108</td>\n",
       "      <td>0.057591</td>\n",
       "    </tr>\n",
       "    <tr>\n",
       "      <th>9</th>\n",
       "      <td>60</td>\n",
       "      <td>121</td>\n",
       "      <td>0.057632</td>\n",
       "    </tr>\n",
       "    <tr>\n",
       "      <th>12</th>\n",
       "      <td>60</td>\n",
       "      <td>133</td>\n",
       "      <td>0.057726</td>\n",
       "    </tr>\n",
       "    <tr>\n",
       "      <th>1</th>\n",
       "      <td>60</td>\n",
       "      <td>218</td>\n",
       "      <td>0.057753</td>\n",
       "    </tr>\n",
       "    <tr>\n",
       "      <th>7</th>\n",
       "      <td>60</td>\n",
       "      <td>690</td>\n",
       "      <td>0.056931</td>\n",
       "    </tr>\n",
       "  </tbody>\n",
       "</table>\n",
       "</div>"
      ],
      "text/plain": [
       "     k  shrink       MAP\n",
       "0   60       0  0.043182\n",
       "8   60       0  0.043182\n",
       "11  60       0  0.043182\n",
       "2   60       2  0.050998\n",
       "3   60       3  0.052349\n",
       "5   60      10   0.05449\n",
       "10  60      33  0.056479\n",
       "6   60      57  0.056842\n",
       "4   60     108  0.057591\n",
       "9   60     121  0.057632\n",
       "12  60     133  0.057726\n",
       "1   60     218  0.057753\n",
       "7   60     690  0.056931"
      ]
     },
     "execution_count": 79,
     "metadata": {},
     "output_type": "execute_result"
    }
   ],
   "source": [
    "MAP_per_shrinkage_rnd"
   ]
  },
  {
   "cell_type": "code",
   "execution_count": 57,
   "metadata": {},
   "outputs": [
    {
     "data": {
      "text/plain": [
       "k               60\n",
       "shrink         218\n",
       "MAP       0.057753\n",
       "Name: 1, dtype: object"
      ]
     },
     "execution_count": 57,
     "metadata": {},
     "output_type": "execute_result"
    }
   ],
   "source": [
    "optimal_hyperparams = MAP_per_shrinkage_rnd.loc[MAP_per_shrinkage_rnd['MAP'].astype(float).idxmax()]\n",
    "optimal_hyperparams"
   ]
  },
  {
   "cell_type": "code",
   "execution_count": 58,
   "metadata": {},
   "outputs": [
    {
     "name": "stdout",
     "output_type": "stream",
     "text": [
      "ItemKNNCBFRecommender: URM Detected 1689 ( 2.4%) users with no interactions.\n",
      "ItemKNNCBFRecommender: URM Detected 42 ( 0.4%) items with no interactions.\n",
      "ItemKNNCBFRecommender: ICM Detected 3080 (28.8%) items with no features.\n",
      "Similarity column 10681 (100.0%), 15454.39 column/sec. Elapsed time 0.69 sec\n",
      "EvaluatorHoldout: Processed 69789 (100.0%) in 54.16 sec. Users per second: 1289\n"
     ]
    },
    {
     "data": {
      "text/html": [
       "<div>\n",
       "<style scoped>\n",
       "    .dataframe tbody tr th:only-of-type {\n",
       "        vertical-align: middle;\n",
       "    }\n",
       "\n",
       "    .dataframe tbody tr th {\n",
       "        vertical-align: top;\n",
       "    }\n",
       "\n",
       "    .dataframe thead th {\n",
       "        text-align: right;\n",
       "    }\n",
       "</style>\n",
       "<table border=\"1\" class=\"dataframe\">\n",
       "  <thead>\n",
       "    <tr style=\"text-align: right;\">\n",
       "      <th></th>\n",
       "      <th>PRECISION</th>\n",
       "      <th>PRECISION_RECALL_MIN_DEN</th>\n",
       "      <th>RECALL</th>\n",
       "      <th>MAP</th>\n",
       "      <th>MAP_MIN_DEN</th>\n",
       "      <th>MRR</th>\n",
       "      <th>NDCG</th>\n",
       "      <th>F1</th>\n",
       "      <th>HIT_RATE</th>\n",
       "      <th>ARHR_ALL_HITS</th>\n",
       "      <th>...</th>\n",
       "      <th>COVERAGE_USER</th>\n",
       "      <th>COVERAGE_USER_HIT</th>\n",
       "      <th>USERS_IN_GT</th>\n",
       "      <th>DIVERSITY_GINI</th>\n",
       "      <th>SHANNON_ENTROPY</th>\n",
       "      <th>RATIO_DIVERSITY_HERFINDAHL</th>\n",
       "      <th>RATIO_DIVERSITY_GINI</th>\n",
       "      <th>RATIO_SHANNON_ENTROPY</th>\n",
       "      <th>RATIO_AVERAGE_POPULARITY</th>\n",
       "      <th>RATIO_NOVELTY</th>\n",
       "    </tr>\n",
       "    <tr>\n",
       "      <th>cutoff</th>\n",
       "      <th></th>\n",
       "      <th></th>\n",
       "      <th></th>\n",
       "      <th></th>\n",
       "      <th></th>\n",
       "      <th></th>\n",
       "      <th></th>\n",
       "      <th></th>\n",
       "      <th></th>\n",
       "      <th></th>\n",
       "      <th></th>\n",
       "      <th></th>\n",
       "      <th></th>\n",
       "      <th></th>\n",
       "      <th></th>\n",
       "      <th></th>\n",
       "      <th></th>\n",
       "      <th></th>\n",
       "      <th></th>\n",
       "      <th></th>\n",
       "      <th></th>\n",
       "    </tr>\n",
       "  </thead>\n",
       "  <tbody>\n",
       "    <tr>\n",
       "      <th>10</th>\n",
       "      <td>0.16959</td>\n",
       "      <td>0.181455</td>\n",
       "      <td>0.073901</td>\n",
       "      <td>0.114153</td>\n",
       "      <td>0.119804</td>\n",
       "      <td>0.408563</td>\n",
       "      <td>0.173134</td>\n",
       "      <td>0.102943</td>\n",
       "      <td>0.630615</td>\n",
       "      <td>0.650592</td>\n",
       "      <td>...</td>\n",
       "      <td>0.975156</td>\n",
       "      <td>0.614948</td>\n",
       "      <td>0.975156</td>\n",
       "      <td>0.007153</td>\n",
       "      <td>6.506814</td>\n",
       "      <td>0.983407</td>\n",
       "      <td>0.036735</td>\n",
       "      <td>0.574559</td>\n",
       "      <td>1.780377</td>\n",
       "      <td>0.074283</td>\n",
       "    </tr>\n",
       "  </tbody>\n",
       "</table>\n",
       "<p>1 rows × 27 columns</p>\n",
       "</div>"
      ],
      "text/plain": [
       "       PRECISION PRECISION_RECALL_MIN_DEN    RECALL       MAP MAP_MIN_DEN  \\\n",
       "cutoff                                                                      \n",
       "10       0.16959                 0.181455  0.073901  0.114153    0.119804   \n",
       "\n",
       "             MRR      NDCG        F1  HIT_RATE ARHR_ALL_HITS  ...  \\\n",
       "cutoff                                                        ...   \n",
       "10      0.408563  0.173134  0.102943  0.630615      0.650592  ...   \n",
       "\n",
       "       COVERAGE_USER COVERAGE_USER_HIT USERS_IN_GT DIVERSITY_GINI  \\\n",
       "cutoff                                                              \n",
       "10          0.975156          0.614948    0.975156       0.007153   \n",
       "\n",
       "       SHANNON_ENTROPY RATIO_DIVERSITY_HERFINDAHL RATIO_DIVERSITY_GINI  \\\n",
       "cutoff                                                                   \n",
       "10            6.506814                   0.983407             0.036735   \n",
       "\n",
       "       RATIO_SHANNON_ENTROPY RATIO_AVERAGE_POPULARITY RATIO_NOVELTY  \n",
       "cutoff                                                               \n",
       "10                  0.574559                 1.780377      0.074283  \n",
       "\n",
       "[1 rows x 27 columns]"
      ]
     },
     "execution_count": 58,
     "metadata": {},
     "output_type": "execute_result"
    }
   ],
   "source": [
    "recommender = ItemKNNCBFRecommender(URM_train + URM_validation, ICM_all)\n",
    "recommender.fit(shrink=optimal_hyperparams[\"shrink\"], topK=optimal_hyperparams[\"k\"])\n",
    "\n",
    "\n",
    "result_df, _ = evaluator_test.evaluateRecommender(recommender)\n",
    "result_df"
   ]
  },
  {
   "cell_type": "markdown",
   "metadata": {},
   "source": [
    "\n",
    "## Be careful, overfitting!\n",
    "\n",
    "#### While a thorough parameter tuning might result in significantly higher MAP on your validation split, it could have only marginally better or even worse MAP on the test set"
   ]
  },
  {
   "cell_type": "markdown",
   "metadata": {},
   "source": [
    "# Feature weighting"
   ]
  },
  {
   "cell_type": "markdown",
   "metadata": {
    "collapsed": true
   },
   "source": [
    "# IDF"
   ]
  },
  {
   "cell_type": "markdown",
   "metadata": {},
   "source": [
    "![title](https://www.link-assistant.com/images/news/tf-idf-tool-for-seo/screen-03.png)"
   ]
  },
  {
   "cell_type": "code",
   "execution_count": 59,
   "metadata": {},
   "outputs": [
    {
     "name": "stdout",
     "output_type": "stream",
     "text": [
      "(10681, 16528)\n",
      "(16528,)\n"
     ]
    }
   ],
   "source": [
    "num_tot_items = ICM_all.shape[0]\n",
    "\n",
    "# let's count how many items have a certain feature\n",
    "items_per_feature = np.ediff1d(sps.csc_matrix(ICM_all).indptr)\n",
    "\n",
    "IDF = np.log(num_tot_items / items_per_feature)\n",
    "\n",
    "print(ICM_all.shape)\n",
    "print(IDF.shape)"
   ]
  },
  {
   "cell_type": "code",
   "execution_count": 60,
   "metadata": {},
   "outputs": [
    {
     "data": {
      "text/plain": [
       "array([  1,   1,   1, ..., 404, 492, 640], dtype=int32)"
      ]
     },
     "execution_count": 60,
     "metadata": {},
     "output_type": "execute_result"
    }
   ],
   "source": [
    "np.sort(items_per_feature)"
   ]
  },
  {
   "cell_type": "code",
   "execution_count": 61,
   "metadata": {},
   "outputs": [
    {
     "data": {
      "text/plain": [
       "array([2.81475356, 3.07774302, 3.27480686, ..., 9.27622174, 9.27622174,\n",
       "       9.27622174])"
      ]
     },
     "execution_count": 61,
     "metadata": {},
     "output_type": "execute_result"
    }
   ],
   "source": [
    "np.sort(IDF)"
   ]
  },
  {
   "cell_type": "code",
   "execution_count": 62,
   "metadata": {},
   "outputs": [
    {
     "data": {
      "image/png": "[encoded data removed]",
      "text/plain": [
       "<Figure size 640x480 with 1 Axes>"
      ]
     },
     "metadata": {},
     "output_type": "display_data"
    }
   ],
   "source": [
    "pyplot.plot(np.sort(IDF))\n",
    "pyplot.ylabel('IDF')\n",
    "pyplot.xlabel('Sorted feature')\n",
    "pyplot.show()"
   ]
  },
  {
   "cell_type": "markdown",
   "metadata": {},
   "source": [
    "#### Highest ranked features"
   ]
  },
  {
   "cell_type": "code",
   "execution_count": 63,
   "metadata": {},
   "outputs": [],
   "source": [
    "feature_index_to_original_ID_dict = {value:key for key,value in feature_original_ID_to_index.iteritems()}"
   ]
  },
  {
   "cell_type": "code",
   "execution_count": 64,
   "metadata": {},
   "outputs": [
    {
     "name": "stdout",
     "output_type": "stream",
     "text": [
      "a old story of fight\n",
      "i hate this movie with a fiery passion\n",
      "so damn good\n",
      "cool-ish\n",
      "i love this movie\n",
      "ukraine\n",
      "don't watch it again\n",
      "NOT Eugene O'Neill - S. Africa\n",
      "why do i hate this?\n",
      "Yakuza Papers I\n",
      "needless gratuitous violence\n",
      "always applicable to present\n",
      "insanely funny\n",
      "homoerotic hobbit-on-hobbit action\n",
      "musical score drives me crazy!\n",
      "brilliant in concept & execution\n",
      "modern male friendship\n",
      "almost favourite\n",
      "this movie is pretty...pretty gay\n",
      "instant classic\n"
     ]
    }
   ],
   "source": [
    "sorted_features = np.argsort(-IDF)\n",
    "\n",
    "highest_ranked_features = sorted_features[:20]\n",
    "\n",
    "for feature_index in highest_ranked_features:\n",
    "    print(feature_index_to_original_ID_dict[feature_index])"
   ]
  },
  {
   "cell_type": "markdown",
   "metadata": {},
   "source": [
    "#### Lowest ranked features"
   ]
  },
  {
   "cell_type": "code",
   "execution_count": 65,
   "metadata": {},
   "outputs": [
    {
     "name": "stdout",
     "output_type": "stream",
     "text": [
      "atmospheric\n",
      "library\n",
      "seen more than once\n",
      "Nudity (Topless - Brief)\n",
      "To See\n",
      "adapted from:book\n",
      "imdb top 250\n",
      "Can't remember\n",
      "classic\n",
      "Bibliothek\n",
      "National Film Registry\n",
      "Betamax\n",
      "movie to see\n",
      "Nudity (Topless)\n",
      "based on a book\n",
      "70mm\n",
      "R\n",
      "erlend's DVDs\n",
      "less than 300 ratings\n",
      "Tumey's DVDs\n"
     ]
    }
   ],
   "source": [
    "lowest_ranked_features = sorted_features[-20:]\n",
    "\n",
    "for feature_index in lowest_ranked_features:\n",
    "    print(feature_index_to_original_ID_dict[feature_index])    "
   ]
  },
  {
   "cell_type": "code",
   "execution_count": 66,
   "metadata": {},
   "outputs": [
    {
     "data": {
      "text/plain": [
       "<16528x16528 sparse matrix of type '<class 'numpy.float64'>'\n",
       "\twith 16528 stored elements (1 diagonals) in DIAgonal format>"
      ]
     },
     "execution_count": 66,
     "metadata": {},
     "output_type": "execute_result"
    }
   ],
   "source": [
    "from scipy.sparse import diags\n",
    "diags(IDF)"
   ]
  },
  {
   "cell_type": "code",
   "execution_count": 67,
   "metadata": {},
   "outputs": [],
   "source": [
    "ICM_idf = ICM_all.copy()\n",
    "\n",
    "ICM_idf = ICM_idf*diags(IDF)"
   ]
  },
  {
   "cell_type": "code",
   "execution_count": 73,
   "metadata": {
    "scrolled": true
   },
   "outputs": [
    {
     "name": "stdout",
     "output_type": "stream",
     "text": [
      "ItemKNNCBFRecommender: URM Detected 1689 ( 2.4%) users with no interactions.\n",
      "ItemKNNCBFRecommender: URM Detected 80 ( 0.7%) items with no interactions.\n",
      "ItemKNNCBFRecommender: ICM Detected 3080 (28.8%) items with no features.\n",
      "Similarity column 10681 (100.0%), 9129.90 column/sec. Elapsed time 1.17 sec\n",
      "EvaluatorHoldout: Processed 69789 (100.0%) in 1.05 min. Users per second: 1105\n"
     ]
    },
    {
     "data": {
      "text/html": [
       "<div>\n",
       "<style scoped>\n",
       "    .dataframe tbody tr th:only-of-type {\n",
       "        vertical-align: middle;\n",
       "    }\n",
       "\n",
       "    .dataframe tbody tr th {\n",
       "        vertical-align: top;\n",
       "    }\n",
       "\n",
       "    .dataframe thead th {\n",
       "        text-align: right;\n",
       "    }\n",
       "</style>\n",
       "<table border=\"1\" class=\"dataframe\">\n",
       "  <thead>\n",
       "    <tr style=\"text-align: right;\">\n",
       "      <th></th>\n",
       "      <th>PRECISION</th>\n",
       "      <th>PRECISION_RECALL_MIN_DEN</th>\n",
       "      <th>RECALL</th>\n",
       "      <th>MAP</th>\n",
       "      <th>MAP_MIN_DEN</th>\n",
       "      <th>MRR</th>\n",
       "      <th>NDCG</th>\n",
       "      <th>F1</th>\n",
       "      <th>HIT_RATE</th>\n",
       "      <th>ARHR_ALL_HITS</th>\n",
       "      <th>...</th>\n",
       "      <th>COVERAGE_USER</th>\n",
       "      <th>COVERAGE_USER_HIT</th>\n",
       "      <th>USERS_IN_GT</th>\n",
       "      <th>DIVERSITY_GINI</th>\n",
       "      <th>SHANNON_ENTROPY</th>\n",
       "      <th>RATIO_DIVERSITY_HERFINDAHL</th>\n",
       "      <th>RATIO_DIVERSITY_GINI</th>\n",
       "      <th>RATIO_SHANNON_ENTROPY</th>\n",
       "      <th>RATIO_AVERAGE_POPULARITY</th>\n",
       "      <th>RATIO_NOVELTY</th>\n",
       "    </tr>\n",
       "    <tr>\n",
       "      <th>cutoff</th>\n",
       "      <th></th>\n",
       "      <th></th>\n",
       "      <th></th>\n",
       "      <th></th>\n",
       "      <th></th>\n",
       "      <th></th>\n",
       "      <th></th>\n",
       "      <th></th>\n",
       "      <th></th>\n",
       "      <th></th>\n",
       "      <th></th>\n",
       "      <th></th>\n",
       "      <th></th>\n",
       "      <th></th>\n",
       "      <th></th>\n",
       "      <th></th>\n",
       "      <th></th>\n",
       "      <th></th>\n",
       "      <th></th>\n",
       "      <th></th>\n",
       "      <th></th>\n",
       "    </tr>\n",
       "  </thead>\n",
       "  <tbody>\n",
       "    <tr>\n",
       "      <th>10</th>\n",
       "      <td>0.064742</td>\n",
       "      <td>0.069683</td>\n",
       "      <td>0.031452</td>\n",
       "      <td>0.033322</td>\n",
       "      <td>0.035564</td>\n",
       "      <td>0.182676</td>\n",
       "      <td>0.062107</td>\n",
       "      <td>0.042336</td>\n",
       "      <td>0.358681</td>\n",
       "      <td>0.243835</td>\n",
       "      <td>...</td>\n",
       "      <td>0.975156</td>\n",
       "      <td>0.34977</td>\n",
       "      <td>0.975156</td>\n",
       "      <td>0.085601</td>\n",
       "      <td>9.98129</td>\n",
       "      <td>0.998241</td>\n",
       "      <td>0.439619</td>\n",
       "      <td>0.881349</td>\n",
       "      <td>0.516052</td>\n",
       "      <td>0.135776</td>\n",
       "    </tr>\n",
       "  </tbody>\n",
       "</table>\n",
       "<p>1 rows × 27 columns</p>\n",
       "</div>"
      ],
      "text/plain": [
       "       PRECISION PRECISION_RECALL_MIN_DEN    RECALL       MAP MAP_MIN_DEN  \\\n",
       "cutoff                                                                      \n",
       "10      0.064742                 0.069683  0.031452  0.033322    0.035564   \n",
       "\n",
       "             MRR      NDCG        F1  HIT_RATE ARHR_ALL_HITS  ...  \\\n",
       "cutoff                                                        ...   \n",
       "10      0.182676  0.062107  0.042336  0.358681      0.243835  ...   \n",
       "\n",
       "       COVERAGE_USER COVERAGE_USER_HIT USERS_IN_GT DIVERSITY_GINI  \\\n",
       "cutoff                                                              \n",
       "10          0.975156           0.34977    0.975156       0.085601   \n",
       "\n",
       "       SHANNON_ENTROPY RATIO_DIVERSITY_HERFINDAHL RATIO_DIVERSITY_GINI  \\\n",
       "cutoff                                                                   \n",
       "10             9.98129                   0.998241             0.439619   \n",
       "\n",
       "       RATIO_SHANNON_ENTROPY RATIO_AVERAGE_POPULARITY RATIO_NOVELTY  \n",
       "cutoff                                                               \n",
       "10                  0.881349                 0.516052      0.135776  \n",
       "\n",
       "[1 rows x 27 columns]"
      ]
     },
     "execution_count": 73,
     "metadata": {},
     "output_type": "execute_result"
    }
   ],
   "source": [
    "recommender_idf = ItemKNNCBFRecommender(URM_train, ICM_idf)\n",
    "recommender_idf.fit(shrink=0.0, topK=50)\n",
    "\n",
    "result_df, _ = evaluator_test.evaluateRecommender(recommender_idf)\n",
    "result_df"
   ]
  },
  {
   "cell_type": "markdown",
   "metadata": {},
   "source": [
    "#### Try other feature weighting methods like BM25..."
   ]
  },
  {
   "cell_type": "markdown",
   "metadata": {},
   "source": [
    "# BM25"
   ]
  },
  {
   "cell_type": "code",
   "execution_count": 69,
   "metadata": {},
   "outputs": [],
   "source": [
    "from Recommenders.IR_feature_weighting import okapi_BM_25\n",
    "\n",
    "ICM_BM25 = ICM_all.copy().astype(np.float32)\n",
    "ICM_BM25 = okapi_BM_25(ICM_BM25)\n",
    "ICM_BM25 = ICM_BM25.tocsr()"
   ]
  },
  {
   "cell_type": "code",
   "execution_count": 72,
   "metadata": {
    "scrolled": true
   },
   "outputs": [
    {
     "name": "stdout",
     "output_type": "stream",
     "text": [
      "ItemKNNCBFRecommender: URM Detected 1689 ( 2.4%) users with no interactions.\n",
      "ItemKNNCBFRecommender: URM Detected 80 ( 0.7%) items with no interactions.\n",
      "ItemKNNCBFRecommender: ICM Detected 3080 (28.8%) items with no features.\n",
      "Similarity column 10681 (100.0%), 9363.02 column/sec. Elapsed time 1.14 sec\n",
      "EvaluatorHoldout: Processed 69789 (100.0%) in 1.04 min. Users per second: 1122\n"
     ]
    },
    {
     "data": {
      "text/html": [
       "<div>\n",
       "<style scoped>\n",
       "    .dataframe tbody tr th:only-of-type {\n",
       "        vertical-align: middle;\n",
       "    }\n",
       "\n",
       "    .dataframe tbody tr th {\n",
       "        vertical-align: top;\n",
       "    }\n",
       "\n",
       "    .dataframe thead th {\n",
       "        text-align: right;\n",
       "    }\n",
       "</style>\n",
       "<table border=\"1\" class=\"dataframe\">\n",
       "  <thead>\n",
       "    <tr style=\"text-align: right;\">\n",
       "      <th></th>\n",
       "      <th>PRECISION</th>\n",
       "      <th>PRECISION_RECALL_MIN_DEN</th>\n",
       "      <th>RECALL</th>\n",
       "      <th>MAP</th>\n",
       "      <th>MAP_MIN_DEN</th>\n",
       "      <th>MRR</th>\n",
       "      <th>NDCG</th>\n",
       "      <th>F1</th>\n",
       "      <th>HIT_RATE</th>\n",
       "      <th>ARHR_ALL_HITS</th>\n",
       "      <th>...</th>\n",
       "      <th>COVERAGE_USER</th>\n",
       "      <th>COVERAGE_USER_HIT</th>\n",
       "      <th>USERS_IN_GT</th>\n",
       "      <th>DIVERSITY_GINI</th>\n",
       "      <th>SHANNON_ENTROPY</th>\n",
       "      <th>RATIO_DIVERSITY_HERFINDAHL</th>\n",
       "      <th>RATIO_DIVERSITY_GINI</th>\n",
       "      <th>RATIO_SHANNON_ENTROPY</th>\n",
       "      <th>RATIO_AVERAGE_POPULARITY</th>\n",
       "      <th>RATIO_NOVELTY</th>\n",
       "    </tr>\n",
       "    <tr>\n",
       "      <th>cutoff</th>\n",
       "      <th></th>\n",
       "      <th></th>\n",
       "      <th></th>\n",
       "      <th></th>\n",
       "      <th></th>\n",
       "      <th></th>\n",
       "      <th></th>\n",
       "      <th></th>\n",
       "      <th></th>\n",
       "      <th></th>\n",
       "      <th></th>\n",
       "      <th></th>\n",
       "      <th></th>\n",
       "      <th></th>\n",
       "      <th></th>\n",
       "      <th></th>\n",
       "      <th></th>\n",
       "      <th></th>\n",
       "      <th></th>\n",
       "      <th></th>\n",
       "      <th></th>\n",
       "    </tr>\n",
       "  </thead>\n",
       "  <tbody>\n",
       "    <tr>\n",
       "      <th>10</th>\n",
       "      <td>0.068469</td>\n",
       "      <td>0.073682</td>\n",
       "      <td>0.033191</td>\n",
       "      <td>0.035474</td>\n",
       "      <td>0.037843</td>\n",
       "      <td>0.191248</td>\n",
       "      <td>0.065695</td>\n",
       "      <td>0.044709</td>\n",
       "      <td>0.372695</td>\n",
       "      <td>0.25732</td>\n",
       "      <td>...</td>\n",
       "      <td>0.975156</td>\n",
       "      <td>0.363436</td>\n",
       "      <td>0.975156</td>\n",
       "      <td>0.084192</td>\n",
       "      <td>9.933947</td>\n",
       "      <td>0.998081</td>\n",
       "      <td>0.432383</td>\n",
       "      <td>0.877169</td>\n",
       "      <td>0.557014</td>\n",
       "      <td>0.134423</td>\n",
       "    </tr>\n",
       "  </tbody>\n",
       "</table>\n",
       "<p>1 rows × 27 columns</p>\n",
       "</div>"
      ],
      "text/plain": [
       "       PRECISION PRECISION_RECALL_MIN_DEN    RECALL       MAP MAP_MIN_DEN  \\\n",
       "cutoff                                                                      \n",
       "10      0.068469                 0.073682  0.033191  0.035474    0.037843   \n",
       "\n",
       "             MRR      NDCG        F1  HIT_RATE ARHR_ALL_HITS  ...  \\\n",
       "cutoff                                                        ...   \n",
       "10      0.191248  0.065695  0.044709  0.372695       0.25732  ...   \n",
       "\n",
       "       COVERAGE_USER COVERAGE_USER_HIT USERS_IN_GT DIVERSITY_GINI  \\\n",
       "cutoff                                                              \n",
       "10          0.975156          0.363436    0.975156       0.084192   \n",
       "\n",
       "       SHANNON_ENTROPY RATIO_DIVERSITY_HERFINDAHL RATIO_DIVERSITY_GINI  \\\n",
       "cutoff                                                                   \n",
       "10            9.933947                   0.998081             0.432383   \n",
       "\n",
       "       RATIO_SHANNON_ENTROPY RATIO_AVERAGE_POPULARITY RATIO_NOVELTY  \n",
       "cutoff                                                               \n",
       "10                  0.877169                 0.557014      0.134423  \n",
       "\n",
       "[1 rows x 27 columns]"
      ]
     },
     "execution_count": 72,
     "metadata": {},
     "output_type": "execute_result"
    }
   ],
   "source": [
    "recommender_bm25 = ItemKNNCBFRecommender(URM_train, ICM_BM25)\n",
    "recommender_bm25.fit(shrink=0.0, topK=50)\n",
    "\n",
    "result_df, _ = evaluator_test.evaluateRecommender(recommender_bm25)\n",
    "result_df"
   ]
  },
  {
   "cell_type": "markdown",
   "metadata": {},
   "source": [
    "#### A small gain over TF-IDF"
   ]
  },
  {
   "cell_type": "markdown",
   "metadata": {},
   "source": [
    "# Unnormalized similarity matrix"
   ]
  },
  {
   "cell_type": "code",
   "execution_count": 74,
   "metadata": {},
   "outputs": [
    {
     "name": "stdout",
     "output_type": "stream",
     "text": [
      "ItemKNNCBFRecommender: URM Detected 1689 ( 2.4%) users with no interactions.\n",
      "ItemKNNCBFRecommender: URM Detected 80 ( 0.7%) items with no interactions.\n",
      "ItemKNNCBFRecommender: ICM Detected 3080 (28.8%) items with no features.\n",
      "EvaluatorHoldout: Processed 69789 (100.0%) in 1.73 min. Users per second: 671\n"
     ]
    },
    {
     "data": {
      "text/html": [
       "<div>\n",
       "<style scoped>\n",
       "    .dataframe tbody tr th:only-of-type {\n",
       "        vertical-align: middle;\n",
       "    }\n",
       "\n",
       "    .dataframe tbody tr th {\n",
       "        vertical-align: top;\n",
       "    }\n",
       "\n",
       "    .dataframe thead th {\n",
       "        text-align: right;\n",
       "    }\n",
       "</style>\n",
       "<table border=\"1\" class=\"dataframe\">\n",
       "  <thead>\n",
       "    <tr style=\"text-align: right;\">\n",
       "      <th></th>\n",
       "      <th>PRECISION</th>\n",
       "      <th>PRECISION_RECALL_MIN_DEN</th>\n",
       "      <th>RECALL</th>\n",
       "      <th>MAP</th>\n",
       "      <th>MAP_MIN_DEN</th>\n",
       "      <th>MRR</th>\n",
       "      <th>NDCG</th>\n",
       "      <th>F1</th>\n",
       "      <th>HIT_RATE</th>\n",
       "      <th>ARHR_ALL_HITS</th>\n",
       "      <th>...</th>\n",
       "      <th>COVERAGE_USER</th>\n",
       "      <th>COVERAGE_USER_HIT</th>\n",
       "      <th>USERS_IN_GT</th>\n",
       "      <th>DIVERSITY_GINI</th>\n",
       "      <th>SHANNON_ENTROPY</th>\n",
       "      <th>RATIO_DIVERSITY_HERFINDAHL</th>\n",
       "      <th>RATIO_DIVERSITY_GINI</th>\n",
       "      <th>RATIO_SHANNON_ENTROPY</th>\n",
       "      <th>RATIO_AVERAGE_POPULARITY</th>\n",
       "      <th>RATIO_NOVELTY</th>\n",
       "    </tr>\n",
       "    <tr>\n",
       "      <th>cutoff</th>\n",
       "      <th></th>\n",
       "      <th></th>\n",
       "      <th></th>\n",
       "      <th></th>\n",
       "      <th></th>\n",
       "      <th></th>\n",
       "      <th></th>\n",
       "      <th></th>\n",
       "      <th></th>\n",
       "      <th></th>\n",
       "      <th></th>\n",
       "      <th></th>\n",
       "      <th></th>\n",
       "      <th></th>\n",
       "      <th></th>\n",
       "      <th></th>\n",
       "      <th></th>\n",
       "      <th></th>\n",
       "      <th></th>\n",
       "      <th></th>\n",
       "      <th></th>\n",
       "    </tr>\n",
       "  </thead>\n",
       "  <tbody>\n",
       "    <tr>\n",
       "      <th>10</th>\n",
       "      <td>0.123982</td>\n",
       "      <td>0.134618</td>\n",
       "      <td>0.060136</td>\n",
       "      <td>0.068801</td>\n",
       "      <td>0.073884</td>\n",
       "      <td>0.329426</td>\n",
       "      <td>0.130708</td>\n",
       "      <td>0.080989</td>\n",
       "      <td>0.585823</td>\n",
       "      <td>0.465249</td>\n",
       "      <td>...</td>\n",
       "      <td>0.975156</td>\n",
       "      <td>0.571269</td>\n",
       "      <td>0.975156</td>\n",
       "      <td>0.002443</td>\n",
       "      <td>5.048961</td>\n",
       "      <td>0.96073</td>\n",
       "      <td>0.012547</td>\n",
       "      <td>0.445824</td>\n",
       "      <td>2.075704</td>\n",
       "      <td>0.08983</td>\n",
       "    </tr>\n",
       "  </tbody>\n",
       "</table>\n",
       "<p>1 rows × 27 columns</p>\n",
       "</div>"
      ],
      "text/plain": [
       "       PRECISION PRECISION_RECALL_MIN_DEN    RECALL       MAP MAP_MIN_DEN  \\\n",
       "cutoff                                                                      \n",
       "10      0.123982                 0.134618  0.060136  0.068801    0.073884   \n",
       "\n",
       "             MRR      NDCG        F1  HIT_RATE ARHR_ALL_HITS  ...  \\\n",
       "cutoff                                                        ...   \n",
       "10      0.329426  0.130708  0.080989  0.585823      0.465249  ...   \n",
       "\n",
       "       COVERAGE_USER COVERAGE_USER_HIT USERS_IN_GT DIVERSITY_GINI  \\\n",
       "cutoff                                                              \n",
       "10          0.975156          0.571269    0.975156       0.002443   \n",
       "\n",
       "       SHANNON_ENTROPY RATIO_DIVERSITY_HERFINDAHL RATIO_DIVERSITY_GINI  \\\n",
       "cutoff                                                                   \n",
       "10            5.048961                    0.96073             0.012547   \n",
       "\n",
       "       RATIO_SHANNON_ENTROPY RATIO_AVERAGE_POPULARITY RATIO_NOVELTY  \n",
       "cutoff                                                               \n",
       "10                  0.445824                 2.075704       0.08983  \n",
       "\n",
       "[1 rows x 27 columns]"
      ]
     },
     "execution_count": 74,
     "metadata": {},
     "output_type": "execute_result"
    }
   ],
   "source": [
    "recommender_dot = ItemKNNCBFRecommender(URM_train, ICM_all)\n",
    "recommender_dot.W_sparse = ICM_all * ICM_all.T\n",
    "\n",
    "result_df, _ = evaluator_test.evaluateRecommender(recommender_dot)\n",
    "result_df"
   ]
  },
  {
   "cell_type": "code",
   "execution_count": null,
   "metadata": {},
   "outputs": [],
   "source": []
  }
 ],
 "metadata": {
  "anaconda-cloud": {},
  "kernelspec": {
   "display_name": "Python 3 (ipykernel)",
   "language": "python",
   "name": "python3"
  },
  "language_info": {
   "codemirror_mode": {
    "name": "ipython",
    "version": 3
   },
   "file_extension": ".py",
   "mimetype": "text/x-python",
   "name": "python",
   "nbconvert_exporter": "python",
   "pygments_lexer": "ipython3",
   "version": "3.8.16"
  }
 },
 "nbformat": 4,
 "nbformat_minor": 1
}
