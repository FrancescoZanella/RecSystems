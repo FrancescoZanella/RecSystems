{
 "cells": [
  {
   "cell_type": "markdown",
   "id": "df15c91c",
   "metadata": {},
   "source": [
    "# Recommender Systems 2023/24\n",
    "\n",
    "### Practice - Hyperparameter optimization with Optuna\n",
    "\n",
    "### Hyperparameter optimization is essential to achieve the best recommendation quality!!"
   ]
  },
  {
   "cell_type": "markdown",
   "id": "a1671106",
   "metadata": {},
   "source": [
    "## How does it work\n",
    "* Split the data in training, validation and test. Ensure that the distribution of the three sets is similar (e.g., the validation data you use should be split with the same approach used for the test data; if you know the test data contains cold items or users, ensure the validation data does too...)\n",
    "* Choose a recommender model, identify its hyperparameters and choose a value range and distribution for each.\n",
    "* Select a hyperparameter configuration and fit your model using the training data. Evaluate it using the validation data.\n",
    "* Repeat the previous step by exploring many possible hyperparameter configurations. Several exploration strategies are possible.\n",
    "* Select the hyperparameter configuration with the best recommendation quality on the validation data. Use that configuration to fit the model on the union of training and validation data. Evaluate the final model on the test data and report that result (or submit to the course challenge).\n",
    "\n",
    "Using directly or indirectly any information on the composition of the test data at any stage of the training or optimization process will result in *information leakage* and cause you to overestimate the quality of your model.\n",
    "\n",
    "\n",
    "\n",
    "## Hyperparameter optimization strategies\n",
    "\n",
    "### Grid-search\n",
    "For each hyperparameter define a list of possible values, then explore *all* possible combinations. For example, in a KNN using tversky similarity you could choose these values:\n",
    "* number of neighbors: [10, 50, 100, 150, 200, 250]\n",
    "* shrink term: [0, 10, 20, 50, 100]\n",
    "* alpha: [0.1, 0.3, 0.5, 0.7, 0.9, 1.1, 1.3, 1.5]\n",
    "* beta: [0.1, 0.3, 0.5, 0.7, 0.9, 1.1, 1.3, 1.5]\n",
    "\n",
    "You end up with *1920* possible hyperparameter configurations. Furthermore, you cannot easily fine-tune. Say that you found the optimal number of neighbors is 200, but in that area of the search space you were using a step of 50. What if there is an even better result at 215? You have to define a *new* hyperparameter range around the optimal one you found and use a smaller step, e.g., [180, 190, 200, 210, 220] and so on. \n",
    "\n",
    "Overall, grid-search is very sensitive to the range and distribution you choose, very rigid, and often unpractically slow due to how the number of cases grows combinatorially. It has been known for more than 20 years that it is generally a bad idea.\n",
    "\n",
    "### Random-search\n",
    "In a random search you define the range and distribution of possible values, and then you pick at random from it each hyperparameter configuration you explore.\n",
    "For example, in a KNN using tversky similarity you could choose these values:\n",
    "* number of neighbors: uniform random from 10 to 500\n",
    "* shrink term: uniform random from 0 to 500\n",
    "* alpha: uniform random from 0.1 to 1.5\n",
    "* beta: uniform random from 0.1 to 1.5\n",
    "\n",
    "It is very parallelizable and effective (definitely better than Grid-search).\n",
    "\n",
    "\n",
    "### Bayesian-search\n",
    "More advanced strategy that uses a gaussian process to try to model the interdependencies between hyperparameters based on how they affect the result. It contains a part of random search where the search space is explored, then a second part that uses the gaussian process to choose the next hyperparameter configuration. It combines exploration with exploitation. \n",
    "\n",
    "Bayesian-search is less parallelizable (the gaussian process is sequential) but has a good exploration-exploitation tradeoff. It is the strategy used in our research activity.\n",
    "\n",
    "\n",
    "### Other strategies\n",
    "There is no shortage of hyperparameter optimization strategies, for example the Tree-Structured Parzen Estimator with Optuna (in this notebook), as well as techniques that use previous optimization runs to attempt transfer learning between models and datasets. All those are beyond the scope of the course.\n",
    "\n",
    "\n",
    "\n",
    "### In the course repository you will find a BayesianSearch object in the HyperparameterTuning folder. That is a simple wrapper of another library and its purpose is to provide a very simple way to tune some of the most common hyperparameters. \n",
    "\n",
    "\n",
    "\n",
    "\n",
    "## Hyperparameter sensitivity\n",
    "\n",
    "One of the most important problems you encounter when doing hyperparameter tuning is how to select the range and distribution of the hyperparameters. There is no universal rule and some of those decisions are based on experience. Generally the suggestions we can give you are:\n",
    "* Keep the search space on the larger side, better have more room to manouver than less.\n",
    "* Hyperparameters like the number of neighbors, the shrink term, the number of latent dimensions of matrix factorization models etc. work well with a uniform random distribution\n",
    "* Hyperparameters like the learning rate and l1 l2 regularizations work better with a log-uniform distribution as the training tends to be affected by the orders of magnitude rather than the absolute values. You need to be able to explore maybe from 10^-9 to 10^-3, but is less important to choose the specific value.\n",
    "\n",
    "### In the course repository you will find a script called run_hyperparameter_search that contains a list of commonly used hyperparameters with the corresponding range and distribution.\n",
    "\n",
    "### Hint: If you see that the optimization yelds a hyperparameter that has a value at either end of the range (min or max) this may indicate that in that scenarion you need to expand the search space.\n",
    "\n",
    "\n",
    "\n",
    "## Early-stopping\n",
    "\n",
    "A special hyperparameter is the number of epochs you should train a machine learning model for.\n",
    "It is possible to put this number as a hyperparameter, but that is not a super-effective strategy. A common strategy is *early-stopping*. It works as follows:\n",
    "* Select a maximum number of epochs, say 500\n",
    "* Train the model for a certain number of epochs, say 5\n",
    "* Evaluate the recommendation quality of the model on the validation data. Create a clone of the model.\n",
    "* Continue training and evaluate the model periodically. Every time you find a better recommendation quality update the model clone, which will then represent the \"best\" model you have.\n",
    "* If the recommendation quality does not improve for a certain number of consecutive validation steps, say 5, stop the training. If you reach the maximum number of epochs, stop the training.\n",
    "* Use the \"best\" model clone to generate the recommendations on the validation data.\n",
    "* When you train the model on the union of training and validation data, use the optimal number of epochs selected by the early-stopping at the previous step.\n",
    "\n",
    "Usually early-stopping allows to save a lot of computational time and fine-tune the optimal number of epochs, unless the validation step takes a very large amount of time. In those cases, it can be better to either use early-stopping on the algorithm loss function (which is however a different problem then recommendation and does not guarantee you that the best absolute loss will correspond to the model with the best recommendation quality) or just select the number of epochs as any other hyperparameter.\n"
   ]
  },
  {
   "cell_type": "code",
   "execution_count": 1,
   "id": "ed77104e",
   "metadata": {},
   "outputs": [
    {
     "name": "stdout",
     "output_type": "stream",
     "text": [
      "Movielens1M: Verifying data consistency...\n",
      "Movielens1M: Verifying data consistency... Passed!\n",
      "DataReader: current dataset is: Movielens1M\n",
      "\tNumber of items: 3883\n",
      "\tNumber of users: 6040\n",
      "\tNumber of interactions in URM_all: 1000209\n",
      "\tValue range in URM_all: 1.00-5.00\n",
      "\tInteraction density: 4.26E-02\n",
      "\tInteractions per user:\n",
      "\t\t Min: 2.00E+01\n",
      "\t\t Avg: 1.66E+02\n",
      "\t\t Max: 2.31E+03\n",
      "\tInteractions per item:\n",
      "\t\t Min: 0.00E+00\n",
      "\t\t Avg: 2.58E+02\n",
      "\t\t Max: 3.43E+03\n",
      "\tGini Index: 0.53\n",
      "\n",
      "\tICM name: ICM_genres, Value range: 1.00 / 1.00, Num features: 18, feature occurrences: 6408, density 9.17E-02\n",
      "\tICM name: ICM_year, Value range: 1.92E+03 / 2.00E+03, Num features: 1, feature occurrences: 3883, density 1.00E+00\n",
      "\n",
      "\n",
      "\tUCM name: UCM_all, Value range: 1.00 / 1.00, Num features: 3469, feature occurrences: 24160, density 1.15E-03\n"
     ]
    }
   ],
   "source": [
    "from Data_manager.split_functions.split_train_validation_random_holdout import split_train_in_two_percentage_global_sample\n",
    "from Data_manager.Movielens.Movielens1MReader import Movielens1MReader\n",
    "\n",
    "data_reader = Movielens1MReader()\n",
    "data_loaded = data_reader.load_data()\n",
    "\n",
    "URM_all = data_loaded.get_URM_all()\n",
    "ICM_all = data_loaded.get_ICM_from_name(\"ICM_genres\")"
   ]
  },
  {
   "cell_type": "markdown",
   "id": "2f991540",
   "metadata": {},
   "source": [
    "### How do we perform hyperparameter optimization?\n",
    "* Split the data in three *disjoint* sets: training, validation and testing data\n",
    "* Define a set of hyperparameters with the range and distribution\n",
    "* Explore hyperparameter space and select those with the best recommendation quality on the *validation* data (including the number of epochs for ML algorithms)\n",
    "* Given the best hyperparameters, fit the model again using the union of training and validation data.\n",
    "* Evaluate this last model on the testing data."
   ]
  },
  {
   "cell_type": "markdown",
   "id": "1dda399e",
   "metadata": {},
   "source": [
    "### Step 1: Split the data and create the evaluator objects"
   ]
  },
  {
   "cell_type": "code",
   "execution_count": 2,
   "id": "8b8f0249",
   "metadata": {},
   "outputs": [
    {
     "name": "stdout",
     "output_type": "stream",
     "text": [
      "Warning: 4 (0.07 %) of 6040 users have no sampled items\n",
      "Warning: 18 (0.30 %) of 6040 users have no sampled items\n",
      "EvaluatorHoldout: Ignoring 18 ( 0.3%) Users that have less than 1 test interactions\n",
      "EvaluatorHoldout: Ignoring 4 ( 0.1%) Users that have less than 1 test interactions\n"
     ]
    }
   ],
   "source": [
    "from Evaluation.Evaluator import EvaluatorHoldout\n",
    "\n",
    "URM_train_validation, URM_test = split_train_in_two_percentage_global_sample(URM_all, train_percentage = 0.8)\n",
    "URM_train, URM_validation = split_train_in_two_percentage_global_sample(URM_train_validation, train_percentage = 0.8)\n",
    "\n",
    "evaluator_validation = EvaluatorHoldout(URM_validation, cutoff_list=[10])\n",
    "evaluator_test = EvaluatorHoldout(URM_test, cutoff_list=[10])"
   ]
  },
  {
   "cell_type": "markdown",
   "id": "377e77d9",
   "metadata": {},
   "source": [
    "### Step 2: Define the objective function that will be run by the optimizer\n",
    "\n",
    "The obective function should:\n",
    "* Use the optuna trial instance to acquire the hyperparameter values required\n",
    "* Fit the model\n",
    "* Evaluate on the validation and return the result of a desired metric"
   ]
  },
  {
   "cell_type": "code",
   "execution_count": 3,
   "id": "7b8ffbac",
   "metadata": {},
   "outputs": [],
   "source": [
    "import optuna\n",
    "import pandas as pd\n",
    "from Recommenders.KNN.ItemKNNCFRecommender import ItemKNNCFRecommender\n",
    "\n",
    "def objective_function(optuna_trial):\n",
    "    \n",
    "    recommender_instance = ItemKNNCFRecommender(URM_train)\n",
    "    recommender_instance.fit(topK = optuna_trial.suggest_int(\"topK\", 5, 1000),\n",
    "                             shrink = optuna_trial.suggest_int(\"shrink\", 0, 1000),\n",
    "                             similarity = \"cosine\",\n",
    "                             normalize = optuna_trial.suggest_categorical(\"normalize\", [True, False])\n",
    "                            )\n",
    "    \n",
    "    result_df, _ = evaluator_validation.evaluateRecommender(recommender_instance)\n",
    "    \n",
    "    return result_df.loc[10][\"MAP\"]"
   ]
  },
  {
   "cell_type": "markdown",
   "id": "b93fb496",
   "metadata": {},
   "source": [
    "### Step 3: Create an object/function that will be called after every call of the objective function to log the results in a dataframe for easier readability"
   ]
  },
  {
   "cell_type": "code",
   "execution_count": 4,
   "id": "af3895dc",
   "metadata": {},
   "outputs": [],
   "source": [
    "class SaveResults(object):\n",
    "    \n",
    "    def __init__(self):\n",
    "        self.results_df = pd.DataFrame()\n",
    "    \n",
    "    def __call__(self, optuna_study, optuna_trial):\n",
    "        hyperparam_dict = optuna_trial.params.copy()\n",
    "        hyperparam_dict[\"result\"] = optuna_trial.values[0]\n",
    "        \n",
    "        self.results_df = self.results_df.append(hyperparam_dict, ignore_index=True)"
   ]
  },
  {
   "cell_type": "markdown",
   "id": "f2012bef",
   "metadata": {},
   "source": [
    "### Step 4: Create an optuna Study and run"
   ]
  },
  {
   "cell_type": "code",
   "execution_count": 5,
   "id": "795150ca",
   "metadata": {},
   "outputs": [
    {
     "name": "stderr",
     "output_type": "stream",
     "text": [
      "[I 2023-11-23 12:35:34,503] A new study created in memory with name: no-name-b3885cb4-b6a0-49a6-8a67-fb9cb8aba7b7\n"
     ]
    },
    {
     "name": "stdout",
     "output_type": "stream",
     "text": [
      "ItemKNNCFRecommender: URM Detected 226 ( 5.8%) items with no interactions.\n",
      "Similarity column 3883 (100.0%), 3362.37 column/sec. Elapsed time 1.15 sec\n",
      "EvaluatorHoldout: Processed 6022 (100.0%) in 5.85 sec. Users per second: 1030\n"
     ]
    },
    {
     "name": "stderr",
     "output_type": "stream",
     "text": [
      "[I 2023-11-23 12:35:41,693] Trial 0 finished with value: 0.10099880464750927 and parameters: {'topK': 718, 'shrink': 179, 'normalize': True}. Best is trial 0 with value: 0.10099880464750927.\n"
     ]
    },
    {
     "name": "stdout",
     "output_type": "stream",
     "text": [
      "ItemKNNCFRecommender: URM Detected 226 ( 5.8%) items with no interactions.\n",
      "Similarity column 3883 (100.0%), 3716.29 column/sec. Elapsed time 1.04 sec\n",
      "EvaluatorHoldout: Processed 6022 (100.0%) in 5.81 sec. Users per second: 1036\n"
     ]
    },
    {
     "name": "stderr",
     "output_type": "stream",
     "text": [
      "[I 2023-11-23 12:35:48,669] Trial 1 finished with value: 0.07348513782796438 and parameters: {'topK': 373, 'shrink': 77, 'normalize': False}. Best is trial 0 with value: 0.10099880464750927.\n"
     ]
    },
    {
     "name": "stdout",
     "output_type": "stream",
     "text": [
      "ItemKNNCFRecommender: URM Detected 226 ( 5.8%) items with no interactions.\n",
      "Similarity column 3883 (100.0%), 3745.95 column/sec. Elapsed time 1.04 sec\n",
      "EvaluatorHoldout: Processed 6022 (100.0%) in 6.75 sec. Users per second: 892\n"
     ]
    },
    {
     "name": "stderr",
     "output_type": "stream",
     "text": [
      "[I 2023-11-23 12:35:56,589] Trial 2 finished with value: 0.07207271749616516 and parameters: {'topK': 513, 'shrink': 441, 'normalize': False}. Best is trial 0 with value: 0.10099880464750927.\n"
     ]
    },
    {
     "name": "stdout",
     "output_type": "stream",
     "text": [
      "ItemKNNCFRecommender: URM Detected 226 ( 5.8%) items with no interactions.\n",
      "Similarity column 3883 (100.0%), 2778.61 column/sec. Elapsed time 1.40 sec\n",
      "EvaluatorHoldout: Processed 6022 (100.0%) in 4.21 sec. Users per second: 1431\n"
     ]
    },
    {
     "name": "stderr",
     "output_type": "stream",
     "text": [
      "[I 2023-11-23 12:36:02,261] Trial 3 finished with value: 0.09709623575988566 and parameters: {'topK': 33, 'shrink': 654, 'normalize': True}. Best is trial 0 with value: 0.10099880464750927.\n"
     ]
    },
    {
     "name": "stdout",
     "output_type": "stream",
     "text": [
      "ItemKNNCFRecommender: URM Detected 226 ( 5.8%) items with no interactions.\n",
      "Similarity column 3883 (100.0%), 3801.73 column/sec. Elapsed time 1.02 sec\n",
      "EvaluatorHoldout: Processed 6022 (100.0%) in 5.32 sec. Users per second: 1133\n"
     ]
    },
    {
     "name": "stderr",
     "output_type": "stream",
     "text": [
      "[I 2023-11-23 12:36:08,707] Trial 4 finished with value: 0.07644377362369745 and parameters: {'topK': 198, 'shrink': 571, 'normalize': False}. Best is trial 0 with value: 0.10099880464750927.\n"
     ]
    },
    {
     "name": "stdout",
     "output_type": "stream",
     "text": [
      "ItemKNNCFRecommender: URM Detected 226 ( 5.8%) items with no interactions.\n",
      "Similarity column 3883 (100.0%), 3775.19 column/sec. Elapsed time 1.03 sec\n",
      "EvaluatorHoldout: Processed 6022 (100.0%) in 5.55 sec. Users per second: 1085\n"
     ]
    },
    {
     "name": "stderr",
     "output_type": "stream",
     "text": [
      "[I 2023-11-23 12:36:15,403] Trial 5 finished with value: 0.07327552281844889 and parameters: {'topK': 396, 'shrink': 741, 'normalize': False}. Best is trial 0 with value: 0.10099880464750927.\n"
     ]
    },
    {
     "name": "stdout",
     "output_type": "stream",
     "text": [
      "ItemKNNCFRecommender: URM Detected 226 ( 5.8%) items with no interactions.\n",
      "Similarity column 3883 (100.0%), 3704.01 column/sec. Elapsed time 1.05 sec\n",
      "EvaluatorHoldout: Processed 6022 (100.0%) in 6.44 sec. Users per second: 935\n"
     ]
    },
    {
     "name": "stderr",
     "output_type": "stream",
     "text": [
      "[I 2023-11-23 12:36:23,044] Trial 6 finished with value: 0.07216428650503749 and parameters: {'topK': 525, 'shrink': 263, 'normalize': False}. Best is trial 0 with value: 0.10099880464750927.\n"
     ]
    },
    {
     "name": "stdout",
     "output_type": "stream",
     "text": [
      "ItemKNNCFRecommender: URM Detected 226 ( 5.8%) items with no interactions.\n",
      "Similarity column 3883 (100.0%), 4142.91 column/sec. Elapsed time 0.94 sec\n",
      "EvaluatorHoldout: Processed 6022 (100.0%) in 4.92 sec. Users per second: 1225\n"
     ]
    },
    {
     "name": "stderr",
     "output_type": "stream",
     "text": [
      "[I 2023-11-23 12:36:28,998] Trial 7 finished with value: 0.07500753849641302 and parameters: {'topK': 273, 'shrink': 596, 'normalize': False}. Best is trial 0 with value: 0.10099880464750927.\n"
     ]
    },
    {
     "name": "stdout",
     "output_type": "stream",
     "text": [
      "ItemKNNCFRecommender: URM Detected 226 ( 5.8%) items with no interactions.\n",
      "Similarity column 3883 (100.0%), 4160.45 column/sec. Elapsed time 0.93 sec\n",
      "EvaluatorHoldout: Processed 6022 (100.0%) in 5.67 sec. Users per second: 1062\n"
     ]
    },
    {
     "name": "stderr",
     "output_type": "stream",
     "text": [
      "[I 2023-11-23 12:36:35,765] Trial 8 finished with value: 0.09857990279029781 and parameters: {'topK': 927, 'shrink': 379, 'normalize': True}. Best is trial 0 with value: 0.10099880464750927.\n"
     ]
    },
    {
     "name": "stdout",
     "output_type": "stream",
     "text": [
      "ItemKNNCFRecommender: URM Detected 226 ( 5.8%) items with no interactions.\n",
      "Similarity column 3883 (100.0%), 4239.89 column/sec. Elapsed time 0.92 sec\n",
      "EvaluatorHoldout: Processed 6022 (100.0%) in 4.84 sec. Users per second: 1244\n"
     ]
    },
    {
     "name": "stderr",
     "output_type": "stream",
     "text": [
      "[I 2023-11-23 12:36:41,634] Trial 9 finished with value: 0.07445833531021197 and parameters: {'topK': 316, 'shrink': 374, 'normalize': False}. Best is trial 0 with value: 0.10099880464750927.\n"
     ]
    },
    {
     "name": "stdout",
     "output_type": "stream",
     "text": [
      "ItemKNNCFRecommender: URM Detected 226 ( 5.8%) items with no interactions.\n",
      "Similarity column 3883 (100.0%), 4088.47 column/sec. Elapsed time 0.95 sec\n",
      "EvaluatorHoldout: Processed 6022 (100.0%) in 5.48 sec. Users per second: 1098\n"
     ]
    },
    {
     "name": "stderr",
     "output_type": "stream",
     "text": [
      "[I 2023-11-23 12:36:48,270] Trial 10 finished with value: 0.09823350097262415 and parameters: {'topK': 806, 'shrink': 902, 'normalize': True}. Best is trial 0 with value: 0.10099880464750927.\n"
     ]
    },
    {
     "name": "stdout",
     "output_type": "stream",
     "text": [
      "ItemKNNCFRecommender: URM Detected 226 ( 5.8%) items with no interactions.\n",
      "Similarity column 3883 (100.0%), 4315.53 column/sec. Elapsed time 0.90 sec\n",
      "EvaluatorHoldout: Processed 6022 (100.0%) in 6.20 sec. Users per second: 971\n"
     ]
    },
    {
     "name": "stderr",
     "output_type": "stream",
     "text": [
      "[I 2023-11-23 12:36:55,588] Trial 11 finished with value: 0.09945438814294688 and parameters: {'topK': 918, 'shrink': 127, 'normalize': True}. Best is trial 0 with value: 0.10099880464750927.\n"
     ]
    },
    {
     "name": "stdout",
     "output_type": "stream",
     "text": [
      "ItemKNNCFRecommender: URM Detected 226 ( 5.8%) items with no interactions.\n",
      "Similarity column 3883 (100.0%), 2743.17 column/sec. Elapsed time 1.42 sec\n",
      "EvaluatorHoldout: Processed 6022 (100.0%) in 7.27 sec. Users per second: 828\n"
     ]
    },
    {
     "name": "stderr",
     "output_type": "stream",
     "text": [
      "[I 2023-11-23 12:37:04,478] Trial 12 finished with value: 0.10108307897497507 and parameters: {'topK': 723, 'shrink': 32, 'normalize': True}. Best is trial 12 with value: 0.10108307897497507.\n"
     ]
    },
    {
     "name": "stdout",
     "output_type": "stream",
     "text": [
      "ItemKNNCFRecommender: URM Detected 226 ( 5.8%) items with no interactions.\n",
      "Similarity column 3883 (100.0%), 4045.75 column/sec. Elapsed time 0.96 sec\n",
      "EvaluatorHoldout: Processed 6022 (100.0%) in 7.14 sec. Users per second: 844\n"
     ]
    },
    {
     "name": "stderr",
     "output_type": "stream",
     "text": [
      "[I 2023-11-23 12:37:12,773] Trial 13 finished with value: 0.10102872799734292 and parameters: {'topK': 724, 'shrink': 5, 'normalize': True}. Best is trial 12 with value: 0.10108307897497507.\n"
     ]
    },
    {
     "name": "stdout",
     "output_type": "stream",
     "text": [
      "ItemKNNCFRecommender: URM Detected 226 ( 5.8%) items with no interactions.\n",
      "Similarity column 3883 (100.0%), 2630.07 column/sec. Elapsed time 1.48 sec\n",
      "EvaluatorHoldout: Processed 6022 (100.0%) in 6.83 sec. Users per second: 882\n"
     ]
    },
    {
     "name": "stderr",
     "output_type": "stream",
     "text": [
      "[I 2023-11-23 12:37:21,300] Trial 14 finished with value: 0.1010395019847859 and parameters: {'topK': 664, 'shrink': 21, 'normalize': True}. Best is trial 12 with value: 0.10108307897497507.\n"
     ]
    },
    {
     "name": "stdout",
     "output_type": "stream",
     "text": [
      "ItemKNNCFRecommender: URM Detected 226 ( 5.8%) items with no interactions.\n",
      "Similarity column 3883 (100.0%), 2558.86 column/sec. Elapsed time 1.52 sec\n",
      "EvaluatorHoldout: Processed 6022 (100.0%) in 7.00 sec. Users per second: 860\n"
     ]
    },
    {
     "name": "stderr",
     "output_type": "stream",
     "text": [
      "[I 2023-11-23 12:37:30,013] Trial 15 finished with value: 0.10164785337360864 and parameters: {'topK': 595, 'shrink': 248, 'normalize': True}. Best is trial 15 with value: 0.10164785337360864.\n"
     ]
    },
    {
     "name": "stdout",
     "output_type": "stream",
     "text": [
      "ItemKNNCFRecommender: URM Detected 226 ( 5.8%) items with no interactions.\n",
      "Similarity column 3883 (100.0%), 4469.09 column/sec. Elapsed time 0.87 sec\n",
      "EvaluatorHoldout: Processed 6022 (100.0%) in 7.42 sec. Users per second: 812\n"
     ]
    },
    {
     "name": "stderr",
     "output_type": "stream",
     "text": [
      "[I 2023-11-23 12:37:38,472] Trial 16 finished with value: 0.1017875857306276 and parameters: {'topK': 561, 'shrink': 248, 'normalize': True}. Best is trial 16 with value: 0.1017875857306276.\n"
     ]
    },
    {
     "name": "stdout",
     "output_type": "stream",
     "text": [
      "ItemKNNCFRecommender: URM Detected 226 ( 5.8%) items with no interactions.\n",
      "Similarity column 3883 (100.0%), 2701.91 column/sec. Elapsed time 1.44 sec\n",
      "EvaluatorHoldout: Processed 6022 (100.0%) in 6.77 sec. Users per second: 889\n"
     ]
    },
    {
     "name": "stderr",
     "output_type": "stream",
     "text": [
      "[I 2023-11-23 12:37:46,872] Trial 17 finished with value: 0.10161313938837961 and parameters: {'topK': 591, 'shrink': 252, 'normalize': True}. Best is trial 16 with value: 0.1017875857306276.\n"
     ]
    },
    {
     "name": "stdout",
     "output_type": "stream",
     "text": [
      "ItemKNNCFRecommender: URM Detected 226 ( 5.8%) items with no interactions.\n",
      "Similarity column 3883 (100.0%), 2810.52 column/sec. Elapsed time 1.38 sec\n",
      "EvaluatorHoldout: Processed 6022 (100.0%) in 6.89 sec. Users per second: 874\n"
     ]
    },
    {
     "name": "stderr",
     "output_type": "stream",
     "text": [
      "[I 2023-11-23 12:37:55,313] Trial 18 finished with value: 0.10198381068357777 and parameters: {'topK': 475, 'shrink': 264, 'normalize': True}. Best is trial 18 with value: 0.10198381068357777.\n"
     ]
    },
    {
     "name": "stdout",
     "output_type": "stream",
     "text": [
      "ItemKNNCFRecommender: URM Detected 226 ( 5.8%) items with no interactions.\n",
      "Similarity column 3883 (100.0%), 4210.53 column/sec. Elapsed time 0.92 sec\n",
      "EvaluatorHoldout: Processed 6022 (100.0%) in 5.90 sec. Users per second: 1021\n"
     ]
    },
    {
     "name": "stderr",
     "output_type": "stream",
     "text": [
      "[I 2023-11-23 12:38:02,257] Trial 19 finished with value: 0.10328802327971996 and parameters: {'topK': 140, 'shrink': 341, 'normalize': True}. Best is trial 19 with value: 0.10328802327971996.\n"
     ]
    },
    {
     "name": "stdout",
     "output_type": "stream",
     "text": [
      "ItemKNNCFRecommender: URM Detected 226 ( 5.8%) items with no interactions.\n",
      "Similarity column 3883 (100.0%), 2604.29 column/sec. Elapsed time 1.49 sec\n",
      "EvaluatorHoldout: Processed 6022 (100.0%) in 5.16 sec. Users per second: 1168\n"
     ]
    },
    {
     "name": "stderr",
     "output_type": "stream",
     "text": [
      "[I 2023-11-23 12:38:09,025] Trial 20 finished with value: 0.09993241711607671 and parameters: {'topK': 57, 'shrink': 494, 'normalize': True}. Best is trial 19 with value: 0.10328802327971996.\n"
     ]
    },
    {
     "name": "stdout",
     "output_type": "stream",
     "text": [
      "ItemKNNCFRecommender: URM Detected 226 ( 5.8%) items with no interactions.\n",
      "Similarity column 3883 (100.0%), 2861.45 column/sec. Elapsed time 1.36 sec\n",
      "EvaluatorHoldout: Processed 6022 (100.0%) in 5.54 sec. Users per second: 1088\n"
     ]
    },
    {
     "name": "stderr",
     "output_type": "stream",
     "text": [
      "[I 2023-11-23 12:38:16,047] Trial 21 finished with value: 0.10346675944816065 and parameters: {'topK': 147, 'shrink': 344, 'normalize': True}. Best is trial 21 with value: 0.10346675944816065.\n"
     ]
    },
    {
     "name": "stdout",
     "output_type": "stream",
     "text": [
      "ItemKNNCFRecommender: URM Detected 226 ( 5.8%) items with no interactions.\n",
      "Similarity column 3883 (100.0%), 2991.57 column/sec. Elapsed time 1.30 sec\n",
      "EvaluatorHoldout: Processed 6022 (100.0%) in 5.93 sec. Users per second: 1016\n"
     ]
    },
    {
     "name": "stderr",
     "output_type": "stream",
     "text": [
      "[I 2023-11-23 12:38:23,380] Trial 22 finished with value: 0.10412206828928809 and parameters: {'topK': 170, 'shrink': 360, 'normalize': True}. Best is trial 22 with value: 0.10412206828928809.\n"
     ]
    },
    {
     "name": "stdout",
     "output_type": "stream",
     "text": [
      "ItemKNNCFRecommender: URM Detected 226 ( 5.8%) items with no interactions.\n",
      "Similarity column 3883 (100.0%), 2636.96 column/sec. Elapsed time 1.47 sec\n",
      "EvaluatorHoldout: Processed 6022 (100.0%) in 5.65 sec. Users per second: 1066\n"
     ]
    },
    {
     "name": "stderr",
     "output_type": "stream",
     "text": [
      "[I 2023-11-23 12:38:30,626] Trial 23 finished with value: 0.10339692292282766 and parameters: {'topK': 147, 'shrink': 399, 'normalize': True}. Best is trial 22 with value: 0.10412206828928809.\n"
     ]
    },
    {
     "name": "stdout",
     "output_type": "stream",
     "text": [
      "ItemKNNCFRecommender: URM Detected 226 ( 5.8%) items with no interactions.\n",
      "Similarity column 3883 (100.0%), 4723.39 column/sec. Elapsed time 0.82 sec\n",
      "EvaluatorHoldout: Processed 6022 (100.0%) in 5.85 sec. Users per second: 1029\n"
     ]
    },
    {
     "name": "stderr",
     "output_type": "stream",
     "text": [
      "[I 2023-11-23 12:38:37,422] Trial 24 finished with value: 0.10357901319500393 and parameters: {'topK': 145, 'shrink': 404, 'normalize': True}. Best is trial 22 with value: 0.10412206828928809.\n"
     ]
    },
    {
     "name": "stdout",
     "output_type": "stream",
     "text": [
      "ItemKNNCFRecommender: URM Detected 226 ( 5.8%) items with no interactions.\n",
      "Similarity column 3883 (100.0%), 2688.05 column/sec. Elapsed time 1.44 sec\n",
      "EvaluatorHoldout: Processed 6022 (100.0%) in 6.12 sec. Users per second: 984\n"
     ]
    },
    {
     "name": "stderr",
     "output_type": "stream",
     "text": [
      "[I 2023-11-23 12:38:45,121] Trial 25 finished with value: 0.10406011950889021 and parameters: {'topK': 209, 'shrink': 509, 'normalize': True}. Best is trial 22 with value: 0.10412206828928809.\n"
     ]
    },
    {
     "name": "stdout",
     "output_type": "stream",
     "text": [
      "ItemKNNCFRecommender: URM Detected 226 ( 5.8%) items with no interactions.\n",
      "Similarity column 3883 (100.0%), 3550.33 column/sec. Elapsed time 1.09 sec\n",
      "EvaluatorHoldout: Processed 6022 (100.0%) in 5.71 sec. Users per second: 1055\n"
     ]
    },
    {
     "name": "stderr",
     "output_type": "stream",
     "text": [
      "[I 2023-11-23 12:38:52,056] Trial 26 finished with value: 0.10474496291376036 and parameters: {'topK': 248, 'shrink': 739, 'normalize': True}. Best is trial 26 with value: 0.10474496291376036.\n"
     ]
    },
    {
     "name": "stdout",
     "output_type": "stream",
     "text": [
      "ItemKNNCFRecommender: URM Detected 226 ( 5.8%) items with no interactions.\n",
      "Similarity column 3883 (100.0%), 2769.87 column/sec. Elapsed time 1.40 sec\n",
      "EvaluatorHoldout: Processed 6022 (100.0%) in 6.52 sec. Users per second: 924\n"
     ]
    },
    {
     "name": "stderr",
     "output_type": "stream",
     "text": [
      "[I 2023-11-23 12:39:00,118] Trial 27 finished with value: 0.10407235638637113 and parameters: {'topK': 264, 'shrink': 816, 'normalize': True}. Best is trial 26 with value: 0.10474496291376036.\n"
     ]
    },
    {
     "name": "stdout",
     "output_type": "stream",
     "text": [
      "ItemKNNCFRecommender: URM Detected 226 ( 5.8%) items with no interactions.\n",
      "Similarity column 3883 (100.0%), 3339.55 column/sec. Elapsed time 1.16 sec\n",
      "EvaluatorHoldout: Processed 6022 (100.0%) in 6.30 sec. Users per second: 956\n"
     ]
    },
    {
     "name": "stderr",
     "output_type": "stream",
     "text": [
      "[I 2023-11-23 12:39:07,728] Trial 28 finished with value: 0.10432386803941067 and parameters: {'topK': 294, 'shrink': 981, 'normalize': True}. Best is trial 26 with value: 0.10474496291376036.\n"
     ]
    },
    {
     "name": "stdout",
     "output_type": "stream",
     "text": [
      "ItemKNNCFRecommender: URM Detected 226 ( 5.8%) items with no interactions.\n",
      "Similarity column 3883 (100.0%), 2653.24 column/sec. Elapsed time 1.46 sec\n",
      "EvaluatorHoldout: Processed 6022 (100.0%) in 6.89 sec. Users per second: 874\n"
     ]
    },
    {
     "name": "stderr",
     "output_type": "stream",
     "text": [
      "[I 2023-11-23 12:39:16,243] Trial 29 finished with value: 0.10352413504979074 and parameters: {'topK': 395, 'shrink': 904, 'normalize': True}. Best is trial 26 with value: 0.10474496291376036.\n"
     ]
    },
    {
     "name": "stdout",
     "output_type": "stream",
     "text": [
      "ItemKNNCFRecommender: URM Detected 226 ( 5.8%) items with no interactions.\n",
      "Similarity column 3883 (100.0%), 3961.77 column/sec. Elapsed time 0.98 sec\n",
      "EvaluatorHoldout: Processed 6022 (100.0%) in 6.76 sec. Users per second: 891\n"
     ]
    },
    {
     "name": "stderr",
     "output_type": "stream",
     "text": [
      "[I 2023-11-23 12:39:24,121] Trial 30 finished with value: 0.10358859446579438 and parameters: {'topK': 330, 'shrink': 804, 'normalize': True}. Best is trial 26 with value: 0.10474496291376036.\n"
     ]
    },
    {
     "name": "stdout",
     "output_type": "stream",
     "text": [
      "ItemKNNCFRecommender: URM Detected 226 ( 5.8%) items with no interactions.\n",
      "Similarity column 3883 (100.0%), 2779.08 column/sec. Elapsed time 1.40 sec\n",
      "EvaluatorHoldout: Processed 6022 (100.0%) in 5.94 sec. Users per second: 1014\n"
     ]
    },
    {
     "name": "stderr",
     "output_type": "stream",
     "text": [
      "[I 2023-11-23 12:39:31,591] Trial 31 finished with value: 0.10452099576684393 and parameters: {'topK': 230, 'shrink': 990, 'normalize': True}. Best is trial 26 with value: 0.10474496291376036.\n"
     ]
    },
    {
     "name": "stdout",
     "output_type": "stream",
     "text": [
      "ItemKNNCFRecommender: URM Detected 226 ( 5.8%) items with no interactions.\n",
      "Similarity column 3883 (100.0%), 3729.87 column/sec. Elapsed time 1.04 sec\n",
      "EvaluatorHoldout: Processed 6022 (100.0%) in 5.70 sec. Users per second: 1056\n"
     ]
    },
    {
     "name": "stderr",
     "output_type": "stream",
     "text": [
      "[I 2023-11-23 12:39:38,438] Trial 32 finished with value: 0.10142214657367396 and parameters: {'topK': 81, 'shrink': 998, 'normalize': True}. Best is trial 26 with value: 0.10474496291376036.\n"
     ]
    },
    {
     "name": "stdout",
     "output_type": "stream",
     "text": [
      "ItemKNNCFRecommender: URM Detected 226 ( 5.8%) items with no interactions.\n",
      "Similarity column 3883 (100.0%), 2657.20 column/sec. Elapsed time 1.46 sec\n",
      "EvaluatorHoldout: Processed 6022 (100.0%) in 6.23 sec. Users per second: 967\n"
     ]
    },
    {
     "name": "stderr",
     "output_type": "stream",
     "text": [
      "[I 2023-11-23 12:39:46,275] Trial 33 finished with value: 0.10476654383662004 and parameters: {'topK': 226, 'shrink': 968, 'normalize': True}. Best is trial 33 with value: 0.10476654383662004.\n"
     ]
    },
    {
     "name": "stdout",
     "output_type": "stream",
     "text": [
      "ItemKNNCFRecommender: URM Detected 226 ( 5.8%) items with no interactions.\n",
      "Similarity column 3883 (100.0%), 4440.39 column/sec. Elapsed time 0.87 sec\n",
      "EvaluatorHoldout: Processed 6022 (100.0%) in 6.11 sec. Users per second: 986\n"
     ]
    },
    {
     "name": "stderr",
     "output_type": "stream",
     "text": [
      "[I 2023-11-23 12:39:53,389] Trial 34 finished with value: 0.10477512348900538 and parameters: {'topK': 242, 'shrink': 991, 'normalize': True}. Best is trial 34 with value: 0.10477512348900538.\n"
     ]
    },
    {
     "name": "stdout",
     "output_type": "stream",
     "text": [
      "ItemKNNCFRecommender: URM Detected 226 ( 5.8%) items with no interactions.\n",
      "Similarity column 3883 (100.0%), 2569.62 column/sec. Elapsed time 1.51 sec\n",
      "EvaluatorHoldout: Processed 6022 (100.0%) in 6.92 sec. Users per second: 870\n"
     ]
    },
    {
     "name": "stderr",
     "output_type": "stream",
     "text": [
      "[I 2023-11-23 12:40:01,993] Trial 35 finished with value: 0.10239148255338879 and parameters: {'topK': 438, 'shrink': 922, 'normalize': True}. Best is trial 34 with value: 0.10477512348900538.\n"
     ]
    },
    {
     "name": "stdout",
     "output_type": "stream",
     "text": [
      "ItemKNNCFRecommender: URM Detected 226 ( 5.8%) items with no interactions.\n",
      "Similarity column 3883 (100.0%), 3312.91 column/sec. Elapsed time 1.17 sec\n",
      "EvaluatorHoldout: Processed 6022 (100.0%) in 6.21 sec. Users per second: 970\n"
     ]
    },
    {
     "name": "stderr",
     "output_type": "stream",
     "text": [
      "[I 2023-11-23 12:40:09,502] Trial 36 finished with value: 0.07586255818612203 and parameters: {'topK': 233, 'shrink': 734, 'normalize': False}. Best is trial 34 with value: 0.10477512348900538.\n"
     ]
    },
    {
     "name": "stdout",
     "output_type": "stream",
     "text": [
      "ItemKNNCFRecommender: URM Detected 226 ( 5.8%) items with no interactions.\n",
      "Similarity column 3883 (100.0%), 2736.77 column/sec. Elapsed time 1.42 sec\n",
      "EvaluatorHoldout: Processed 6022 (100.0%) in 6.46 sec. Users per second: 932\n"
     ]
    },
    {
     "name": "stderr",
     "output_type": "stream",
     "text": [
      "[I 2023-11-23 12:40:17,543] Trial 37 finished with value: 0.10343657910413115 and parameters: {'topK': 362, 'shrink': 822, 'normalize': True}. Best is trial 34 with value: 0.10477512348900538.\n"
     ]
    },
    {
     "name": "stdout",
     "output_type": "stream",
     "text": [
      "ItemKNNCFRecommender: URM Detected 226 ( 5.8%) items with no interactions.\n",
      "Similarity column 3883 (100.0%), 2770.08 column/sec. Elapsed time 1.40 sec\n",
      "EvaluatorHoldout: Processed 6022 (100.0%) in 5.76 sec. Users per second: 1045\n"
     ]
    },
    {
     "name": "stderr",
     "output_type": "stream",
     "text": [
      "[I 2023-11-23 12:40:24,807] Trial 38 finished with value: 0.07874663271707479 and parameters: {'topK': 90, 'shrink': 718, 'normalize': False}. Best is trial 34 with value: 0.10477512348900538.\n"
     ]
    },
    {
     "name": "stdout",
     "output_type": "stream",
     "text": [
      "ItemKNNCFRecommender: URM Detected 226 ( 5.8%) items with no interactions.\n",
      "Similarity column 3883 (100.0%), 2758.33 column/sec. Elapsed time 1.41 sec\n",
      "EvaluatorHoldout: Processed 6022 (100.0%) in 5.89 sec. Users per second: 1022\n"
     ]
    },
    {
     "name": "stderr",
     "output_type": "stream",
     "text": [
      "[I 2023-11-23 12:40:32,243] Trial 39 finished with value: 0.10384110773723829 and parameters: {'topK': 212, 'shrink': 928, 'normalize': True}. Best is trial 34 with value: 0.10477512348900538.\n"
     ]
    },
    {
     "name": "stdout",
     "output_type": "stream",
     "text": [
      "ItemKNNCFRecommender: URM Detected 226 ( 5.8%) items with no interactions.\n",
      "Similarity column 3883 (100.0%), 3771.03 column/sec. Elapsed time 1.03 sec\n",
      "EvaluatorHoldout: Processed 6022 (100.0%) in 5.45 sec. Users per second: 1104\n"
     ]
    },
    {
     "name": "stderr",
     "output_type": "stream",
     "text": [
      "[I 2023-11-23 12:40:38,813] Trial 40 finished with value: 0.07707559055948333 and parameters: {'topK': 37, 'shrink': 861, 'normalize': False}. Best is trial 34 with value: 0.10477512348900538.\n"
     ]
    },
    {
     "name": "stdout",
     "output_type": "stream",
     "text": [
      "ItemKNNCFRecommender: URM Detected 226 ( 5.8%) items with no interactions.\n",
      "Similarity column 3883 (100.0%), 2664.36 column/sec. Elapsed time 1.46 sec\n",
      "EvaluatorHoldout: Processed 6022 (100.0%) in 6.47 sec. Users per second: 930\n"
     ]
    },
    {
     "name": "stderr",
     "output_type": "stream",
     "text": [
      "[I 2023-11-23 12:40:46,908] Trial 41 finished with value: 0.10395550969197571 and parameters: {'topK': 299, 'shrink': 987, 'normalize': True}. Best is trial 34 with value: 0.10477512348900538.\n"
     ]
    },
    {
     "name": "stdout",
     "output_type": "stream",
     "text": [
      "ItemKNNCFRecommender: URM Detected 226 ( 5.8%) items with no interactions.\n",
      "Similarity column 3883 (100.0%), 4243.23 column/sec. Elapsed time 0.92 sec\n",
      "EvaluatorHoldout: Processed 6022 (100.0%) in 6.12 sec. Users per second: 985\n"
     ]
    },
    {
     "name": "stderr",
     "output_type": "stream",
     "text": [
      "[I 2023-11-23 12:40:54,075] Trial 42 finished with value: 0.10414121765167865 and parameters: {'topK': 262, 'shrink': 960, 'normalize': True}. Best is trial 34 with value: 0.10477512348900538.\n"
     ]
    },
    {
     "name": "stdout",
     "output_type": "stream",
     "text": [
      "ItemKNNCFRecommender: URM Detected 226 ( 5.8%) items with no interactions.\n",
      "Similarity column 3883 (100.0%), 2622.42 column/sec. Elapsed time 1.48 sec\n",
      "EvaluatorHoldout: Processed 6022 (100.0%) in 6.78 sec. Users per second: 888\n"
     ]
    },
    {
     "name": "stderr",
     "output_type": "stream",
     "text": [
      "[I 2023-11-23 12:41:02,496] Trial 43 finished with value: 0.10328692281739393 and parameters: {'topK': 353, 'shrink': 876, 'normalize': True}. Best is trial 34 with value: 0.10477512348900538.\n"
     ]
    },
    {
     "name": "stdout",
     "output_type": "stream",
     "text": [
      "ItemKNNCFRecommender: URM Detected 226 ( 5.8%) items with no interactions.\n",
      "Similarity column 3883 (100.0%), 3746.05 column/sec. Elapsed time 1.04 sec\n",
      "EvaluatorHoldout: Processed 6022 (100.0%) in 6.79 sec. Users per second: 887\n"
     ]
    },
    {
     "name": "stderr",
     "output_type": "stream",
     "text": [
      "[I 2023-11-23 12:41:10,469] Trial 44 finished with value: 0.10291181013532405 and parameters: {'topK': 432, 'shrink': 659, 'normalize': True}. Best is trial 34 with value: 0.10477512348900538.\n"
     ]
    },
    {
     "name": "stdout",
     "output_type": "stream",
     "text": [
      "ItemKNNCFRecommender: URM Detected 226 ( 5.8%) items with no interactions.\n",
      "Similarity column 3883 (100.0%), 2721.42 column/sec. Elapsed time 1.43 sec\n",
      "EvaluatorHoldout: Processed 6022 (100.0%) in 6.09 sec. Users per second: 989\n"
     ]
    },
    {
     "name": "stderr",
     "output_type": "stream",
     "text": [
      "[I 2023-11-23 12:41:18,117] Trial 45 finished with value: 0.10365885931478723 and parameters: {'topK': 282, 'shrink': 956, 'normalize': True}. Best is trial 34 with value: 0.10477512348900538.\n"
     ]
    },
    {
     "name": "stdout",
     "output_type": "stream",
     "text": [
      "ItemKNNCFRecommender: URM Detected 226 ( 5.8%) items with no interactions.\n",
      "Similarity column 3883 (100.0%), 2947.23 column/sec. Elapsed time 1.32 sec\n",
      "EvaluatorHoldout: Processed 6022 (100.0%) in 5.98 sec. Users per second: 1008\n"
     ]
    },
    {
     "name": "stderr",
     "output_type": "stream",
     "text": [
      "[I 2023-11-23 12:41:25,514] Trial 46 finished with value: 0.07826646212564542 and parameters: {'topK': 106, 'shrink': 855, 'normalize': False}. Best is trial 34 with value: 0.10477512348900538.\n"
     ]
    },
    {
     "name": "stdout",
     "output_type": "stream",
     "text": [
      "ItemKNNCFRecommender: URM Detected 226 ( 5.8%) items with no interactions.\n",
      "Similarity column 3883 (100.0%), 2754.71 column/sec. Elapsed time 1.41 sec\n",
      "EvaluatorHoldout: Processed 6022 (100.0%) in 5.85 sec. Users per second: 1029\n"
     ]
    },
    {
     "name": "stderr",
     "output_type": "stream",
     "text": [
      "[I 2023-11-23 12:41:32,903] Trial 47 finished with value: 0.10472606395597076 and parameters: {'topK': 240, 'shrink': 783, 'normalize': True}. Best is trial 34 with value: 0.10477512348900538.\n"
     ]
    },
    {
     "name": "stdout",
     "output_type": "stream",
     "text": [
      "ItemKNNCFRecommender: URM Detected 226 ( 5.8%) items with no interactions.\n",
      "Similarity column 3883 (100.0%), 3686.96 column/sec. Elapsed time 1.05 sec\n",
      "EvaluatorHoldout: Processed 6022 (100.0%) in 6.39 sec. Users per second: 943\n"
     ]
    },
    {
     "name": "stderr",
     "output_type": "stream",
     "text": [
      "[I 2023-11-23 12:41:40,454] Trial 48 finished with value: 0.10392322726721537 and parameters: {'topK': 214, 'shrink': 769, 'normalize': True}. Best is trial 34 with value: 0.10477512348900538.\n"
     ]
    },
    {
     "name": "stdout",
     "output_type": "stream",
     "text": [
      "ItemKNNCFRecommender: URM Detected 226 ( 5.8%) items with no interactions.\n",
      "Similarity column 3883 (100.0%), 2657.06 column/sec. Elapsed time 1.46 sec\n",
      "EvaluatorHoldout: Processed 6022 (100.0%) in 6.06 sec. Users per second: 994\n"
     ]
    },
    {
     "name": "stderr",
     "output_type": "stream",
     "text": [
      "[I 2023-11-23 12:41:48,127] Trial 49 finished with value: 0.10461281518031691 and parameters: {'topK': 253, 'shrink': 669, 'normalize': True}. Best is trial 34 with value: 0.10477512348900538.\n"
     ]
    }
   ],
   "source": [
    "optuna_study = optuna.create_study(direction=\"maximize\")\n",
    "        \n",
    "save_results = SaveResults()\n",
    "        \n",
    "optuna_study.optimize(objective_function,\n",
    "                      callbacks=[save_results],\n",
    "                      n_trials = 50)"
   ]
  },
  {
   "cell_type": "markdown",
   "id": "435547b1",
   "metadata": {},
   "source": [
    "### Step 3: Given the best hyperparameters, train on the union of URM_train and validation, to evaluate on test"
   ]
  },
  {
   "cell_type": "code",
   "execution_count": 6,
   "id": "9353bd3d",
   "metadata": {},
   "outputs": [
    {
     "name": "stdout",
     "output_type": "stream",
     "text": [
      "Study statistics: \n",
      "  Number of finished trials:  50\n",
      "  Number of pruned trials:  0\n",
      "  Number of complete trials:  50\n",
      "Best trial:\n",
      "  Value Validation:  0.10477512348900538\n"
     ]
    }
   ],
   "source": [
    "pruned_trials = [t for t in optuna_study.trials if t.state == optuna.trial.TrialState.PRUNED]\n",
    "complete_trials = [t for t in optuna_study.trials if t.state == optuna.trial.TrialState.COMPLETE]\n",
    "\n",
    "print(\"Study statistics: \")\n",
    "print(\"  Number of finished trials: \", len(optuna_study.trials))\n",
    "print(\"  Number of pruned trials: \", len(pruned_trials))\n",
    "print(\"  Number of complete trials: \", len(complete_trials))\n",
    "\n",
    "print(\"Best trial:\")\n",
    "print(\"  Value Validation: \", optuna_study.best_trial.value)\n"
   ]
  },
  {
   "cell_type": "code",
   "execution_count": 7,
   "id": "b233a624",
   "metadata": {},
   "outputs": [
    {
     "data": {
      "text/plain": [
       "FrozenTrial(number=34, state=TrialState.COMPLETE, values=[0.10477512348900538], datetime_start=datetime.datetime(2023, 11, 23, 12, 39, 46, 283471), datetime_complete=datetime.datetime(2023, 11, 23, 12, 39, 53, 389138), params={'topK': 242, 'shrink': 991, 'normalize': True}, user_attrs={}, system_attrs={}, intermediate_values={}, distributions={'topK': IntDistribution(high=1000, log=False, low=5, step=1), 'shrink': IntDistribution(high=1000, log=False, low=0, step=1), 'normalize': CategoricalDistribution(choices=(True, False))}, trial_id=34, value=None)"
      ]
     },
     "execution_count": 7,
     "metadata": {},
     "output_type": "execute_result"
    }
   ],
   "source": [
    "optuna_study.best_trial"
   ]
  },
  {
   "cell_type": "code",
   "execution_count": 8,
   "id": "60ee5883",
   "metadata": {},
   "outputs": [
    {
     "data": {
      "text/plain": [
       "{'topK': 242, 'shrink': 991, 'normalize': True}"
      ]
     },
     "execution_count": 8,
     "metadata": {},
     "output_type": "execute_result"
    }
   ],
   "source": [
    "optuna_study.best_trial.params"
   ]
  },
  {
   "cell_type": "code",
   "execution_count": 9,
   "id": "2b335fd3",
   "metadata": {},
   "outputs": [
    {
     "data": {
      "text/html": [
       "<div>\n",
       "<style scoped>\n",
       "    .dataframe tbody tr th:only-of-type {\n",
       "        vertical-align: middle;\n",
       "    }\n",
       "\n",
       "    .dataframe tbody tr th {\n",
       "        vertical-align: top;\n",
       "    }\n",
       "\n",
       "    .dataframe thead th {\n",
       "        text-align: right;\n",
       "    }\n",
       "</style>\n",
       "<table border=\"1\" class=\"dataframe\">\n",
       "  <thead>\n",
       "    <tr style=\"text-align: right;\">\n",
       "      <th></th>\n",
       "      <th>normalize</th>\n",
       "      <th>result</th>\n",
       "      <th>shrink</th>\n",
       "      <th>topK</th>\n",
       "    </tr>\n",
       "  </thead>\n",
       "  <tbody>\n",
       "    <tr>\n",
       "      <th>0</th>\n",
       "      <td>1.0</td>\n",
       "      <td>0.100999</td>\n",
       "      <td>179.0</td>\n",
       "      <td>718.0</td>\n",
       "    </tr>\n",
       "    <tr>\n",
       "      <th>1</th>\n",
       "      <td>0.0</td>\n",
       "      <td>0.073485</td>\n",
       "      <td>77.0</td>\n",
       "      <td>373.0</td>\n",
       "    </tr>\n",
       "    <tr>\n",
       "      <th>2</th>\n",
       "      <td>0.0</td>\n",
       "      <td>0.072073</td>\n",
       "      <td>441.0</td>\n",
       "      <td>513.0</td>\n",
       "    </tr>\n",
       "    <tr>\n",
       "      <th>3</th>\n",
       "      <td>1.0</td>\n",
       "      <td>0.097096</td>\n",
       "      <td>654.0</td>\n",
       "      <td>33.0</td>\n",
       "    </tr>\n",
       "    <tr>\n",
       "      <th>4</th>\n",
       "      <td>0.0</td>\n",
       "      <td>0.076444</td>\n",
       "      <td>571.0</td>\n",
       "      <td>198.0</td>\n",
       "    </tr>\n",
       "    <tr>\n",
       "      <th>5</th>\n",
       "      <td>0.0</td>\n",
       "      <td>0.073276</td>\n",
       "      <td>741.0</td>\n",
       "      <td>396.0</td>\n",
       "    </tr>\n",
       "    <tr>\n",
       "      <th>6</th>\n",
       "      <td>0.0</td>\n",
       "      <td>0.072164</td>\n",
       "      <td>263.0</td>\n",
       "      <td>525.0</td>\n",
       "    </tr>\n",
       "    <tr>\n",
       "      <th>7</th>\n",
       "      <td>0.0</td>\n",
       "      <td>0.075008</td>\n",
       "      <td>596.0</td>\n",
       "      <td>273.0</td>\n",
       "    </tr>\n",
       "    <tr>\n",
       "      <th>8</th>\n",
       "      <td>1.0</td>\n",
       "      <td>0.098580</td>\n",
       "      <td>379.0</td>\n",
       "      <td>927.0</td>\n",
       "    </tr>\n",
       "    <tr>\n",
       "      <th>9</th>\n",
       "      <td>0.0</td>\n",
       "      <td>0.074458</td>\n",
       "      <td>374.0</td>\n",
       "      <td>316.0</td>\n",
       "    </tr>\n",
       "    <tr>\n",
       "      <th>10</th>\n",
       "      <td>1.0</td>\n",
       "      <td>0.098234</td>\n",
       "      <td>902.0</td>\n",
       "      <td>806.0</td>\n",
       "    </tr>\n",
       "    <tr>\n",
       "      <th>11</th>\n",
       "      <td>1.0</td>\n",
       "      <td>0.099454</td>\n",
       "      <td>127.0</td>\n",
       "      <td>918.0</td>\n",
       "    </tr>\n",
       "    <tr>\n",
       "      <th>12</th>\n",
       "      <td>1.0</td>\n",
       "      <td>0.101083</td>\n",
       "      <td>32.0</td>\n",
       "      <td>723.0</td>\n",
       "    </tr>\n",
       "    <tr>\n",
       "      <th>13</th>\n",
       "      <td>1.0</td>\n",
       "      <td>0.101029</td>\n",
       "      <td>5.0</td>\n",
       "      <td>724.0</td>\n",
       "    </tr>\n",
       "    <tr>\n",
       "      <th>14</th>\n",
       "      <td>1.0</td>\n",
       "      <td>0.101040</td>\n",
       "      <td>21.0</td>\n",
       "      <td>664.0</td>\n",
       "    </tr>\n",
       "    <tr>\n",
       "      <th>15</th>\n",
       "      <td>1.0</td>\n",
       "      <td>0.101648</td>\n",
       "      <td>248.0</td>\n",
       "      <td>595.0</td>\n",
       "    </tr>\n",
       "    <tr>\n",
       "      <th>16</th>\n",
       "      <td>1.0</td>\n",
       "      <td>0.101788</td>\n",
       "      <td>248.0</td>\n",
       "      <td>561.0</td>\n",
       "    </tr>\n",
       "    <tr>\n",
       "      <th>17</th>\n",
       "      <td>1.0</td>\n",
       "      <td>0.101613</td>\n",
       "      <td>252.0</td>\n",
       "      <td>591.0</td>\n",
       "    </tr>\n",
       "    <tr>\n",
       "      <th>18</th>\n",
       "      <td>1.0</td>\n",
       "      <td>0.101984</td>\n",
       "      <td>264.0</td>\n",
       "      <td>475.0</td>\n",
       "    </tr>\n",
       "    <tr>\n",
       "      <th>19</th>\n",
       "      <td>1.0</td>\n",
       "      <td>0.103288</td>\n",
       "      <td>341.0</td>\n",
       "      <td>140.0</td>\n",
       "    </tr>\n",
       "    <tr>\n",
       "      <th>20</th>\n",
       "      <td>1.0</td>\n",
       "      <td>0.099932</td>\n",
       "      <td>494.0</td>\n",
       "      <td>57.0</td>\n",
       "    </tr>\n",
       "    <tr>\n",
       "      <th>21</th>\n",
       "      <td>1.0</td>\n",
       "      <td>0.103467</td>\n",
       "      <td>344.0</td>\n",
       "      <td>147.0</td>\n",
       "    </tr>\n",
       "    <tr>\n",
       "      <th>22</th>\n",
       "      <td>1.0</td>\n",
       "      <td>0.104122</td>\n",
       "      <td>360.0</td>\n",
       "      <td>170.0</td>\n",
       "    </tr>\n",
       "    <tr>\n",
       "      <th>23</th>\n",
       "      <td>1.0</td>\n",
       "      <td>0.103397</td>\n",
       "      <td>399.0</td>\n",
       "      <td>147.0</td>\n",
       "    </tr>\n",
       "    <tr>\n",
       "      <th>24</th>\n",
       "      <td>1.0</td>\n",
       "      <td>0.103579</td>\n",
       "      <td>404.0</td>\n",
       "      <td>145.0</td>\n",
       "    </tr>\n",
       "    <tr>\n",
       "      <th>25</th>\n",
       "      <td>1.0</td>\n",
       "      <td>0.104060</td>\n",
       "      <td>509.0</td>\n",
       "      <td>209.0</td>\n",
       "    </tr>\n",
       "    <tr>\n",
       "      <th>26</th>\n",
       "      <td>1.0</td>\n",
       "      <td>0.104745</td>\n",
       "      <td>739.0</td>\n",
       "      <td>248.0</td>\n",
       "    </tr>\n",
       "    <tr>\n",
       "      <th>27</th>\n",
       "      <td>1.0</td>\n",
       "      <td>0.104072</td>\n",
       "      <td>816.0</td>\n",
       "      <td>264.0</td>\n",
       "    </tr>\n",
       "    <tr>\n",
       "      <th>28</th>\n",
       "      <td>1.0</td>\n",
       "      <td>0.104324</td>\n",
       "      <td>981.0</td>\n",
       "      <td>294.0</td>\n",
       "    </tr>\n",
       "    <tr>\n",
       "      <th>29</th>\n",
       "      <td>1.0</td>\n",
       "      <td>0.103524</td>\n",
       "      <td>904.0</td>\n",
       "      <td>395.0</td>\n",
       "    </tr>\n",
       "    <tr>\n",
       "      <th>30</th>\n",
       "      <td>1.0</td>\n",
       "      <td>0.103589</td>\n",
       "      <td>804.0</td>\n",
       "      <td>330.0</td>\n",
       "    </tr>\n",
       "    <tr>\n",
       "      <th>31</th>\n",
       "      <td>1.0</td>\n",
       "      <td>0.104521</td>\n",
       "      <td>990.0</td>\n",
       "      <td>230.0</td>\n",
       "    </tr>\n",
       "    <tr>\n",
       "      <th>32</th>\n",
       "      <td>1.0</td>\n",
       "      <td>0.101422</td>\n",
       "      <td>998.0</td>\n",
       "      <td>81.0</td>\n",
       "    </tr>\n",
       "    <tr>\n",
       "      <th>33</th>\n",
       "      <td>1.0</td>\n",
       "      <td>0.104767</td>\n",
       "      <td>968.0</td>\n",
       "      <td>226.0</td>\n",
       "    </tr>\n",
       "    <tr>\n",
       "      <th>34</th>\n",
       "      <td>1.0</td>\n",
       "      <td>0.104775</td>\n",
       "      <td>991.0</td>\n",
       "      <td>242.0</td>\n",
       "    </tr>\n",
       "    <tr>\n",
       "      <th>35</th>\n",
       "      <td>1.0</td>\n",
       "      <td>0.102391</td>\n",
       "      <td>922.0</td>\n",
       "      <td>438.0</td>\n",
       "    </tr>\n",
       "    <tr>\n",
       "      <th>36</th>\n",
       "      <td>0.0</td>\n",
       "      <td>0.075863</td>\n",
       "      <td>734.0</td>\n",
       "      <td>233.0</td>\n",
       "    </tr>\n",
       "    <tr>\n",
       "      <th>37</th>\n",
       "      <td>1.0</td>\n",
       "      <td>0.103437</td>\n",
       "      <td>822.0</td>\n",
       "      <td>362.0</td>\n",
       "    </tr>\n",
       "    <tr>\n",
       "      <th>38</th>\n",
       "      <td>0.0</td>\n",
       "      <td>0.078747</td>\n",
       "      <td>718.0</td>\n",
       "      <td>90.0</td>\n",
       "    </tr>\n",
       "    <tr>\n",
       "      <th>39</th>\n",
       "      <td>1.0</td>\n",
       "      <td>0.103841</td>\n",
       "      <td>928.0</td>\n",
       "      <td>212.0</td>\n",
       "    </tr>\n",
       "    <tr>\n",
       "      <th>40</th>\n",
       "      <td>0.0</td>\n",
       "      <td>0.077076</td>\n",
       "      <td>861.0</td>\n",
       "      <td>37.0</td>\n",
       "    </tr>\n",
       "    <tr>\n",
       "      <th>41</th>\n",
       "      <td>1.0</td>\n",
       "      <td>0.103956</td>\n",
       "      <td>987.0</td>\n",
       "      <td>299.0</td>\n",
       "    </tr>\n",
       "    <tr>\n",
       "      <th>42</th>\n",
       "      <td>1.0</td>\n",
       "      <td>0.104141</td>\n",
       "      <td>960.0</td>\n",
       "      <td>262.0</td>\n",
       "    </tr>\n",
       "    <tr>\n",
       "      <th>43</th>\n",
       "      <td>1.0</td>\n",
       "      <td>0.103287</td>\n",
       "      <td>876.0</td>\n",
       "      <td>353.0</td>\n",
       "    </tr>\n",
       "    <tr>\n",
       "      <th>44</th>\n",
       "      <td>1.0</td>\n",
       "      <td>0.102912</td>\n",
       "      <td>659.0</td>\n",
       "      <td>432.0</td>\n",
       "    </tr>\n",
       "    <tr>\n",
       "      <th>45</th>\n",
       "      <td>1.0</td>\n",
       "      <td>0.103659</td>\n",
       "      <td>956.0</td>\n",
       "      <td>282.0</td>\n",
       "    </tr>\n",
       "    <tr>\n",
       "      <th>46</th>\n",
       "      <td>0.0</td>\n",
       "      <td>0.078266</td>\n",
       "      <td>855.0</td>\n",
       "      <td>106.0</td>\n",
       "    </tr>\n",
       "    <tr>\n",
       "      <th>47</th>\n",
       "      <td>1.0</td>\n",
       "      <td>0.104726</td>\n",
       "      <td>783.0</td>\n",
       "      <td>240.0</td>\n",
       "    </tr>\n",
       "    <tr>\n",
       "      <th>48</th>\n",
       "      <td>1.0</td>\n",
       "      <td>0.103923</td>\n",
       "      <td>769.0</td>\n",
       "      <td>214.0</td>\n",
       "    </tr>\n",
       "    <tr>\n",
       "      <th>49</th>\n",
       "      <td>1.0</td>\n",
       "      <td>0.104613</td>\n",
       "      <td>669.0</td>\n",
       "      <td>253.0</td>\n",
       "    </tr>\n",
       "  </tbody>\n",
       "</table>\n",
       "</div>"
      ],
      "text/plain": [
       "    normalize    result  shrink   topK\n",
       "0         1.0  0.100999   179.0  718.0\n",
       "1         0.0  0.073485    77.0  373.0\n",
       "2         0.0  0.072073   441.0  513.0\n",
       "3         1.0  0.097096   654.0   33.0\n",
       "4         0.0  0.076444   571.0  198.0\n",
       "5         0.0  0.073276   741.0  396.0\n",
       "6         0.0  0.072164   263.0  525.0\n",
       "7         0.0  0.075008   596.0  273.0\n",
       "8         1.0  0.098580   379.0  927.0\n",
       "9         0.0  0.074458   374.0  316.0\n",
       "10        1.0  0.098234   902.0  806.0\n",
       "11        1.0  0.099454   127.0  918.0\n",
       "12        1.0  0.101083    32.0  723.0\n",
       "13        1.0  0.101029     5.0  724.0\n",
       "14        1.0  0.101040    21.0  664.0\n",
       "15        1.0  0.101648   248.0  595.0\n",
       "16        1.0  0.101788   248.0  561.0\n",
       "17        1.0  0.101613   252.0  591.0\n",
       "18        1.0  0.101984   264.0  475.0\n",
       "19        1.0  0.103288   341.0  140.0\n",
       "20        1.0  0.099932   494.0   57.0\n",
       "21        1.0  0.103467   344.0  147.0\n",
       "22        1.0  0.104122   360.0  170.0\n",
       "23        1.0  0.103397   399.0  147.0\n",
       "24        1.0  0.103579   404.0  145.0\n",
       "25        1.0  0.104060   509.0  209.0\n",
       "26        1.0  0.104745   739.0  248.0\n",
       "27        1.0  0.104072   816.0  264.0\n",
       "28        1.0  0.104324   981.0  294.0\n",
       "29        1.0  0.103524   904.0  395.0\n",
       "30        1.0  0.103589   804.0  330.0\n",
       "31        1.0  0.104521   990.0  230.0\n",
       "32        1.0  0.101422   998.0   81.0\n",
       "33        1.0  0.104767   968.0  226.0\n",
       "34        1.0  0.104775   991.0  242.0\n",
       "35        1.0  0.102391   922.0  438.0\n",
       "36        0.0  0.075863   734.0  233.0\n",
       "37        1.0  0.103437   822.0  362.0\n",
       "38        0.0  0.078747   718.0   90.0\n",
       "39        1.0  0.103841   928.0  212.0\n",
       "40        0.0  0.077076   861.0   37.0\n",
       "41        1.0  0.103956   987.0  299.0\n",
       "42        1.0  0.104141   960.0  262.0\n",
       "43        1.0  0.103287   876.0  353.0\n",
       "44        1.0  0.102912   659.0  432.0\n",
       "45        1.0  0.103659   956.0  282.0\n",
       "46        0.0  0.078266   855.0  106.0\n",
       "47        1.0  0.104726   783.0  240.0\n",
       "48        1.0  0.103923   769.0  214.0\n",
       "49        1.0  0.104613   669.0  253.0"
      ]
     },
     "execution_count": 9,
     "metadata": {},
     "output_type": "execute_result"
    }
   ],
   "source": [
    "save_results.results_df"
   ]
  },
  {
   "cell_type": "code",
   "execution_count": 10,
   "id": "83e37d44",
   "metadata": {},
   "outputs": [
    {
     "name": "stdout",
     "output_type": "stream",
     "text": [
      "ItemKNNCFRecommender: URM Detected 195 ( 5.0%) items with no interactions.\n",
      "Similarity column 3883 (100.0%), 2077.28 column/sec. Elapsed time 1.87 sec\n",
      "EvaluatorHoldout: Processed 6036 (100.0%) in 6.91 sec. Users per second: 874\n"
     ]
    },
    {
     "data": {
      "text/html": [
       "<div>\n",
       "<style scoped>\n",
       "    .dataframe tbody tr th:only-of-type {\n",
       "        vertical-align: middle;\n",
       "    }\n",
       "\n",
       "    .dataframe tbody tr th {\n",
       "        vertical-align: top;\n",
       "    }\n",
       "\n",
       "    .dataframe thead th {\n",
       "        text-align: right;\n",
       "    }\n",
       "</style>\n",
       "<table border=\"1\" class=\"dataframe\">\n",
       "  <thead>\n",
       "    <tr style=\"text-align: right;\">\n",
       "      <th></th>\n",
       "      <th>PRECISION</th>\n",
       "      <th>PRECISION_RECALL_MIN_DEN</th>\n",
       "      <th>RECALL</th>\n",
       "      <th>MAP</th>\n",
       "      <th>MAP_MIN_DEN</th>\n",
       "      <th>MRR</th>\n",
       "      <th>NDCG</th>\n",
       "      <th>F1</th>\n",
       "      <th>HIT_RATE</th>\n",
       "      <th>ARHR_ALL_HITS</th>\n",
       "      <th>...</th>\n",
       "      <th>COVERAGE_USER</th>\n",
       "      <th>COVERAGE_USER_HIT</th>\n",
       "      <th>USERS_IN_GT</th>\n",
       "      <th>DIVERSITY_GINI</th>\n",
       "      <th>SHANNON_ENTROPY</th>\n",
       "      <th>RATIO_DIVERSITY_HERFINDAHL</th>\n",
       "      <th>RATIO_DIVERSITY_GINI</th>\n",
       "      <th>RATIO_SHANNON_ENTROPY</th>\n",
       "      <th>RATIO_AVERAGE_POPULARITY</th>\n",
       "      <th>RATIO_NOVELTY</th>\n",
       "    </tr>\n",
       "    <tr>\n",
       "      <th>cutoff</th>\n",
       "      <th></th>\n",
       "      <th></th>\n",
       "      <th></th>\n",
       "      <th></th>\n",
       "      <th></th>\n",
       "      <th></th>\n",
       "      <th></th>\n",
       "      <th></th>\n",
       "      <th></th>\n",
       "      <th></th>\n",
       "      <th></th>\n",
       "      <th></th>\n",
       "      <th></th>\n",
       "      <th></th>\n",
       "      <th></th>\n",
       "      <th></th>\n",
       "      <th></th>\n",
       "      <th></th>\n",
       "      <th></th>\n",
       "      <th></th>\n",
       "      <th></th>\n",
       "    </tr>\n",
       "  </thead>\n",
       "  <tbody>\n",
       "    <tr>\n",
       "      <th>10</th>\n",
       "      <td>0.329225</td>\n",
       "      <td>0.352461</td>\n",
       "      <td>0.145158</td>\n",
       "      <td>0.238979</td>\n",
       "      <td>0.250529</td>\n",
       "      <td>0.611125</td>\n",
       "      <td>0.302173</td>\n",
       "      <td>0.201481</td>\n",
       "      <td>0.871107</td>\n",
       "      <td>1.145516</td>\n",
       "      <td>...</td>\n",
       "      <td>0.999338</td>\n",
       "      <td>0.87053</td>\n",
       "      <td>0.999338</td>\n",
       "      <td>0.042906</td>\n",
       "      <td>7.739146</td>\n",
       "      <td>0.992967</td>\n",
       "      <td>0.122672</td>\n",
       "      <td>0.71569</td>\n",
       "      <td>1.857702</td>\n",
       "      <td>0.064754</td>\n",
       "    </tr>\n",
       "  </tbody>\n",
       "</table>\n",
       "<p>1 rows × 27 columns</p>\n",
       "</div>"
      ],
      "text/plain": [
       "       PRECISION PRECISION_RECALL_MIN_DEN    RECALL       MAP MAP_MIN_DEN  \\\n",
       "cutoff                                                                      \n",
       "10      0.329225                 0.352461  0.145158  0.238979    0.250529   \n",
       "\n",
       "             MRR      NDCG        F1  HIT_RATE ARHR_ALL_HITS  ...  \\\n",
       "cutoff                                                        ...   \n",
       "10      0.611125  0.302173  0.201481  0.871107      1.145516  ...   \n",
       "\n",
       "       COVERAGE_USER COVERAGE_USER_HIT USERS_IN_GT DIVERSITY_GINI  \\\n",
       "cutoff                                                              \n",
       "10          0.999338           0.87053    0.999338       0.042906   \n",
       "\n",
       "       SHANNON_ENTROPY RATIO_DIVERSITY_HERFINDAHL RATIO_DIVERSITY_GINI  \\\n",
       "cutoff                                                                   \n",
       "10            7.739146                   0.992967             0.122672   \n",
       "\n",
       "       RATIO_SHANNON_ENTROPY RATIO_AVERAGE_POPULARITY RATIO_NOVELTY  \n",
       "cutoff                                                               \n",
       "10                   0.71569                 1.857702      0.064754  \n",
       "\n",
       "[1 rows x 27 columns]"
      ]
     },
     "execution_count": 10,
     "metadata": {},
     "output_type": "execute_result"
    }
   ],
   "source": [
    "recommender_instance = ItemKNNCFRecommender(URM_train + URM_validation)\n",
    "recommender_instance.fit(**optuna_study.best_trial.params)\n",
    "\n",
    "result_df, _ = evaluator_test.evaluateRecommender(recommender_instance)\n",
    "result_df"
   ]
  },
  {
   "cell_type": "markdown",
   "id": "8303b316",
   "metadata": {},
   "source": [
    "### Optuna supports various tools such as a database to store the results which can be used for nice visualizations, try them!\n",
    "\n",
    "\n",
    "Optuna also supports conditional hyperparameters, which may be required only based on another hyperparameter value. In the following function several similarity heuristics are optimized."
   ]
  },
  {
   "cell_type": "code",
   "execution_count": 11,
   "id": "1553cba4",
   "metadata": {},
   "outputs": [],
   "source": [
    "def objective_function_KNN_similarities(optuna_trial):\n",
    "    \n",
    "    recommender_instance = ItemKNNCFRecommender(URM_train)\n",
    "    similarity = optuna_trial.suggest_categorical(\"similarity\", ['cosine', 'dice', 'jaccard', 'asymmetric', 'tversky', 'euclidean'])\n",
    "    \n",
    "    full_hyperp = {\"similarity\": similarity,\n",
    "                   \"topK\": optuna_trial.suggest_int(\"topK\", 5, 1000),\n",
    "                   \"shrink\": optuna_trial.suggest_int(\"shrink\", 0, 1000),\n",
    "                  }\n",
    "    \n",
    "    if similarity == \"asymmetric\":\n",
    "        full_hyperp[\"asymmetric_alpha\"] = optuna_trial.suggest_float(\"asymmetric_alpha\", 0, 2, log=False)\n",
    "        full_hyperp[\"normalize\"] = True     \n",
    "\n",
    "    elif similarity == \"tversky\":\n",
    "        full_hyperp[\"tversky_alpha\"] = optuna_trial.suggest_float(\"tversky_alpha\", 0, 2, log=False)\n",
    "        full_hyperp[\"tversky_beta\"] = optuna_trial.suggest_float(\"tversky_beta\", 0, 2, log=False)\n",
    "        full_hyperp[\"normalize\"] = True \n",
    "\n",
    "    elif similarity == \"euclidean\":\n",
    "        full_hyperp[\"normalize_avg_row\"] = optuna_trial.suggest_categorical(\"normalize_avg_row\", [True, False])\n",
    "        full_hyperp[\"similarity_from_distance_mode\"] = optuna_trial.suggest_categorical(\"similarity_from_distance_mode\", [\"lin\", \"log\", \"exp\"])\n",
    "        full_hyperp[\"normalize\"] = optuna_trial.suggest_categorical(\"normalize\", [True, False])\n",
    "        \n",
    "    \n",
    "    recommender_instance.fit(**full_hyperp)\n",
    "    \n",
    "    result_df, _ = evaluator_validation.evaluateRecommender(recommender_instance)\n",
    "    \n",
    "    return result_df.loc[10][\"MAP\"]"
   ]
  },
  {
   "cell_type": "code",
   "execution_count": 12,
   "id": "c7b96610",
   "metadata": {},
   "outputs": [
    {
     "name": "stderr",
     "output_type": "stream",
     "text": [
      "[I 2023-11-23 12:41:57,245] A new study created in memory with name: no-name-cd123d42-8533-4abc-8c9d-c3afcd6a3c46\n"
     ]
    },
    {
     "name": "stdout",
     "output_type": "stream",
     "text": [
      "ItemKNNCFRecommender: URM Detected 226 ( 5.8%) items with no interactions.\n",
      "Similarity column 3883 (100.0%), 3203.17 column/sec. Elapsed time 1.21 sec\n",
      "EvaluatorHoldout: Processed 6022 (100.0%) in 7.08 sec. Users per second: 851\n"
     ]
    },
    {
     "name": "stderr",
     "output_type": "stream",
     "text": [
      "[I 2023-11-23 12:42:05,672] Trial 0 finished with value: 0.014323307923855902 and parameters: {'similarity': 'asymmetric', 'topK': 315, 'shrink': 548, 'asymmetric_alpha': 1.5538276977920127}. Best is trial 0 with value: 0.014323307923855902.\n"
     ]
    },
    {
     "name": "stdout",
     "output_type": "stream",
     "text": [
      "ItemKNNCFRecommender: URM Detected 226 ( 5.8%) items with no interactions.\n",
      "Similarity column 3883 (100.0%), 2767.90 column/sec. Elapsed time 1.40 sec\n",
      "EvaluatorHoldout: Processed 6022 (100.0%) in 6.43 sec. Users per second: 937\n"
     ]
    },
    {
     "name": "stderr",
     "output_type": "stream",
     "text": [
      "[I 2023-11-23 12:42:13,752] Trial 1 finished with value: 0.09779433742942545 and parameters: {'similarity': 'tversky', 'topK': 547, 'shrink': 151, 'tversky_alpha': 0.7381058346171128, 'tversky_beta': 0.9018425361247335}. Best is trial 1 with value: 0.09779433742942545.\n"
     ]
    },
    {
     "name": "stdout",
     "output_type": "stream",
     "text": [
      "ItemKNNCFRecommender: URM Detected 226 ( 5.8%) items with no interactions.\n",
      "Similarity column 3883 (100.0%), 2569.96 column/sec. Elapsed time 1.51 sec\n",
      "EvaluatorHoldout: Processed 6022 (100.0%) in 8.26 sec. Users per second: 729\n"
     ]
    },
    {
     "name": "stderr",
     "output_type": "stream",
     "text": [
      "[I 2023-11-23 12:42:23,745] Trial 2 finished with value: 0.0972251875398668 and parameters: {'similarity': 'cosine', 'topK': 982, 'shrink': 773}. Best is trial 1 with value: 0.09779433742942545.\n"
     ]
    },
    {
     "name": "stdout",
     "output_type": "stream",
     "text": [
      "ItemKNNCFRecommender: URM Detected 226 ( 5.8%) items with no interactions.\n",
      "Similarity column 3883 (100.0%), 2817.63 column/sec. Elapsed time 1.38 sec\n",
      "EvaluatorHoldout: Processed 6022 (100.0%) in 5.71 sec. Users per second: 1056\n"
     ]
    },
    {
     "name": "stderr",
     "output_type": "stream",
     "text": [
      "[I 2023-11-23 12:42:30,977] Trial 3 finished with value: 0.09833421633903214 and parameters: {'similarity': 'dice', 'topK': 231, 'shrink': 115}. Best is trial 3 with value: 0.09833421633903214.\n"
     ]
    },
    {
     "name": "stdout",
     "output_type": "stream",
     "text": [
      "ItemKNNCFRecommender: URM Detected 226 ( 5.8%) items with no interactions.\n",
      "Similarity column 3883 (100.0%), 2739.19 column/sec. Elapsed time 1.42 sec\n",
      "EvaluatorHoldout: Processed 6022 (100.0%) in 7.98 sec. Users per second: 755\n"
     ]
    },
    {
     "name": "stderr",
     "output_type": "stream",
     "text": [
      "[I 2023-11-23 12:42:40,601] Trial 4 finished with value: 0.014563577728224034 and parameters: {'similarity': 'asymmetric', 'topK': 895, 'shrink': 837, 'asymmetric_alpha': 1.8076301864983861}. Best is trial 3 with value: 0.09833421633903214.\n"
     ]
    },
    {
     "name": "stdout",
     "output_type": "stream",
     "text": [
      "ItemKNNCFRecommender: URM Detected 226 ( 5.8%) items with no interactions.\n",
      "Similarity column 3883 (100.0%), 531.48 column/sec. Elapsed time 7.31 sec\n",
      "EvaluatorHoldout: Processed 6022 (100.0%) in 4.48 sec. Users per second: 1345\n"
     ]
    },
    {
     "name": "stderr",
     "output_type": "stream",
     "text": [
      "[I 2023-11-23 12:42:52,510] Trial 5 finished with value: 0.08588589853078436 and parameters: {'similarity': 'euclidean', 'topK': 569, 'shrink': 72, 'normalize_avg_row': True, 'similarity_from_distance_mode': 'lin', 'normalize': False}. Best is trial 3 with value: 0.09833421633903214.\n"
     ]
    },
    {
     "name": "stdout",
     "output_type": "stream",
     "text": [
      "ItemKNNCFRecommender: URM Detected 226 ( 5.8%) items with no interactions.\n",
      "Similarity column 3883 (100.0%), 3308.31 column/sec. Elapsed time 1.17 sec\n",
      "EvaluatorHoldout: Processed 6022 (100.0%) in 7.71 sec. Users per second: 781\n"
     ]
    },
    {
     "name": "stderr",
     "output_type": "stream",
     "text": [
      "[I 2023-11-23 12:43:01,645] Trial 6 finished with value: 0.09307162757719029 and parameters: {'similarity': 'jaccard', 'topK': 638, 'shrink': 758}. Best is trial 3 with value: 0.09833421633903214.\n"
     ]
    },
    {
     "name": "stdout",
     "output_type": "stream",
     "text": [
      "ItemKNNCFRecommender: URM Detected 226 ( 5.8%) items with no interactions.\n",
      "Similarity column 3883 (100.0%), 2643.51 column/sec. Elapsed time 1.47 sec\n",
      "EvaluatorHoldout: Processed 6022 (100.0%) in 5.89 sec. Users per second: 1023\n"
     ]
    },
    {
     "name": "stderr",
     "output_type": "stream",
     "text": [
      "[I 2023-11-23 12:43:09,136] Trial 7 finished with value: 0.011257848207366626 and parameters: {'similarity': 'asymmetric', 'topK': 230, 'shrink': 286, 'asymmetric_alpha': 1.6915085070281517}. Best is trial 3 with value: 0.09833421633903214.\n"
     ]
    },
    {
     "name": "stdout",
     "output_type": "stream",
     "text": [
      "ItemKNNCFRecommender: URM Detected 226 ( 5.8%) items with no interactions.\n",
      "Similarity column 3883 (100.0%), 3228.20 column/sec. Elapsed time 1.20 sec\n",
      "EvaluatorHoldout: Processed 6022 (100.0%) in 7.51 sec. Users per second: 802\n"
     ]
    },
    {
     "name": "stderr",
     "output_type": "stream",
     "text": [
      "[I 2023-11-23 12:43:18,021] Trial 8 finished with value: 0.10110752637155775 and parameters: {'similarity': 'cosine', 'topK': 610, 'shrink': 526}. Best is trial 8 with value: 0.10110752637155775.\n"
     ]
    },
    {
     "name": "stdout",
     "output_type": "stream",
     "text": [
      "ItemKNNCFRecommender: URM Detected 226 ( 5.8%) items with no interactions.\n",
      "Similarity column 3883 (100.0%), 3553.20 column/sec. Elapsed time 1.09 sec\n",
      "EvaluatorHoldout: Processed 6022 (100.0%) in 7.26 sec. Users per second: 830\n"
     ]
    },
    {
     "name": "stderr",
     "output_type": "stream",
     "text": [
      "[I 2023-11-23 12:43:26,607] Trial 9 finished with value: 0.09485833689171458 and parameters: {'similarity': 'dice', 'topK': 498, 'shrink': 922}. Best is trial 8 with value: 0.10110752637155775.\n"
     ]
    },
    {
     "name": "stdout",
     "output_type": "stream",
     "text": [
      "ItemKNNCFRecommender: URM Detected 226 ( 5.8%) items with no interactions.\n",
      "Similarity column 3883 (100.0%), 2669.08 column/sec. Elapsed time 1.45 sec\n",
      "EvaluatorHoldout: Processed 6022 (100.0%) in 5.07 sec. Users per second: 1187\n"
     ]
    },
    {
     "name": "stderr",
     "output_type": "stream",
     "text": [
      "[I 2023-11-23 12:43:33,255] Trial 10 finished with value: 0.09817704791426136 and parameters: {'similarity': 'cosine', 'topK': 37, 'shrink': 501}. Best is trial 8 with value: 0.10110752637155775.\n"
     ]
    },
    {
     "name": "stdout",
     "output_type": "stream",
     "text": [
      "ItemKNNCFRecommender: URM Detected 226 ( 5.8%) items with no interactions.\n",
      "Similarity column 3883 (100.0%), 3589.09 column/sec. Elapsed time 1.08 sec\n",
      "EvaluatorHoldout: Processed 6022 (100.0%) in 7.87 sec. Users per second: 765\n"
     ]
    },
    {
     "name": "stderr",
     "output_type": "stream",
     "text": [
      "[I 2023-11-23 12:43:42,474] Trial 11 finished with value: 0.09480025620344466 and parameters: {'similarity': 'dice', 'topK': 765, 'shrink': 319}. Best is trial 8 with value: 0.10110752637155775.\n"
     ]
    },
    {
     "name": "stdout",
     "output_type": "stream",
     "text": [
      "ItemKNNCFRecommender: URM Detected 226 ( 5.8%) items with no interactions.\n",
      "Similarity column 3883 (100.0%), 2671.03 column/sec. Elapsed time 1.45 sec\n",
      "EvaluatorHoldout: Processed 6022 (100.0%) in 5.76 sec. Users per second: 1045\n"
     ]
    },
    {
     "name": "stderr",
     "output_type": "stream",
     "text": [
      "[I 2023-11-23 12:43:49,933] Trial 12 finished with value: 0.09960774119234724 and parameters: {'similarity': 'dice', 'topK': 313, 'shrink': 356}. Best is trial 8 with value: 0.10110752637155775.\n"
     ]
    },
    {
     "name": "stdout",
     "output_type": "stream",
     "text": [
      "ItemKNNCFRecommender: URM Detected 226 ( 5.8%) items with no interactions.\n",
      "Similarity column 3883 (100.0%), 2613.44 column/sec. Elapsed time 1.49 sec\n",
      "EvaluatorHoldout: Processed 6022 (100.0%) in 6.82 sec. Users per second: 883\n"
     ]
    },
    {
     "name": "stderr",
     "output_type": "stream",
     "text": [
      "[I 2023-11-23 12:43:58,404] Trial 13 finished with value: 0.10321521484714766 and parameters: {'similarity': 'cosine', 'topK': 398, 'shrink': 601}. Best is trial 13 with value: 0.10321521484714766.\n"
     ]
    },
    {
     "name": "stdout",
     "output_type": "stream",
     "text": [
      "ItemKNNCFRecommender: URM Detected 226 ( 5.8%) items with no interactions.\n",
      "Similarity column 3883 (100.0%), 3197.72 column/sec. Elapsed time 1.21 sec\n",
      "EvaluatorHoldout: Processed 6022 (100.0%) in 6.94 sec. Users per second: 868\n"
     ]
    },
    {
     "name": "stderr",
     "output_type": "stream",
     "text": [
      "[I 2023-11-23 12:44:06,735] Trial 14 finished with value: 0.10283052089428701 and parameters: {'similarity': 'cosine', 'topK': 418, 'shrink': 616}. Best is trial 13 with value: 0.10321521484714766.\n"
     ]
    },
    {
     "name": "stdout",
     "output_type": "stream",
     "text": [
      "ItemKNNCFRecommender: URM Detected 226 ( 5.8%) items with no interactions.\n",
      "Similarity column 3883 (100.0%), 2625.74 column/sec. Elapsed time 1.48 sec\n",
      "EvaluatorHoldout: Processed 6022 (100.0%) in 6.67 sec. Users per second: 903\n"
     ]
    },
    {
     "name": "stderr",
     "output_type": "stream",
     "text": [
      "[I 2023-11-23 12:44:15,063] Trial 15 finished with value: 0.10294859984290386 and parameters: {'similarity': 'cosine', 'topK': 425, 'shrink': 659}. Best is trial 13 with value: 0.10321521484714766.\n"
     ]
    },
    {
     "name": "stdout",
     "output_type": "stream",
     "text": [
      "ItemKNNCFRecommender: URM Detected 226 ( 5.8%) items with no interactions.\n",
      "Similarity column 3883 (100.0%), 2575.36 column/sec. Elapsed time 1.51 sec\n",
      "EvaluatorHoldout: Processed 6022 (100.0%) in 5.65 sec. Users per second: 1066\n"
     ]
    },
    {
     "name": "stderr",
     "output_type": "stream",
     "text": [
      "[I 2023-11-23 12:44:22,325] Trial 16 finished with value: 0.10208043391163615 and parameters: {'similarity': 'cosine', 'topK': 106, 'shrink': 661}. Best is trial 13 with value: 0.10321521484714766.\n"
     ]
    },
    {
     "name": "stdout",
     "output_type": "stream",
     "text": [
      "ItemKNNCFRecommender: URM Detected 226 ( 5.8%) items with no interactions.\n"
     ]
    },
    {
     "name": "stderr",
     "output_type": "stream",
     "text": [
      "C:\\Users\\MaurizioFD\\PycharmProjects\\RecSys_Course_AT_PoliMi\\Recommenders\\Similarity\\Compute_Similarity_Euclidean.py:167: RuntimeWarning: overflow encountered in exp\n",
      "  item_similarity = 1/(np.exp(item_distance) + self.shrink + 1e-9)\n"
     ]
    },
    {
     "name": "stdout",
     "output_type": "stream",
     "text": [
      "Similarity column 3883 (100.0%), 627.10 column/sec. Elapsed time 6.19 sec\n",
      "EvaluatorHoldout: Processed 6022 (100.0%) in 5.70 sec. Users per second: 1056\n"
     ]
    },
    {
     "name": "stderr",
     "output_type": "stream",
     "text": [
      "[I 2023-11-23 12:44:34,354] Trial 17 finished with value: 0.06704747275861547 and parameters: {'similarity': 'euclidean', 'topK': 421, 'shrink': 396, 'normalize_avg_row': False, 'similarity_from_distance_mode': 'exp', 'normalize': True}. Best is trial 13 with value: 0.10321521484714766.\n"
     ]
    },
    {
     "name": "stdout",
     "output_type": "stream",
     "text": [
      "ItemKNNCFRecommender: URM Detected 226 ( 5.8%) items with no interactions.\n",
      "Similarity column 3883 (100.0%), 4446.51 column/sec. Elapsed time 0.87 sec\n",
      "EvaluatorHoldout: Processed 6022 (100.0%) in 8.22 sec. Users per second: 732\n"
     ]
    },
    {
     "name": "stderr",
     "output_type": "stream",
     "text": [
      "[I 2023-11-23 12:44:43,698] Trial 18 finished with value: 0.09109274591049772 and parameters: {'similarity': 'jaccard', 'topK': 715, 'shrink': 974}. Best is trial 13 with value: 0.10321521484714766.\n"
     ]
    },
    {
     "name": "stdout",
     "output_type": "stream",
     "text": [
      "ItemKNNCFRecommender: URM Detected 226 ( 5.8%) items with no interactions.\n",
      "Similarity column 3883 (100.0%), 3259.39 column/sec. Elapsed time 1.19 sec\n",
      "EvaluatorHoldout: Processed 6022 (100.0%) in 6.39 sec. Users per second: 942\n"
     ]
    },
    {
     "name": "stderr",
     "output_type": "stream",
     "text": [
      "[I 2023-11-23 12:44:51,534] Trial 19 finished with value: 0.08741129746485134 and parameters: {'similarity': 'tversky', 'topK': 426, 'shrink': 688, 'tversky_alpha': 0.0015900240279316247, 'tversky_beta': 1.9249916867477361}. Best is trial 13 with value: 0.10321521484714766.\n"
     ]
    },
    {
     "name": "stdout",
     "output_type": "stream",
     "text": [
      "ItemKNNCFRecommender: URM Detected 226 ( 5.8%) items with no interactions.\n",
      "Similarity column 3883 (100.0%), 2773.10 column/sec. Elapsed time 1.40 sec\n",
      "EvaluatorHoldout: Processed 6022 (100.0%) in 5.99 sec. Users per second: 1005\n"
     ]
    },
    {
     "name": "stderr",
     "output_type": "stream",
     "text": [
      "[I 2023-11-23 12:44:59,057] Trial 20 finished with value: 0.10386988449758267 and parameters: {'similarity': 'cosine', 'topK': 166, 'shrink': 415}. Best is trial 20 with value: 0.10386988449758267.\n"
     ]
    },
    {
     "name": "stdout",
     "output_type": "stream",
     "text": [
      "ItemKNNCFRecommender: URM Detected 226 ( 5.8%) items with no interactions.\n",
      "Similarity column 3883 (100.0%), 3403.63 column/sec. Elapsed time 1.14 sec\n",
      "EvaluatorHoldout: Processed 6022 (100.0%) in 5.71 sec. Users per second: 1054\n"
     ]
    },
    {
     "name": "stderr",
     "output_type": "stream",
     "text": [
      "[I 2023-11-23 12:45:06,036] Trial 21 finished with value: 0.10419349949655463 and parameters: {'similarity': 'cosine', 'topK': 160, 'shrink': 465}. Best is trial 21 with value: 0.10419349949655463.\n"
     ]
    },
    {
     "name": "stdout",
     "output_type": "stream",
     "text": [
      "ItemKNNCFRecommender: URM Detected 226 ( 5.8%) items with no interactions.\n",
      "Similarity column 3883 (100.0%), 2694.77 column/sec. Elapsed time 1.44 sec\n",
      "EvaluatorHoldout: Processed 6022 (100.0%) in 5.74 sec. Users per second: 1048\n"
     ]
    },
    {
     "name": "stderr",
     "output_type": "stream",
     "text": [
      "[I 2023-11-23 12:45:13,356] Trial 22 finished with value: 0.10418422134712386 and parameters: {'similarity': 'cosine', 'topK': 161, 'shrink': 431}. Best is trial 21 with value: 0.10419349949655463.\n"
     ]
    },
    {
     "name": "stdout",
     "output_type": "stream",
     "text": [
      "ItemKNNCFRecommender: URM Detected 226 ( 5.8%) items with no interactions.\n",
      "Similarity column 3883 (100.0%), 2598.18 column/sec. Elapsed time 1.49 sec\n",
      "EvaluatorHoldout: Processed 6022 (100.0%) in 5.64 sec. Users per second: 1067\n"
     ]
    },
    {
     "name": "stderr",
     "output_type": "stream",
     "text": [
      "[I 2023-11-23 12:45:20,615] Trial 23 finished with value: 0.10400935327081111 and parameters: {'similarity': 'cosine', 'topK': 154, 'shrink': 423}. Best is trial 21 with value: 0.10419349949655463.\n"
     ]
    },
    {
     "name": "stdout",
     "output_type": "stream",
     "text": [
      "ItemKNNCFRecommender: URM Detected 226 ( 5.8%) items with no interactions.\n",
      "Similarity column 3883 (100.0%), 2877.57 column/sec. Elapsed time 1.35 sec\n",
      "EvaluatorHoldout: Processed 6022 (100.0%) in 4.72 sec. Users per second: 1275\n"
     ]
    },
    {
     "name": "stderr",
     "output_type": "stream",
     "text": [
      "[I 2023-11-23 12:45:26,769] Trial 24 finished with value: 0.08557621393514822 and parameters: {'similarity': 'cosine', 'topK': 8, 'shrink': 224}. Best is trial 21 with value: 0.10419349949655463.\n"
     ]
    },
    {
     "name": "stdout",
     "output_type": "stream",
     "text": [
      "ItemKNNCFRecommender: URM Detected 226 ( 5.8%) items with no interactions.\n",
      "Similarity column 3883 (100.0%), 2590.19 column/sec. Elapsed time 1.50 sec\n",
      "EvaluatorHoldout: Processed 6022 (100.0%) in 5.54 sec. Users per second: 1088\n"
     ]
    },
    {
     "name": "stderr",
     "output_type": "stream",
     "text": [
      "[I 2023-11-23 12:45:33,925] Trial 25 finished with value: 0.1029740686266755 and parameters: {'similarity': 'cosine', 'topK': 127, 'shrink': 466}. Best is trial 21 with value: 0.10419349949655463.\n"
     ]
    },
    {
     "name": "stdout",
     "output_type": "stream",
     "text": [
      "ItemKNNCFRecommender: URM Detected 226 ( 5.8%) items with no interactions.\n",
      "Similarity column 3883 (100.0%), 2785.27 column/sec. Elapsed time 1.39 sec\n",
      "EvaluatorHoldout: Processed 6022 (100.0%) in 5.58 sec. Users per second: 1079\n"
     ]
    },
    {
     "name": "stderr",
     "output_type": "stream",
     "text": [
      "[I 2023-11-23 12:45:41,040] Trial 26 finished with value: 0.10488512359443912 and parameters: {'similarity': 'cosine', 'topK': 234, 'shrink': 3}. Best is trial 26 with value: 0.10488512359443912.\n"
     ]
    },
    {
     "name": "stdout",
     "output_type": "stream",
     "text": [
      "ItemKNNCFRecommender: URM Detected 226 ( 5.8%) items with no interactions.\n",
      "Similarity column 3883 (100.0%), 2506.59 column/sec. Elapsed time 1.55 sec\n",
      "EvaluatorHoldout: Processed 6022 (100.0%) in 6.39 sec. Users per second: 942\n"
     ]
    },
    {
     "name": "stderr",
     "output_type": "stream",
     "text": [
      "[I 2023-11-23 12:45:49,160] Trial 27 finished with value: 0.02372221167887059 and parameters: {'similarity': 'tversky', 'topK': 270, 'shrink': 30, 'tversky_alpha': 1.871738525111864, 'tversky_beta': 0.011789069223322013}. Best is trial 26 with value: 0.10488512359443912.\n"
     ]
    },
    {
     "name": "stdout",
     "output_type": "stream",
     "text": [
      "ItemKNNCFRecommender: URM Detected 226 ( 5.8%) items with no interactions.\n",
      "Similarity column 3883 (100.0%), 1217.69 column/sec. Elapsed time 3.19 sec\n",
      "EvaluatorHoldout: Processed 6022 (100.0%) in 4.83 sec. Users per second: 1246\n"
     ]
    },
    {
     "name": "stderr",
     "output_type": "stream",
     "text": [
      "[I 2023-11-23 12:45:57,281] Trial 28 finished with value: 0.09505517467697841 and parameters: {'similarity': 'euclidean', 'topK': 96, 'shrink': 187, 'normalize_avg_row': True, 'similarity_from_distance_mode': 'log', 'normalize': False}. Best is trial 26 with value: 0.10488512359443912.\n"
     ]
    },
    {
     "name": "stdout",
     "output_type": "stream",
     "text": [
      "ItemKNNCFRecommender: URM Detected 226 ( 5.8%) items with no interactions.\n",
      "Similarity column 3883 (100.0%), 2468.84 column/sec. Elapsed time 1.57 sec\n",
      "EvaluatorHoldout: Processed 6022 (100.0%) in 6.57 sec. Users per second: 916\n"
     ]
    },
    {
     "name": "stderr",
     "output_type": "stream",
     "text": [
      "[I 2023-11-23 12:46:05,672] Trial 29 finished with value: 0.09922541290400798 and parameters: {'similarity': 'jaccard', 'topK': 310, 'shrink': 233}. Best is trial 26 with value: 0.10488512359443912.\n"
     ]
    },
    {
     "name": "stdout",
     "output_type": "stream",
     "text": [
      "ItemKNNCFRecommender: URM Detected 226 ( 5.8%) items with no interactions.\n",
      "Similarity column 3883 (100.0%), 4279.32 column/sec. Elapsed time 0.91 sec\n",
      "EvaluatorHoldout: Processed 6022 (100.0%) in 5.84 sec. Users per second: 1031\n"
     ]
    },
    {
     "name": "stderr",
     "output_type": "stream",
     "text": [
      "[I 2023-11-23 12:46:12,535] Trial 30 finished with value: 0.1051391722414633 and parameters: {'similarity': 'asymmetric', 'topK': 204, 'shrink': 565, 'asymmetric_alpha': 0.41835188645981836}. Best is trial 30 with value: 0.1051391722414633.\n"
     ]
    },
    {
     "name": "stdout",
     "output_type": "stream",
     "text": [
      "ItemKNNCFRecommender: URM Detected 226 ( 5.8%) items with no interactions.\n",
      "Similarity column 3883 (100.0%), 2791.16 column/sec. Elapsed time 1.39 sec\n",
      "EvaluatorHoldout: Processed 6022 (100.0%) in 5.69 sec. Users per second: 1058\n"
     ]
    },
    {
     "name": "stderr",
     "output_type": "stream",
     "text": [
      "[I 2023-11-23 12:46:19,757] Trial 31 finished with value: 0.10366757075906807 and parameters: {'similarity': 'asymmetric', 'topK': 206, 'shrink': 561, 'asymmetric_alpha': 0.19123375539424425}. Best is trial 30 with value: 0.1051391722414633.\n"
     ]
    },
    {
     "name": "stdout",
     "output_type": "stream",
     "text": [
      "ItemKNNCFRecommender: URM Detected 226 ( 5.8%) items with no interactions.\n",
      "Similarity column 3883 (100.0%), 3221.30 column/sec. Elapsed time 1.21 sec\n",
      "EvaluatorHoldout: Processed 6022 (100.0%) in 5.27 sec. Users per second: 1142\n"
     ]
    },
    {
     "name": "stderr",
     "output_type": "stream",
     "text": [
      "[I 2023-11-23 12:46:26,360] Trial 32 finished with value: 0.10534490597966148 and parameters: {'similarity': 'asymmetric', 'topK': 76, 'shrink': 480, 'asymmetric_alpha': 0.38005130576306057}. Best is trial 32 with value: 0.10534490597966148.\n"
     ]
    },
    {
     "name": "stdout",
     "output_type": "stream",
     "text": [
      "ItemKNNCFRecommender: URM Detected 226 ( 5.8%) items with no interactions.\n",
      "Similarity column 3883 (100.0%), 3040.94 column/sec. Elapsed time 1.28 sec\n",
      "EvaluatorHoldout: Processed 6022 (100.0%) in 4.81 sec. Users per second: 1253\n"
     ]
    },
    {
     "name": "stderr",
     "output_type": "stream",
     "text": [
      "[I 2023-11-23 12:46:32,540] Trial 33 finished with value: 0.10564197809091518 and parameters: {'similarity': 'asymmetric', 'topK': 66, 'shrink': 1, 'asymmetric_alpha': 0.3604382115969097}. Best is trial 33 with value: 0.10564197809091518.\n"
     ]
    },
    {
     "name": "stdout",
     "output_type": "stream",
     "text": [
      "ItemKNNCFRecommender: URM Detected 226 ( 5.8%) items with no interactions.\n",
      "Similarity column 3883 (100.0%), 2853.70 column/sec. Elapsed time 1.36 sec\n",
      "EvaluatorHoldout: Processed 6022 (100.0%) in 5.14 sec. Users per second: 1172\n"
     ]
    },
    {
     "name": "stderr",
     "output_type": "stream",
     "text": [
      "[I 2023-11-23 12:46:39,158] Trial 34 finished with value: 0.10451978328140711 and parameters: {'similarity': 'asymmetric', 'topK': 49, 'shrink': 24, 'asymmetric_alpha': 0.3870235852570647}. Best is trial 33 with value: 0.10564197809091518.\n"
     ]
    },
    {
     "name": "stdout",
     "output_type": "stream",
     "text": [
      "ItemKNNCFRecommender: URM Detected 226 ( 5.8%) items with no interactions.\n",
      "Similarity column 3883 (100.0%), 2611.08 column/sec. Elapsed time 1.49 sec\n",
      "EvaluatorHoldout: Processed 6022 (100.0%) in 5.23 sec. Users per second: 1152\n"
     ]
    },
    {
     "name": "stderr",
     "output_type": "stream",
     "text": [
      "[I 2023-11-23 12:46:46,002] Trial 35 finished with value: 0.0987096980384093 and parameters: {'similarity': 'asymmetric', 'topK': 53, 'shrink': 122, 'asymmetric_alpha': 0.5125017120514131}. Best is trial 33 with value: 0.10564197809091518.\n"
     ]
    },
    {
     "name": "stdout",
     "output_type": "stream",
     "text": [
      "ItemKNNCFRecommender: URM Detected 226 ( 5.8%) items with no interactions.\n",
      "Similarity column 3883 (100.0%), 4504.86 column/sec. Elapsed time 0.86 sec\n",
      "EvaluatorHoldout: Processed 6022 (100.0%) in 4.92 sec. Users per second: 1224\n"
     ]
    },
    {
     "name": "stderr",
     "output_type": "stream",
     "text": [
      "[I 2023-11-23 12:46:51,911] Trial 36 finished with value: 0.09482641689466684 and parameters: {'similarity': 'asymmetric', 'topK': 258, 'shrink': 79, 'asymmetric_alpha': 0.0038898800348673435}. Best is trial 33 with value: 0.10564197809091518.\n"
     ]
    },
    {
     "name": "stdout",
     "output_type": "stream",
     "text": [
      "ItemKNNCFRecommender: URM Detected 226 ( 5.8%) items with no interactions.\n",
      "Similarity column 3883 (100.0%), 2776.00 column/sec. Elapsed time 1.40 sec\n",
      "EvaluatorHoldout: Processed 6022 (100.0%) in 7.05 sec. Users per second: 854\n"
     ]
    },
    {
     "name": "stderr",
     "output_type": "stream",
     "text": [
      "[I 2023-11-23 12:47:00,537] Trial 37 finished with value: 0.08368152752078396 and parameters: {'similarity': 'asymmetric', 'topK': 356, 'shrink': 795, 'asymmetric_alpha': 0.691726363631343}. Best is trial 33 with value: 0.10564197809091518.\n"
     ]
    },
    {
     "name": "stdout",
     "output_type": "stream",
     "text": [
      "ItemKNNCFRecommender: URM Detected 226 ( 5.8%) items with no interactions.\n",
      "Similarity column 3883 (100.0%), 3465.21 column/sec. Elapsed time 1.12 sec\n",
      "EvaluatorHoldout: Processed 6022 (100.0%) in 5.35 sec. Users per second: 1126\n"
     ]
    },
    {
     "name": "stderr",
     "output_type": "stream",
     "text": [
      "[I 2023-11-23 12:47:07,137] Trial 38 finished with value: 0.06181458988998047 and parameters: {'similarity': 'asymmetric', 'topK': 72, 'shrink': 157, 'asymmetric_alpha': 0.7520706007823608}. Best is trial 33 with value: 0.10564197809091518.\n"
     ]
    },
    {
     "name": "stdout",
     "output_type": "stream",
     "text": [
      "ItemKNNCFRecommender: URM Detected 226 ( 5.8%) items with no interactions.\n",
      "Similarity column 3883 (100.0%), 2711.72 column/sec. Elapsed time 1.43 sec\n",
      "EvaluatorHoldout: Processed 6022 (100.0%) in 5.91 sec. Users per second: 1019\n"
     ]
    },
    {
     "name": "stderr",
     "output_type": "stream",
     "text": [
      "[I 2023-11-23 12:47:14,628] Trial 39 finished with value: 0.10334037102054364 and parameters: {'similarity': 'asymmetric', 'topK': 215, 'shrink': 720, 'asymmetric_alpha': 0.3021515903478693}. Best is trial 33 with value: 0.10564197809091518.\n"
     ]
    },
    {
     "name": "stdout",
     "output_type": "stream",
     "text": [
      "ItemKNNCFRecommender: URM Detected 226 ( 5.8%) items with no interactions.\n",
      "Similarity column 3883 (100.0%), 2526.54 column/sec. Elapsed time 1.54 sec\n",
      "EvaluatorHoldout: Processed 6022 (100.0%) in 5.11 sec. Users per second: 1180\n"
     ]
    },
    {
     "name": "stderr",
     "output_type": "stream",
     "text": [
      "[I 2023-11-23 12:47:21,404] Trial 40 finished with value: 0.0018026561338583907 and parameters: {'similarity': 'asymmetric', 'topK': 17, 'shrink': 7, 'asymmetric_alpha': 0.9624509718698115}. Best is trial 33 with value: 0.10564197809091518.\n"
     ]
    },
    {
     "name": "stdout",
     "output_type": "stream",
     "text": [
      "ItemKNNCFRecommender: URM Detected 226 ( 5.8%) items with no interactions.\n",
      "Similarity column 3883 (100.0%), 2441.25 column/sec. Elapsed time 1.59 sec\n",
      "EvaluatorHoldout: Processed 6022 (100.0%) in 5.89 sec. Users per second: 1023\n"
     ]
    },
    {
     "name": "stderr",
     "output_type": "stream",
     "text": [
      "[I 2023-11-23 12:47:29,027] Trial 41 finished with value: 0.10491223977690226 and parameters: {'similarity': 'asymmetric', 'topK': 77, 'shrink': 57, 'asymmetric_alpha': 0.4304746657968633}. Best is trial 33 with value: 0.10564197809091518.\n"
     ]
    },
    {
     "name": "stdout",
     "output_type": "stream",
     "text": [
      "ItemKNNCFRecommender: URM Detected 226 ( 5.8%) items with no interactions.\n",
      "Similarity column 3883 (100.0%), 2602.09 column/sec. Elapsed time 1.49 sec\n",
      "EvaluatorHoldout: Processed 6022 (100.0%) in 5.63 sec. Users per second: 1069\n"
     ]
    },
    {
     "name": "stderr",
     "output_type": "stream",
     "text": [
      "[I 2023-11-23 12:47:36,295] Trial 42 finished with value: 0.10377814415924648 and parameters: {'similarity': 'asymmetric', 'topK': 110, 'shrink': 49, 'asymmetric_alpha': 0.47688493929057174}. Best is trial 33 with value: 0.10564197809091518.\n"
     ]
    },
    {
     "name": "stdout",
     "output_type": "stream",
     "text": [
      "ItemKNNCFRecommender: URM Detected 226 ( 5.8%) items with no interactions.\n",
      "Similarity column 3883 (100.0%), 2493.49 column/sec. Elapsed time 1.56 sec\n",
      "EvaluatorHoldout: Processed 6022 (100.0%) in 5.33 sec. Users per second: 1130\n"
     ]
    },
    {
     "name": "stderr",
     "output_type": "stream",
     "text": [
      "[I 2023-11-23 12:47:43,336] Trial 43 finished with value: 0.10616575203091284 and parameters: {'similarity': 'asymmetric', 'topK': 192, 'shrink': 110, 'asymmetric_alpha': 0.15610763063806515}. Best is trial 43 with value: 0.10616575203091284.\n"
     ]
    },
    {
     "name": "stdout",
     "output_type": "stream",
     "text": [
      "ItemKNNCFRecommender: URM Detected 226 ( 5.8%) items with no interactions.\n",
      "Similarity column 3883 (100.0%), 2497.71 column/sec. Elapsed time 1.55 sec\n",
      "EvaluatorHoldout: Processed 6022 (100.0%) in 5.56 sec. Users per second: 1082\n"
     ]
    },
    {
     "name": "stderr",
     "output_type": "stream",
     "text": [
      "[I 2023-11-23 12:47:50,579] Trial 44 finished with value: 0.09943188467681979 and parameters: {'similarity': 'asymmetric', 'topK': 62, 'shrink': 104, 'asymmetric_alpha': 0.11174899835039384}. Best is trial 43 with value: 0.10616575203091284.\n"
     ]
    },
    {
     "name": "stdout",
     "output_type": "stream",
     "text": [
      "ItemKNNCFRecommender: URM Detected 226 ( 5.8%) items with no interactions.\n",
      "Similarity column 3883 (100.0%), 3374.27 column/sec. Elapsed time 1.15 sec\n",
      "EvaluatorHoldout: Processed 6022 (100.0%) in 8.19 sec. Users per second: 735\n"
     ]
    },
    {
     "name": "stderr",
     "output_type": "stream",
     "text": [
      "[I 2023-11-23 12:48:00,199] Trial 45 finished with value: 0.0903767798495464 and parameters: {'similarity': 'asymmetric', 'topK': 953, 'shrink': 285, 'asymmetric_alpha': 0.2662054367035009}. Best is trial 43 with value: 0.10616575203091284.\n"
     ]
    },
    {
     "name": "stdout",
     "output_type": "stream",
     "text": [
      "ItemKNNCFRecommender: URM Detected 226 ( 5.8%) items with no interactions.\n",
      "Similarity column 3883 (100.0%), 3366.36 column/sec. Elapsed time 1.15 sec\n",
      "EvaluatorHoldout: Processed 6022 (100.0%) in 6.32 sec. Users per second: 953\n"
     ]
    },
    {
     "name": "stderr",
     "output_type": "stream",
     "text": [
      "[I 2023-11-23 12:48:07,837] Trial 46 finished with value: 0.10517473628441688 and parameters: {'similarity': 'asymmetric', 'topK': 200, 'shrink': 155, 'asymmetric_alpha': 0.40037821193415}. Best is trial 43 with value: 0.10616575203091284.\n"
     ]
    },
    {
     "name": "stdout",
     "output_type": "stream",
     "text": [
      "ItemKNNCFRecommender: URM Detected 226 ( 5.8%) items with no interactions.\n",
      "Similarity column 3883 (100.0%), 2483.48 column/sec. Elapsed time 1.56 sec\n",
      "EvaluatorHoldout: Processed 6022 (100.0%) in 6.02 sec. Users per second: 1001\n"
     ]
    },
    {
     "name": "stderr",
     "output_type": "stream",
     "text": [
      "[I 2023-11-23 12:48:15,593] Trial 47 finished with value: 0.10475646834622215 and parameters: {'similarity': 'asymmetric', 'topK': 293, 'shrink': 155, 'asymmetric_alpha': 0.11203022243580418}. Best is trial 43 with value: 0.10616575203091284.\n"
     ]
    },
    {
     "name": "stdout",
     "output_type": "stream",
     "text": [
      "ItemKNNCFRecommender: URM Detected 226 ( 5.8%) items with no interactions.\n",
      "Similarity column 3883 (100.0%), 4075.28 column/sec. Elapsed time 0.95 sec\n",
      "EvaluatorHoldout: Processed 6022 (100.0%) in 5.70 sec. Users per second: 1057\n"
     ]
    },
    {
     "name": "stderr",
     "output_type": "stream",
     "text": [
      "[I 2023-11-23 12:48:22,383] Trial 48 finished with value: 0.10323093762025944 and parameters: {'similarity': 'asymmetric', 'topK': 196, 'shrink': 863, 'asymmetric_alpha': 0.28670516289944026}. Best is trial 43 with value: 0.10616575203091284.\n"
     ]
    },
    {
     "name": "stdout",
     "output_type": "stream",
     "text": [
      "ItemKNNCFRecommender: URM Detected 226 ( 5.8%) items with no interactions.\n",
      "Similarity column 3883 (100.0%), 2451.57 column/sec. Elapsed time 1.58 sec\n",
      "EvaluatorHoldout: Processed 6022 (100.0%) in 7.20 sec. Users per second: 836\n"
     ]
    },
    {
     "name": "stderr",
     "output_type": "stream",
     "text": [
      "[I 2023-11-23 12:48:31,401] Trial 49 finished with value: 0.09858953018825156 and parameters: {'similarity': 'dice', 'topK': 352, 'shrink': 568}. Best is trial 43 with value: 0.10616575203091284.\n"
     ]
    }
   ],
   "source": [
    "optuna_study = optuna.create_study(direction=\"maximize\")\n",
    "        \n",
    "save_results = SaveResults()\n",
    "        \n",
    "optuna_study.optimize(objective_function_KNN_similarities,\n",
    "                      callbacks=[save_results],\n",
    "                      n_trials = 50)"
   ]
  },
  {
   "cell_type": "code",
   "execution_count": 13,
   "id": "9e4aa9e8",
   "metadata": {},
   "outputs": [
    {
     "data": {
      "text/html": [
       "<div>\n",
       "<style scoped>\n",
       "    .dataframe tbody tr th:only-of-type {\n",
       "        vertical-align: middle;\n",
       "    }\n",
       "\n",
       "    .dataframe tbody tr th {\n",
       "        vertical-align: top;\n",
       "    }\n",
       "\n",
       "    .dataframe thead th {\n",
       "        text-align: right;\n",
       "    }\n",
       "</style>\n",
       "<table border=\"1\" class=\"dataframe\">\n",
       "  <thead>\n",
       "    <tr style=\"text-align: right;\">\n",
       "      <th></th>\n",
       "      <th>asymmetric_alpha</th>\n",
       "      <th>result</th>\n",
       "      <th>shrink</th>\n",
       "      <th>similarity</th>\n",
       "      <th>topK</th>\n",
       "      <th>tversky_alpha</th>\n",
       "      <th>tversky_beta</th>\n",
       "      <th>normalize</th>\n",
       "      <th>normalize_avg_row</th>\n",
       "      <th>similarity_from_distance_mode</th>\n",
       "    </tr>\n",
       "  </thead>\n",
       "  <tbody>\n",
       "    <tr>\n",
       "      <th>0</th>\n",
       "      <td>1.553828</td>\n",
       "      <td>0.014323</td>\n",
       "      <td>548.0</td>\n",
       "      <td>asymmetric</td>\n",
       "      <td>315.0</td>\n",
       "      <td>NaN</td>\n",
       "      <td>NaN</td>\n",
       "      <td>NaN</td>\n",
       "      <td>NaN</td>\n",
       "      <td>NaN</td>\n",
       "    </tr>\n",
       "    <tr>\n",
       "      <th>1</th>\n",
       "      <td>NaN</td>\n",
       "      <td>0.097794</td>\n",
       "      <td>151.0</td>\n",
       "      <td>tversky</td>\n",
       "      <td>547.0</td>\n",
       "      <td>0.738106</td>\n",
       "      <td>0.901843</td>\n",
       "      <td>NaN</td>\n",
       "      <td>NaN</td>\n",
       "      <td>NaN</td>\n",
       "    </tr>\n",
       "    <tr>\n",
       "      <th>2</th>\n",
       "      <td>NaN</td>\n",
       "      <td>0.097225</td>\n",
       "      <td>773.0</td>\n",
       "      <td>cosine</td>\n",
       "      <td>982.0</td>\n",
       "      <td>NaN</td>\n",
       "      <td>NaN</td>\n",
       "      <td>NaN</td>\n",
       "      <td>NaN</td>\n",
       "      <td>NaN</td>\n",
       "    </tr>\n",
       "    <tr>\n",
       "      <th>3</th>\n",
       "      <td>NaN</td>\n",
       "      <td>0.098334</td>\n",
       "      <td>115.0</td>\n",
       "      <td>dice</td>\n",
       "      <td>231.0</td>\n",
       "      <td>NaN</td>\n",
       "      <td>NaN</td>\n",
       "      <td>NaN</td>\n",
       "      <td>NaN</td>\n",
       "      <td>NaN</td>\n",
       "    </tr>\n",
       "    <tr>\n",
       "      <th>4</th>\n",
       "      <td>1.807630</td>\n",
       "      <td>0.014564</td>\n",
       "      <td>837.0</td>\n",
       "      <td>asymmetric</td>\n",
       "      <td>895.0</td>\n",
       "      <td>NaN</td>\n",
       "      <td>NaN</td>\n",
       "      <td>NaN</td>\n",
       "      <td>NaN</td>\n",
       "      <td>NaN</td>\n",
       "    </tr>\n",
       "    <tr>\n",
       "      <th>5</th>\n",
       "      <td>NaN</td>\n",
       "      <td>0.085886</td>\n",
       "      <td>72.0</td>\n",
       "      <td>euclidean</td>\n",
       "      <td>569.0</td>\n",
       "      <td>NaN</td>\n",
       "      <td>NaN</td>\n",
       "      <td>0.0</td>\n",
       "      <td>1.0</td>\n",
       "      <td>lin</td>\n",
       "    </tr>\n",
       "    <tr>\n",
       "      <th>6</th>\n",
       "      <td>NaN</td>\n",
       "      <td>0.093072</td>\n",
       "      <td>758.0</td>\n",
       "      <td>jaccard</td>\n",
       "      <td>638.0</td>\n",
       "      <td>NaN</td>\n",
       "      <td>NaN</td>\n",
       "      <td>NaN</td>\n",
       "      <td>NaN</td>\n",
       "      <td>NaN</td>\n",
       "    </tr>\n",
       "    <tr>\n",
       "      <th>7</th>\n",
       "      <td>1.691509</td>\n",
       "      <td>0.011258</td>\n",
       "      <td>286.0</td>\n",
       "      <td>asymmetric</td>\n",
       "      <td>230.0</td>\n",
       "      <td>NaN</td>\n",
       "      <td>NaN</td>\n",
       "      <td>NaN</td>\n",
       "      <td>NaN</td>\n",
       "      <td>NaN</td>\n",
       "    </tr>\n",
       "    <tr>\n",
       "      <th>8</th>\n",
       "      <td>NaN</td>\n",
       "      <td>0.101108</td>\n",
       "      <td>526.0</td>\n",
       "      <td>cosine</td>\n",
       "      <td>610.0</td>\n",
       "      <td>NaN</td>\n",
       "      <td>NaN</td>\n",
       "      <td>NaN</td>\n",
       "      <td>NaN</td>\n",
       "      <td>NaN</td>\n",
       "    </tr>\n",
       "    <tr>\n",
       "      <th>9</th>\n",
       "      <td>NaN</td>\n",
       "      <td>0.094858</td>\n",
       "      <td>922.0</td>\n",
       "      <td>dice</td>\n",
       "      <td>498.0</td>\n",
       "      <td>NaN</td>\n",
       "      <td>NaN</td>\n",
       "      <td>NaN</td>\n",
       "      <td>NaN</td>\n",
       "      <td>NaN</td>\n",
       "    </tr>\n",
       "    <tr>\n",
       "      <th>10</th>\n",
       "      <td>NaN</td>\n",
       "      <td>0.098177</td>\n",
       "      <td>501.0</td>\n",
       "      <td>cosine</td>\n",
       "      <td>37.0</td>\n",
       "      <td>NaN</td>\n",
       "      <td>NaN</td>\n",
       "      <td>NaN</td>\n",
       "      <td>NaN</td>\n",
       "      <td>NaN</td>\n",
       "    </tr>\n",
       "    <tr>\n",
       "      <th>11</th>\n",
       "      <td>NaN</td>\n",
       "      <td>0.094800</td>\n",
       "      <td>319.0</td>\n",
       "      <td>dice</td>\n",
       "      <td>765.0</td>\n",
       "      <td>NaN</td>\n",
       "      <td>NaN</td>\n",
       "      <td>NaN</td>\n",
       "      <td>NaN</td>\n",
       "      <td>NaN</td>\n",
       "    </tr>\n",
       "    <tr>\n",
       "      <th>12</th>\n",
       "      <td>NaN</td>\n",
       "      <td>0.099608</td>\n",
       "      <td>356.0</td>\n",
       "      <td>dice</td>\n",
       "      <td>313.0</td>\n",
       "      <td>NaN</td>\n",
       "      <td>NaN</td>\n",
       "      <td>NaN</td>\n",
       "      <td>NaN</td>\n",
       "      <td>NaN</td>\n",
       "    </tr>\n",
       "    <tr>\n",
       "      <th>13</th>\n",
       "      <td>NaN</td>\n",
       "      <td>0.103215</td>\n",
       "      <td>601.0</td>\n",
       "      <td>cosine</td>\n",
       "      <td>398.0</td>\n",
       "      <td>NaN</td>\n",
       "      <td>NaN</td>\n",
       "      <td>NaN</td>\n",
       "      <td>NaN</td>\n",
       "      <td>NaN</td>\n",
       "    </tr>\n",
       "    <tr>\n",
       "      <th>14</th>\n",
       "      <td>NaN</td>\n",
       "      <td>0.102831</td>\n",
       "      <td>616.0</td>\n",
       "      <td>cosine</td>\n",
       "      <td>418.0</td>\n",
       "      <td>NaN</td>\n",
       "      <td>NaN</td>\n",
       "      <td>NaN</td>\n",
       "      <td>NaN</td>\n",
       "      <td>NaN</td>\n",
       "    </tr>\n",
       "    <tr>\n",
       "      <th>15</th>\n",
       "      <td>NaN</td>\n",
       "      <td>0.102949</td>\n",
       "      <td>659.0</td>\n",
       "      <td>cosine</td>\n",
       "      <td>425.0</td>\n",
       "      <td>NaN</td>\n",
       "      <td>NaN</td>\n",
       "      <td>NaN</td>\n",
       "      <td>NaN</td>\n",
       "      <td>NaN</td>\n",
       "    </tr>\n",
       "    <tr>\n",
       "      <th>16</th>\n",
       "      <td>NaN</td>\n",
       "      <td>0.102080</td>\n",
       "      <td>661.0</td>\n",
       "      <td>cosine</td>\n",
       "      <td>106.0</td>\n",
       "      <td>NaN</td>\n",
       "      <td>NaN</td>\n",
       "      <td>NaN</td>\n",
       "      <td>NaN</td>\n",
       "      <td>NaN</td>\n",
       "    </tr>\n",
       "    <tr>\n",
       "      <th>17</th>\n",
       "      <td>NaN</td>\n",
       "      <td>0.067047</td>\n",
       "      <td>396.0</td>\n",
       "      <td>euclidean</td>\n",
       "      <td>421.0</td>\n",
       "      <td>NaN</td>\n",
       "      <td>NaN</td>\n",
       "      <td>1.0</td>\n",
       "      <td>0.0</td>\n",
       "      <td>exp</td>\n",
       "    </tr>\n",
       "    <tr>\n",
       "      <th>18</th>\n",
       "      <td>NaN</td>\n",
       "      <td>0.091093</td>\n",
       "      <td>974.0</td>\n",
       "      <td>jaccard</td>\n",
       "      <td>715.0</td>\n",
       "      <td>NaN</td>\n",
       "      <td>NaN</td>\n",
       "      <td>NaN</td>\n",
       "      <td>NaN</td>\n",
       "      <td>NaN</td>\n",
       "    </tr>\n",
       "    <tr>\n",
       "      <th>19</th>\n",
       "      <td>NaN</td>\n",
       "      <td>0.087411</td>\n",
       "      <td>688.0</td>\n",
       "      <td>tversky</td>\n",
       "      <td>426.0</td>\n",
       "      <td>0.001590</td>\n",
       "      <td>1.924992</td>\n",
       "      <td>NaN</td>\n",
       "      <td>NaN</td>\n",
       "      <td>NaN</td>\n",
       "    </tr>\n",
       "    <tr>\n",
       "      <th>20</th>\n",
       "      <td>NaN</td>\n",
       "      <td>0.103870</td>\n",
       "      <td>415.0</td>\n",
       "      <td>cosine</td>\n",
       "      <td>166.0</td>\n",
       "      <td>NaN</td>\n",
       "      <td>NaN</td>\n",
       "      <td>NaN</td>\n",
       "      <td>NaN</td>\n",
       "      <td>NaN</td>\n",
       "    </tr>\n",
       "    <tr>\n",
       "      <th>21</th>\n",
       "      <td>NaN</td>\n",
       "      <td>0.104193</td>\n",
       "      <td>465.0</td>\n",
       "      <td>cosine</td>\n",
       "      <td>160.0</td>\n",
       "      <td>NaN</td>\n",
       "      <td>NaN</td>\n",
       "      <td>NaN</td>\n",
       "      <td>NaN</td>\n",
       "      <td>NaN</td>\n",
       "    </tr>\n",
       "    <tr>\n",
       "      <th>22</th>\n",
       "      <td>NaN</td>\n",
       "      <td>0.104184</td>\n",
       "      <td>431.0</td>\n",
       "      <td>cosine</td>\n",
       "      <td>161.0</td>\n",
       "      <td>NaN</td>\n",
       "      <td>NaN</td>\n",
       "      <td>NaN</td>\n",
       "      <td>NaN</td>\n",
       "      <td>NaN</td>\n",
       "    </tr>\n",
       "    <tr>\n",
       "      <th>23</th>\n",
       "      <td>NaN</td>\n",
       "      <td>0.104009</td>\n",
       "      <td>423.0</td>\n",
       "      <td>cosine</td>\n",
       "      <td>154.0</td>\n",
       "      <td>NaN</td>\n",
       "      <td>NaN</td>\n",
       "      <td>NaN</td>\n",
       "      <td>NaN</td>\n",
       "      <td>NaN</td>\n",
       "    </tr>\n",
       "    <tr>\n",
       "      <th>24</th>\n",
       "      <td>NaN</td>\n",
       "      <td>0.085576</td>\n",
       "      <td>224.0</td>\n",
       "      <td>cosine</td>\n",
       "      <td>8.0</td>\n",
       "      <td>NaN</td>\n",
       "      <td>NaN</td>\n",
       "      <td>NaN</td>\n",
       "      <td>NaN</td>\n",
       "      <td>NaN</td>\n",
       "    </tr>\n",
       "    <tr>\n",
       "      <th>25</th>\n",
       "      <td>NaN</td>\n",
       "      <td>0.102974</td>\n",
       "      <td>466.0</td>\n",
       "      <td>cosine</td>\n",
       "      <td>127.0</td>\n",
       "      <td>NaN</td>\n",
       "      <td>NaN</td>\n",
       "      <td>NaN</td>\n",
       "      <td>NaN</td>\n",
       "      <td>NaN</td>\n",
       "    </tr>\n",
       "    <tr>\n",
       "      <th>26</th>\n",
       "      <td>NaN</td>\n",
       "      <td>0.104885</td>\n",
       "      <td>3.0</td>\n",
       "      <td>cosine</td>\n",
       "      <td>234.0</td>\n",
       "      <td>NaN</td>\n",
       "      <td>NaN</td>\n",
       "      <td>NaN</td>\n",
       "      <td>NaN</td>\n",
       "      <td>NaN</td>\n",
       "    </tr>\n",
       "    <tr>\n",
       "      <th>27</th>\n",
       "      <td>NaN</td>\n",
       "      <td>0.023722</td>\n",
       "      <td>30.0</td>\n",
       "      <td>tversky</td>\n",
       "      <td>270.0</td>\n",
       "      <td>1.871739</td>\n",
       "      <td>0.011789</td>\n",
       "      <td>NaN</td>\n",
       "      <td>NaN</td>\n",
       "      <td>NaN</td>\n",
       "    </tr>\n",
       "    <tr>\n",
       "      <th>28</th>\n",
       "      <td>NaN</td>\n",
       "      <td>0.095055</td>\n",
       "      <td>187.0</td>\n",
       "      <td>euclidean</td>\n",
       "      <td>96.0</td>\n",
       "      <td>NaN</td>\n",
       "      <td>NaN</td>\n",
       "      <td>0.0</td>\n",
       "      <td>1.0</td>\n",
       "      <td>log</td>\n",
       "    </tr>\n",
       "    <tr>\n",
       "      <th>29</th>\n",
       "      <td>NaN</td>\n",
       "      <td>0.099225</td>\n",
       "      <td>233.0</td>\n",
       "      <td>jaccard</td>\n",
       "      <td>310.0</td>\n",
       "      <td>NaN</td>\n",
       "      <td>NaN</td>\n",
       "      <td>NaN</td>\n",
       "      <td>NaN</td>\n",
       "      <td>NaN</td>\n",
       "    </tr>\n",
       "    <tr>\n",
       "      <th>30</th>\n",
       "      <td>0.418352</td>\n",
       "      <td>0.105139</td>\n",
       "      <td>565.0</td>\n",
       "      <td>asymmetric</td>\n",
       "      <td>204.0</td>\n",
       "      <td>NaN</td>\n",
       "      <td>NaN</td>\n",
       "      <td>NaN</td>\n",
       "      <td>NaN</td>\n",
       "      <td>NaN</td>\n",
       "    </tr>\n",
       "    <tr>\n",
       "      <th>31</th>\n",
       "      <td>0.191234</td>\n",
       "      <td>0.103668</td>\n",
       "      <td>561.0</td>\n",
       "      <td>asymmetric</td>\n",
       "      <td>206.0</td>\n",
       "      <td>NaN</td>\n",
       "      <td>NaN</td>\n",
       "      <td>NaN</td>\n",
       "      <td>NaN</td>\n",
       "      <td>NaN</td>\n",
       "    </tr>\n",
       "    <tr>\n",
       "      <th>32</th>\n",
       "      <td>0.380051</td>\n",
       "      <td>0.105345</td>\n",
       "      <td>480.0</td>\n",
       "      <td>asymmetric</td>\n",
       "      <td>76.0</td>\n",
       "      <td>NaN</td>\n",
       "      <td>NaN</td>\n",
       "      <td>NaN</td>\n",
       "      <td>NaN</td>\n",
       "      <td>NaN</td>\n",
       "    </tr>\n",
       "    <tr>\n",
       "      <th>33</th>\n",
       "      <td>0.360438</td>\n",
       "      <td>0.105642</td>\n",
       "      <td>1.0</td>\n",
       "      <td>asymmetric</td>\n",
       "      <td>66.0</td>\n",
       "      <td>NaN</td>\n",
       "      <td>NaN</td>\n",
       "      <td>NaN</td>\n",
       "      <td>NaN</td>\n",
       "      <td>NaN</td>\n",
       "    </tr>\n",
       "    <tr>\n",
       "      <th>34</th>\n",
       "      <td>0.387024</td>\n",
       "      <td>0.104520</td>\n",
       "      <td>24.0</td>\n",
       "      <td>asymmetric</td>\n",
       "      <td>49.0</td>\n",
       "      <td>NaN</td>\n",
       "      <td>NaN</td>\n",
       "      <td>NaN</td>\n",
       "      <td>NaN</td>\n",
       "      <td>NaN</td>\n",
       "    </tr>\n",
       "    <tr>\n",
       "      <th>35</th>\n",
       "      <td>0.512502</td>\n",
       "      <td>0.098710</td>\n",
       "      <td>122.0</td>\n",
       "      <td>asymmetric</td>\n",
       "      <td>53.0</td>\n",
       "      <td>NaN</td>\n",
       "      <td>NaN</td>\n",
       "      <td>NaN</td>\n",
       "      <td>NaN</td>\n",
       "      <td>NaN</td>\n",
       "    </tr>\n",
       "    <tr>\n",
       "      <th>36</th>\n",
       "      <td>0.003890</td>\n",
       "      <td>0.094826</td>\n",
       "      <td>79.0</td>\n",
       "      <td>asymmetric</td>\n",
       "      <td>258.0</td>\n",
       "      <td>NaN</td>\n",
       "      <td>NaN</td>\n",
       "      <td>NaN</td>\n",
       "      <td>NaN</td>\n",
       "      <td>NaN</td>\n",
       "    </tr>\n",
       "    <tr>\n",
       "      <th>37</th>\n",
       "      <td>0.691726</td>\n",
       "      <td>0.083682</td>\n",
       "      <td>795.0</td>\n",
       "      <td>asymmetric</td>\n",
       "      <td>356.0</td>\n",
       "      <td>NaN</td>\n",
       "      <td>NaN</td>\n",
       "      <td>NaN</td>\n",
       "      <td>NaN</td>\n",
       "      <td>NaN</td>\n",
       "    </tr>\n",
       "    <tr>\n",
       "      <th>38</th>\n",
       "      <td>0.752071</td>\n",
       "      <td>0.061815</td>\n",
       "      <td>157.0</td>\n",
       "      <td>asymmetric</td>\n",
       "      <td>72.0</td>\n",
       "      <td>NaN</td>\n",
       "      <td>NaN</td>\n",
       "      <td>NaN</td>\n",
       "      <td>NaN</td>\n",
       "      <td>NaN</td>\n",
       "    </tr>\n",
       "    <tr>\n",
       "      <th>39</th>\n",
       "      <td>0.302152</td>\n",
       "      <td>0.103340</td>\n",
       "      <td>720.0</td>\n",
       "      <td>asymmetric</td>\n",
       "      <td>215.0</td>\n",
       "      <td>NaN</td>\n",
       "      <td>NaN</td>\n",
       "      <td>NaN</td>\n",
       "      <td>NaN</td>\n",
       "      <td>NaN</td>\n",
       "    </tr>\n",
       "    <tr>\n",
       "      <th>40</th>\n",
       "      <td>0.962451</td>\n",
       "      <td>0.001803</td>\n",
       "      <td>7.0</td>\n",
       "      <td>asymmetric</td>\n",
       "      <td>17.0</td>\n",
       "      <td>NaN</td>\n",
       "      <td>NaN</td>\n",
       "      <td>NaN</td>\n",
       "      <td>NaN</td>\n",
       "      <td>NaN</td>\n",
       "    </tr>\n",
       "    <tr>\n",
       "      <th>41</th>\n",
       "      <td>0.430475</td>\n",
       "      <td>0.104912</td>\n",
       "      <td>57.0</td>\n",
       "      <td>asymmetric</td>\n",
       "      <td>77.0</td>\n",
       "      <td>NaN</td>\n",
       "      <td>NaN</td>\n",
       "      <td>NaN</td>\n",
       "      <td>NaN</td>\n",
       "      <td>NaN</td>\n",
       "    </tr>\n",
       "    <tr>\n",
       "      <th>42</th>\n",
       "      <td>0.476885</td>\n",
       "      <td>0.103778</td>\n",
       "      <td>49.0</td>\n",
       "      <td>asymmetric</td>\n",
       "      <td>110.0</td>\n",
       "      <td>NaN</td>\n",
       "      <td>NaN</td>\n",
       "      <td>NaN</td>\n",
       "      <td>NaN</td>\n",
       "      <td>NaN</td>\n",
       "    </tr>\n",
       "    <tr>\n",
       "      <th>43</th>\n",
       "      <td>0.156108</td>\n",
       "      <td>0.106166</td>\n",
       "      <td>110.0</td>\n",
       "      <td>asymmetric</td>\n",
       "      <td>192.0</td>\n",
       "      <td>NaN</td>\n",
       "      <td>NaN</td>\n",
       "      <td>NaN</td>\n",
       "      <td>NaN</td>\n",
       "      <td>NaN</td>\n",
       "    </tr>\n",
       "    <tr>\n",
       "      <th>44</th>\n",
       "      <td>0.111749</td>\n",
       "      <td>0.099432</td>\n",
       "      <td>104.0</td>\n",
       "      <td>asymmetric</td>\n",
       "      <td>62.0</td>\n",
       "      <td>NaN</td>\n",
       "      <td>NaN</td>\n",
       "      <td>NaN</td>\n",
       "      <td>NaN</td>\n",
       "      <td>NaN</td>\n",
       "    </tr>\n",
       "    <tr>\n",
       "      <th>45</th>\n",
       "      <td>0.266205</td>\n",
       "      <td>0.090377</td>\n",
       "      <td>285.0</td>\n",
       "      <td>asymmetric</td>\n",
       "      <td>953.0</td>\n",
       "      <td>NaN</td>\n",
       "      <td>NaN</td>\n",
       "      <td>NaN</td>\n",
       "      <td>NaN</td>\n",
       "      <td>NaN</td>\n",
       "    </tr>\n",
       "    <tr>\n",
       "      <th>46</th>\n",
       "      <td>0.400378</td>\n",
       "      <td>0.105175</td>\n",
       "      <td>155.0</td>\n",
       "      <td>asymmetric</td>\n",
       "      <td>200.0</td>\n",
       "      <td>NaN</td>\n",
       "      <td>NaN</td>\n",
       "      <td>NaN</td>\n",
       "      <td>NaN</td>\n",
       "      <td>NaN</td>\n",
       "    </tr>\n",
       "    <tr>\n",
       "      <th>47</th>\n",
       "      <td>0.112030</td>\n",
       "      <td>0.104756</td>\n",
       "      <td>155.0</td>\n",
       "      <td>asymmetric</td>\n",
       "      <td>293.0</td>\n",
       "      <td>NaN</td>\n",
       "      <td>NaN</td>\n",
       "      <td>NaN</td>\n",
       "      <td>NaN</td>\n",
       "      <td>NaN</td>\n",
       "    </tr>\n",
       "    <tr>\n",
       "      <th>48</th>\n",
       "      <td>0.286705</td>\n",
       "      <td>0.103231</td>\n",
       "      <td>863.0</td>\n",
       "      <td>asymmetric</td>\n",
       "      <td>196.0</td>\n",
       "      <td>NaN</td>\n",
       "      <td>NaN</td>\n",
       "      <td>NaN</td>\n",
       "      <td>NaN</td>\n",
       "      <td>NaN</td>\n",
       "    </tr>\n",
       "    <tr>\n",
       "      <th>49</th>\n",
       "      <td>NaN</td>\n",
       "      <td>0.098590</td>\n",
       "      <td>568.0</td>\n",
       "      <td>dice</td>\n",
       "      <td>352.0</td>\n",
       "      <td>NaN</td>\n",
       "      <td>NaN</td>\n",
       "      <td>NaN</td>\n",
       "      <td>NaN</td>\n",
       "      <td>NaN</td>\n",
       "    </tr>\n",
       "  </tbody>\n",
       "</table>\n",
       "</div>"
      ],
      "text/plain": [
       "    asymmetric_alpha    result  shrink  similarity   topK  tversky_alpha  \\\n",
       "0           1.553828  0.014323   548.0  asymmetric  315.0            NaN   \n",
       "1                NaN  0.097794   151.0     tversky  547.0       0.738106   \n",
       "2                NaN  0.097225   773.0      cosine  982.0            NaN   \n",
       "3                NaN  0.098334   115.0        dice  231.0            NaN   \n",
       "4           1.807630  0.014564   837.0  asymmetric  895.0            NaN   \n",
       "5                NaN  0.085886    72.0   euclidean  569.0            NaN   \n",
       "6                NaN  0.093072   758.0     jaccard  638.0            NaN   \n",
       "7           1.691509  0.011258   286.0  asymmetric  230.0            NaN   \n",
       "8                NaN  0.101108   526.0      cosine  610.0            NaN   \n",
       "9                NaN  0.094858   922.0        dice  498.0            NaN   \n",
       "10               NaN  0.098177   501.0      cosine   37.0            NaN   \n",
       "11               NaN  0.094800   319.0        dice  765.0            NaN   \n",
       "12               NaN  0.099608   356.0        dice  313.0            NaN   \n",
       "13               NaN  0.103215   601.0      cosine  398.0            NaN   \n",
       "14               NaN  0.102831   616.0      cosine  418.0            NaN   \n",
       "15               NaN  0.102949   659.0      cosine  425.0            NaN   \n",
       "16               NaN  0.102080   661.0      cosine  106.0            NaN   \n",
       "17               NaN  0.067047   396.0   euclidean  421.0            NaN   \n",
       "18               NaN  0.091093   974.0     jaccard  715.0            NaN   \n",
       "19               NaN  0.087411   688.0     tversky  426.0       0.001590   \n",
       "20               NaN  0.103870   415.0      cosine  166.0            NaN   \n",
       "21               NaN  0.104193   465.0      cosine  160.0            NaN   \n",
       "22               NaN  0.104184   431.0      cosine  161.0            NaN   \n",
       "23               NaN  0.104009   423.0      cosine  154.0            NaN   \n",
       "24               NaN  0.085576   224.0      cosine    8.0            NaN   \n",
       "25               NaN  0.102974   466.0      cosine  127.0            NaN   \n",
       "26               NaN  0.104885     3.0      cosine  234.0            NaN   \n",
       "27               NaN  0.023722    30.0     tversky  270.0       1.871739   \n",
       "28               NaN  0.095055   187.0   euclidean   96.0            NaN   \n",
       "29               NaN  0.099225   233.0     jaccard  310.0            NaN   \n",
       "30          0.418352  0.105139   565.0  asymmetric  204.0            NaN   \n",
       "31          0.191234  0.103668   561.0  asymmetric  206.0            NaN   \n",
       "32          0.380051  0.105345   480.0  asymmetric   76.0            NaN   \n",
       "33          0.360438  0.105642     1.0  asymmetric   66.0            NaN   \n",
       "34          0.387024  0.104520    24.0  asymmetric   49.0            NaN   \n",
       "35          0.512502  0.098710   122.0  asymmetric   53.0            NaN   \n",
       "36          0.003890  0.094826    79.0  asymmetric  258.0            NaN   \n",
       "37          0.691726  0.083682   795.0  asymmetric  356.0            NaN   \n",
       "38          0.752071  0.061815   157.0  asymmetric   72.0            NaN   \n",
       "39          0.302152  0.103340   720.0  asymmetric  215.0            NaN   \n",
       "40          0.962451  0.001803     7.0  asymmetric   17.0            NaN   \n",
       "41          0.430475  0.104912    57.0  asymmetric   77.0            NaN   \n",
       "42          0.476885  0.103778    49.0  asymmetric  110.0            NaN   \n",
       "43          0.156108  0.106166   110.0  asymmetric  192.0            NaN   \n",
       "44          0.111749  0.099432   104.0  asymmetric   62.0            NaN   \n",
       "45          0.266205  0.090377   285.0  asymmetric  953.0            NaN   \n",
       "46          0.400378  0.105175   155.0  asymmetric  200.0            NaN   \n",
       "47          0.112030  0.104756   155.0  asymmetric  293.0            NaN   \n",
       "48          0.286705  0.103231   863.0  asymmetric  196.0            NaN   \n",
       "49               NaN  0.098590   568.0        dice  352.0            NaN   \n",
       "\n",
       "    tversky_beta  normalize  normalize_avg_row similarity_from_distance_mode  \n",
       "0            NaN        NaN                NaN                           NaN  \n",
       "1       0.901843        NaN                NaN                           NaN  \n",
       "2            NaN        NaN                NaN                           NaN  \n",
       "3            NaN        NaN                NaN                           NaN  \n",
       "4            NaN        NaN                NaN                           NaN  \n",
       "5            NaN        0.0                1.0                           lin  \n",
       "6            NaN        NaN                NaN                           NaN  \n",
       "7            NaN        NaN                NaN                           NaN  \n",
       "8            NaN        NaN                NaN                           NaN  \n",
       "9            NaN        NaN                NaN                           NaN  \n",
       "10           NaN        NaN                NaN                           NaN  \n",
       "11           NaN        NaN                NaN                           NaN  \n",
       "12           NaN        NaN                NaN                           NaN  \n",
       "13           NaN        NaN                NaN                           NaN  \n",
       "14           NaN        NaN                NaN                           NaN  \n",
       "15           NaN        NaN                NaN                           NaN  \n",
       "16           NaN        NaN                NaN                           NaN  \n",
       "17           NaN        1.0                0.0                           exp  \n",
       "18           NaN        NaN                NaN                           NaN  \n",
       "19      1.924992        NaN                NaN                           NaN  \n",
       "20           NaN        NaN                NaN                           NaN  \n",
       "21           NaN        NaN                NaN                           NaN  \n",
       "22           NaN        NaN                NaN                           NaN  \n",
       "23           NaN        NaN                NaN                           NaN  \n",
       "24           NaN        NaN                NaN                           NaN  \n",
       "25           NaN        NaN                NaN                           NaN  \n",
       "26           NaN        NaN                NaN                           NaN  \n",
       "27      0.011789        NaN                NaN                           NaN  \n",
       "28           NaN        0.0                1.0                           log  \n",
       "29           NaN        NaN                NaN                           NaN  \n",
       "30           NaN        NaN                NaN                           NaN  \n",
       "31           NaN        NaN                NaN                           NaN  \n",
       "32           NaN        NaN                NaN                           NaN  \n",
       "33           NaN        NaN                NaN                           NaN  \n",
       "34           NaN        NaN                NaN                           NaN  \n",
       "35           NaN        NaN                NaN                           NaN  \n",
       "36           NaN        NaN                NaN                           NaN  \n",
       "37           NaN        NaN                NaN                           NaN  \n",
       "38           NaN        NaN                NaN                           NaN  \n",
       "39           NaN        NaN                NaN                           NaN  \n",
       "40           NaN        NaN                NaN                           NaN  \n",
       "41           NaN        NaN                NaN                           NaN  \n",
       "42           NaN        NaN                NaN                           NaN  \n",
       "43           NaN        NaN                NaN                           NaN  \n",
       "44           NaN        NaN                NaN                           NaN  \n",
       "45           NaN        NaN                NaN                           NaN  \n",
       "46           NaN        NaN                NaN                           NaN  \n",
       "47           NaN        NaN                NaN                           NaN  \n",
       "48           NaN        NaN                NaN                           NaN  \n",
       "49           NaN        NaN                NaN                           NaN  "
      ]
     },
     "execution_count": 13,
     "metadata": {},
     "output_type": "execute_result"
    }
   ],
   "source": [
    "save_results.results_df"
   ]
  },
  {
   "cell_type": "code",
   "execution_count": 14,
   "id": "0f0d289b",
   "metadata": {},
   "outputs": [
    {
     "data": {
      "text/plain": [
       "{'similarity': 'asymmetric',\n",
       " 'topK': 192,\n",
       " 'shrink': 110,\n",
       " 'asymmetric_alpha': 0.15610763063806515}"
      ]
     },
     "execution_count": 14,
     "metadata": {},
     "output_type": "execute_result"
    }
   ],
   "source": [
    "optuna_study.best_trial.params"
   ]
  },
  {
   "cell_type": "code",
   "execution_count": 15,
   "id": "ad339553",
   "metadata": {},
   "outputs": [
    {
     "name": "stdout",
     "output_type": "stream",
     "text": [
      "ItemKNNCFRecommender: URM Detected 195 ( 5.0%) items with no interactions.\n",
      "Similarity column 3883 (100.0%), 2154.97 column/sec. Elapsed time 1.80 sec\n",
      "EvaluatorHoldout: Processed 6036 (100.0%) in 5.76 sec. Users per second: 1049\n"
     ]
    },
    {
     "data": {
      "text/html": [
       "<div>\n",
       "<style scoped>\n",
       "    .dataframe tbody tr th:only-of-type {\n",
       "        vertical-align: middle;\n",
       "    }\n",
       "\n",
       "    .dataframe tbody tr th {\n",
       "        vertical-align: top;\n",
       "    }\n",
       "\n",
       "    .dataframe thead th {\n",
       "        text-align: right;\n",
       "    }\n",
       "</style>\n",
       "<table border=\"1\" class=\"dataframe\">\n",
       "  <thead>\n",
       "    <tr style=\"text-align: right;\">\n",
       "      <th></th>\n",
       "      <th>PRECISION</th>\n",
       "      <th>PRECISION_RECALL_MIN_DEN</th>\n",
       "      <th>RECALL</th>\n",
       "      <th>MAP</th>\n",
       "      <th>MAP_MIN_DEN</th>\n",
       "      <th>MRR</th>\n",
       "      <th>NDCG</th>\n",
       "      <th>F1</th>\n",
       "      <th>HIT_RATE</th>\n",
       "      <th>ARHR_ALL_HITS</th>\n",
       "      <th>...</th>\n",
       "      <th>COVERAGE_USER</th>\n",
       "      <th>COVERAGE_USER_HIT</th>\n",
       "      <th>USERS_IN_GT</th>\n",
       "      <th>DIVERSITY_GINI</th>\n",
       "      <th>SHANNON_ENTROPY</th>\n",
       "      <th>RATIO_DIVERSITY_HERFINDAHL</th>\n",
       "      <th>RATIO_DIVERSITY_GINI</th>\n",
       "      <th>RATIO_SHANNON_ENTROPY</th>\n",
       "      <th>RATIO_AVERAGE_POPULARITY</th>\n",
       "      <th>RATIO_NOVELTY</th>\n",
       "    </tr>\n",
       "    <tr>\n",
       "      <th>cutoff</th>\n",
       "      <th></th>\n",
       "      <th></th>\n",
       "      <th></th>\n",
       "      <th></th>\n",
       "      <th></th>\n",
       "      <th></th>\n",
       "      <th></th>\n",
       "      <th></th>\n",
       "      <th></th>\n",
       "      <th></th>\n",
       "      <th></th>\n",
       "      <th></th>\n",
       "      <th></th>\n",
       "      <th></th>\n",
       "      <th></th>\n",
       "      <th></th>\n",
       "      <th></th>\n",
       "      <th></th>\n",
       "      <th></th>\n",
       "      <th></th>\n",
       "      <th></th>\n",
       "    </tr>\n",
       "  </thead>\n",
       "  <tbody>\n",
       "    <tr>\n",
       "      <th>10</th>\n",
       "      <td>0.334675</td>\n",
       "      <td>0.35819</td>\n",
       "      <td>0.14819</td>\n",
       "      <td>0.243029</td>\n",
       "      <td>0.254891</td>\n",
       "      <td>0.621265</td>\n",
       "      <td>0.316909</td>\n",
       "      <td>0.205422</td>\n",
       "      <td>0.876408</td>\n",
       "      <td>1.163663</td>\n",
       "      <td>...</td>\n",
       "      <td>0.999338</td>\n",
       "      <td>0.875828</td>\n",
       "      <td>0.999338</td>\n",
       "      <td>0.039911</td>\n",
       "      <td>7.661528</td>\n",
       "      <td>0.992851</td>\n",
       "      <td>0.114108</td>\n",
       "      <td>0.708512</td>\n",
       "      <td>1.837124</td>\n",
       "      <td>0.06488</td>\n",
       "    </tr>\n",
       "  </tbody>\n",
       "</table>\n",
       "<p>1 rows × 27 columns</p>\n",
       "</div>"
      ],
      "text/plain": [
       "       PRECISION PRECISION_RECALL_MIN_DEN   RECALL       MAP MAP_MIN_DEN  \\\n",
       "cutoff                                                                     \n",
       "10      0.334675                  0.35819  0.14819  0.243029    0.254891   \n",
       "\n",
       "             MRR      NDCG        F1  HIT_RATE ARHR_ALL_HITS  ...  \\\n",
       "cutoff                                                        ...   \n",
       "10      0.621265  0.316909  0.205422  0.876408      1.163663  ...   \n",
       "\n",
       "       COVERAGE_USER COVERAGE_USER_HIT USERS_IN_GT DIVERSITY_GINI  \\\n",
       "cutoff                                                              \n",
       "10          0.999338          0.875828    0.999338       0.039911   \n",
       "\n",
       "       SHANNON_ENTROPY RATIO_DIVERSITY_HERFINDAHL RATIO_DIVERSITY_GINI  \\\n",
       "cutoff                                                                   \n",
       "10            7.661528                   0.992851             0.114108   \n",
       "\n",
       "       RATIO_SHANNON_ENTROPY RATIO_AVERAGE_POPULARITY RATIO_NOVELTY  \n",
       "cutoff                                                               \n",
       "10                  0.708512                 1.837124       0.06488  \n",
       "\n",
       "[1 rows x 27 columns]"
      ]
     },
     "execution_count": 15,
     "metadata": {},
     "output_type": "execute_result"
    }
   ],
   "source": [
    "recommender_instance = ItemKNNCFRecommender(URM_train + URM_validation)\n",
    "recommender_instance.fit(**optuna_study.best_trial.params)\n",
    "\n",
    "result_df, _ = evaluator_test.evaluateRecommender(recommender_instance)\n",
    "result_df"
   ]
  },
  {
   "cell_type": "markdown",
   "id": "2427f380",
   "metadata": {},
   "source": [
    "### An example with earlystopping, for SVD++\n",
    "\n",
    "When training machine learning models that require iterative training for a certain number of epochs one also has to select this value. There are two strategies:\n",
    "* Consider the number of epochs as another hyperparameter to be determined by our optimizer\n",
    "* Fix a maximum number of epochs and periodically evaluate the model during the training process. If the recommendation quality does not improve after a certain number of epochs (20, 50 ...) stop the training and select the number of epochs that gave the best result. This is called earlystopping."
   ]
  },
  {
   "cell_type": "code",
   "execution_count": 16,
   "id": "261faf38",
   "metadata": {},
   "outputs": [],
   "source": [
    "from Recommenders.MatrixFactorization.Cython.MatrixFactorization_Cython import MatrixFactorization_SVDpp_Cython\n",
    "\n",
    "class SaveResults(object):\n",
    "    \n",
    "    def __init__(self):\n",
    "        self.results_df = pd.DataFrame()\n",
    "    \n",
    "    def __call__(self, optuna_study, optuna_trial):\n",
    "        hyperparam_dict = optuna_trial.params.copy()\n",
    "        hyperparam_dict[\"result\"] = optuna_trial.values[0]\n",
    "        \n",
    "        # Retrieve the optimal number of epochs from the \"user attributes\" of the trial\n",
    "        hyperparam_dict[\"epochs\"] = optuna_trial.user_attrs[\"epochs\"]\n",
    "        \n",
    "        self.results_df = self.results_df.append(hyperparam_dict, ignore_index=True)\n",
    "        \n",
    "        \n",
    "def objective_function_funksvd(optuna_trial):\n",
    "\n",
    "    # Earlystopping hyperparameters available in the framework\n",
    "    full_hyperp = {\"validation_every_n\": 5,\n",
    "                   \"stop_on_validation\": True,\n",
    "                   \"evaluator_object\": evaluator_validation,\n",
    "                   \"lower_validations_allowed\": 5,   # Higher values will result in a more \"patient\" earlystopping\n",
    "                   \"validation_metric\": \"MAP\",\n",
    "                   \n",
    "                   # MAX number of epochs (usually 500)\n",
    "                   \"epochs\": 100,\n",
    "                  }\n",
    "                          \n",
    "        \n",
    "    recommender_instance = MatrixFactorization_SVDpp_Cython(URM_train)\n",
    "    recommender_instance.fit(num_factors = optuna_trial.suggest_int(\"num_factors\", 1, 200),\n",
    "                             sgd_mode = optuna_trial.suggest_categorical(\"sgd_mode\", [\"sgd\", \"adagrad\", \"adam\"]),\n",
    "                             batch_size = optuna_trial.suggest_categorical(\"batch_size\", [1, 2, 4, 8, 16, 32, 64, 128, 256, 512, 1024]),\n",
    "                             item_reg = optuna_trial.suggest_float(\"item_reg\", 1e-5, 1e-2, log=True),\n",
    "                             user_reg =  optuna_trial.suggest_float(\"user_reg\", 1e-5, 1e-2, log=True),\n",
    "                             learning_rate = optuna_trial.suggest_float(\"learning_rate\", 1e-4, 1e-1, log=True),\n",
    "                             ** full_hyperp)\n",
    "    \n",
    "    # Add the number of epochs selected by earlystopping as a \"user attribute\" of the optuna trial\n",
    "    epochs = recommender_instance.get_early_stopping_final_epochs_dict()[\"epochs\"]\n",
    "    optuna_trial.set_user_attr(\"epochs\", epochs) \n",
    "        \n",
    "    result_df, _ = evaluator_validation.evaluateRecommender(recommender_instance)\n",
    "    \n",
    "    return result_df.loc[10][\"MAP\"]"
   ]
  },
  {
   "cell_type": "code",
   "execution_count": 17,
   "id": "d8296273",
   "metadata": {},
   "outputs": [
    {
     "name": "stderr",
     "output_type": "stream",
     "text": [
      "[I 2023-11-23 12:48:39,246] A new study created in memory with name: no-name-7c709e2b-b298-40f9-a178-9d5a86011374\n"
     ]
    },
    {
     "name": "stdout",
     "output_type": "stream",
     "text": [
      "MatrixFactorization_SVDpp_Cython_Recommender: URM Detected 226 ( 5.8%) items with no interactions.\n",
      "SVD++: Processed 640192 (100.0%) in 2.63 sec. MSE loss 1.74E+00. Sample per second: 243002\n",
      "SVD++: Epoch 1 of 100. Elapsed time 2.30 sec\n",
      "SVD++: Processed 640192 (100.0%) in 2.84 sec. MSE loss 1.22E+00. Sample per second: 225764\n",
      "SVD++: Epoch 2 of 100. Elapsed time 4.50 sec\n",
      "SVD++: Processed 640192 (100.0%) in 3.51 sec. MSE loss 1.21E+00. Sample per second: 182456\n",
      "SVD++: Epoch 3 of 100. Elapsed time 7.17 sec\n",
      "SVD++: Processed 640192 (100.0%) in 2.74 sec. MSE loss 1.20E+00. Sample per second: 233230\n",
      "SVD++: Epoch 4 of 100. Elapsed time 9.42 sec\n",
      "SVD++: Processed 640192 (100.0%) in 3.52 sec. MSE loss 1.20E+00. Sample per second: 181718\n",
      "SVD++: Validation begins...\n",
      "EvaluatorHoldout: Processed 6022 (100.0%) in 4.94 sec. Users per second: 1219\n",
      "SVD++: CUTOFF: 10 - PRECISION: 0.0527400, PRECISION_RECALL_MIN_DEN: 0.0594916, RECALL: 0.0290703, MAP: 0.0243628, MAP_MIN_DEN: 0.0273094, MRR: 0.1790753, NDCG: 0.0578015, F1: 0.0374810, HIT_RATE: 0.3845898, ARHR_ALL_HITS: 0.2085779, NOVELTY: 0.0271017, AVERAGE_POPULARITY: 0.4017920, DIVERSITY_MEAN_INTER_LIST: 0.8828273, DIVERSITY_HERFINDAHL: 0.9882681, COVERAGE_ITEM: 0.8392995, COVERAGE_ITEM_HIT: 0.0744270, ITEMS_IN_GT: 0.8913211, COVERAGE_USER: 0.9970199, COVERAGE_USER_HIT: 0.3834437, USERS_IN_GT: 0.9970199, DIVERSITY_GINI: 0.2042611, SHANNON_ENTROPY: 8.8811716, RATIO_DIVERSITY_HERFINDAHL: 0.9890748, RATIO_DIVERSITY_GINI: 0.5841251, RATIO_SHANNON_ENTROPY: 0.8213395, RATIO_AVERAGE_POPULARITY: 1.4424095, RATIO_NOVELTY: 0.0918294, \n",
      "\n",
      "SVD++: New best model found! Updating.\n",
      "SVD++: Epoch 5 of 100. Elapsed time 17.15 sec\n",
      "SVD++: Processed 640192 (100.0%) in 2.34 sec. MSE loss 1.19E+00. Sample per second: 273865\n",
      "SVD++: Epoch 6 of 100. Elapsed time 19.00 sec\n",
      "SVD++: Processed 640192 (100.0%) in 2.59 sec. MSE loss 1.19E+00. Sample per second: 247608\n",
      "SVD++: Epoch 7 of 100. Elapsed time 21.25 sec\n",
      "SVD++: Processed 640192 (100.0%) in 2.32 sec. MSE loss 1.18E+00. Sample per second: 275384\n",
      "SVD++: Epoch 8 of 100. Elapsed time 22.99 sec\n",
      "SVD++: Processed 640192 (100.0%) in 2.93 sec. MSE loss 1.17E+00. Sample per second: 217587\n",
      "SVD++: Epoch 9 of 100. Elapsed time 25.61 sec\n",
      "SVD++: Processed 640192 (100.0%) in 3.10 sec. MSE loss 1.17E+00. Sample per second: 206426\n",
      "SVD++: Validation begins...\n",
      "EvaluatorHoldout: Processed 6022 (100.0%) in 5.26 sec. Users per second: 1146\n",
      "SVD++: CUTOFF: 10 - PRECISION: 0.0930588, PRECISION_RECALL_MIN_DEN: 0.1038127, RECALL: 0.0496840, MAP: 0.0425033, MAP_MIN_DEN: 0.0467452, MRR: 0.2369859, NDCG: 0.0945272, F1: 0.0647813, HIT_RATE: 0.5302225, ARHR_ALL_HITS: 0.3144788, NOVELTY: 0.0230973, AVERAGE_POPULARITY: 0.6538280, DIVERSITY_MEAN_INTER_LIST: 0.6139023, DIVERSITY_HERFINDAHL: 0.9613800, COVERAGE_ITEM: 0.3461241, COVERAGE_ITEM_HIT: 0.0388875, ITEMS_IN_GT: 0.8913211, COVERAGE_USER: 0.9970199, COVERAGE_USER_HIT: 0.5286424, USERS_IN_GT: 0.9970199, DIVERSITY_GINI: 0.0184594, SHANNON_ENTROPY: 5.6018628, RATIO_DIVERSITY_HERFINDAHL: 0.9621648, RATIO_DIVERSITY_GINI: 0.0527883, RATIO_SHANNON_ENTROPY: 0.5180658, RATIO_AVERAGE_POPULARITY: 2.3472040, RATIO_NOVELTY: 0.0782612, \n",
      "\n",
      "SVD++: New best model found! Updating.\n",
      "SVD++: Epoch 10 of 100. Elapsed time 33.06 sec\n",
      "SVD++: Processed 640192 (100.0%) in 3.07 sec. MSE loss 1.16E+00. Sample per second: 208665\n",
      "SVD++: Epoch 11 of 100. Elapsed time 35.73 sec\n",
      "SVD++: Processed 640192 (100.0%) in 2.04 sec. MSE loss 1.17E+00. Sample per second: 313784\n",
      "SVD++: Epoch 12 of 100. Elapsed time 37.71 sec\n",
      "SVD++: Processed 640192 (100.0%) in 2.27 sec. MSE loss 1.16E+00. Sample per second: 281620\n",
      "SVD++: Epoch 13 of 100. Elapsed time 39.94 sec\n",
      "SVD++: Processed 640192 (100.0%) in 2.67 sec. MSE loss 1.16E+00. Sample per second: 239718\n",
      "SVD++: Epoch 14 of 100. Elapsed time 42.33 sec\n",
      "SVD++: Processed 640192 (100.0%) in 2.42 sec. MSE loss 1.15E+00. Sample per second: 264492\n",
      "SVD++: Validation begins...\n",
      "EvaluatorHoldout: Processed 6022 (100.0%) in 4.96 sec. Users per second: 1213\n",
      "SVD++: CUTOFF: 10 - PRECISION: 0.1003487, PRECISION_RECALL_MIN_DEN: 0.1114469, RECALL: 0.0524199, MAP: 0.0452724, MAP_MIN_DEN: 0.0495318, MRR: 0.2378149, NDCG: 0.0991885, F1: 0.0688659, HIT_RATE: 0.5464962, ARHR_ALL_HITS: 0.3240684, NOVELTY: 0.0226080, AVERAGE_POPULARITY: 0.6895921, DIVERSITY_MEAN_INTER_LIST: 0.5272512, DIVERSITY_HERFINDAHL: 0.9527164, COVERAGE_ITEM: 0.0831831, COVERAGE_ITEM_HIT: 0.0254958, ITEMS_IN_GT: 0.8913211, COVERAGE_USER: 0.9970199, COVERAGE_USER_HIT: 0.5448675, USERS_IN_GT: 0.9970199, DIVERSITY_GINI: 0.0062322, SHANNON_ENTROPY: 4.8941392, RATIO_DIVERSITY_HERFINDAHL: 0.9534940, RATIO_DIVERSITY_GINI: 0.0178223, RATIO_SHANNON_ENTROPY: 0.4526148, RATIO_AVERAGE_POPULARITY: 2.4755949, RATIO_NOVELTY: 0.0766033, \n",
      "\n",
      "SVD++: New best model found! Updating.\n",
      "SVD++: Epoch 15 of 100. Elapsed time 49.07 sec\n",
      "SVD++: Processed 640192 (100.0%) in 2.94 sec. MSE loss 1.15E+00. Sample per second: 217695\n",
      "SVD++: Epoch 16 of 100. Elapsed time 51.61 sec\n",
      "SVD++: Processed 640192 (100.0%) in 2.88 sec. MSE loss 1.14E+00. Sample per second: 222341\n",
      "SVD++: Epoch 17 of 100. Elapsed time 53.54 sec\n",
      "SVD++: Processed 640192 (100.0%) in 3.47 sec. MSE loss 1.14E+00. Sample per second: 184718\n",
      "SVD++: Epoch 18 of 100. Elapsed time 56.13 sec\n",
      "SVD++: Processed 640192 (100.0%) in 2.45 sec. MSE loss 1.13E+00. Sample per second: 261028\n",
      "SVD++: Epoch 19 of 100. Elapsed time 58.12 sec\n",
      "SVD++: Processed 640192 (100.0%) in 2.80 sec. MSE loss 1.13E+00. Sample per second: 228930\n",
      "SVD++: Validation begins...\n",
      "EvaluatorHoldout: Processed 6022 (100.0%) in 4.76 sec. Users per second: 1265\n",
      "SVD++: CUTOFF: 10 - PRECISION: 0.1023414, PRECISION_RECALL_MIN_DEN: 0.1136232, RECALL: 0.0533906, MAP: 0.0454247, MAP_MIN_DEN: 0.0494726, MRR: 0.2345509, NDCG: 0.0996530, F1: 0.0701728, HIT_RATE: 0.5529724, ARHR_ALL_HITS: 0.3223142, NOVELTY: 0.0225554, AVERAGE_POPULARITY: 0.6941976, DIVERSITY_MEAN_INTER_LIST: 0.4918831, DIVERSITY_HERFINDAHL: 0.9491801, COVERAGE_ITEM: 0.0342519, COVERAGE_ITEM_HIT: 0.0218903, ITEMS_IN_GT: 0.8913211, COVERAGE_USER: 0.9970199, COVERAGE_USER_HIT: 0.5513245, USERS_IN_GT: 0.9970199, DIVERSITY_GINI: 0.0052935, SHANNON_ENTROPY: 4.6988545, RATIO_DIVERSITY_HERFINDAHL: 0.9499549, RATIO_DIVERSITY_GINI: 0.0151377, RATIO_SHANNON_ENTROPY: 0.4345547, RATIO_AVERAGE_POPULARITY: 2.4921284, RATIO_NOVELTY: 0.0764253, \n",
      "\n",
      "SVD++: New best model found! Updating.\n",
      "SVD++: Epoch 20 of 100. Elapsed time 1.09 min\n",
      "SVD++: Processed 640192 (100.0%) in 2.98 sec. MSE loss 1.13E+00. Sample per second: 215182\n",
      "SVD++: Epoch 21 of 100. Elapsed time 1.13 min\n",
      "SVD++: Processed 640192 (100.0%) in 2.97 sec. MSE loss 1.12E+00. Sample per second: 215270\n",
      "SVD++: Epoch 22 of 100. Elapsed time 1.16 min\n",
      "SVD++: Processed 640192 (100.0%) in 3.65 sec. MSE loss 1.12E+00. Sample per second: 175255\n",
      "SVD++: Epoch 23 of 100. Elapsed time 1.21 min\n",
      "SVD++: Processed 640192 (100.0%) in 2.54 sec. MSE loss 1.12E+00. Sample per second: 252147\n",
      "SVD++: Epoch 24 of 100. Elapsed time 1.24 min\n",
      "SVD++: Processed 640192 (100.0%) in 2.92 sec. MSE loss 1.11E+00. Sample per second: 219566\n",
      "SVD++: Validation begins...\n",
      "EvaluatorHoldout: Processed 6022 (100.0%) in 4.76 sec. Users per second: 1265\n",
      "SVD++: CUTOFF: 10 - PRECISION: 0.1022252, PRECISION_RECALL_MIN_DEN: 0.1137352, RECALL: 0.0536807, MAP: 0.0450033, MAP_MIN_DEN: 0.0488969, MRR: 0.2313470, NDCG: 0.0991306, F1: 0.0703953, HIT_RATE: 0.5528064, ARHR_ALL_HITS: 0.3186350, NOVELTY: 0.0225591, AVERAGE_POPULARITY: 0.6930013, DIVERSITY_MEAN_INTER_LIST: 0.4730905, DIVERSITY_HERFINDAHL: 0.9473012, COVERAGE_ITEM: 0.0262683, COVERAGE_ITEM_HIT: 0.0190574, ITEMS_IN_GT: 0.8913211, COVERAGE_USER: 0.9970199, COVERAGE_USER_HIT: 0.5511589, USERS_IN_GT: 0.9970199, DIVERSITY_GINI: 0.0050361, SHANNON_ENTROPY: 4.6190862, RATIO_DIVERSITY_HERFINDAHL: 0.9480744, RATIO_DIVERSITY_GINI: 0.0144018, RATIO_SHANNON_ENTROPY: 0.4271776, RATIO_AVERAGE_POPULARITY: 2.4878338, RATIO_NOVELTY: 0.0764377, \n",
      "\n",
      "SVD++: Epoch 25 of 100. Elapsed time 1.36 min\n",
      "SVD++: Processed 640192 (100.0%) in 2.60 sec. MSE loss 1.11E+00. Sample per second: 245820\n",
      "SVD++: Epoch 26 of 100. Elapsed time 1.39 min\n",
      "SVD++: Processed 640192 (100.0%) in 2.91 sec. MSE loss 1.11E+00. Sample per second: 220348\n",
      "SVD++: Epoch 27 of 100. Elapsed time 1.43 min\n"
     ]
    },
    {
     "name": "stdout",
     "output_type": "stream",
     "text": [
      "SVD++: Processed 640192 (100.0%) in 3.26 sec. MSE loss 1.10E+00. Sample per second: 196436\n",
      "SVD++: Epoch 28 of 100. Elapsed time 1.47 min\n",
      "SVD++: Processed 640192 (100.0%) in 2.31 sec. MSE loss 1.10E+00. Sample per second: 277227\n",
      "SVD++: Epoch 29 of 100. Elapsed time 1.50 min\n",
      "SVD++: Processed 640192 (100.0%) in 2.97 sec. MSE loss 1.10E+00. Sample per second: 215772\n",
      "SVD++: Validation begins...\n",
      "EvaluatorHoldout: Processed 6022 (100.0%) in 5.02 sec. Users per second: 1201\n",
      "SVD++: CUTOFF: 10 - PRECISION: 0.1016772, PRECISION_RECALL_MIN_DEN: 0.1132532, RECALL: 0.0535856, MAP: 0.0443739, MAP_MIN_DEN: 0.0480764, MRR: 0.2280551, NDCG: 0.0982032, F1: 0.0701834, HIT_RATE: 0.5524743, ARHR_ALL_HITS: 0.3143939, NOVELTY: 0.0225779, AVERAGE_POPULARITY: 0.6899390, DIVERSITY_MEAN_INTER_LIST: 0.4620856, DIVERSITY_HERFINDAHL: 0.9462009, COVERAGE_ITEM: 0.0236930, COVERAGE_ITEM_HIT: 0.0172547, ITEMS_IN_GT: 0.8913211, COVERAGE_USER: 0.9970199, COVERAGE_USER_HIT: 0.5508278, USERS_IN_GT: 0.9970199, DIVERSITY_GINI: 0.0049166, SHANNON_ENTROPY: 4.5768198, RATIO_DIVERSITY_HERFINDAHL: 0.9469732, RATIO_DIVERSITY_GINI: 0.0140601, RATIO_SHANNON_ENTROPY: 0.4232688, RATIO_AVERAGE_POPULARITY: 2.4768405, RATIO_NOVELTY: 0.0765014, \n",
      "\n",
      "SVD++: Epoch 30 of 100. Elapsed time 1.63 min\n",
      "SVD++: Processed 640192 (100.0%) in 1.67 sec. MSE loss 1.10E+00. Sample per second: 383715\n",
      "SVD++: Epoch 31 of 100. Elapsed time 1.66 min\n",
      "SVD++: Processed 640192 (100.0%) in 3.12 sec. MSE loss 1.09E+00. Sample per second: 205376\n",
      "SVD++: Epoch 32 of 100. Elapsed time 1.70 min\n",
      "SVD++: Processed 640192 (100.0%) in 1.96 sec. MSE loss 1.10E+00. Sample per second: 326182\n",
      "SVD++: Epoch 33 of 100. Elapsed time 1.73 min\n",
      "SVD++: Processed 640192 (100.0%) in 3.34 sec. MSE loss 1.09E+00. Sample per second: 191740\n",
      "SVD++: Epoch 34 of 100. Elapsed time 1.77 min\n",
      "SVD++: Processed 640192 (100.0%) in 2.69 sec. MSE loss 1.09E+00. Sample per second: 238309\n",
      "SVD++: Validation begins...\n",
      "EvaluatorHoldout: Processed 6022 (100.0%) in 5.00 sec. Users per second: 1205\n",
      "SVD++: CUTOFF: 10 - PRECISION: 0.1005148, PRECISION_RECALL_MIN_DEN: 0.1120081, RECALL: 0.0528821, MAP: 0.0436482, MAP_MIN_DEN: 0.0472421, MRR: 0.2245292, NDCG: 0.0968627, F1: 0.0693030, HIT_RATE: 0.5483228, ARHR_ALL_HITS: 0.3095434, NOVELTY: 0.0226067, AVERAGE_POPULARITY: 0.6854248, DIVERSITY_MEAN_INTER_LIST: 0.4542515, DIVERSITY_HERFINDAHL: 0.9454176, COVERAGE_ITEM: 0.0213752, COVERAGE_ITEM_HIT: 0.0167396, ITEMS_IN_GT: 0.8913211, COVERAGE_USER: 0.9970199, COVERAGE_USER_HIT: 0.5466887, USERS_IN_GT: 0.9970199, DIVERSITY_GINI: 0.0048351, SHANNON_ENTROPY: 4.5490100, RATIO_DIVERSITY_HERFINDAHL: 0.9461893, RATIO_DIVERSITY_GINI: 0.0138268, RATIO_SHANNON_ENTROPY: 0.4206969, RATIO_AVERAGE_POPULARITY: 2.4606346, RATIO_NOVELTY: 0.0765991, \n",
      "\n",
      "SVD++: Epoch 35 of 100. Elapsed time 1.89 min\n",
      "SVD++: Processed 640192 (100.0%) in 2.84 sec. MSE loss 1.08E+00. Sample per second: 225752\n",
      "SVD++: Epoch 36 of 100. Elapsed time 1.92 min\n",
      "SVD++: Processed 640192 (100.0%) in 3.26 sec. MSE loss 1.08E+00. Sample per second: 196241\n",
      "SVD++: Epoch 37 of 100. Elapsed time 1.97 min\n",
      "SVD++: Processed 640192 (100.0%) in 1.96 sec. MSE loss 1.08E+00. Sample per second: 327216\n",
      "SVD++: Epoch 38 of 100. Elapsed time 1.99 min\n",
      "SVD++: Processed 640192 (100.0%) in 3.43 sec. MSE loss 1.07E+00. Sample per second: 186689\n",
      "SVD++: Epoch 39 of 100. Elapsed time 2.03 min\n",
      "SVD++: Processed 640192 (100.0%) in 2.25 sec. MSE loss 1.08E+00. Sample per second: 284141\n",
      "SVD++: Validation begins...\n",
      "EvaluatorHoldout: Processed 6022 (100.0%) in 4.97 sec. Users per second: 1211\n",
      "SVD++: CUTOFF: 10 - PRECISION: 0.0995018, PRECISION_RECALL_MIN_DEN: 0.1108203, RECALL: 0.0523230, MAP: 0.0429673, MAP_MIN_DEN: 0.0464561, MRR: 0.2215597, NDCG: 0.0956627, F1: 0.0685821, HIT_RATE: 0.5451677, ARHR_ALL_HITS: 0.3049892, NOVELTY: 0.0226420, AVERAGE_POPULARITY: 0.6799682, DIVERSITY_MEAN_INTER_LIST: 0.4504461, DIVERSITY_HERFINDAHL: 0.9450371, COVERAGE_ITEM: 0.0208602, COVERAGE_ITEM_HIT: 0.0164821, ITEMS_IN_GT: 0.8913211, COVERAGE_USER: 0.9970199, COVERAGE_USER_HIT: 0.5435430, USERS_IN_GT: 0.9970199, DIVERSITY_GINI: 0.0047803, SHANNON_ENTROPY: 4.5309269, RATIO_DIVERSITY_HERFINDAHL: 0.9458085, RATIO_DIVERSITY_GINI: 0.0136702, RATIO_SHANNON_ENTROPY: 0.4190246, RATIO_AVERAGE_POPULARITY: 2.4410457, RATIO_NOVELTY: 0.0767184, \n",
      "\n",
      "SVD++: Epoch 40 of 100. Elapsed time 2.15 min\n",
      "SVD++: Processed 640192 (100.0%) in 2.76 sec. MSE loss 1.07E+00. Sample per second: 231955\n",
      "SVD++: Epoch 41 of 100. Elapsed time 2.19 min\n",
      "SVD++: Processed 640192 (100.0%) in 2.97 sec. MSE loss 1.07E+00. Sample per second: 215733\n",
      "SVD++: Epoch 42 of 100. Elapsed time 2.23 min\n",
      "SVD++: Processed 640192 (100.0%) in 3.09 sec. MSE loss 1.07E+00. Sample per second: 207018\n",
      "SVD++: Epoch 43 of 100. Elapsed time 2.26 min\n",
      "SVD++: Processed 640192 (100.0%) in 2.56 sec. MSE loss 1.07E+00. Sample per second: 250045\n",
      "SVD++: Epoch 44 of 100. Elapsed time 2.30 min\n",
      "SVD++: Processed 640192 (100.0%) in 2.32 sec. MSE loss 1.06E+00. Sample per second: 276309\n",
      "SVD++: Validation begins...\n",
      "EvaluatorHoldout: Processed 6022 (100.0%) in 4.86 sec. Users per second: 1239\n",
      "SVD++: CUTOFF: 10 - PRECISION: 0.0981734, PRECISION_RECALL_MIN_DEN: 0.1091709, RECALL: 0.0513399, MAP: 0.0423112, MAP_MIN_DEN: 0.0456672, MRR: 0.2190502, NDCG: 0.0941716, F1: 0.0674216, HIT_RATE: 0.5400199, ARHR_ALL_HITS: 0.3008555, NOVELTY: 0.0226784, AVERAGE_POPULARITY: 0.6744673, DIVERSITY_MEAN_INTER_LIST: 0.4494356, DIVERSITY_HERFINDAHL: 0.9449361, COVERAGE_ITEM: 0.0200876, COVERAGE_ITEM_HIT: 0.0164821, ITEMS_IN_GT: 0.8913211, COVERAGE_USER: 0.9970199, COVERAGE_USER_HIT: 0.5384106, USERS_IN_GT: 0.9970199, DIVERSITY_GINI: 0.0047399, SHANNON_ENTROPY: 4.5201406, RATIO_DIVERSITY_HERFINDAHL: 0.9457074, RATIO_DIVERSITY_GINI: 0.0135548, RATIO_SHANNON_ENTROPY: 0.4180271, RATIO_AVERAGE_POPULARITY: 2.4212979, RATIO_NOVELTY: 0.0768420, \n",
      "\n",
      "SVD++: Convergence reached! Terminating at epoch 45. Best value for 'MAP' at epoch 20 is 0.0454. Elapsed time 2.41 min\n",
      "SVD++: Epoch 45 of 100. Elapsed time 2.41 min\n",
      "EvaluatorHoldout: Processed 6022 (100.0%) in 4.93 sec. Users per second: 1221\n"
     ]
    },
    {
     "name": "stderr",
     "output_type": "stream",
     "text": [
      "[I 2023-11-23 12:51:09,141] Trial 0 finished with value: 0.045424725741065916 and parameters: {'num_factors': 44, 'sgd_mode': 'sgd', 'batch_size': 64, 'item_reg': 2.4501996875522273e-05, 'user_reg': 0.00496971633560805, 'learning_rate': 0.001326575440981296}. Best is trial 0 with value: 0.045424725741065916.\n"
     ]
    },
    {
     "name": "stdout",
     "output_type": "stream",
     "text": [
      "MatrixFactorization_SVDpp_Cython_Recommender: URM Detected 226 ( 5.8%) items with no interactions.\n",
      "SVD++: Processed 640160 (100.0%) in 26.52 sec. MSE loss 8.31E-01. Sample per second: 24136\n",
      "SVD++: Epoch 1 of 100. Elapsed time 26.24 sec\n",
      "SVD++: Processed 640160 (100.0%) in 26.40 sec. MSE loss 3.19E-01. Sample per second: 24251\n",
      "SVD++: Epoch 2 of 100. Elapsed time 52.12 sec\n",
      "SVD++: Processed 640160 (100.0%) in 27.09 sec. MSE loss 2.22E-01. Sample per second: 23634\n",
      "SVD++: Epoch 3 of 100. Elapsed time 1.31 min\n",
      "SVD++: Processed 640160 (100.0%) in 27.25 sec. MSE loss 1.71E-01. Sample per second: 23488\n",
      "SVD++: Epoch 4 of 100. Elapsed time 1.77 min\n",
      "SVD++: Processed 640160 (100.0%) in 27.61 sec. MSE loss 1.41E-01. Sample per second: 23185\n",
      "SVD++: Validation begins...\n",
      "EvaluatorHoldout: Processed 6022 (100.0%) in 5.55 sec. Users per second: 1086\n",
      "SVD++: CUTOFF: 10 - PRECISION: 0.0550980, PRECISION_RECALL_MIN_DEN: 0.0605409, RECALL: 0.0263899, MAP: 0.0226386, MAP_MIN_DEN: 0.0244400, MRR: 0.1488346, NDCG: 0.0549445, F1: 0.0356871, HIT_RATE: 0.3688143, ARHR_ALL_HITS: 0.1822128, NOVELTY: 0.0260889, AVERAGE_POPULARITY: 0.3383405, DIVERSITY_MEAN_INTER_LIST: 0.9625014, DIVERSITY_HERFINDAHL: 0.9962342, COVERAGE_ITEM: 0.4450167, COVERAGE_ITEM_HIT: 0.1261911, ITEMS_IN_GT: 0.8913211, COVERAGE_USER: 0.9970199, COVERAGE_USER_HIT: 0.3677152, USERS_IN_GT: 0.9970199, DIVERSITY_GINI: 0.1031178, SHANNON_ENTROPY: 8.9630927, RATIO_DIVERSITY_HERFINDAHL: 0.9970473, RATIO_DIVERSITY_GINI: 0.2948857, RATIO_SHANNON_ENTROPY: 0.8289156, RATIO_AVERAGE_POPULARITY: 1.2146223, RATIO_NOVELTY: 0.0883978, \n",
      "\n",
      "SVD++: New best model found! Updating.\n",
      "SVD++: Epoch 5 of 100. Elapsed time 2.32 min\n",
      "SVD++: Processed 640160 (100.0%) in 27.08 sec. MSE loss 1.21E-01. Sample per second: 23639\n",
      "SVD++: Epoch 6 of 100. Elapsed time 2.76 min\n",
      "SVD++: Processed 640160 (100.0%) in 27.10 sec. MSE loss 1.05E-01. Sample per second: 23620\n",
      "SVD++: Epoch 7 of 100. Elapsed time 3.21 min\n",
      "SVD++: Processed 640160 (100.0%) in 26.67 sec. MSE loss 9.33E-02. Sample per second: 24000\n",
      "SVD++: Epoch 8 of 100. Elapsed time 3.66 min\n",
      "SVD++: Processed 640160 (100.0%) in 26.86 sec. MSE loss 8.33E-02. Sample per second: 23831\n",
      "SVD++: Epoch 9 of 100. Elapsed time 4.09 min\n",
      "SVD++: Processed 640160 (100.0%) in 27.38 sec. MSE loss 7.65E-02. Sample per second: 23378\n",
      "SVD++: Validation begins...\n",
      "EvaluatorHoldout: Processed 6022 (100.0%) in 4.89 sec. Users per second: 1231\n",
      "SVD++: CUTOFF: 10 - PRECISION: 0.0507639, PRECISION_RECALL_MIN_DEN: 0.0555293, RECALL: 0.0235101, MAP: 0.0200548, MAP_MIN_DEN: 0.0216405, MRR: 0.1325316, NDCG: 0.0494055, F1: 0.0321368, HIT_RATE: 0.3444039, ARHR_ALL_HITS: 0.1618986, NOVELTY: 0.0264675, AVERAGE_POPULARITY: 0.3132765, DIVERSITY_MEAN_INTER_LIST: 0.9703120, DIVERSITY_HERFINDAHL: 0.9970151, COVERAGE_ITEM: 0.4869946, COVERAGE_ITEM_HIT: 0.1419006, ITEMS_IN_GT: 0.8913211, COVERAGE_USER: 0.9970199, COVERAGE_USER_HIT: 0.3433775, USERS_IN_GT: 0.9970199, DIVERSITY_GINI: 0.1260437, SHANNON_ENTROPY: 9.2700796, RATIO_DIVERSITY_HERFINDAHL: 0.9978289, RATIO_DIVERSITY_GINI: 0.3604470, RATIO_SHANNON_ENTROPY: 0.8573061, RATIO_AVERAGE_POPULARITY: 1.1246441, RATIO_NOVELTY: 0.0896807, \n",
      "\n",
      "SVD++: Epoch 10 of 100. Elapsed time 4.62 min\n",
      "SVD++: Processed 640160 (100.0%) in 26.61 sec. MSE loss 7.00E-02. Sample per second: 24058\n",
      "SVD++: Epoch 11 of 100. Elapsed time 5.06 min\n",
      "SVD++: Processed 640160 (100.0%) in 27.08 sec. MSE loss 6.56E-02. Sample per second: 23641\n",
      "SVD++: Epoch 12 of 100. Elapsed time 5.50 min\n",
      "SVD++: Processed 640160 (100.0%) in 27.03 sec. MSE loss 6.04E-02. Sample per second: 23685\n",
      "SVD++: Epoch 13 of 100. Elapsed time 5.95 min\n",
      "SVD++: Processed 640160 (100.0%) in 27.07 sec. MSE loss 5.68E-02. Sample per second: 23649\n",
      "SVD++: Epoch 14 of 100. Elapsed time 6.40 min\n",
      "SVD++: Processed 640160 (100.0%) in 27.15 sec. MSE loss 5.33E-02. Sample per second: 23575\n",
      "SVD++: Validation begins...\n",
      "EvaluatorHoldout: Processed 6022 (100.0%) in 5.54 sec. Users per second: 1086\n",
      "SVD++: CUTOFF: 10 - PRECISION: 0.0486051, PRECISION_RECALL_MIN_DEN: 0.0532982, RECALL: 0.0225360, MAP: 0.0190943, MAP_MIN_DEN: 0.0206680, MRR: 0.1271144, NDCG: 0.0471255, F1: 0.0307941, HIT_RATE: 0.3307871, ARHR_ALL_HITS: 0.1545469, NOVELTY: 0.0266900, AVERAGE_POPULARITY: 0.2991285, DIVERSITY_MEAN_INTER_LIST: 0.9733022, DIVERSITY_HERFINDAHL: 0.9973141, COVERAGE_ITEM: 0.5086273, COVERAGE_ITEM_HIT: 0.1460211, ITEMS_IN_GT: 0.8913211, COVERAGE_USER: 0.9970199, COVERAGE_USER_HIT: 0.3298013, USERS_IN_GT: 0.9970199, DIVERSITY_GINI: 0.1386374, SHANNON_ENTROPY: 9.4130778, RATIO_DIVERSITY_HERFINDAHL: 0.9981281, RATIO_DIVERSITY_GINI: 0.3964612, RATIO_SHANNON_ENTROPY: 0.8705307, RATIO_AVERAGE_POPULARITY: 1.0738538, RATIO_NOVELTY: 0.0904347, \n",
      "\n",
      "SVD++: Epoch 15 of 100. Elapsed time 6.94 min\n",
      "SVD++: Processed 640160 (100.0%) in 27.88 sec. MSE loss 5.03E-02. Sample per second: 22964\n",
      "SVD++: Epoch 16 of 100. Elapsed time 7.39 min\n",
      "SVD++: Processed 640160 (100.0%) in 27.94 sec. MSE loss 4.74E-02. Sample per second: 22915\n",
      "SVD++: Epoch 17 of 100. Elapsed time 7.84 min\n",
      "SVD++: Processed 640160 (100.0%) in 28.46 sec. MSE loss 4.53E-02. Sample per second: 22495\n",
      "SVD++: Epoch 18 of 100. Elapsed time 8.30 min\n",
      "SVD++: Processed 640160 (100.0%) in 27.52 sec. MSE loss 4.26E-02. Sample per second: 23266\n",
      "SVD++: Epoch 19 of 100. Elapsed time 8.75 min\n",
      "SVD++: Processed 640160 (100.0%) in 27.65 sec. MSE loss 4.12E-02. Sample per second: 23151\n",
      "SVD++: Validation begins...\n",
      "EvaluatorHoldout: Processed 6022 (100.0%) in 5.52 sec. Users per second: 1092\n",
      "SVD++: CUTOFF: 10 - PRECISION: 0.0465294, PRECISION_RECALL_MIN_DEN: 0.0511779, RECALL: 0.0217539, MAP: 0.0182003, MAP_MIN_DEN: 0.0196897, MRR: 0.1226081, NDCG: 0.0450765, F1: 0.0296470, HIT_RATE: 0.3203255, ARHR_ALL_HITS: 0.1481575, NOVELTY: 0.0268612, AVERAGE_POPULARITY: 0.2879683, DIVERSITY_MEAN_INTER_LIST: 0.9752296, DIVERSITY_HERFINDAHL: 0.9975068, COVERAGE_ITEM: 0.5209889, COVERAGE_ITEM_HIT: 0.1537471, ITEMS_IN_GT: 0.8913211, COVERAGE_USER: 0.9970199, COVERAGE_USER_HIT: 0.3193709, USERS_IN_GT: 0.9970199, DIVERSITY_GINI: 0.1474586, SHANNON_ENTROPY: 9.5060216, RATIO_DIVERSITY_HERFINDAHL: 0.9983210, RATIO_DIVERSITY_GINI: 0.4216871, RATIO_SHANNON_ENTROPY: 0.8791262, RATIO_AVERAGE_POPULARITY: 1.0337893, RATIO_NOVELTY: 0.0910145, \n",
      "\n",
      "SVD++: Epoch 20 of 100. Elapsed time 9.30 min\n",
      "SVD++: Processed 640160 (100.0%) in 27.35 sec. MSE loss 3.95E-02. Sample per second: 23405\n",
      "SVD++: Epoch 21 of 100. Elapsed time 9.75 min\n",
      "SVD++: Processed 640160 (100.0%) in 27.60 sec. MSE loss 3.77E-02. Sample per second: 23194\n",
      "SVD++: Epoch 22 of 100. Elapsed time 10.21 min\n",
      "SVD++: Processed 640160 (100.0%) in 28.03 sec. MSE loss 3.63E-02. Sample per second: 22835\n",
      "SVD++: Epoch 23 of 100. Elapsed time 10.66 min\n",
      "SVD++: Processed 640160 (100.0%) in 27.19 sec. MSE loss 3.49E-02. Sample per second: 23540\n",
      "SVD++: Epoch 24 of 100. Elapsed time 11.12 min\n",
      "SVD++: Processed 640160 (100.0%) in 27.27 sec. MSE loss 3.38E-02. Sample per second: 23475\n",
      "SVD++: Validation begins...\n",
      "EvaluatorHoldout: Processed 6022 (100.0%) in 5.51 sec. Users per second: 1093\n",
      "SVD++: CUTOFF: 10 - PRECISION: 0.0452840, PRECISION_RECALL_MIN_DEN: 0.0501301, RECALL: 0.0215302, MAP: 0.0175192, MAP_MIN_DEN: 0.0190056, MRR: 0.1190103, NDCG: 0.0437940, F1: 0.0291846, HIT_RATE: 0.3143474, ARHR_ALL_HITS: 0.1433291, NOVELTY: 0.0269743, AVERAGE_POPULARITY: 0.2816366, DIVERSITY_MEAN_INTER_LIST: 0.9762125, DIVERSITY_HERFINDAHL: 0.9976050, COVERAGE_ITEM: 0.5364409, COVERAGE_ITEM_HIT: 0.1542622, ITEMS_IN_GT: 0.8913211, COVERAGE_USER: 0.9970199, COVERAGE_USER_HIT: 0.3134106, USERS_IN_GT: 0.9970199, DIVERSITY_GINI: 0.1539011, SHANNON_ENTROPY: 9.5682343, RATIO_DIVERSITY_HERFINDAHL: 0.9984193, RATIO_DIVERSITY_GINI: 0.4401108, RATIO_SHANNON_ENTROPY: 0.8848797, RATIO_AVERAGE_POPULARITY: 1.0110588, RATIO_NOVELTY: 0.0913979, \n",
      "\n",
      "SVD++: Epoch 25 of 100. Elapsed time 11.66 min\n",
      "SVD++: Processed 640160 (100.0%) in 27.91 sec. MSE loss 3.24E-02. Sample per second: 22938\n",
      "SVD++: Epoch 26 of 100. Elapsed time 12.11 min\n",
      "SVD++: Processed 640160 (100.0%) in 28.09 sec. MSE loss 3.18E-02. Sample per second: 22793\n",
      "SVD++: Epoch 27 of 100. Elapsed time 12.56 min\n",
      "SVD++: Processed 640160 (100.0%) in 27.40 sec. MSE loss 3.07E-02. Sample per second: 23362\n",
      "SVD++: Epoch 28 of 100. Elapsed time 13.02 min\n"
     ]
    },
    {
     "name": "stdout",
     "output_type": "stream",
     "text": [
      "SVD++: Processed 640160 (100.0%) in 27.73 sec. MSE loss 2.95E-02. Sample per second: 23087\n",
      "SVD++: Epoch 29 of 100. Elapsed time 13.47 min\n",
      "SVD++: Processed 640160 (100.0%) in 27.88 sec. MSE loss 2.87E-02. Sample per second: 22956\n",
      "SVD++: Validation begins...\n",
      "EvaluatorHoldout: Processed 6022 (100.0%) in 5.53 sec. Users per second: 1088\n",
      "SVD++: CUTOFF: 10 - PRECISION: 0.0445035, PRECISION_RECALL_MIN_DEN: 0.0492924, RECALL: 0.0212845, MAP: 0.0170718, MAP_MIN_DEN: 0.0186079, MRR: 0.1181671, NDCG: 0.0430910, F1: 0.0287966, HIT_RATE: 0.3148456, ARHR_ALL_HITS: 0.1408030, NOVELTY: 0.0270500, AVERAGE_POPULARITY: 0.2771767, DIVERSITY_MEAN_INTER_LIST: 0.9767904, DIVERSITY_HERFINDAHL: 0.9976628, COVERAGE_ITEM: 0.5405614, COVERAGE_ITEM_HIT: 0.1555498, ITEMS_IN_GT: 0.8913211, COVERAGE_USER: 0.9970199, COVERAGE_USER_HIT: 0.3139073, USERS_IN_GT: 0.9970199, DIVERSITY_GINI: 0.1578058, SHANNON_ENTROPY: 9.6042667, RATIO_DIVERSITY_HERFINDAHL: 0.9984772, RATIO_DIVERSITY_GINI: 0.4512769, RATIO_SHANNON_ENTROPY: 0.8882120, RATIO_AVERAGE_POPULARITY: 0.9950481, RATIO_NOVELTY: 0.0916545, \n",
      "\n",
      "SVD++: Convergence reached! Terminating at epoch 30. Best value for 'MAP' at epoch 5 is 0.0226. Elapsed time 14.02 min\n",
      "SVD++: Epoch 30 of 100. Elapsed time 14.02 min\n",
      "EvaluatorHoldout: Processed 6022 (100.0%) in 5.05 sec. Users per second: 1192\n"
     ]
    },
    {
     "name": "stderr",
     "output_type": "stream",
     "text": [
      "[I 2023-11-23 13:05:15,505] Trial 1 finished with value: 0.022638559409150494 and parameters: {'num_factors': 199, 'sgd_mode': 'adagrad', 'batch_size': 32, 'item_reg': 0.0040234684966467295, 'user_reg': 0.0008134626381490018, 'learning_rate': 0.05181518481188468}. Best is trial 0 with value: 0.045424725741065916.\n"
     ]
    },
    {
     "name": "stdout",
     "output_type": "stream",
     "text": [
      "MatrixFactorization_SVDpp_Cython_Recommender: URM Detected 226 ( 5.8%) items with no interactions.\n",
      "SVD++: Processed 640144 (100.0%) in 18.32 sec. MSE loss 1.97E+00. Sample per second: 34943\n",
      "SVD++: Epoch 1 of 100. Elapsed time 17.72 sec\n",
      "SVD++: Processed 640144 (100.0%) in 17.88 sec. MSE loss 8.81E-01. Sample per second: 35809\n",
      "SVD++: Epoch 2 of 100. Elapsed time 35.28 sec\n",
      "SVD++: Processed 640144 (100.0%) in 18.11 sec. MSE loss 7.35E-01. Sample per second: 35348\n",
      "SVD++: Epoch 3 of 100. Elapsed time 52.51 sec\n",
      "SVD++: Processed 640144 (100.0%) in 17.38 sec. MSE loss 6.25E-01. Sample per second: 36829\n",
      "SVD++: Epoch 4 of 100. Elapsed time 1.16 min\n",
      "SVD++: Processed 640144 (100.0%) in 17.65 sec. MSE loss 5.39E-01. Sample per second: 36277\n",
      "SVD++: Validation begins...\n",
      "EvaluatorHoldout: Processed 6022 (100.0%) in 5.56 sec. Users per second: 1083\n",
      "SVD++: CUTOFF: 10 - PRECISION: 0.0733643, PRECISION_RECALL_MIN_DEN: 0.0797792, RECALL: 0.0350500, MAP: 0.0320192, MAP_MIN_DEN: 0.0345481, MRR: 0.1943476, NDCG: 0.0727976, F1: 0.0474369, HIT_RATE: 0.4465294, ARHR_ALL_HITS: 0.2471711, NOVELTY: 0.0239774, AVERAGE_POPULARITY: 0.5058760, DIVERSITY_MEAN_INTER_LIST: 0.8694461, DIVERSITY_HERFINDAHL: 0.9869302, COVERAGE_ITEM: 0.1220706, COVERAGE_ITEM_HIT: 0.0481586, ITEMS_IN_GT: 0.8913211, COVERAGE_USER: 0.9970199, COVERAGE_USER_HIT: 0.4451987, USERS_IN_GT: 0.9970199, DIVERSITY_GINI: 0.0225572, SHANNON_ENTROPY: 6.8542357, RATIO_DIVERSITY_HERFINDAHL: 0.9877358, RATIO_DIVERSITY_GINI: 0.0645068, RATIO_SHANNON_ENTROPY: 0.6338865, RATIO_AVERAGE_POPULARITY: 1.8160652, RATIO_NOVELTY: 0.0812435, \n",
      "\n",
      "SVD++: New best model found! Updating.\n",
      "SVD++: Epoch 5 of 100. Elapsed time 1.54 min\n",
      "SVD++: Processed 640144 (100.0%) in 17.54 sec. MSE loss 4.73E-01. Sample per second: 36487\n",
      "SVD++: Epoch 6 of 100. Elapsed time 1.83 min\n",
      "SVD++: Processed 640144 (100.0%) in 17.87 sec. MSE loss 4.21E-01. Sample per second: 35816\n",
      "SVD++: Epoch 7 of 100. Elapsed time 2.12 min\n",
      "SVD++: Processed 640144 (100.0%) in 18.43 sec. MSE loss 3.81E-01. Sample per second: 34727\n",
      "SVD++: Epoch 8 of 100. Elapsed time 2.41 min\n",
      "SVD++: Processed 640144 (100.0%) in 17.67 sec. MSE loss 3.47E-01. Sample per second: 36229\n",
      "SVD++: Epoch 9 of 100. Elapsed time 2.70 min\n",
      "SVD++: Processed 640144 (100.0%) in 18.02 sec. MSE loss 3.21E-01. Sample per second: 35519\n",
      "SVD++: Validation begins...\n",
      "EvaluatorHoldout: Processed 6022 (100.0%) in 5.54 sec. Users per second: 1088\n",
      "SVD++: CUTOFF: 10 - PRECISION: 0.0689472, PRECISION_RECALL_MIN_DEN: 0.0744445, RECALL: 0.0316017, MAP: 0.0298736, MAP_MIN_DEN: 0.0321634, MRR: 0.1834942, NDCG: 0.0676769, F1: 0.0433391, HIT_RATE: 0.4275988, ARHR_ALL_HITS: 0.2318148, NOVELTY: 0.0244578, AVERAGE_POPULARITY: 0.4551965, DIVERSITY_MEAN_INTER_LIST: 0.9254337, DIVERSITY_HERFINDAHL: 0.9925280, COVERAGE_ITEM: 0.1810456, COVERAGE_ITEM_HIT: 0.0733969, ITEMS_IN_GT: 0.8913211, COVERAGE_USER: 0.9970199, COVERAGE_USER_HIT: 0.4263245, USERS_IN_GT: 0.9970199, DIVERSITY_GINI: 0.0396474, SHANNON_ENTROPY: 7.6734117, RATIO_DIVERSITY_HERFINDAHL: 0.9933382, RATIO_DIVERSITY_GINI: 0.1133797, RATIO_SHANNON_ENTROPY: 0.7096447, RATIO_AVERAGE_POPULARITY: 1.6341287, RATIO_NOVELTY: 0.0828710, \n",
      "\n",
      "SVD++: Epoch 10 of 100. Elapsed time 3.08 min\n",
      "SVD++: Processed 640144 (100.0%) in 17.93 sec. MSE loss 2.96E-01. Sample per second: 35702\n",
      "SVD++: Epoch 11 of 100. Elapsed time 3.37 min\n",
      "SVD++: Processed 640144 (100.0%) in 18.21 sec. MSE loss 2.76E-01. Sample per second: 35156\n",
      "SVD++: Epoch 12 of 100. Elapsed time 3.66 min\n",
      "SVD++: Processed 640144 (100.0%) in 17.73 sec. MSE loss 2.58E-01. Sample per second: 36105\n",
      "SVD++: Epoch 13 of 100. Elapsed time 3.95 min\n",
      "SVD++: Processed 640144 (100.0%) in 18.25 sec. MSE loss 2.44E-01. Sample per second: 35074\n",
      "SVD++: Epoch 14 of 100. Elapsed time 4.24 min\n",
      "SVD++: Processed 640144 (100.0%) in 17.53 sec. MSE loss 2.31E-01. Sample per second: 36510\n",
      "SVD++: Validation begins...\n",
      "EvaluatorHoldout: Processed 6022 (100.0%) in 5.31 sec. Users per second: 1134\n",
      "SVD++: CUTOFF: 10 - PRECISION: 0.0669711, PRECISION_RECALL_MIN_DEN: 0.0720741, RECALL: 0.0297146, MAP: 0.0289418, MAP_MIN_DEN: 0.0309878, MRR: 0.1765314, NDCG: 0.0647423, F1: 0.0411647, HIT_RATE: 0.4184656, ARHR_ALL_HITS: 0.2234240, NOVELTY: 0.0247192, AVERAGE_POPULARITY: 0.4298594, DIVERSITY_MEAN_INTER_LIST: 0.9429337, DIVERSITY_HERFINDAHL: 0.9942777, COVERAGE_ITEM: 0.2183878, COVERAGE_ITEM_HIT: 0.0924543, ITEMS_IN_GT: 0.8913211, COVERAGE_USER: 0.9970199, COVERAGE_USER_HIT: 0.4172185, USERS_IN_GT: 0.9970199, DIVERSITY_GINI: 0.0519746, SHANNON_ENTROPY: 8.0654825, RATIO_DIVERSITY_HERFINDAHL: 0.9950893, RATIO_DIVERSITY_GINI: 0.1486318, RATIO_SHANNON_ENTROPY: 0.7459038, RATIO_AVERAGE_POPULARITY: 1.5431700, RATIO_NOVELTY: 0.0837568, \n",
      "\n",
      "SVD++: Epoch 15 of 100. Elapsed time 4.62 min\n",
      "SVD++: Processed 640144 (100.0%) in 18.26 sec. MSE loss 2.19E-01. Sample per second: 35065\n",
      "SVD++: Epoch 16 of 100. Elapsed time 4.91 min\n",
      "SVD++: Processed 640144 (100.0%) in 17.46 sec. MSE loss 2.08E-01. Sample per second: 36661\n",
      "SVD++: Epoch 17 of 100. Elapsed time 5.20 min\n",
      "SVD++: Processed 640144 (100.0%) in 17.77 sec. MSE loss 1.98E-01. Sample per second: 36017\n",
      "SVD++: Epoch 18 of 100. Elapsed time 5.49 min\n",
      "SVD++: Processed 640144 (100.0%) in 18.34 sec. MSE loss 1.90E-01. Sample per second: 34910\n",
      "SVD++: Epoch 19 of 100. Elapsed time 5.78 min\n",
      "SVD++: Processed 640144 (100.0%) in 17.54 sec. MSE loss 1.81E-01. Sample per second: 36506\n",
      "SVD++: Validation begins...\n",
      "EvaluatorHoldout: Processed 6022 (100.0%) in 4.98 sec. Users per second: 1209\n",
      "SVD++: CUTOFF: 10 - PRECISION: 0.0658585, PRECISION_RECALL_MIN_DEN: 0.0707242, RECALL: 0.0286877, MAP: 0.0281235, MAP_MIN_DEN: 0.0300049, MRR: 0.1703252, NDCG: 0.0623055, F1: 0.0399662, HIT_RATE: 0.4078379, ARHR_ALL_HITS: 0.2162431, NOVELTY: 0.0249293, AVERAGE_POPULARITY: 0.4099372, DIVERSITY_MEAN_INTER_LIST: 0.9526382, DIVERSITY_HERFINDAHL: 0.9952480, COVERAGE_ITEM: 0.2410507, COVERAGE_ITEM_HIT: 0.1037857, ITEMS_IN_GT: 0.8913211, COVERAGE_USER: 0.9970199, COVERAGE_USER_HIT: 0.4066225, USERS_IN_GT: 0.9970199, DIVERSITY_GINI: 0.0622554, SHANNON_ENTROPY: 8.3278566, RATIO_DIVERSITY_HERFINDAHL: 0.9960604, RATIO_DIVERSITY_GINI: 0.1780318, RATIO_SHANNON_ENTROPY: 0.7701684, RATIO_AVERAGE_POPULARITY: 1.4716503, RATIO_NOVELTY: 0.0844687, \n",
      "\n",
      "SVD++: Epoch 20 of 100. Elapsed time 6.15 min\n",
      "SVD++: Processed 640144 (100.0%) in 18.24 sec. MSE loss 1.74E-01. Sample per second: 35097\n",
      "SVD++: Epoch 21 of 100. Elapsed time 6.44 min\n",
      "SVD++: Processed 640144 (100.0%) in 17.49 sec. MSE loss 1.68E-01. Sample per second: 36602\n",
      "SVD++: Epoch 22 of 100. Elapsed time 6.73 min\n",
      "SVD++: Processed 640144 (100.0%) in 17.75 sec. MSE loss 1.62E-01. Sample per second: 36066\n",
      "SVD++: Epoch 23 of 100. Elapsed time 7.02 min\n",
      "SVD++: Processed 640144 (100.0%) in 18.21 sec. MSE loss 1.55E-01. Sample per second: 35156\n",
      "SVD++: Epoch 24 of 100. Elapsed time 7.31 min\n",
      "SVD++: Processed 640144 (100.0%) in 17.65 sec. MSE loss 1.50E-01. Sample per second: 36250\n",
      "SVD++: Validation begins...\n",
      "EvaluatorHoldout: Processed 6022 (100.0%) in 5.03 sec. Users per second: 1197\n",
      "SVD++: CUTOFF: 10 - PRECISION: 0.0636500, PRECISION_RECALL_MIN_DEN: 0.0683120, RECALL: 0.0273070, MAP: 0.0267304, MAP_MIN_DEN: 0.0284605, MRR: 0.1627003, NDCG: 0.0593863, F1: 0.0382178, HIT_RATE: 0.3960478, ARHR_ALL_HITS: 0.2062649, NOVELTY: 0.0250940, AVERAGE_POPULARITY: 0.3947950, DIVERSITY_MEAN_INTER_LIST: 0.9587606, DIVERSITY_HERFINDAHL: 0.9958601, COVERAGE_ITEM: 0.2572753, COVERAGE_ITEM_HIT: 0.1097090, ITEMS_IN_GT: 0.8913211, COVERAGE_USER: 0.9970199, COVERAGE_USER_HIT: 0.3948675, USERS_IN_GT: 0.9970199, DIVERSITY_GINI: 0.0707159, SHANNON_ENTROPY: 8.5146666, RATIO_DIVERSITY_HERFINDAHL: 0.9966730, RATIO_DIVERSITY_GINI: 0.2022262, RATIO_SHANNON_ENTROPY: 0.7874448, RATIO_AVERAGE_POPULARITY: 1.4172908, RATIO_NOVELTY: 0.0850266, \n",
      "\n",
      "SVD++: Epoch 25 of 100. Elapsed time 7.69 min\n",
      "SVD++: Processed 640144 (100.0%) in 18.29 sec. MSE loss 1.45E-01. Sample per second: 34999\n",
      "SVD++: Epoch 26 of 100. Elapsed time 7.98 min\n",
      "SVD++: Processed 640144 (100.0%) in 17.65 sec. MSE loss 1.40E-01. Sample per second: 36278\n",
      "SVD++: Epoch 27 of 100. Elapsed time 8.27 min\n",
      "SVD++: Processed 640144 (100.0%) in 18.03 sec. MSE loss 1.36E-01. Sample per second: 35508\n",
      "SVD++: Epoch 28 of 100. Elapsed time 8.56 min\n"
     ]
    },
    {
     "name": "stdout",
     "output_type": "stream",
     "text": [
      "SVD++: Processed 640144 (100.0%) in 17.28 sec. MSE loss 1.32E-01. Sample per second: 37045\n",
      "SVD++: Epoch 29 of 100. Elapsed time 8.84 min\n",
      "SVD++: Processed 640144 (100.0%) in 17.85 sec. MSE loss 1.27E-01. Sample per second: 35856\n",
      "SVD++: Validation begins...\n",
      "EvaluatorHoldout: Processed 6022 (100.0%) in 4.92 sec. Users per second: 1223\n",
      "SVD++: CUTOFF: 10 - PRECISION: 0.0614082, PRECISION_RECALL_MIN_DEN: 0.0658749, RECALL: 0.0260411, MAP: 0.0257854, MAP_MIN_DEN: 0.0273208, MRR: 0.1582390, NDCG: 0.0573928, F1: 0.0365729, HIT_RATE: 0.3847559, ARHR_ALL_HITS: 0.1999112, NOVELTY: 0.0252266, AVERAGE_POPULARITY: 0.3827945, DIVERSITY_MEAN_INTER_LIST: 0.9628770, DIVERSITY_HERFINDAHL: 0.9962717, COVERAGE_ITEM: 0.2722122, COVERAGE_ITEM_HIT: 0.1169199, ITEMS_IN_GT: 0.8913211, COVERAGE_USER: 0.9970199, COVERAGE_USER_HIT: 0.3836093, USERS_IN_GT: 0.9970199, DIVERSITY_GINI: 0.0777903, SHANNON_ENTROPY: 8.6543300, RATIO_DIVERSITY_HERFINDAHL: 0.9970849, RATIO_DIVERSITY_GINI: 0.2224569, RATIO_SHANNON_ENTROPY: 0.8003610, RATIO_AVERAGE_POPULARITY: 1.3742096, RATIO_NOVELTY: 0.0854762, \n",
      "\n",
      "SVD++: Convergence reached! Terminating at epoch 30. Best value for 'MAP' at epoch 5 is 0.0320. Elapsed time 9.22 min\n",
      "SVD++: Epoch 30 of 100. Elapsed time 9.22 min\n",
      "EvaluatorHoldout: Processed 6022 (100.0%) in 5.57 sec. Users per second: 1082\n"
     ]
    },
    {
     "name": "stderr",
     "output_type": "stream",
     "text": [
      "[I 2023-11-23 13:14:34,382] Trial 2 finished with value: 0.03201919680747313 and parameters: {'num_factors': 110, 'sgd_mode': 'adam', 'batch_size': 16, 'item_reg': 0.00035051041537617145, 'user_reg': 1.5288412928996826e-05, 'learning_rate': 0.0005027191968117902}. Best is trial 0 with value: 0.045424725741065916.\n"
     ]
    },
    {
     "name": "stdout",
     "output_type": "stream",
     "text": [
      "MatrixFactorization_SVDpp_Cython_Recommender: URM Detected 226 ( 5.8%) items with no interactions.\n",
      "SVD++: Processed 640256 (100.0%) in 8.32 sec. MSE loss 1.11E+01. Sample per second: 76971\n",
      "SVD++: Epoch 1 of 100. Elapsed time 7.88 sec\n",
      "SVD++: Processed 640256 (100.0%) in 8.16 sec. MSE loss 5.54E+00. Sample per second: 78431\n",
      "SVD++: Epoch 2 of 100. Elapsed time 15.73 sec\n",
      "SVD++: Processed 640256 (100.0%) in 8.05 sec. MSE loss 2.49E+00. Sample per second: 79538\n",
      "SVD++: Epoch 3 of 100. Elapsed time 23.61 sec\n",
      "SVD++: Processed 640256 (100.0%) in 7.85 sec. MSE loss 1.27E+00. Sample per second: 81524\n",
      "SVD++: Epoch 4 of 100. Elapsed time 31.41 sec\n",
      "SVD++: Processed 640256 (100.0%) in 9.04 sec. MSE loss 1.07E+00. Sample per second: 70796\n",
      "SVD++: Validation begins...\n",
      "EvaluatorHoldout: Processed 6022 (100.0%) in 4.98 sec. Users per second: 1208\n",
      "SVD++: CUTOFF: 10 - PRECISION: 0.1067586, PRECISION_RECALL_MIN_DEN: 0.1185439, RECALL: 0.0556772, MAP: 0.0476271, MAP_MIN_DEN: 0.0518062, MRR: 0.2444754, NDCG: 0.1033195, F1: 0.0731861, HIT_RATE: 0.5639322, ARHR_ALL_HITS: 0.3360160, NOVELTY: 0.0223943, AVERAGE_POPULARITY: 0.7172251, DIVERSITY_MEAN_INTER_LIST: 0.5310658, DIVERSITY_HERFINDAHL: 0.9530978, COVERAGE_ITEM: 0.0229204, COVERAGE_ITEM_HIT: 0.0182848, ITEMS_IN_GT: 0.8913211, COVERAGE_USER: 0.9970199, COVERAGE_USER_HIT: 0.5622517, USERS_IN_GT: 0.9970199, DIVERSITY_GINI: 0.0053803, SHANNON_ENTROPY: 4.7208813, RATIO_DIVERSITY_HERFINDAHL: 0.9538757, RATIO_DIVERSITY_GINI: 0.0153860, RATIO_SHANNON_ENTROPY: 0.4365918, RATIO_AVERAGE_POPULARITY: 2.5747958, RATIO_NOVELTY: 0.0758793, \n",
      "\n",
      "SVD++: New best model found! Updating.\n",
      "SVD++: Epoch 5 of 100. Elapsed time 44.61 sec\n",
      "SVD++: Processed 640256 (100.0%) in 7.84 sec. MSE loss 1.04E+00. Sample per second: 81701\n",
      "SVD++: Epoch 6 of 100. Elapsed time 52.39 sec\n",
      "SVD++: Processed 640256 (100.0%) in 8.94 sec. MSE loss 1.02E+00. Sample per second: 71614\n",
      "SVD++: Epoch 7 of 100. Elapsed time 1.01 min\n",
      "SVD++: Processed 640256 (100.0%) in 8.76 sec. MSE loss 9.94E-01. Sample per second: 73051\n",
      "SVD++: Epoch 8 of 100. Elapsed time 1.14 min\n",
      "SVD++: Processed 640256 (100.0%) in 8.48 sec. MSE loss 9.72E-01. Sample per second: 75517\n",
      "SVD++: Epoch 9 of 100. Elapsed time 1.27 min\n",
      "SVD++: Processed 640256 (100.0%) in 8.13 sec. MSE loss 9.48E-01. Sample per second: 78719\n",
      "SVD++: Validation begins...\n",
      "EvaluatorHoldout: Processed 6022 (100.0%) in 5.54 sec. Users per second: 1088\n",
      "SVD++: CUTOFF: 10 - PRECISION: 0.0890900, PRECISION_RECALL_MIN_DEN: 0.0983626, RECALL: 0.0453749, MAP: 0.0385100, MAP_MIN_DEN: 0.0416002, MRR: 0.2090657, NDCG: 0.0864671, F1: 0.0601265, HIT_RATE: 0.5026569, ARHR_ALL_HITS: 0.2803113, NOVELTY: 0.0230801, AVERAGE_POPULARITY: 0.6119995, DIVERSITY_MEAN_INTER_LIST: 0.6155490, DIVERSITY_HERFINDAHL: 0.9615447, COVERAGE_ITEM: 0.0293587, COVERAGE_ITEM_HIT: 0.0198300, ITEMS_IN_GT: 0.8913211, COVERAGE_USER: 0.9970199, COVERAGE_USER_HIT: 0.5011589, USERS_IN_GT: 0.9970199, DIVERSITY_GINI: 0.0070000, SHANNON_ENTROPY: 5.1474367, RATIO_DIVERSITY_HERFINDAHL: 0.9623295, RATIO_DIVERSITY_GINI: 0.0200177, RATIO_SHANNON_ENTROPY: 0.4760400, RATIO_AVERAGE_POPULARITY: 2.1970420, RATIO_NOVELTY: 0.0782030, \n",
      "\n",
      "SVD++: Epoch 10 of 100. Elapsed time 1.49 min\n",
      "SVD++: Processed 640256 (100.0%) in 8.46 sec. MSE loss 9.25E-01. Sample per second: 75668\n",
      "SVD++: Epoch 11 of 100. Elapsed time 1.62 min\n",
      "SVD++: Processed 640256 (100.0%) in 8.29 sec. MSE loss 9.03E-01. Sample per second: 77270\n",
      "SVD++: Epoch 12 of 100. Elapsed time 1.75 min\n",
      "SVD++: Processed 640256 (100.0%) in 7.99 sec. MSE loss 8.82E-01. Sample per second: 80126\n",
      "SVD++: Epoch 13 of 100. Elapsed time 1.88 min\n",
      "SVD++: Processed 640256 (100.0%) in 9.03 sec. MSE loss 8.58E-01. Sample per second: 70882\n",
      "SVD++: Epoch 14 of 100. Elapsed time 2.01 min\n",
      "SVD++: Processed 640256 (100.0%) in 7.76 sec. MSE loss 8.36E-01. Sample per second: 82525\n",
      "SVD++: Validation begins...\n",
      "EvaluatorHoldout: Processed 6022 (100.0%) in 5.00 sec. Users per second: 1204\n",
      "SVD++: CUTOFF: 10 - PRECISION: 0.0772335, PRECISION_RECALL_MIN_DEN: 0.0848593, RECALL: 0.0387915, MAP: 0.0332087, MAP_MIN_DEN: 0.0358586, MRR: 0.1937466, NDCG: 0.0757179, F1: 0.0516441, HIT_RATE: 0.4641315, ARHR_ALL_HITS: 0.2506866, NOVELTY: 0.0236475, AVERAGE_POPULARITY: 0.5398907, DIVERSITY_MEAN_INTER_LIST: 0.7156270, DIVERSITY_HERFINDAHL: 0.9715508, COVERAGE_ITEM: 0.0453258, COVERAGE_ITEM_HIT: 0.0288437, ITEMS_IN_GT: 0.8913211, COVERAGE_USER: 0.9970199, COVERAGE_USER_HIT: 0.4627483, USERS_IN_GT: 0.9970199, DIVERSITY_GINI: 0.0100795, SHANNON_ENTROPY: 5.6793300, RATIO_DIVERSITY_HERFINDAHL: 0.9723438, RATIO_DIVERSITY_GINI: 0.0288244, RATIO_SHANNON_ENTROPY: 0.5252300, RATIO_AVERAGE_POPULARITY: 1.9381758, RATIO_NOVELTY: 0.0801257, \n",
      "\n",
      "SVD++: Epoch 15 of 100. Elapsed time 2.22 min\n",
      "SVD++: Processed 640256 (100.0%) in 8.79 sec. MSE loss 8.17E-01. Sample per second: 72861\n",
      "SVD++: Epoch 16 of 100. Elapsed time 2.36 min\n",
      "SVD++: Processed 640256 (100.0%) in 8.65 sec. MSE loss 7.96E-01. Sample per second: 74034\n",
      "SVD++: Epoch 17 of 100. Elapsed time 2.49 min\n",
      "SVD++: Processed 640256 (100.0%) in 8.45 sec. MSE loss 7.74E-01. Sample per second: 75744\n",
      "SVD++: Epoch 18 of 100. Elapsed time 2.62 min\n",
      "SVD++: Processed 640256 (100.0%) in 8.15 sec. MSE loss 7.53E-01. Sample per second: 78593\n",
      "SVD++: Epoch 19 of 100. Elapsed time 2.75 min\n",
      "SVD++: Processed 640256 (100.0%) in 7.80 sec. MSE loss 7.35E-01. Sample per second: 82087\n",
      "SVD++: Validation begins...\n",
      "EvaluatorHoldout: Processed 6022 (100.0%) in 5.53 sec. Users per second: 1088\n",
      "SVD++: CUTOFF: 10 - PRECISION: 0.0731651, PRECISION_RECALL_MIN_DEN: 0.0803962, RECALL: 0.0367765, MAP: 0.0314643, MAP_MIN_DEN: 0.0341201, MRR: 0.1904106, NDCG: 0.0724886, F1: 0.0489488, HIT_RATE: 0.4500166, ARHR_ALL_HITS: 0.2420848, NOVELTY: 0.0239806, AVERAGE_POPULARITY: 0.5038082, DIVERSITY_MEAN_INTER_LIST: 0.7924721, DIVERSITY_HERFINDAHL: 0.9792340, COVERAGE_ITEM: 0.0664435, COVERAGE_ITEM_HIT: 0.0360546, ITEMS_IN_GT: 0.8913211, COVERAGE_USER: 0.9970199, COVERAGE_USER_HIT: 0.4486755, USERS_IN_GT: 0.9970199, DIVERSITY_GINI: 0.0142899, SHANNON_ENTROPY: 6.1856817, RATIO_DIVERSITY_HERFINDAHL: 0.9800334, RATIO_DIVERSITY_GINI: 0.0408648, RATIO_SHANNON_ENTROPY: 0.5720579, RATIO_AVERAGE_POPULARITY: 1.8086418, RATIO_NOVELTY: 0.0812542, \n",
      "\n",
      "SVD++: Epoch 20 of 100. Elapsed time 2.97 min\n",
      "SVD++: Processed 640256 (100.0%) in 8.06 sec. MSE loss 7.14E-01. Sample per second: 79419\n",
      "SVD++: Epoch 21 of 100. Elapsed time 3.09 min\n",
      "SVD++: Processed 640256 (100.0%) in 7.69 sec. MSE loss 6.96E-01. Sample per second: 83286\n",
      "SVD++: Epoch 22 of 100. Elapsed time 3.22 min\n",
      "SVD++: Processed 640256 (100.0%) in 8.80 sec. MSE loss 6.82E-01. Sample per second: 72760\n",
      "SVD++: Epoch 23 of 100. Elapsed time 3.36 min\n",
      "SVD++: Processed 640256 (100.0%) in 8.46 sec. MSE loss 6.63E-01. Sample per second: 75673\n",
      "SVD++: Epoch 24 of 100. Elapsed time 3.48 min\n",
      "SVD++: Processed 640256 (100.0%) in 8.18 sec. MSE loss 6.48E-01. Sample per second: 78299\n",
      "SVD++: Validation begins...\n",
      "EvaluatorHoldout: Processed 6022 (100.0%) in 5.30 sec. Users per second: 1136\n",
      "SVD++: CUTOFF: 10 - PRECISION: 0.0713384, PRECISION_RECALL_MIN_DEN: 0.0783185, RECALL: 0.0359356, MAP: 0.0307151, MAP_MIN_DEN: 0.0333687, MRR: 0.1893911, NDCG: 0.0716745, F1: 0.0477951, HIT_RATE: 0.4461973, ARHR_ALL_HITS: 0.2388190, NOVELTY: 0.0241864, AVERAGE_POPULARITY: 0.4829571, DIVERSITY_MEAN_INTER_LIST: 0.8477090, DIVERSITY_HERFINDAHL: 0.9847568, COVERAGE_ITEM: 0.0824105, COVERAGE_ITEM_HIT: 0.0419779, ITEMS_IN_GT: 0.8913211, COVERAGE_USER: 0.9970199, COVERAGE_USER_HIT: 0.4448675, USERS_IN_GT: 0.9970199, DIVERSITY_GINI: 0.0187789, SHANNON_ENTROPY: 6.5941491, RATIO_DIVERSITY_HERFINDAHL: 0.9855606, RATIO_DIVERSITY_GINI: 0.0537020, RATIO_SHANNON_ENTROPY: 0.6098334, RATIO_AVERAGE_POPULARITY: 1.7337876, RATIO_NOVELTY: 0.0819515, \n",
      "\n",
      "SVD++: Epoch 25 of 100. Elapsed time 3.70 min\n",
      "SVD++: Processed 640256 (100.0%) in 8.35 sec. MSE loss 6.33E-01. Sample per second: 76681\n",
      "SVD++: Epoch 26 of 100. Elapsed time 3.83 min\n",
      "SVD++: Processed 640256 (100.0%) in 8.17 sec. MSE loss 6.18E-01. Sample per second: 78329\n",
      "SVD++: Epoch 27 of 100. Elapsed time 3.96 min\n",
      "SVD++: Processed 640256 (100.0%) in 7.80 sec. MSE loss 6.02E-01. Sample per second: 82099\n",
      "SVD++: Epoch 28 of 100. Elapsed time 4.09 min\n",
      "SVD++: Processed 640256 (100.0%) in 8.46 sec. MSE loss 5.90E-01. Sample per second: 75651\n"
     ]
    },
    {
     "name": "stdout",
     "output_type": "stream",
     "text": [
      "SVD++: Epoch 29 of 100. Elapsed time 4.22 min\n",
      "SVD++: Processed 640256 (100.0%) in 8.53 sec. MSE loss 5.78E-01. Sample per second: 75064\n",
      "SVD++: Validation begins...\n",
      "EvaluatorHoldout: Processed 6022 (100.0%) in 4.97 sec. Users per second: 1212\n",
      "SVD++: CUTOFF: 10 - PRECISION: 0.0703753, PRECISION_RECALL_MIN_DEN: 0.0770103, RECALL: 0.0350650, MAP: 0.0301903, MAP_MIN_DEN: 0.0326994, MRR: 0.1875480, NDCG: 0.0706124, F1: 0.0468078, HIT_RATE: 0.4437064, ARHR_ALL_HITS: 0.2356328, NOVELTY: 0.0243170, AVERAGE_POPULARITY: 0.4695313, DIVERSITY_MEAN_INTER_LIST: 0.8745377, DIVERSITY_HERFINDAHL: 0.9874392, COVERAGE_ITEM: 0.0999227, COVERAGE_ITEM_HIT: 0.0466134, ITEMS_IN_GT: 0.8913211, COVERAGE_USER: 0.9970199, COVERAGE_USER_HIT: 0.4423841, USERS_IN_GT: 0.9970199, DIVERSITY_GINI: 0.0227248, SHANNON_ENTROPY: 6.8731316, RATIO_DIVERSITY_HERFINDAHL: 0.9882453, RATIO_DIVERSITY_GINI: 0.0649859, RATIO_SHANNON_ENTROPY: 0.6356340, RATIO_AVERAGE_POPULARITY: 1.6855896, RATIO_NOVELTY: 0.0823941, \n",
      "\n",
      "SVD++: Convergence reached! Terminating at epoch 30. Best value for 'MAP' at epoch 5 is 0.0476. Elapsed time 4.43 min\n",
      "SVD++: Epoch 30 of 100. Elapsed time 4.43 min\n",
      "EvaluatorHoldout: Processed 6022 (100.0%) in 5.59 sec. Users per second: 1076\n"
     ]
    },
    {
     "name": "stderr",
     "output_type": "stream",
     "text": [
      "[I 2023-11-23 13:19:06,122] Trial 3 finished with value: 0.04762713305182601 and parameters: {'num_factors': 48, 'sgd_mode': 'adam', 'batch_size': 128, 'item_reg': 0.0029531550842413195, 'user_reg': 0.0005378698094965328, 'learning_rate': 0.0001832167942980042}. Best is trial 3 with value: 0.04762713305182601.\n"
     ]
    },
    {
     "name": "stdout",
     "output_type": "stream",
     "text": [
      "MatrixFactorization_SVDpp_Cython_Recommender: URM Detected 226 ( 5.8%) items with no interactions.\n",
      "SVD++: Processed 640160 (100.0%) in 1.44 sec. MSE loss 1.17E+00. Sample per second: 443032\n",
      "SVD++: Epoch 1 of 100. Elapsed time 1.26 sec\n",
      "SVD++: Processed 640160 (100.0%) in 2.62 sec. MSE loss 1.06E+00. Sample per second: 244406\n",
      "SVD++: Epoch 2 of 100. Elapsed time 3.44 sec\n",
      "SVD++: Processed 640160 (100.0%) in 2.84 sec. MSE loss 1.02E+00. Sample per second: 225732\n",
      "SVD++: Epoch 3 of 100. Elapsed time 5.65 sec\n",
      "SVD++: Processed 640160 (100.0%) in 3.11 sec. MSE loss 9.82E-01. Sample per second: 205803\n",
      "SVD++: Epoch 4 of 100. Elapsed time 7.93 sec\n",
      "SVD++: Processed 640160 (100.0%) in 2.34 sec. MSE loss 9.58E-01. Sample per second: 274001\n",
      "SVD++: Validation begins...\n",
      "EvaluatorHoldout: Processed 6022 (100.0%) in 4.94 sec. Users per second: 1220\n",
      "SVD++: CUTOFF: 10 - PRECISION: 0.0720857, PRECISION_RECALL_MIN_DEN: 0.0791391, RECALL: 0.0354491, MAP: 0.0296401, MAP_MIN_DEN: 0.0317347, MRR: 0.1732586, NDCG: 0.0690841, F1: 0.0475264, HIT_RATE: 0.4329127, ARHR_ALL_HITS: 0.2240661, NOVELTY: 0.0238267, AVERAGE_POPULARITY: 0.5238880, DIVERSITY_MEAN_INTER_LIST: 0.4619475, DIVERSITY_HERFINDAHL: 0.9461871, COVERAGE_ITEM: 0.0198300, COVERAGE_ITEM_HIT: 0.0149369, ITEMS_IN_GT: 0.8913211, COVERAGE_USER: 0.9970199, COVERAGE_USER_HIT: 0.4316225, USERS_IN_GT: 0.9970199, DIVERSITY_GINI: 0.0047539, SHANNON_ENTROPY: 4.5329529, RATIO_DIVERSITY_HERFINDAHL: 0.9469594, RATIO_DIVERSITY_GINI: 0.0135947, RATIO_SHANNON_ENTROPY: 0.4192120, RATIO_AVERAGE_POPULARITY: 1.8807271, RATIO_NOVELTY: 0.0807326, \n",
      "\n",
      "SVD++: New best model found! Updating.\n",
      "SVD++: Epoch 5 of 100. Elapsed time 15.11 sec\n",
      "SVD++: Processed 640160 (100.0%) in 2.48 sec. MSE loss 9.34E-01. Sample per second: 258627\n",
      "SVD++: Epoch 6 of 100. Elapsed time 17.29 sec\n",
      "SVD++: Processed 640160 (100.0%) in 2.72 sec. MSE loss 9.15E-01. Sample per second: 235546\n",
      "SVD++: Epoch 7 of 100. Elapsed time 19.54 sec\n",
      "SVD++: Processed 640160 (100.0%) in 2.23 sec. MSE loss 9.01E-01. Sample per second: 286526\n",
      "SVD++: Epoch 8 of 100. Elapsed time 21.05 sec\n",
      "SVD++: Processed 640160 (100.0%) in 2.21 sec. MSE loss 8.87E-01. Sample per second: 289892\n",
      "SVD++: Epoch 9 of 100. Elapsed time 23.03 sec\n",
      "SVD++: Processed 640160 (100.0%) in 2.44 sec. MSE loss 8.78E-01. Sample per second: 262070\n",
      "SVD++: Validation begins...\n",
      "EvaluatorHoldout: Processed 6022 (100.0%) in 5.37 sec. Users per second: 1121\n",
      "SVD++: CUTOFF: 10 - PRECISION: 0.0545998, PRECISION_RECALL_MIN_DEN: 0.0592443, RECALL: 0.0256101, MAP: 0.0221408, MAP_MIN_DEN: 0.0236135, MRR: 0.1434213, NDCG: 0.0533375, F1: 0.0348661, HIT_RATE: 0.3563600, ARHR_ALL_HITS: 0.1765528, NOVELTY: 0.0249037, AVERAGE_POPULARITY: 0.4189165, DIVERSITY_MEAN_INTER_LIST: 0.4624582, DIVERSITY_HERFINDAHL: 0.9462381, COVERAGE_ITEM: 0.0182848, COVERAGE_ITEM_HIT: 0.0139068, ITEMS_IN_GT: 0.8913211, COVERAGE_USER: 0.9970199, COVERAGE_USER_HIT: 0.3552980, USERS_IN_GT: 0.9970199, DIVERSITY_GINI: 0.0047571, SHANNON_ENTROPY: 4.5465137, RATIO_DIVERSITY_HERFINDAHL: 0.9470105, RATIO_DIVERSITY_GINI: 0.0136039, RATIO_SHANNON_ENTROPY: 0.4204661, RATIO_AVERAGE_POPULARITY: 1.5038857, RATIO_NOVELTY: 0.0843821, \n",
      "\n",
      "SVD++: Epoch 10 of 100. Elapsed time 30.64 sec\n",
      "SVD++: Processed 640160 (100.0%) in 2.30 sec. MSE loss 8.67E-01. Sample per second: 278207\n",
      "SVD++: Epoch 11 of 100. Elapsed time 32.12 sec\n",
      "SVD++: Processed 640160 (100.0%) in 2.47 sec. MSE loss 8.58E-01. Sample per second: 259657\n",
      "SVD++: Epoch 12 of 100. Elapsed time 34.28 sec\n",
      "SVD++: Processed 640160 (100.0%) in 2.67 sec. MSE loss 8.52E-01. Sample per second: 239751\n",
      "SVD++: Epoch 13 of 100. Elapsed time 36.49 sec\n",
      "SVD++: Processed 640160 (100.0%) in 2.87 sec. MSE loss 8.41E-01. Sample per second: 222666\n",
      "SVD++: Epoch 14 of 100. Elapsed time 38.69 sec\n",
      "SVD++: Processed 640160 (100.0%) in 2.89 sec. MSE loss 8.34E-01. Sample per second: 221567\n",
      "SVD++: Validation begins...\n",
      "EvaluatorHoldout: Processed 6022 (100.0%) in 5.08 sec. Users per second: 1187\n",
      "SVD++: CUTOFF: 10 - PRECISION: 0.0488376, PRECISION_RECALL_MIN_DEN: 0.0528147, RECALL: 0.0224291, MAP: 0.0186706, MAP_MIN_DEN: 0.0199161, MRR: 0.1248255, NDCG: 0.0463845, F1: 0.0307404, HIT_RATE: 0.3301229, ARHR_ALL_HITS: 0.1514898, NOVELTY: 0.0253935, AVERAGE_POPULARITY: 0.3760872, DIVERSITY_MEAN_INTER_LIST: 0.4714984, DIVERSITY_HERFINDAHL: 0.9471420, COVERAGE_ITEM: 0.0193150, COVERAGE_ITEM_HIT: 0.0151944, ITEMS_IN_GT: 0.8913211, COVERAGE_USER: 0.9970199, COVERAGE_USER_HIT: 0.3291391, USERS_IN_GT: 0.9970199, DIVERSITY_GINI: 0.0049371, SHANNON_ENTROPY: 4.6109798, RATIO_DIVERSITY_HERFINDAHL: 0.9479151, RATIO_DIVERSITY_GINI: 0.0141187, RATIO_SHANNON_ENTROPY: 0.4264280, RATIO_AVERAGE_POPULARITY: 1.3501307, RATIO_NOVELTY: 0.0860415, \n",
      "\n",
      "SVD++: Epoch 15 of 100. Elapsed time 45.80 sec\n",
      "SVD++: Processed 640160 (100.0%) in 3.17 sec. MSE loss 8.29E-01. Sample per second: 201984\n",
      "SVD++: Epoch 16 of 100. Elapsed time 47.99 sec\n",
      "SVD++: Processed 640160 (100.0%) in 2.39 sec. MSE loss 8.24E-01. Sample per second: 267630\n",
      "SVD++: Epoch 17 of 100. Elapsed time 50.21 sec\n",
      "SVD++: Processed 640160 (100.0%) in 1.68 sec. MSE loss 8.19E-01. Sample per second: 382062\n",
      "SVD++: Epoch 18 of 100. Elapsed time 51.49 sec\n",
      "SVD++: Processed 640160 (100.0%) in 2.82 sec. MSE loss 8.14E-01. Sample per second: 226357\n",
      "SVD++: Epoch 19 of 100. Elapsed time 53.65 sec\n",
      "SVD++: Processed 640160 (100.0%) in 3.04 sec. MSE loss 8.09E-01. Sample per second: 210925\n",
      "SVD++: Validation begins...\n",
      "EvaluatorHoldout: Processed 6022 (100.0%) in 5.22 sec. Users per second: 1153\n",
      "SVD++: CUTOFF: 10 - PRECISION: 0.0481069, PRECISION_RECALL_MIN_DEN: 0.0521423, RECALL: 0.0225675, MAP: 0.0181620, MAP_MIN_DEN: 0.0193779, MRR: 0.1219430, NDCG: 0.0458900, F1: 0.0307227, HIT_RATE: 0.3268017, ARHR_ALL_HITS: 0.1477742, NOVELTY: 0.0254784, AVERAGE_POPULARITY: 0.3725268, DIVERSITY_MEAN_INTER_LIST: 0.4777895, DIVERSITY_HERFINDAHL: 0.9477710, COVERAGE_ITEM: 0.0257533, COVERAGE_ITEM_HIT: 0.0167396, ITEMS_IN_GT: 0.8913211, COVERAGE_USER: 0.9970199, COVERAGE_USER_HIT: 0.3258278, USERS_IN_GT: 0.9970199, DIVERSITY_GINI: 0.0051071, SHANNON_ENTROPY: 4.6700159, RATIO_DIVERSITY_HERFINDAHL: 0.9485446, RATIO_DIVERSITY_GINI: 0.0146048, RATIO_SHANNON_ENTROPY: 0.4318877, RATIO_AVERAGE_POPULARITY: 1.3373493, RATIO_NOVELTY: 0.0863293, \n",
      "\n",
      "SVD++: Epoch 20 of 100. Elapsed time 1.02 min\n",
      "SVD++: Processed 640160 (100.0%) in 2.02 sec. MSE loss 8.04E-01. Sample per second: 316462\n",
      "SVD++: Epoch 21 of 100. Elapsed time 1.05 min\n",
      "SVD++: Processed 640160 (100.0%) in 2.25 sec. MSE loss 7.98E-01. Sample per second: 284872\n",
      "SVD++: Epoch 22 of 100. Elapsed time 1.08 min\n",
      "SVD++: Processed 640160 (100.0%) in 2.46 sec. MSE loss 7.94E-01. Sample per second: 260208\n",
      "SVD++: Epoch 23 of 100. Elapsed time 1.12 min\n",
      "SVD++: Processed 640160 (100.0%) in 2.64 sec. MSE loss 7.90E-01. Sample per second: 242037\n",
      "SVD++: Epoch 24 of 100. Elapsed time 1.16 min\n",
      "SVD++: Processed 640160 (100.0%) in 2.39 sec. MSE loss 7.86E-01. Sample per second: 267756\n",
      "SVD++: Validation begins...\n",
      "EvaluatorHoldout: Processed 6022 (100.0%) in 5.24 sec. Users per second: 1150\n",
      "SVD++: CUTOFF: 10 - PRECISION: 0.0477416, PRECISION_RECALL_MIN_DEN: 0.0519441, RECALL: 0.0226685, MAP: 0.0175737, MAP_MIN_DEN: 0.0188450, MRR: 0.1169954, NDCG: 0.0448476, F1: 0.0307408, HIT_RATE: 0.3277981, ARHR_ALL_HITS: 0.1423425, NOVELTY: 0.0255185, AVERAGE_POPULARITY: 0.3711186, DIVERSITY_MEAN_INTER_LIST: 0.4942363, DIVERSITY_HERFINDAHL: 0.9494154, COVERAGE_ITEM: 0.0280711, COVERAGE_ITEM_HIT: 0.0190574, ITEMS_IN_GT: 0.8913211, COVERAGE_USER: 0.9970199, COVERAGE_USER_HIT: 0.3268212, USERS_IN_GT: 0.9970199, DIVERSITY_GINI: 0.0054564, SHANNON_ENTROPY: 4.7656871, RATIO_DIVERSITY_HERFINDAHL: 0.9501904, RATIO_DIVERSITY_GINI: 0.0156036, RATIO_SHANNON_ENTROPY: 0.4407354, RATIO_AVERAGE_POPULARITY: 1.3322939, RATIO_NOVELTY: 0.0864653, \n",
      "\n",
      "SVD++: Epoch 25 of 100. Elapsed time 1.27 min\n",
      "SVD++: Processed 640160 (100.0%) in 2.80 sec. MSE loss 7.82E-01. Sample per second: 228452\n",
      "SVD++: Epoch 26 of 100. Elapsed time 1.31 min\n",
      "SVD++: Processed 640160 (100.0%) in 2.96 sec. MSE loss 7.77E-01. Sample per second: 216499\n",
      "SVD++: Epoch 27 of 100. Elapsed time 1.35 min\n",
      "SVD++: Processed 640160 (100.0%) in 2.20 sec. MSE loss 7.73E-01. Sample per second: 291243\n",
      "SVD++: Epoch 28 of 100. Elapsed time 1.37 min\n"
     ]
    },
    {
     "name": "stdout",
     "output_type": "stream",
     "text": [
      "SVD++: Processed 640160 (100.0%) in 2.36 sec. MSE loss 7.70E-01. Sample per second: 270994\n",
      "SVD++: Epoch 29 of 100. Elapsed time 1.40 min\n",
      "SVD++: Processed 640160 (100.0%) in 2.59 sec. MSE loss 7.65E-01. Sample per second: 247438\n",
      "SVD++: Validation begins...\n",
      "EvaluatorHoldout: Processed 6022 (100.0%) in 5.10 sec. Users per second: 1181\n",
      "SVD++: CUTOFF: 10 - PRECISION: 0.0470276, PRECISION_RECALL_MIN_DEN: 0.0513975, RECALL: 0.0227388, MAP: 0.0180560, MAP_MIN_DEN: 0.0196001, MRR: 0.1234669, NDCG: 0.0459037, F1: 0.0306552, HIT_RATE: 0.3268017, ARHR_ALL_HITS: 0.1483655, NOVELTY: 0.0256252, AVERAGE_POPULARITY: 0.3678906, DIVERSITY_MEAN_INTER_LIST: 0.5460807, DIVERSITY_HERFINDAHL: 0.9545990, COVERAGE_ITEM: 0.0327067, COVERAGE_ITEM_HIT: 0.0206026, ITEMS_IN_GT: 0.8913211, COVERAGE_USER: 0.9970199, COVERAGE_USER_HIT: 0.3258278, USERS_IN_GT: 0.9970199, DIVERSITY_GINI: 0.0063212, SHANNON_ENTROPY: 4.9813145, RATIO_DIVERSITY_HERFINDAHL: 0.9553782, RATIO_DIVERSITY_GINI: 0.0180767, RATIO_SHANNON_ENTROPY: 0.4606769, RATIO_AVERAGE_POPULARITY: 1.3207056, RATIO_NOVELTY: 0.0868267, \n",
      "\n",
      "SVD++: Convergence reached! Terminating at epoch 30. Best value for 'MAP' at epoch 5 is 0.0296. Elapsed time 1.53 min\n",
      "SVD++: Epoch 30 of 100. Elapsed time 1.53 min\n",
      "EvaluatorHoldout: Processed 6022 (100.0%) in 5.36 sec. Users per second: 1125\n"
     ]
    },
    {
     "name": "stderr",
     "output_type": "stream",
     "text": [
      "[I 2023-11-23 13:20:43,065] Trial 4 finished with value: 0.02964007633386587 and parameters: {'num_factors': 35, 'sgd_mode': 'sgd', 'batch_size': 32, 'item_reg': 0.0008941426666110113, 'user_reg': 2.407823096487377e-05, 'learning_rate': 0.02000437702693842}. Best is trial 3 with value: 0.04762713305182601.\n"
     ]
    },
    {
     "name": "stdout",
     "output_type": "stream",
     "text": [
      "MatrixFactorization_SVDpp_Cython_Recommender: URM Detected 226 ( 5.8%) items with no interactions.\n",
      "SVD++: Processed 641024 (100.0%) in 17.54 sec. MSE loss 1.48E+01. Sample per second: 36539\n",
      "SVD++: Epoch 1 of 100. Elapsed time 17.36 sec\n",
      "SVD++: Processed 641024 (100.0%) in 18.01 sec. MSE loss 1.46E+01. Sample per second: 35595\n",
      "SVD++: Epoch 2 of 100. Elapsed time 34.82 sec\n",
      "SVD++: Processed 641024 (100.0%) in 17.63 sec. MSE loss 1.45E+01. Sample per second: 36351\n",
      "SVD++: Epoch 3 of 100. Elapsed time 52.45 sec\n",
      "SVD++: Processed 641024 (100.0%) in 17.99 sec. MSE loss 1.45E+01. Sample per second: 35641\n",
      "SVD++: Epoch 4 of 100. Elapsed time 1.16 min\n",
      "SVD++: Processed 641024 (100.0%) in 18.34 sec. MSE loss 1.44E+01. Sample per second: 34959\n",
      "SVD++: Validation begins...\n",
      "EvaluatorHoldout: Processed 6022 (100.0%) in 5.43 sec. Users per second: 1108\n",
      "SVD++: CUTOFF: 10 - PRECISION: 0.0091000, PRECISION_RECALL_MIN_DEN: 0.0095680, RECALL: 0.0033503, MAP: 0.0028714, MAP_MIN_DEN: 0.0029692, MRR: 0.0255134, NDCG: 0.0053505, F1: 0.0048975, HIT_RATE: 0.0815344, ARHR_ALL_HITS: 0.0270308, NOVELTY: 0.0319330, AVERAGE_POPULARITY: 0.0882687, DIVERSITY_MEAN_INTER_LIST: 0.9966924, DIVERSITY_HERFINDAHL: 0.9996527, COVERAGE_ITEM: 0.9981973, COVERAGE_ITEM_HIT: 0.1099665, ITEMS_IN_GT: 0.8913211, COVERAGE_USER: 0.9970199, COVERAGE_USER_HIT: 0.0812914, USERS_IN_GT: 0.9970199, DIVERSITY_GINI: 0.6828613, SHANNON_ENTROPY: 11.6857227, RATIO_DIVERSITY_HERFINDAHL: 1.0004687, RATIO_DIVERSITY_GINI: 1.9527773, RATIO_SHANNON_ENTROPY: 1.0807071, RATIO_AVERAGE_POPULARITY: 0.3168796, RATIO_NOVELTY: 0.1081997, \n",
      "\n",
      "SVD++: New best model found! Updating.\n",
      "SVD++: Epoch 5 of 100. Elapsed time 1.54 min\n",
      "SVD++: Processed 641024 (100.0%) in 18.20 sec. MSE loss 1.43E+01. Sample per second: 35223\n",
      "SVD++: Epoch 6 of 100. Elapsed time 1.83 min\n",
      "SVD++: Processed 641024 (100.0%) in 17.60 sec. MSE loss 1.43E+01. Sample per second: 36404\n",
      "SVD++: Epoch 7 of 100. Elapsed time 2.12 min\n",
      "SVD++: Processed 641024 (100.0%) in 18.25 sec. MSE loss 1.42E+01. Sample per second: 35127\n",
      "SVD++: Epoch 8 of 100. Elapsed time 2.42 min\n",
      "SVD++: Processed 641024 (100.0%) in 17.71 sec. MSE loss 1.42E+01. Sample per second: 36195\n",
      "SVD++: Epoch 9 of 100. Elapsed time 2.71 min\n",
      "SVD++: Processed 641024 (100.0%) in 18.10 sec. MSE loss 1.41E+01. Sample per second: 35407\n",
      "SVD++: Validation begins...\n",
      "EvaluatorHoldout: Processed 6022 (100.0%) in 5.35 sec. Users per second: 1125\n",
      "SVD++: CUTOFF: 10 - PRECISION: 0.0102458, PRECISION_RECALL_MIN_DEN: 0.0107250, RECALL: 0.0036982, MAP: 0.0032344, MAP_MIN_DEN: 0.0033475, MRR: 0.0285009, NDCG: 0.0060889, F1: 0.0054347, HIT_RATE: 0.0906676, ARHR_ALL_HITS: 0.0303374, NOVELTY: 0.0316673, AVERAGE_POPULARITY: 0.0972776, DIVERSITY_MEAN_INTER_LIST: 0.9965982, DIVERSITY_HERFINDAHL: 0.9996433, COVERAGE_ITEM: 0.9979397, COVERAGE_ITEM_HIT: 0.1166624, ITEMS_IN_GT: 0.8913211, COVERAGE_USER: 0.9970199, COVERAGE_USER_HIT: 0.0903974, USERS_IN_GT: 0.9970199, DIVERSITY_GINI: 0.6690465, SHANNON_ENTROPY: 11.6641067, RATIO_DIVERSITY_HERFINDAHL: 1.0004592, RATIO_DIVERSITY_GINI: 1.9132712, RATIO_SHANNON_ENTROPY: 1.0787081, RATIO_AVERAGE_POPULARITY: 0.3492209, RATIO_NOVELTY: 0.1072993, \n",
      "\n",
      "SVD++: New best model found! Updating.\n",
      "SVD++: Epoch 10 of 100. Elapsed time 3.09 min\n",
      "SVD++: Processed 641024 (100.0%) in 17.84 sec. MSE loss 1.41E+01. Sample per second: 35933\n",
      "SVD++: Epoch 11 of 100. Elapsed time 3.38 min\n",
      "SVD++: Processed 641024 (100.0%) in 18.25 sec. MSE loss 1.41E+01. Sample per second: 35105\n",
      "SVD++: Epoch 12 of 100. Elapsed time 3.67 min\n",
      "SVD++: Processed 641024 (100.0%) in 17.61 sec. MSE loss 1.40E+01. Sample per second: 36394\n",
      "SVD++: Epoch 13 of 100. Elapsed time 3.96 min\n",
      "SVD++: Processed 641024 (100.0%) in 18.23 sec. MSE loss 1.40E+01. Sample per second: 35145\n",
      "SVD++: Epoch 14 of 100. Elapsed time 4.25 min\n",
      "SVD++: Processed 641024 (100.0%) in 17.61 sec. MSE loss 1.39E+01. Sample per second: 36405\n",
      "SVD++: Validation begins...\n",
      "EvaluatorHoldout: Processed 6022 (100.0%) in 4.86 sec. Users per second: 1238\n",
      "SVD++: CUTOFF: 10 - PRECISION: 0.0109764, PRECISION_RECALL_MIN_DEN: 0.0115253, RECALL: 0.0040532, MAP: 0.0034668, MAP_MIN_DEN: 0.0035961, MRR: 0.0304077, NDCG: 0.0065873, F1: 0.0059203, HIT_RATE: 0.0968117, ARHR_ALL_HITS: 0.0324529, NOVELTY: 0.0314788, AVERAGE_POPULARITY: 0.1042524, DIVERSITY_MEAN_INTER_LIST: 0.9964874, DIVERSITY_HERFINDAHL: 0.9996322, COVERAGE_ITEM: 0.9974247, COVERAGE_ITEM_HIT: 0.1197528, ITEMS_IN_GT: 0.8913211, COVERAGE_USER: 0.9970199, COVERAGE_USER_HIT: 0.0965232, USERS_IN_GT: 0.9970199, DIVERSITY_GINI: 0.6542236, SHANNON_ENTROPY: 11.6396973, RATIO_DIVERSITY_HERFINDAHL: 1.0004482, RATIO_DIVERSITY_GINI: 1.8708820, RATIO_SHANNON_ENTROPY: 1.0764507, RATIO_AVERAGE_POPULARITY: 0.3742600, RATIO_NOVELTY: 0.1066607, \n",
      "\n",
      "SVD++: New best model found! Updating.\n",
      "SVD++: Epoch 15 of 100. Elapsed time 4.62 min\n",
      "SVD++: Processed 641024 (100.0%) in 18.18 sec. MSE loss 1.39E+01. Sample per second: 35261\n",
      "SVD++: Epoch 16 of 100. Elapsed time 4.92 min\n",
      "SVD++: Processed 641024 (100.0%) in 17.50 sec. MSE loss 1.39E+01. Sample per second: 36626\n",
      "SVD++: Epoch 17 of 100. Elapsed time 5.21 min\n",
      "SVD++: Processed 641024 (100.0%) in 17.88 sec. MSE loss 1.39E+01. Sample per second: 35848\n",
      "SVD++: Epoch 18 of 100. Elapsed time 5.49 min\n",
      "SVD++: Processed 641024 (100.0%) in 18.35 sec. MSE loss 1.38E+01. Sample per second: 34935\n",
      "SVD++: Epoch 19 of 100. Elapsed time 5.79 min\n",
      "SVD++: Processed 641024 (100.0%) in 18.03 sec. MSE loss 1.38E+01. Sample per second: 35555\n",
      "SVD++: Validation begins...\n",
      "EvaluatorHoldout: Processed 6022 (100.0%) in 4.83 sec. Users per second: 1246\n",
      "SVD++: CUTOFF: 10 - PRECISION: 0.0116573, PRECISION_RECALL_MIN_DEN: 0.0122615, RECALL: 0.0043725, MAP: 0.0036972, MAP_MIN_DEN: 0.0038383, MRR: 0.0322915, NDCG: 0.0070529, F1: 0.0063596, HIT_RATE: 0.1027898, ARHR_ALL_HITS: 0.0345392, NOVELTY: 0.0312906, AVERAGE_POPULARITY: 0.1104045, DIVERSITY_MEAN_INTER_LIST: 0.9963748, DIVERSITY_HERFINDAHL: 0.9996209, COVERAGE_ITEM: 0.9971671, COVERAGE_ITEM_HIT: 0.1223281, ITEMS_IN_GT: 0.8913211, COVERAGE_USER: 0.9970199, COVERAGE_USER_HIT: 0.1024834, USERS_IN_GT: 0.9970199, DIVERSITY_GINI: 0.6388804, SHANNON_ENTROPY: 11.6137771, RATIO_DIVERSITY_HERFINDAHL: 1.0004369, RATIO_DIVERSITY_GINI: 1.8270053, RATIO_SHANNON_ENTROPY: 1.0740535, RATIO_AVERAGE_POPULARITY: 0.3963457, RATIO_NOVELTY: 0.1060228, \n",
      "\n",
      "SVD++: New best model found! Updating.\n",
      "SVD++: Epoch 20 of 100. Elapsed time 6.16 min\n",
      "SVD++: Processed 641024 (100.0%) in 18.39 sec. MSE loss 1.38E+01. Sample per second: 34842\n",
      "SVD++: Epoch 21 of 100. Elapsed time 6.45 min\n",
      "SVD++: Processed 641024 (100.0%) in 17.94 sec. MSE loss 1.37E+01. Sample per second: 35738\n",
      "SVD++: Epoch 22 of 100. Elapsed time 6.75 min\n",
      "SVD++: Processed 641024 (100.0%) in 18.31 sec. MSE loss 1.37E+01. Sample per second: 35008\n",
      "SVD++: Epoch 23 of 100. Elapsed time 7.04 min\n",
      "SVD++: Processed 641024 (100.0%) in 17.69 sec. MSE loss 1.37E+01. Sample per second: 36239\n",
      "SVD++: Epoch 24 of 100. Elapsed time 7.33 min\n",
      "SVD++: Processed 641024 (100.0%) in 18.37 sec. MSE loss 1.37E+01. Sample per second: 34904\n",
      "SVD++: Validation begins...\n",
      "EvaluatorHoldout: Processed 6022 (100.0%) in 5.18 sec. Users per second: 1163\n",
      "SVD++: CUTOFF: 10 - PRECISION: 0.0123049, PRECISION_RECALL_MIN_DEN: 0.0129608, RECALL: 0.0046383, MAP: 0.0039602, MAP_MIN_DEN: 0.0041125, MRR: 0.0344822, NDCG: 0.0075510, F1: 0.0067371, HIT_RATE: 0.1084357, ARHR_ALL_HITS: 0.0369389, NOVELTY: 0.0311342, AVERAGE_POPULARITY: 0.1161799, DIVERSITY_MEAN_INTER_LIST: 0.9962566, DIVERSITY_HERFINDAHL: 0.9996091, COVERAGE_ITEM: 0.9966521, COVERAGE_ITEM_HIT: 0.1228432, ITEMS_IN_GT: 0.8913211, COVERAGE_USER: 0.9970199, COVERAGE_USER_HIT: 0.1081126, USERS_IN_GT: 0.9970199, DIVERSITY_GINI: 0.6248496, SHANNON_ENTROPY: 11.5886763, RATIO_DIVERSITY_HERFINDAHL: 1.0004251, RATIO_DIVERSITY_GINI: 1.7868812, RATIO_SHANNON_ENTROPY: 1.0717322, RATIO_AVERAGE_POPULARITY: 0.4170792, RATIO_NOVELTY: 0.1054929, \n",
      "\n",
      "SVD++: New best model found! Updating.\n",
      "SVD++: Epoch 25 of 100. Elapsed time 7.71 min\n",
      "SVD++: Processed 641024 (100.0%) in 17.97 sec. MSE loss 1.36E+01. Sample per second: 35682\n",
      "SVD++: Epoch 26 of 100. Elapsed time 8.00 min\n",
      "SVD++: Processed 641024 (100.0%) in 18.64 sec. MSE loss 1.36E+01. Sample per second: 34372\n",
      "SVD++: Epoch 27 of 100. Elapsed time 8.29 min\n"
     ]
    },
    {
     "name": "stdout",
     "output_type": "stream",
     "text": [
      "SVD++: Processed 641024 (100.0%) in 17.99 sec. MSE loss 1.36E+01. Sample per second: 35630\n",
      "SVD++: Epoch 28 of 100. Elapsed time 8.58 min\n",
      "SVD++: Processed 641024 (100.0%) in 18.34 sec. MSE loss 1.36E+01. Sample per second: 34950\n",
      "SVD++: Epoch 29 of 100. Elapsed time 8.87 min\n",
      "SVD++: Processed 641024 (100.0%) in 17.69 sec. MSE loss 1.35E+01. Sample per second: 36235\n",
      "SVD++: Validation begins...\n",
      "EvaluatorHoldout: Processed 6022 (100.0%) in 5.42 sec. Users per second: 1111\n",
      "SVD++: CUTOFF: 10 - PRECISION: 0.0129857, PRECISION_RECALL_MIN_DEN: 0.0136638, RECALL: 0.0048611, MAP: 0.0042223, MAP_MIN_DEN: 0.0043829, MRR: 0.0365183, NDCG: 0.0080580, F1: 0.0070741, HIT_RATE: 0.1135835, ARHR_ALL_HITS: 0.0392345, NOVELTY: 0.0309800, AVERAGE_POPULARITY: 0.1214891, DIVERSITY_MEAN_INTER_LIST: 0.9961388, DIVERSITY_HERFINDAHL: 0.9995973, COVERAGE_ITEM: 0.9956219, COVERAGE_ITEM_HIT: 0.1254185, ITEMS_IN_GT: 0.8913211, COVERAGE_USER: 0.9970199, COVERAGE_USER_HIT: 0.1132450, USERS_IN_GT: 0.9970199, DIVERSITY_GINI: 0.6118426, SHANNON_ENTROPY: 11.5637602, RATIO_DIVERSITY_HERFINDAHL: 1.0004133, RATIO_DIVERSITY_GINI: 1.7496851, RATIO_SHANNON_ENTROPY: 1.0694279, RATIO_AVERAGE_POPULARITY: 0.4361386, RATIO_NOVELTY: 0.1049705, \n",
      "\n",
      "SVD++: New best model found! Updating.\n",
      "SVD++: Epoch 30 of 100. Elapsed time 9.25 min\n",
      "SVD++: Processed 641024 (100.0%) in 17.51 sec. MSE loss 1.35E+01. Sample per second: 36616\n",
      "SVD++: Epoch 31 of 100. Elapsed time 9.54 min\n",
      "SVD++: Processed 641024 (100.0%) in 17.90 sec. MSE loss 1.35E+01. Sample per second: 35818\n",
      "SVD++: Epoch 32 of 100. Elapsed time 9.83 min\n",
      "SVD++: Processed 641024 (100.0%) in 18.60 sec. MSE loss 1.35E+01. Sample per second: 34456\n",
      "SVD++: Epoch 33 of 100. Elapsed time 10.12 min\n",
      "SVD++: Processed 641024 (100.0%) in 17.99 sec. MSE loss 1.35E+01. Sample per second: 35639\n",
      "SVD++: Epoch 34 of 100. Elapsed time 10.41 min\n",
      "SVD++: Processed 641024 (100.0%) in 18.34 sec. MSE loss 1.34E+01. Sample per second: 34943\n",
      "SVD++: Validation begins...\n",
      "EvaluatorHoldout: Processed 6022 (100.0%) in 5.48 sec. Users per second: 1098\n",
      "SVD++: CUTOFF: 10 - PRECISION: 0.0135337, PRECISION_RECALL_MIN_DEN: 0.0142826, RECALL: 0.0051442, MAP: 0.0045476, MAP_MIN_DEN: 0.0047258, MRR: 0.0390530, NDCG: 0.0085649, F1: 0.0074548, HIT_RATE: 0.1174029, ARHR_ALL_HITS: 0.0421108, NOVELTY: 0.0308278, AVERAGE_POPULARITY: 0.1264524, DIVERSITY_MEAN_INTER_LIST: 0.9960162, DIVERSITY_HERFINDAHL: 0.9995851, COVERAGE_ITEM: 0.9935617, COVERAGE_ITEM_HIT: 0.1279938, ITEMS_IN_GT: 0.8913211, COVERAGE_USER: 0.9970199, COVERAGE_USER_HIT: 0.1170530, USERS_IN_GT: 0.9970199, DIVERSITY_GINI: 0.5983501, SHANNON_ENTROPY: 11.5375147, RATIO_DIVERSITY_HERFINDAHL: 1.0004010, RATIO_DIVERSITY_GINI: 1.7111008, RATIO_SHANNON_ENTROPY: 1.0670007, RATIO_AVERAGE_POPULARITY: 0.4539567, RATIO_NOVELTY: 0.1044547, \n",
      "\n",
      "SVD++: New best model found! Updating.\n",
      "SVD++: Epoch 35 of 100. Elapsed time 10.79 min\n",
      "SVD++: Processed 641024 (100.0%) in 18.33 sec. MSE loss 1.34E+01. Sample per second: 34965\n",
      "SVD++: Epoch 36 of 100. Elapsed time 11.09 min\n",
      "SVD++: Processed 641024 (100.0%) in 17.71 sec. MSE loss 1.34E+01. Sample per second: 36191\n",
      "SVD++: Epoch 37 of 100. Elapsed time 11.38 min\n",
      "SVD++: Processed 641024 (100.0%) in 18.09 sec. MSE loss 1.34E+01. Sample per second: 35426\n",
      "SVD++: Epoch 38 of 100. Elapsed time 11.67 min\n",
      "SVD++: Processed 641024 (100.0%) in 17.78 sec. MSE loss 1.34E+01. Sample per second: 36051\n",
      "SVD++: Epoch 39 of 100. Elapsed time 11.96 min\n",
      "SVD++: Processed 641024 (100.0%) in 18.07 sec. MSE loss 1.33E+01. Sample per second: 35478\n",
      "SVD++: Validation begins...\n",
      "EvaluatorHoldout: Processed 6022 (100.0%) in 4.94 sec. Users per second: 1219\n",
      "SVD++: CUTOFF: 10 - PRECISION: 0.0140651, PRECISION_RECALL_MIN_DEN: 0.0148933, RECALL: 0.0053754, MAP: 0.0047486, MAP_MIN_DEN: 0.0049409, MRR: 0.0406488, NDCG: 0.0090016, F1: 0.0077781, HIT_RATE: 0.1217204, ARHR_ALL_HITS: 0.0438906, NOVELTY: 0.0307013, AVERAGE_POPULARITY: 0.1310127, DIVERSITY_MEAN_INTER_LIST: 0.9958834, DIVERSITY_HERFINDAHL: 0.9995718, COVERAGE_ITEM: 0.9927891, COVERAGE_ITEM_HIT: 0.1300541, ITEMS_IN_GT: 0.8913211, COVERAGE_USER: 0.9970199, COVERAGE_USER_HIT: 0.1213576, USERS_IN_GT: 0.9970199, DIVERSITY_GINI: 0.5848715, SHANNON_ENTROPY: 11.5101008, RATIO_DIVERSITY_HERFINDAHL: 1.0003877, RATIO_DIVERSITY_GINI: 1.6725560, RATIO_SHANNON_ENTROPY: 1.0644655, RATIO_AVERAGE_POPULARITY: 0.4703279, RATIO_NOVELTY: 0.1040262, \n",
      "\n",
      "SVD++: New best model found! Updating.\n",
      "SVD++: Epoch 40 of 100. Elapsed time 12.33 min\n",
      "SVD++: Processed 641024 (100.0%) in 17.62 sec. MSE loss 1.33E+01. Sample per second: 36373\n",
      "SVD++: Epoch 41 of 100. Elapsed time 12.62 min\n",
      "SVD++: Processed 641024 (100.0%) in 17.99 sec. MSE loss 1.33E+01. Sample per second: 35642\n",
      "SVD++: Epoch 42 of 100. Elapsed time 12.91 min\n",
      "SVD++: Processed 641024 (100.0%) in 18.31 sec. MSE loss 1.33E+01. Sample per second: 35002\n",
      "SVD++: Epoch 43 of 100. Elapsed time 13.20 min\n",
      "SVD++: Processed 641024 (100.0%) in 17.95 sec. MSE loss 1.33E+01. Sample per second: 35720\n",
      "SVD++: Epoch 44 of 100. Elapsed time 13.50 min\n",
      "SVD++: Processed 641024 (100.0%) in 18.34 sec. MSE loss 1.32E+01. Sample per second: 34962\n",
      "SVD++: Validation begins...\n",
      "EvaluatorHoldout: Processed 6022 (100.0%) in 4.89 sec. Users per second: 1232\n",
      "SVD++: CUTOFF: 10 - PRECISION: 0.0147791, PRECISION_RECALL_MIN_DEN: 0.0156092, RECALL: 0.0055938, MAP: 0.0049889, MAP_MIN_DEN: 0.0051938, MRR: 0.0422394, NDCG: 0.0094815, F1: 0.0081158, HIT_RATE: 0.1270342, ARHR_ALL_HITS: 0.0458479, NOVELTY: 0.0305583, AVERAGE_POPULARITY: 0.1360393, DIVERSITY_MEAN_INTER_LIST: 0.9957343, DIVERSITY_HERFINDAHL: 0.9995569, COVERAGE_ITEM: 0.9915014, COVERAGE_ITEM_HIT: 0.1334020, ITEMS_IN_GT: 0.8913211, COVERAGE_USER: 0.9970199, COVERAGE_USER_HIT: 0.1266556, USERS_IN_GT: 0.9970199, DIVERSITY_GINI: 0.5708498, SHANNON_ENTROPY: 11.4800581, RATIO_DIVERSITY_HERFINDAHL: 1.0003728, RATIO_DIVERSITY_GINI: 1.6324583, RATIO_SHANNON_ENTROPY: 1.0616871, RATIO_AVERAGE_POPULARITY: 0.4883729, RATIO_NOVELTY: 0.1035417, \n",
      "\n",
      "SVD++: New best model found! Updating.\n",
      "SVD++: Epoch 45 of 100. Elapsed time 13.87 min\n",
      "SVD++: Processed 641024 (100.0%) in 17.88 sec. MSE loss 1.32E+01. Sample per second: 35857\n",
      "SVD++: Epoch 46 of 100. Elapsed time 14.16 min\n",
      "SVD++: Processed 641024 (100.0%) in 18.24 sec. MSE loss 1.32E+01. Sample per second: 35150\n",
      "SVD++: Epoch 47 of 100. Elapsed time 14.45 min\n",
      "SVD++: Processed 641024 (100.0%) in 17.64 sec. MSE loss 1.32E+01. Sample per second: 36326\n",
      "SVD++: Epoch 48 of 100. Elapsed time 14.74 min\n",
      "SVD++: Processed 641024 (100.0%) in 18.01 sec. MSE loss 1.32E+01. Sample per second: 35595\n",
      "SVD++: Epoch 49 of 100. Elapsed time 15.03 min\n",
      "SVD++: Processed 641024 (100.0%) in 17.71 sec. MSE loss 1.31E+01. Sample per second: 36202\n",
      "SVD++: Validation begins...\n",
      "EvaluatorHoldout: Processed 6022 (100.0%) in 4.90 sec. Users per second: 1228\n",
      "SVD++: CUTOFF: 10 - PRECISION: 0.0153437, PRECISION_RECALL_MIN_DEN: 0.0161885, RECALL: 0.0057921, MAP: 0.0052350, MAP_MIN_DEN: 0.0054433, MRR: 0.0440518, NDCG: 0.0098608, F1: 0.0084096, HIT_RATE: 0.1306875, ARHR_ALL_HITS: 0.0479412, NOVELTY: 0.0304192, AVERAGE_POPULARITY: 0.1405398, DIVERSITY_MEAN_INTER_LIST: 0.9955933, DIVERSITY_HERFINDAHL: 0.9995428, COVERAGE_ITEM: 0.9899562, COVERAGE_ITEM_HIT: 0.1352047, ITEMS_IN_GT: 0.8913211, COVERAGE_USER: 0.9970199, COVERAGE_USER_HIT: 0.1302980, USERS_IN_GT: 0.9970199, DIVERSITY_GINI: 0.5579118, SHANNON_ENTROPY: 11.4514567, RATIO_DIVERSITY_HERFINDAHL: 1.0003587, RATIO_DIVERSITY_GINI: 1.5954595, RATIO_SHANNON_ENTROPY: 1.0590420, RATIO_AVERAGE_POPULARITY: 0.5045297, RATIO_NOVELTY: 0.1030703, \n",
      "\n",
      "SVD++: New best model found! Updating.\n",
      "SVD++: Epoch 50 of 100. Elapsed time 15.41 min\n",
      "SVD++: Processed 641024 (100.0%) in 18.01 sec. MSE loss 1.31E+01. Sample per second: 35591\n",
      "SVD++: Epoch 51 of 100. Elapsed time 15.70 min\n",
      "SVD++: Processed 641024 (100.0%) in 17.71 sec. MSE loss 1.31E+01. Sample per second: 36200\n",
      "SVD++: Epoch 52 of 100. Elapsed time 15.99 min\n",
      "SVD++: Processed 641024 (100.0%) in 18.02 sec. MSE loss 1.31E+01. Sample per second: 35578\n",
      "SVD++: Epoch 53 of 100. Elapsed time 16.28 min\n",
      "SVD++: Processed 641024 (100.0%) in 17.39 sec. MSE loss 1.31E+01. Sample per second: 36853\n",
      "SVD++: Epoch 54 of 100. Elapsed time 16.57 min\n",
      "SVD++: Processed 641024 (100.0%) in 17.84 sec. MSE loss 1.31E+01. Sample per second: 35908\n"
     ]
    },
    {
     "name": "stdout",
     "output_type": "stream",
     "text": [
      "SVD++: Validation begins...\n",
      "EvaluatorHoldout: Processed 6022 (100.0%) in 5.22 sec. Users per second: 1155\n",
      "SVD++: CUTOFF: 10 - PRECISION: 0.0155430, PRECISION_RECALL_MIN_DEN: 0.0163949, RECALL: 0.0058752, MAP: 0.0054063, MAP_MIN_DEN: 0.0056328, MRR: 0.0454773, NDCG: 0.0101331, F1: 0.0085272, HIT_RATE: 0.1325141, ARHR_ALL_HITS: 0.0495072, NOVELTY: 0.0303033, AVERAGE_POPULARITY: 0.1449398, DIVERSITY_MEAN_INTER_LIST: 0.9954539, DIVERSITY_HERFINDAHL: 0.9995289, COVERAGE_ITEM: 0.9886686, COVERAGE_ITEM_HIT: 0.1344321, ITEMS_IN_GT: 0.8913211, COVERAGE_USER: 0.9970199, COVERAGE_USER_HIT: 0.1321192, USERS_IN_GT: 0.9970199, DIVERSITY_GINI: 0.5460148, SHANNON_ENTROPY: 11.4241533, RATIO_DIVERSITY_HERFINDAHL: 1.0003447, RATIO_DIVERSITY_GINI: 1.5614376, RATIO_SHANNON_ENTROPY: 1.0565169, RATIO_AVERAGE_POPULARITY: 0.5203253, RATIO_NOVELTY: 0.1026775, \n",
      "\n",
      "SVD++: New best model found! Updating.\n",
      "SVD++: Epoch 55 of 100. Elapsed time 16.95 min\n",
      "SVD++: Processed 641024 (100.0%) in 17.46 sec. MSE loss 1.31E+01. Sample per second: 36716\n",
      "SVD++: Epoch 56 of 100. Elapsed time 17.24 min\n",
      "SVD++: Processed 641024 (100.0%) in 18.05 sec. MSE loss 1.30E+01. Sample per second: 35514\n",
      "SVD++: Epoch 57 of 100. Elapsed time 17.53 min\n",
      "SVD++: Processed 641024 (100.0%) in 17.73 sec. MSE loss 1.30E+01. Sample per second: 36160\n",
      "SVD++: Epoch 58 of 100. Elapsed time 17.83 min\n",
      "SVD++: Processed 641024 (100.0%) in 18.14 sec. MSE loss 1.30E+01. Sample per second: 35344\n",
      "SVD++: Epoch 59 of 100. Elapsed time 18.12 min\n",
      "SVD++: Processed 641024 (100.0%) in 17.49 sec. MSE loss 1.30E+01. Sample per second: 36660\n",
      "SVD++: Validation begins...\n",
      "EvaluatorHoldout: Processed 6022 (100.0%) in 5.45 sec. Users per second: 1104\n",
      "SVD++: CUTOFF: 10 - PRECISION: 0.0162405, PRECISION_RECALL_MIN_DEN: 0.0172639, RECALL: 0.0063372, MAP: 0.0056147, MAP_MIN_DEN: 0.0058558, MRR: 0.0470006, NDCG: 0.0106514, F1: 0.0091168, HIT_RATE: 0.1381601, ARHR_ALL_HITS: 0.0512888, NOVELTY: 0.0301814, AVERAGE_POPULARITY: 0.1490294, DIVERSITY_MEAN_INTER_LIST: 0.9953153, DIVERSITY_HERFINDAHL: 0.9995150, COVERAGE_ITEM: 0.9881535, COVERAGE_ITEM_HIT: 0.1375225, ITEMS_IN_GT: 0.8913211, COVERAGE_USER: 0.9970199, COVERAGE_USER_HIT: 0.1377483, USERS_IN_GT: 0.9970199, DIVERSITY_GINI: 0.5345628, SHANNON_ENTROPY: 11.3972863, RATIO_DIVERSITY_HERFINDAHL: 1.0003309, RATIO_DIVERSITY_GINI: 1.5286883, RATIO_SHANNON_ENTROPY: 1.0540323, RATIO_AVERAGE_POPULARITY: 0.5350067, RATIO_NOVELTY: 0.1022645, \n",
      "\n",
      "SVD++: New best model found! Updating.\n",
      "SVD++: Epoch 60 of 100. Elapsed time 18.50 min\n",
      "SVD++: Processed 641024 (100.0%) in 18.33 sec. MSE loss 1.30E+01. Sample per second: 34968\n",
      "SVD++: Epoch 61 of 100. Elapsed time 18.79 min\n",
      "SVD++: Processed 641024 (100.0%) in 17.66 sec. MSE loss 1.30E+01. Sample per second: 36292\n",
      "SVD++: Epoch 62 of 100. Elapsed time 19.07 min\n",
      "SVD++: Processed 641024 (100.0%) in 18.31 sec. MSE loss 1.29E+01. Sample per second: 35009\n",
      "SVD++: Epoch 63 of 100. Elapsed time 19.37 min\n",
      "SVD++: Processed 641024 (100.0%) in 17.64 sec. MSE loss 1.29E+01. Sample per second: 36348\n",
      "SVD++: Epoch 64 of 100. Elapsed time 19.66 min\n",
      "SVD++: Processed 641024 (100.0%) in 18.00 sec. MSE loss 1.29E+01. Sample per second: 35606\n",
      "SVD++: Validation begins...\n",
      "EvaluatorHoldout: Processed 6022 (100.0%) in 5.52 sec. Users per second: 1090\n",
      "SVD++: CUTOFF: 10 - PRECISION: 0.0167552, PRECISION_RECALL_MIN_DEN: 0.0177995, RECALL: 0.0065372, MAP: 0.0057455, MAP_MIN_DEN: 0.0059913, MRR: 0.0480347, NDCG: 0.0109790, F1: 0.0094050, HIT_RATE: 0.1429758, ARHR_ALL_HITS: 0.0524448, NOVELTY: 0.0300821, AVERAGE_POPULARITY: 0.1529564, DIVERSITY_MEAN_INTER_LIST: 0.9951670, DIVERSITY_HERFINDAHL: 0.9995002, COVERAGE_ITEM: 0.9871234, COVERAGE_ITEM_HIT: 0.1380376, ITEMS_IN_GT: 0.8913211, COVERAGE_USER: 0.9970199, COVERAGE_USER_HIT: 0.1425497, USERS_IN_GT: 0.9970199, DIVERSITY_GINI: 0.5234505, SHANNON_ENTROPY: 11.3697022, RATIO_DIVERSITY_HERFINDAHL: 1.0003160, RATIO_DIVERSITY_GINI: 1.4969105, RATIO_SHANNON_ENTROPY: 1.0514813, RATIO_AVERAGE_POPULARITY: 0.5491045, RATIO_NOVELTY: 0.1019280, \n",
      "\n",
      "SVD++: New best model found! Updating.\n",
      "SVD++: Epoch 65 of 100. Elapsed time 20.04 min\n",
      "SVD++: Processed 641024 (100.0%) in 17.92 sec. MSE loss 1.29E+01. Sample per second: 35777\n",
      "SVD++: Epoch 66 of 100. Elapsed time 20.33 min\n",
      "SVD++: Processed 641024 (100.0%) in 18.32 sec. MSE loss 1.29E+01. Sample per second: 34994\n",
      "SVD++: Epoch 67 of 100. Elapsed time 20.62 min\n",
      "SVD++: Processed 641024 (100.0%) in 17.64 sec. MSE loss 1.29E+01. Sample per second: 36342\n",
      "SVD++: Epoch 68 of 100. Elapsed time 20.91 min\n",
      "SVD++: Processed 641024 (100.0%) in 18.29 sec. MSE loss 1.29E+01. Sample per second: 35040\n",
      "SVD++: Epoch 69 of 100. Elapsed time 21.20 min\n",
      "SVD++: Processed 641024 (100.0%) in 17.67 sec. MSE loss 1.28E+01. Sample per second: 36278\n",
      "SVD++: Validation begins...\n",
      "EvaluatorHoldout: Processed 6022 (100.0%) in 4.90 sec. Users per second: 1230\n",
      "SVD++: CUTOFF: 10 - PRECISION: 0.0172534, PRECISION_RECALL_MIN_DEN: 0.0182894, RECALL: 0.0066869, MAP: 0.0059683, MAP_MIN_DEN: 0.0062222, MRR: 0.0494053, NDCG: 0.0113227, F1: 0.0096383, HIT_RATE: 0.1456327, ARHR_ALL_HITS: 0.0541907, NOVELTY: 0.0299729, AVERAGE_POPULARITY: 0.1569536, DIVERSITY_MEAN_INTER_LIST: 0.9950209, DIVERSITY_HERFINDAHL: 0.9994856, COVERAGE_ITEM: 0.9860932, COVERAGE_ITEM_HIT: 0.1398403, ITEMS_IN_GT: 0.8913211, COVERAGE_USER: 0.9970199, COVERAGE_USER_HIT: 0.1451987, USERS_IN_GT: 0.9970199, DIVERSITY_GINI: 0.5126104, SHANNON_ENTROPY: 11.3424895, RATIO_DIVERSITY_HERFINDAHL: 1.0003014, RATIO_DIVERSITY_GINI: 1.4659111, RATIO_SHANNON_ENTROPY: 1.0489646, RATIO_AVERAGE_POPULARITY: 0.5634542, RATIO_NOVELTY: 0.1015581, \n",
      "\n",
      "SVD++: New best model found! Updating.\n",
      "SVD++: Epoch 70 of 100. Elapsed time 21.57 min\n",
      "SVD++: Processed 641024 (100.0%) in 18.21 sec. MSE loss 1.28E+01. Sample per second: 35203\n",
      "SVD++: Epoch 71 of 100. Elapsed time 21.87 min\n",
      "SVD++: Processed 641024 (100.0%) in 17.60 sec. MSE loss 1.28E+01. Sample per second: 36424\n",
      "SVD++: Epoch 72 of 100. Elapsed time 22.16 min\n",
      "SVD++: Processed 641024 (100.0%) in 17.93 sec. MSE loss 1.28E+01. Sample per second: 35747\n",
      "SVD++: Epoch 73 of 100. Elapsed time 22.45 min\n",
      "SVD++: Processed 641024 (100.0%) in 18.41 sec. MSE loss 1.28E+01. Sample per second: 34820\n",
      "SVD++: Epoch 74 of 100. Elapsed time 22.74 min\n",
      "SVD++: Processed 641024 (100.0%) in 17.95 sec. MSE loss 1.28E+01. Sample per second: 35714\n",
      "SVD++: Validation begins...\n",
      "EvaluatorHoldout: Processed 6022 (100.0%) in 4.84 sec. Users per second: 1244\n",
      "SVD++: CUTOFF: 10 - PRECISION: 0.0176519, PRECISION_RECALL_MIN_DEN: 0.0187398, RECALL: 0.0069111, MAP: 0.0061662, MAP_MIN_DEN: 0.0064394, MRR: 0.0509426, NDCG: 0.0117312, F1: 0.0099331, HIT_RATE: 0.1484557, ARHR_ALL_HITS: 0.0559273, NOVELTY: 0.0298733, AVERAGE_POPULARITY: 0.1604875, DIVERSITY_MEAN_INTER_LIST: 0.9948787, DIVERSITY_HERFINDAHL: 0.9994713, COVERAGE_ITEM: 0.9835179, COVERAGE_ITEM_HIT: 0.1408705, ITEMS_IN_GT: 0.8913211, COVERAGE_USER: 0.9970199, COVERAGE_USER_HIT: 0.1480132, USERS_IN_GT: 0.9970199, DIVERSITY_GINI: 0.5023373, SHANNON_ENTROPY: 11.3156766, RATIO_DIVERSITY_HERFINDAHL: 1.0002872, RATIO_DIVERSITY_GINI: 1.4365331, RATIO_SHANNON_ENTROPY: 1.0464849, RATIO_AVERAGE_POPULARITY: 0.5761408, RATIO_NOVELTY: 0.1012205, \n",
      "\n",
      "SVD++: New best model found! Updating.\n",
      "SVD++: Epoch 75 of 100. Elapsed time 23.11 min\n",
      "SVD++: Processed 641024 (100.0%) in 18.38 sec. MSE loss 1.27E+01. Sample per second: 34876\n",
      "SVD++: Epoch 76 of 100. Elapsed time 23.40 min\n",
      "SVD++: Processed 641024 (100.0%) in 17.74 sec. MSE loss 1.27E+01. Sample per second: 36125\n",
      "SVD++: Epoch 77 of 100. Elapsed time 23.69 min\n",
      "SVD++: Processed 641024 (100.0%) in 18.29 sec. MSE loss 1.27E+01. Sample per second: 35047\n",
      "SVD++: Epoch 78 of 100. Elapsed time 23.99 min\n",
      "SVD++: Processed 641024 (100.0%) in 17.65 sec. MSE loss 1.27E+01. Sample per second: 36321\n",
      "SVD++: Epoch 79 of 100. Elapsed time 24.27 min\n",
      "SVD++: Processed 641024 (100.0%) in 18.28 sec. MSE loss 1.27E+01. Sample per second: 35066\n",
      "SVD++: Validation begins...\n",
      "EvaluatorHoldout: Processed 6022 (100.0%) in 4.84 sec. Users per second: 1244\n",
      "SVD++: CUTOFF: 10 - PRECISION: 0.0181667, PRECISION_RECALL_MIN_DEN: 0.0193013, RECALL: 0.0071749, MAP: 0.0063797, MAP_MIN_DEN: 0.0066806, MRR: 0.0527664, NDCG: 0.0121490, F1: 0.0102870, HIT_RATE: 0.1527732, ARHR_ALL_HITS: 0.0578723, NOVELTY: 0.0297815, AVERAGE_POPULARITY: 0.1641064, DIVERSITY_MEAN_INTER_LIST: 0.9947359, DIVERSITY_HERFINDAHL: 0.9994571, COVERAGE_ITEM: 0.9809426, COVERAGE_ITEM_HIT: 0.1429307, ITEMS_IN_GT: 0.8913211, COVERAGE_USER: 0.9970199, COVERAGE_USER_HIT: 0.1523179, USERS_IN_GT: 0.9970199, DIVERSITY_GINI: 0.4921988, SHANNON_ENTROPY: 11.2886981, RATIO_DIVERSITY_HERFINDAHL: 1.0002729, RATIO_DIVERSITY_GINI: 1.4075401, RATIO_SHANNON_ENTROPY: 1.0439899, RATIO_AVERAGE_POPULARITY: 0.5891325, RATIO_NOVELTY: 0.1009096, \n",
      "\n",
      "SVD++: New best model found! Updating.\n",
      "SVD++: Epoch 80 of 100. Elapsed time 24.65 min\n"
     ]
    },
    {
     "name": "stdout",
     "output_type": "stream",
     "text": [
      "SVD++: Processed 641024 (100.0%) in 17.53 sec. MSE loss 1.27E+01. Sample per second: 36567\n",
      "SVD++: Epoch 81 of 100. Elapsed time 24.94 min\n",
      "SVD++: Processed 641024 (100.0%) in 18.23 sec. MSE loss 1.27E+01. Sample per second: 35172\n",
      "SVD++: Epoch 82 of 100. Elapsed time 25.23 min\n",
      "SVD++: Processed 641024 (100.0%) in 17.62 sec. MSE loss 1.26E+01. Sample per second: 36387\n",
      "SVD++: Epoch 83 of 100. Elapsed time 25.52 min\n",
      "SVD++: Processed 641024 (100.0%) in 17.94 sec. MSE loss 1.26E+01. Sample per second: 35736\n",
      "SVD++: Epoch 84 of 100. Elapsed time 25.81 min\n",
      "SVD++: Processed 641024 (100.0%) in 18.48 sec. MSE loss 1.26E+01. Sample per second: 34682\n",
      "SVD++: Validation begins...\n",
      "EvaluatorHoldout: Processed 6022 (100.0%) in 5.47 sec. Users per second: 1100\n",
      "SVD++: CUTOFF: 10 - PRECISION: 0.0186649, PRECISION_RECALL_MIN_DEN: 0.0197924, RECALL: 0.0072990, MAP: 0.0065414, MAP_MIN_DEN: 0.0068437, MRR: 0.0536458, NDCG: 0.0124446, F1: 0.0104942, HIT_RATE: 0.1552640, ARHR_ALL_HITS: 0.0591151, NOVELTY: 0.0296920, AVERAGE_POPULARITY: 0.1677704, DIVERSITY_MEAN_INTER_LIST: 0.9945816, DIVERSITY_HERFINDAHL: 0.9994416, COVERAGE_ITEM: 0.9788823, COVERAGE_ITEM_HIT: 0.1442184, ITEMS_IN_GT: 0.8913211, COVERAGE_USER: 0.9970199, COVERAGE_USER_HIT: 0.1548013, USERS_IN_GT: 0.9970199, DIVERSITY_GINI: 0.4824202, SHANNON_ENTROPY: 11.2615430, RATIO_DIVERSITY_HERFINDAHL: 1.0002574, RATIO_DIVERSITY_GINI: 1.3795763, RATIO_SHANNON_ENTROPY: 1.0414786, RATIO_AVERAGE_POPULARITY: 0.6022860, RATIO_NOVELTY: 0.1006065, \n",
      "\n",
      "SVD++: New best model found! Updating.\n",
      "SVD++: Epoch 85 of 100. Elapsed time 26.20 min\n",
      "SVD++: Processed 641024 (100.0%) in 18.33 sec. MSE loss 1.26E+01. Sample per second: 34953\n",
      "SVD++: Epoch 86 of 100. Elapsed time 26.49 min\n",
      "SVD++: Processed 641024 (100.0%) in 17.70 sec. MSE loss 1.26E+01. Sample per second: 36215\n",
      "SVD++: Epoch 87 of 100. Elapsed time 26.78 min\n",
      "SVD++: Processed 641024 (100.0%) in 18.38 sec. MSE loss 1.26E+01. Sample per second: 34881\n",
      "SVD++: Epoch 88 of 100. Elapsed time 27.07 min\n",
      "SVD++: Processed 641024 (100.0%) in 17.71 sec. MSE loss 1.26E+01. Sample per second: 36199\n",
      "SVD++: Epoch 89 of 100. Elapsed time 27.36 min\n",
      "SVD++: Processed 641024 (100.0%) in 18.07 sec. MSE loss 1.26E+01. Sample per second: 35473\n",
      "SVD++: Validation begins...\n",
      "EvaluatorHoldout: Processed 6022 (100.0%) in 5.47 sec. Users per second: 1100\n",
      "SVD++: CUTOFF: 10 - PRECISION: 0.0188808, PRECISION_RECALL_MIN_DEN: 0.0199833, RECALL: 0.0073296, MAP: 0.0066461, MAP_MIN_DEN: 0.0069466, MRR: 0.0545452, NDCG: 0.0126688, F1: 0.0105598, HIT_RATE: 0.1570907, ARHR_ALL_HITS: 0.0600838, NOVELTY: 0.0296036, AVERAGE_POPULARITY: 0.1708877, DIVERSITY_MEAN_INTER_LIST: 0.9944468, DIVERSITY_HERFINDAHL: 0.9994282, COVERAGE_ITEM: 0.9752768, COVERAGE_ITEM_HIT: 0.1447335, ITEMS_IN_GT: 0.8913211, COVERAGE_USER: 0.9970199, COVERAGE_USER_HIT: 0.1566225, USERS_IN_GT: 0.9970199, DIVERSITY_GINI: 0.4738242, SHANNON_ENTROPY: 11.2370145, RATIO_DIVERSITY_HERFINDAHL: 1.0002440, RATIO_DIVERSITY_GINI: 1.3549943, RATIO_SHANNON_ENTROPY: 1.0392102, RATIO_AVERAGE_POPULARITY: 0.6134769, RATIO_NOVELTY: 0.1003068, \n",
      "\n",
      "SVD++: New best model found! Updating.\n",
      "SVD++: Epoch 90 of 100. Elapsed time 27.74 min\n",
      "SVD++: Processed 641024 (100.0%) in 17.93 sec. MSE loss 1.25E+01. Sample per second: 35761\n",
      "SVD++: Epoch 91 of 100. Elapsed time 28.03 min\n",
      "SVD++: Processed 641024 (100.0%) in 18.29 sec. MSE loss 1.25E+01. Sample per second: 35044\n",
      "SVD++: Epoch 92 of 100. Elapsed time 28.32 min\n",
      "SVD++: Processed 641024 (100.0%) in 17.81 sec. MSE loss 1.25E+01. Sample per second: 35992\n",
      "SVD++: Epoch 93 of 100. Elapsed time 28.61 min\n",
      "SVD++: Processed 641024 (100.0%) in 18.38 sec. MSE loss 1.25E+01. Sample per second: 34882\n",
      "SVD++: Epoch 94 of 100. Elapsed time 28.90 min\n",
      "SVD++: Processed 641024 (100.0%) in 17.76 sec. MSE loss 1.25E+01. Sample per second: 36099\n",
      "SVD++: Validation begins...\n",
      "EvaluatorHoldout: Processed 6022 (100.0%) in 5.21 sec. Users per second: 1155\n",
      "SVD++: CUTOFF: 10 - PRECISION: 0.0193291, PRECISION_RECALL_MIN_DEN: 0.0204635, RECALL: 0.0075213, MAP: 0.0067876, MAP_MIN_DEN: 0.0070927, MRR: 0.0555905, NDCG: 0.0129098, F1: 0.0108289, HIT_RATE: 0.1609100, ARHR_ALL_HITS: 0.0612946, NOVELTY: 0.0295080, AVERAGE_POPULARITY: 0.1743321, DIVERSITY_MEAN_INTER_LIST: 0.9942847, DIVERSITY_HERFINDAHL: 0.9994120, COVERAGE_ITEM: 0.9714139, COVERAGE_ITEM_HIT: 0.1449910, ITEMS_IN_GT: 0.8913211, COVERAGE_USER: 0.9970199, COVERAGE_USER_HIT: 0.1604305, USERS_IN_GT: 0.9970199, DIVERSITY_GINI: 0.4640928, SHANNON_ENTROPY: 11.2084281, RATIO_DIVERSITY_HERFINDAHL: 1.0002277, RATIO_DIVERSITY_GINI: 1.3271653, RATIO_SHANNON_ENTROPY: 1.0365665, RATIO_AVERAGE_POPULARITY: 0.6258421, RATIO_NOVELTY: 0.0999828, \n",
      "\n",
      "SVD++: New best model found! Updating.\n",
      "SVD++: Epoch 95 of 100. Elapsed time 29.28 min\n",
      "SVD++: Processed 641024 (100.0%) in 18.46 sec. MSE loss 1.25E+01. Sample per second: 34722\n",
      "SVD++: Epoch 96 of 100. Elapsed time 29.57 min\n",
      "SVD++: Processed 641024 (100.0%) in 17.82 sec. MSE loss 1.25E+01. Sample per second: 35971\n",
      "SVD++: Epoch 97 of 100. Elapsed time 29.86 min\n",
      "SVD++: Processed 641024 (100.0%) in 18.17 sec. MSE loss 1.24E+01. Sample per second: 35270\n",
      "SVD++: Epoch 98 of 100. Elapsed time 30.15 min\n",
      "SVD++: Processed 641024 (100.0%) in 17.83 sec. MSE loss 1.24E+01. Sample per second: 35952\n",
      "SVD++: Epoch 99 of 100. Elapsed time 30.44 min\n",
      "SVD++: Processed 641024 (100.0%) in 18.20 sec. MSE loss 1.24E+01. Sample per second: 35226\n",
      "SVD++: Validation begins...\n",
      "EvaluatorHoldout: Processed 6022 (100.0%) in 4.85 sec. Users per second: 1240\n",
      "SVD++: CUTOFF: 10 - PRECISION: 0.0197775, PRECISION_RECALL_MIN_DEN: 0.0210742, RECALL: 0.0078793, MAP: 0.0069807, MAP_MIN_DEN: 0.0073051, MRR: 0.0569702, NDCG: 0.0133470, F1: 0.0112691, HIT_RATE: 0.1642312, ARHR_ALL_HITS: 0.0629292, NOVELTY: 0.0294221, AVERAGE_POPULARITY: 0.1776627, DIVERSITY_MEAN_INTER_LIST: 0.9941298, DIVERSITY_HERFINDAHL: 0.9993965, COVERAGE_ITEM: 0.9688385, COVERAGE_ITEM_HIT: 0.1465362, ITEMS_IN_GT: 0.8913211, COVERAGE_USER: 0.9970199, COVERAGE_USER_HIT: 0.1637417, USERS_IN_GT: 0.9970199, DIVERSITY_GINI: 0.4551402, SHANNON_ENTROPY: 11.1815387, RATIO_DIVERSITY_HERFINDAHL: 1.0002122, RATIO_DIVERSITY_GINI: 1.3015636, RATIO_SHANNON_ENTROPY: 1.0340797, RATIO_AVERAGE_POPULARITY: 0.6377985, RATIO_NOVELTY: 0.0996919, \n",
      "\n",
      "SVD++: New best model found! Updating.\n",
      "SVD++: Epoch 100 of 100. Elapsed time 30.81 min\n",
      "SVD++: Terminating at epoch 100. Best value for 'MAP' at epoch 100 is 0.0070. Elapsed time 30.81 min\n",
      "EvaluatorHoldout: Processed 6022 (100.0%) in 5.48 sec. Users per second: 1098\n"
     ]
    },
    {
     "name": "stderr",
     "output_type": "stream",
     "text": [
      "[I 2023-11-23 13:51:37,583] Trial 5 finished with value: 0.006980726753227603 and parameters: {'num_factors': 151, 'sgd_mode': 'adagrad', 'batch_size': 1024, 'item_reg': 0.00811830727989641, 'user_reg': 6.849046059224486e-05, 'learning_rate': 0.0003258820255476714}. Best is trial 3 with value: 0.04762713305182601.\n"
     ]
    },
    {
     "name": "stdout",
     "output_type": "stream",
     "text": [
      "MatrixFactorization_SVDpp_Cython_Recommender: URM Detected 226 ( 5.8%) items with no interactions.\n",
      "SVD++: Processed 640136 (100.0%) in 11.67 sec. MSE loss 1.38E+00. Sample per second: 54817\n",
      "SVD++: Epoch 1 of 100. Elapsed time 11.02 sec\n",
      "SVD++: Processed 640136 (100.0%) in 11.62 sec. MSE loss 8.02E-01. Sample per second: 55088\n",
      "SVD++: Epoch 2 of 100. Elapsed time 21.97 sec\n",
      "SVD++: Processed 640136 (100.0%) in 11.55 sec. MSE loss 6.53E-01. Sample per second: 55401\n",
      "SVD++: Epoch 3 of 100. Elapsed time 32.90 sec\n",
      "SVD++: Processed 640136 (100.0%) in 11.24 sec. MSE loss 5.51E-01. Sample per second: 56932\n",
      "SVD++: Epoch 4 of 100. Elapsed time 43.59 sec\n",
      "SVD++: Processed 640136 (100.0%) in 11.08 sec. MSE loss 4.79E-01. Sample per second: 57773\n",
      "SVD++: Validation begins...\n",
      "EvaluatorHoldout: Processed 6022 (100.0%) in 5.50 sec. Users per second: 1095\n",
      "SVD++: CUTOFF: 10 - PRECISION: 0.0669213, PRECISION_RECALL_MIN_DEN: 0.0730595, RECALL: 0.0320134, MAP: 0.0289658, MAP_MIN_DEN: 0.0313947, MRR: 0.1780831, NDCG: 0.0653799, F1: 0.0433090, HIT_RATE: 0.4186317, ARHR_ALL_HITS: 0.2248580, NOVELTY: 0.0243780, AVERAGE_POPULARITY: 0.4650098, DIVERSITY_MEAN_INTER_LIST: 0.8995488, DIVERSITY_HERFINDAHL: 0.9899399, COVERAGE_ITEM: 0.1552923, COVERAGE_ITEM_HIT: 0.0551120, ITEMS_IN_GT: 0.8913211, COVERAGE_USER: 0.9970199, COVERAGE_USER_HIT: 0.4173841, USERS_IN_GT: 0.9970199, DIVERSITY_GINI: 0.0297571, SHANNON_ENTROPY: 7.2520049, RATIO_DIVERSITY_HERFINDAHL: 0.9907480, RATIO_DIVERSITY_GINI: 0.0850964, RATIO_SHANNON_ENTROPY: 0.6706726, RATIO_AVERAGE_POPULARITY: 1.6693578, RATIO_NOVELTY: 0.0826007, \n",
      "\n",
      "SVD++: New best model found! Updating.\n",
      "SVD++: Epoch 5 of 100. Elapsed time 59.94 sec\n",
      "SVD++: Processed 640136 (100.0%) in 11.54 sec. MSE loss 4.24E-01. Sample per second: 55448\n",
      "SVD++: Epoch 6 of 100. Elapsed time 1.18 min\n",
      "SVD++: Processed 640136 (100.0%) in 11.48 sec. MSE loss 3.84E-01. Sample per second: 55756\n",
      "SVD++: Epoch 7 of 100. Elapsed time 1.36 min\n",
      "SVD++: Processed 640136 (100.0%) in 11.39 sec. MSE loss 3.52E-01. Sample per second: 56224\n",
      "SVD++: Epoch 8 of 100. Elapsed time 1.55 min\n",
      "SVD++: Processed 640136 (100.0%) in 11.25 sec. MSE loss 3.27E-01. Sample per second: 56906\n",
      "SVD++: Epoch 9 of 100. Elapsed time 1.73 min\n",
      "SVD++: Processed 640136 (100.0%) in 10.96 sec. MSE loss 3.06E-01. Sample per second: 58429\n",
      "SVD++: Validation begins...\n",
      "EvaluatorHoldout: Processed 6022 (100.0%) in 5.46 sec. Users per second: 1102\n",
      "SVD++: CUTOFF: 10 - PRECISION: 0.0637662, PRECISION_RECALL_MIN_DEN: 0.0687693, RECALL: 0.0288329, MAP: 0.0271054, MAP_MIN_DEN: 0.0289826, MRR: 0.1682635, NDCG: 0.0611483, F1: 0.0397102, HIT_RATE: 0.4045168, ARHR_ALL_HITS: 0.2109546, NOVELTY: 0.0248595, AVERAGE_POPULARITY: 0.4191530, DIVERSITY_MEAN_INTER_LIST: 0.9408670, DIVERSITY_HERFINDAHL: 0.9940711, COVERAGE_ITEM: 0.2176152, COVERAGE_ITEM_HIT: 0.0821530, ITEMS_IN_GT: 0.8913211, COVERAGE_USER: 0.9970199, COVERAGE_USER_HIT: 0.4033113, USERS_IN_GT: 0.9970199, DIVERSITY_GINI: 0.0510513, SHANNON_ENTROPY: 8.0326524, RATIO_DIVERSITY_HERFINDAHL: 0.9948825, RATIO_DIVERSITY_GINI: 0.1459914, RATIO_SHANNON_ENTROPY: 0.7428676, RATIO_AVERAGE_POPULARITY: 1.5047347, RATIO_NOVELTY: 0.0842322, \n",
      "\n",
      "SVD++: Epoch 10 of 100. Elapsed time 2.00 min\n",
      "SVD++: Processed 640136 (100.0%) in 11.34 sec. MSE loss 2.88E-01. Sample per second: 56435\n",
      "SVD++: Epoch 11 of 100. Elapsed time 2.18 min\n",
      "SVD++: Processed 640136 (100.0%) in 11.28 sec. MSE loss 2.73E-01. Sample per second: 56740\n",
      "SVD++: Epoch 12 of 100. Elapsed time 2.36 min\n",
      "SVD++: Processed 640136 (100.0%) in 11.28 sec. MSE loss 2.60E-01. Sample per second: 56731\n",
      "SVD++: Epoch 13 of 100. Elapsed time 2.54 min\n",
      "SVD++: Processed 640136 (100.0%) in 11.25 sec. MSE loss 2.48E-01. Sample per second: 56883\n",
      "SVD++: Epoch 14 of 100. Elapsed time 2.73 min\n",
      "SVD++: Processed 640136 (100.0%) in 11.01 sec. MSE loss 2.37E-01. Sample per second: 58131\n",
      "SVD++: Validation begins...\n",
      "EvaluatorHoldout: Processed 6022 (100.0%) in 5.20 sec. Users per second: 1158\n",
      "SVD++: CUTOFF: 10 - PRECISION: 0.0600465, PRECISION_RECALL_MIN_DEN: 0.0643779, RECALL: 0.0259177, MAP: 0.0253534, MAP_MIN_DEN: 0.0268874, MRR: 0.1580028, NDCG: 0.0567880, F1: 0.0362073, HIT_RATE: 0.3827632, ARHR_ALL_HITS: 0.1977435, NOVELTY: 0.0251642, AVERAGE_POPULARITY: 0.3913095, DIVERSITY_MEAN_INTER_LIST: 0.9557532, DIVERSITY_HERFINDAHL: 0.9955595, COVERAGE_ITEM: 0.2510945, COVERAGE_ITEM_HIT: 0.1009529, ITEMS_IN_GT: 0.8913211, COVERAGE_USER: 0.9970199, COVERAGE_USER_HIT: 0.3816225, USERS_IN_GT: 0.9970199, DIVERSITY_GINI: 0.0663856, SHANNON_ENTROPY: 8.4215832, RATIO_DIVERSITY_HERFINDAHL: 0.9963721, RATIO_DIVERSITY_GINI: 0.1898429, RATIO_SHANNON_ENTROPY: 0.7788363, RATIO_AVERAGE_POPULARITY: 1.4047780, RATIO_NOVELTY: 0.0852647, \n",
      "\n",
      "SVD++: Epoch 15 of 100. Elapsed time 2.99 min\n",
      "SVD++: Processed 640136 (100.0%) in 11.18 sec. MSE loss 2.28E-01. Sample per second: 57244\n",
      "SVD++: Epoch 16 of 100. Elapsed time 3.18 min\n",
      "SVD++: Processed 640136 (100.0%) in 11.18 sec. MSE loss 2.19E-01. Sample per second: 57240\n",
      "SVD++: Epoch 17 of 100. Elapsed time 3.36 min\n",
      "SVD++: Processed 640136 (100.0%) in 11.15 sec. MSE loss 2.11E-01. Sample per second: 57425\n",
      "SVD++: Epoch 18 of 100. Elapsed time 3.54 min\n",
      "SVD++: Processed 640136 (100.0%) in 11.04 sec. MSE loss 2.06E-01. Sample per second: 57972\n",
      "SVD++: Epoch 19 of 100. Elapsed time 3.72 min\n",
      "SVD++: Processed 640136 (100.0%) in 10.98 sec. MSE loss 1.99E-01. Sample per second: 58287\n",
      "SVD++: Validation begins...\n",
      "EvaluatorHoldout: Processed 6022 (100.0%) in 4.95 sec. Users per second: 1218\n",
      "SVD++: CUTOFF: 10 - PRECISION: 0.0583195, PRECISION_RECALL_MIN_DEN: 0.0623316, RECALL: 0.0246649, MAP: 0.0240943, MAP_MIN_DEN: 0.0255179, MRR: 0.1512968, NDCG: 0.0543354, F1: 0.0346679, HIT_RATE: 0.3732979, ARHR_ALL_HITS: 0.1887083, NOVELTY: 0.0253942, AVERAGE_POPULARITY: 0.3722719, DIVERSITY_MEAN_INTER_LIST: 0.9629538, DIVERSITY_HERFINDAHL: 0.9962794, COVERAGE_ITEM: 0.2801957, COVERAGE_ITEM_HIT: 0.1117693, ITEMS_IN_GT: 0.8913211, COVERAGE_USER: 0.9970199, COVERAGE_USER_HIT: 0.3721854, USERS_IN_GT: 0.9970199, DIVERSITY_GINI: 0.0788276, SHANNON_ENTROPY: 8.6705268, RATIO_DIVERSITY_HERFINDAHL: 0.9970926, RATIO_DIVERSITY_GINI: 0.2254233, RATIO_SHANNON_ENTROPY: 0.8018589, RATIO_AVERAGE_POPULARITY: 1.3364340, RATIO_NOVELTY: 0.0860440, \n",
      "\n",
      "SVD++: Epoch 20 of 100. Elapsed time 3.99 min\n",
      "SVD++: Processed 640136 (100.0%) in 11.93 sec. MSE loss 1.92E-01. Sample per second: 53641\n",
      "SVD++: Epoch 21 of 100. Elapsed time 4.17 min\n",
      "SVD++: Processed 640136 (100.0%) in 11.87 sec. MSE loss 1.87E-01. Sample per second: 53939\n",
      "SVD++: Epoch 22 of 100. Elapsed time 4.35 min\n",
      "SVD++: Processed 640136 (100.0%) in 11.78 sec. MSE loss 1.82E-01. Sample per second: 54335\n",
      "SVD++: Epoch 23 of 100. Elapsed time 4.54 min\n",
      "SVD++: Processed 640136 (100.0%) in 11.72 sec. MSE loss 1.77E-01. Sample per second: 54641\n",
      "SVD++: Epoch 24 of 100. Elapsed time 4.72 min\n",
      "SVD++: Processed 640136 (100.0%) in 11.69 sec. MSE loss 1.72E-01. Sample per second: 54729\n",
      "SVD++: Validation begins...\n",
      "EvaluatorHoldout: Processed 6022 (100.0%) in 4.94 sec. Users per second: 1220\n",
      "SVD++: CUTOFF: 10 - PRECISION: 0.0561441, PRECISION_RECALL_MIN_DEN: 0.0597105, RECALL: 0.0229064, MAP: 0.0231796, MAP_MIN_DEN: 0.0244883, MRR: 0.1452406, NDCG: 0.0516548, F1: 0.0325376, HIT_RATE: 0.3590169, ARHR_ALL_HITS: 0.1813386, NOVELTY: 0.0256053, AVERAGE_POPULARITY: 0.3546918, DIVERSITY_MEAN_INTER_LIST: 0.9682391, DIVERSITY_HERFINDAHL: 0.9968078, COVERAGE_ITEM: 0.3036312, COVERAGE_ITEM_HIT: 0.1200103, ITEMS_IN_GT: 0.8913211, COVERAGE_USER: 0.9970199, COVERAGE_USER_HIT: 0.3579470, USERS_IN_GT: 0.9970199, DIVERSITY_GINI: 0.0897288, SHANNON_ENTROPY: 8.8632696, RATIO_DIVERSITY_HERFINDAHL: 0.9976215, RATIO_DIVERSITY_GINI: 0.2565972, RATIO_SHANNON_ENTROPY: 0.8196839, RATIO_AVERAGE_POPULARITY: 1.2733227, RATIO_NOVELTY: 0.0867591, \n",
      "\n",
      "SVD++: Epoch 25 of 100. Elapsed time 4.98 min\n",
      "SVD++: Processed 640136 (100.0%) in 11.60 sec. MSE loss 1.68E-01. Sample per second: 55207\n",
      "SVD++: Epoch 26 of 100. Elapsed time 5.17 min\n",
      "SVD++: Processed 640136 (100.0%) in 11.56 sec. MSE loss 1.65E-01. Sample per second: 55382\n",
      "SVD++: Epoch 27 of 100. Elapsed time 5.35 min\n",
      "SVD++: Processed 640136 (100.0%) in 11.48 sec. MSE loss 1.61E-01. Sample per second: 55738\n",
      "SVD++: Epoch 28 of 100. Elapsed time 5.53 min\n"
     ]
    },
    {
     "name": "stdout",
     "output_type": "stream",
     "text": [
      "SVD++: Processed 640136 (100.0%) in 11.37 sec. MSE loss 1.58E-01. Sample per second: 56299\n",
      "SVD++: Epoch 29 of 100. Elapsed time 5.71 min\n",
      "SVD++: Processed 640136 (100.0%) in 11.30 sec. MSE loss 1.54E-01. Sample per second: 56630\n",
      "SVD++: Validation begins...\n",
      "EvaluatorHoldout: Processed 6022 (100.0%) in 4.92 sec. Users per second: 1224\n",
      "SVD++: CUTOFF: 10 - PRECISION: 0.0542511, PRECISION_RECALL_MIN_DEN: 0.0576590, RECALL: 0.0219813, MAP: 0.0224658, MAP_MIN_DEN: 0.0236463, MRR: 0.1411186, NDCG: 0.0501664, F1: 0.0312862, HIT_RATE: 0.3493856, ARHR_ALL_HITS: 0.1759075, NOVELTY: 0.0257720, AVERAGE_POPULARITY: 0.3423857, DIVERSITY_MEAN_INTER_LIST: 0.9714179, DIVERSITY_HERFINDAHL: 0.9971257, COVERAGE_ITEM: 0.3219160, COVERAGE_ITEM_HIT: 0.1261911, ITEMS_IN_GT: 0.8913211, COVERAGE_USER: 0.9970199, COVERAGE_USER_HIT: 0.3483444, USERS_IN_GT: 0.9970199, DIVERSITY_GINI: 0.0988249, SHANNON_ENTROPY: 9.0034588, RATIO_DIVERSITY_HERFINDAHL: 0.9979396, RATIO_DIVERSITY_GINI: 0.2826093, RATIO_SHANNON_ENTROPY: 0.8326487, RATIO_AVERAGE_POPULARITY: 1.2291446, RATIO_NOVELTY: 0.0873239, \n",
      "\n",
      "SVD++: Convergence reached! Terminating at epoch 30. Best value for 'MAP' at epoch 5 is 0.0290. Elapsed time 5.98 min\n",
      "SVD++: Epoch 30 of 100. Elapsed time 5.98 min\n",
      "EvaluatorHoldout: Processed 6022 (100.0%) in 5.54 sec. Users per second: 1086\n"
     ]
    },
    {
     "name": "stderr",
     "output_type": "stream",
     "text": [
      "[I 2023-11-23 13:57:41,808] Trial 6 finished with value: 0.028965782870216585 and parameters: {'num_factors': 67, 'sgd_mode': 'adam', 'batch_size': 8, 'item_reg': 0.0007604709193842865, 'user_reg': 1.4971080752459677e-05, 'learning_rate': 0.0006816898965952691}. Best is trial 3 with value: 0.04762713305182601.\n"
     ]
    },
    {
     "name": "stdout",
     "output_type": "stream",
     "text": [
      "MatrixFactorization_SVDpp_Cython_Recommender: URM Detected 226 ( 5.8%) items with no interactions.\n",
      "SVD++: Processed 641024 (100.0%) in 2.19 sec. MSE loss 1.14E+01. Sample per second: 292651\n",
      "SVD++: Epoch 1 of 100. Elapsed time 1.33 sec\n",
      "SVD++: Processed 641024 (100.0%) in 1.09 sec. MSE loss 6.72E+00. Sample per second: 589682\n",
      "SVD++: Epoch 2 of 100. Elapsed time 2.23 sec\n",
      "SVD++: Processed 641024 (100.0%) in 1.71 sec. MSE loss 4.17E+00. Sample per second: 374924\n",
      "SVD++: Epoch 3 of 100. Elapsed time 3.85 sec\n",
      "SVD++: Processed 641024 (100.0%) in 2.31 sec. MSE loss 2.81E+00. Sample per second: 277443\n",
      "SVD++: Epoch 4 of 100. Elapsed time 5.45 sec\n",
      "SVD++: Processed 641024 (100.0%) in 1.95 sec. MSE loss 2.08E+00. Sample per second: 328549\n",
      "SVD++: Validation begins...\n",
      "EvaluatorHoldout: Processed 6022 (100.0%) in 4.84 sec. Users per second: 1244\n",
      "SVD++: CUTOFF: 10 - PRECISION: 0.0087679, PRECISION_RECALL_MIN_DEN: 0.0093887, RECALL: 0.0033614, MAP: 0.0027086, MAP_MIN_DEN: 0.0028859, MRR: 0.0240479, NDCG: 0.0054162, F1: 0.0048597, HIT_RATE: 0.0787114, ARHR_ALL_HITS: 0.0254888, NOVELTY: 0.0319177, AVERAGE_POPULARITY: 0.0849639, DIVERSITY_MEAN_INTER_LIST: 0.9931276, DIVERSITY_HERFINDAHL: 0.9992963, COVERAGE_ITEM: 0.8539789, COVERAGE_ITEM_HIT: 0.0885913, ITEMS_IN_GT: 0.8913211, COVERAGE_USER: 0.9970199, COVERAGE_USER_HIT: 0.0784768, USERS_IN_GT: 0.9970199, DIVERSITY_GINI: 0.3831035, SHANNON_ENTROPY: 10.9435043, RATIO_DIVERSITY_HERFINDAHL: 1.0001120, RATIO_DIVERSITY_GINI: 1.0955603, RATIO_SHANNON_ENTROPY: 1.0120661, RATIO_AVERAGE_POPULARITY: 0.3050154, RATIO_NOVELTY: 0.1081476, \n",
      "\n",
      "SVD++: New best model found! Updating.\n",
      "SVD++: Epoch 5 of 100. Elapsed time 11.94 sec\n",
      "SVD++: Processed 641024 (100.0%) in 2.44 sec. MSE loss 1.68E+00. Sample per second: 262310\n",
      "SVD++: Epoch 6 of 100. Elapsed time 13.58 sec\n",
      "SVD++: Processed 641024 (100.0%) in 2.09 sec. MSE loss 1.48E+00. Sample per second: 306113\n",
      "SVD++: Epoch 7 of 100. Elapsed time 15.23 sec\n",
      "SVD++: Processed 641024 (100.0%) in 1.77 sec. MSE loss 1.36E+00. Sample per second: 361336\n",
      "SVD++: Epoch 8 of 100. Elapsed time 16.92 sec\n",
      "SVD++: Processed 641024 (100.0%) in 2.51 sec. MSE loss 1.30E+00. Sample per second: 255858\n",
      "SVD++: Epoch 9 of 100. Elapsed time 18.64 sec\n",
      "SVD++: Processed 641024 (100.0%) in 2.14 sec. MSE loss 1.27E+00. Sample per second: 298947\n",
      "SVD++: Validation begins...\n",
      "EvaluatorHoldout: Processed 6022 (100.0%) in 4.85 sec. Users per second: 1241\n",
      "SVD++: CUTOFF: 10 - PRECISION: 0.0095317, PRECISION_RECALL_MIN_DEN: 0.0103039, RECALL: 0.0038757, MAP: 0.0029533, MAP_MIN_DEN: 0.0031857, MRR: 0.0261631, NDCG: 0.0061786, F1: 0.0055107, HIT_RATE: 0.0860179, ARHR_ALL_HITS: 0.0277239, NOVELTY: 0.0317982, AVERAGE_POPULARITY: 0.0910622, DIVERSITY_MEAN_INTER_LIST: 0.9930542, DIVERSITY_HERFINDAHL: 0.9992889, COVERAGE_ITEM: 0.8519186, COVERAGE_ITEM_HIT: 0.0898790, ITEMS_IN_GT: 0.8913211, COVERAGE_USER: 0.9970199, COVERAGE_USER_HIT: 0.0857616, USERS_IN_GT: 0.9970199, DIVERSITY_GINI: 0.3814741, SHANNON_ENTROPY: 10.9362988, RATIO_DIVERSITY_HERFINDAHL: 1.0001046, RATIO_DIVERSITY_GINI: 1.0909009, RATIO_SHANNON_ENTROPY: 1.0113997, RATIO_AVERAGE_POPULARITY: 0.3269079, RATIO_NOVELTY: 0.1077430, \n",
      "\n",
      "SVD++: New best model found! Updating.\n",
      "SVD++: Epoch 10 of 100. Elapsed time 25.16 sec\n",
      "SVD++: Processed 641024 (100.0%) in 1.68 sec. MSE loss 1.25E+00. Sample per second: 381651\n",
      "SVD++: Epoch 11 of 100. Elapsed time 26.83 sec\n",
      "SVD++: Processed 641024 (100.0%) in 2.37 sec. MSE loss 1.24E+00. Sample per second: 270498\n",
      "SVD++: Epoch 12 of 100. Elapsed time 28.51 sec\n",
      "SVD++: Processed 641024 (100.0%) in 2.07 sec. MSE loss 1.23E+00. Sample per second: 309606\n",
      "SVD++: Epoch 13 of 100. Elapsed time 30.22 sec\n",
      "SVD++: Processed 641024 (100.0%) in 1.42 sec. MSE loss 1.23E+00. Sample per second: 451526\n",
      "SVD++: Epoch 14 of 100. Elapsed time 31.56 sec\n",
      "SVD++: Processed 641024 (100.0%) in 1.36 sec. MSE loss 1.23E+00. Sample per second: 471840\n",
      "SVD++: Validation begins...\n",
      "EvaluatorHoldout: Processed 6022 (100.0%) in 5.41 sec. Users per second: 1112\n",
      "SVD++: CUTOFF: 10 - PRECISION: 0.0099303, PRECISION_RECALL_MIN_DEN: 0.0107688, RECALL: 0.0041258, MAP: 0.0031471, MAP_MIN_DEN: 0.0033630, MRR: 0.0279278, NDCG: 0.0066618, F1: 0.0058296, HIT_RATE: 0.0895051, ARHR_ALL_HITS: 0.0295753, NOVELTY: 0.0317346, AVERAGE_POPULARITY: 0.0950135, DIVERSITY_MEAN_INTER_LIST: 0.9929542, DIVERSITY_HERFINDAHL: 0.9992789, COVERAGE_ITEM: 0.8516611, COVERAGE_ITEM_HIT: 0.0896214, ITEMS_IN_GT: 0.8913211, COVERAGE_USER: 0.9970199, COVERAGE_USER_HIT: 0.0892384, USERS_IN_GT: 0.9970199, DIVERSITY_GINI: 0.3798783, SHANNON_ENTROPY: 10.9287824, RATIO_DIVERSITY_HERFINDAHL: 1.0000946, RATIO_DIVERSITY_GINI: 1.0863373, RATIO_SHANNON_ENTROPY: 1.0107046, RATIO_AVERAGE_POPULARITY: 0.3410927, RATIO_NOVELTY: 0.1075274, \n",
      "\n",
      "SVD++: New best model found! Updating.\n",
      "SVD++: Epoch 15 of 100. Elapsed time 37.93 sec\n",
      "SVD++: Processed 641024 (100.0%) in 2.40 sec. MSE loss 1.23E+00. Sample per second: 266721\n",
      "SVD++: Epoch 16 of 100. Elapsed time 39.54 sec\n",
      "SVD++: Processed 641024 (100.0%) in 2.03 sec. MSE loss 1.23E+00. Sample per second: 315134\n",
      "SVD++: Epoch 17 of 100. Elapsed time 41.17 sec\n",
      "SVD++: Processed 641024 (100.0%) in 0.87 sec. MSE loss 1.23E+00. Sample per second: 735066\n",
      "SVD++: Epoch 18 of 100. Elapsed time 42.01 sec\n",
      "SVD++: Processed 641024 (100.0%) in 2.38 sec. MSE loss 1.23E+00. Sample per second: 268952\n",
      "SVD++: Epoch 19 of 100. Elapsed time 43.52 sec\n",
      "SVD++: Processed 641024 (100.0%) in 2.15 sec. MSE loss 1.23E+00. Sample per second: 297468\n",
      "SVD++: Validation begins...\n",
      "EvaluatorHoldout: Processed 6022 (100.0%) in 5.37 sec. Users per second: 1121\n",
      "SVD++: CUTOFF: 10 - PRECISION: 0.0103288, PRECISION_RECALL_MIN_DEN: 0.0112490, RECALL: 0.0043894, MAP: 0.0033431, MAP_MIN_DEN: 0.0035884, MRR: 0.0296069, NDCG: 0.0072512, F1: 0.0061607, HIT_RATE: 0.0929924, ARHR_ALL_HITS: 0.0313932, NOVELTY: 0.0316707, AVERAGE_POPULARITY: 0.0990361, DIVERSITY_MEAN_INTER_LIST: 0.9928230, DIVERSITY_HERFINDAHL: 0.9992658, COVERAGE_ITEM: 0.8496008, COVERAGE_ITEM_HIT: 0.0896214, ITEMS_IN_GT: 0.8913211, COVERAGE_USER: 0.9970199, COVERAGE_USER_HIT: 0.0927152, USERS_IN_GT: 0.9970199, DIVERSITY_GINI: 0.3775867, SHANNON_ENTROPY: 10.9183895, RATIO_DIVERSITY_HERFINDAHL: 1.0000815, RATIO_DIVERSITY_GINI: 1.0797841, RATIO_SHANNON_ENTROPY: 1.0097434, RATIO_AVERAGE_POPULARITY: 0.3555338, RATIO_NOVELTY: 0.1073108, \n",
      "\n",
      "SVD++: New best model found! Updating.\n",
      "SVD++: Epoch 20 of 100. Elapsed time 50.68 sec\n",
      "SVD++: Processed 641024 (100.0%) in 1.71 sec. MSE loss 1.23E+00. Sample per second: 375902\n",
      "SVD++: Epoch 21 of 100. Elapsed time 51.84 sec\n",
      "SVD++: Processed 641024 (100.0%) in 1.86 sec. MSE loss 1.22E+00. Sample per second: 344166\n",
      "SVD++: Epoch 22 of 100. Elapsed time 53.00 sec\n",
      "SVD++: Processed 641024 (100.0%) in 2.51 sec. MSE loss 1.23E+00. Sample per second: 255466\n",
      "SVD++: Epoch 23 of 100. Elapsed time 54.65 sec\n",
      "SVD++: Processed 641024 (100.0%) in 2.19 sec. MSE loss 1.23E+00. Sample per second: 293156\n",
      "SVD++: Epoch 24 of 100. Elapsed time 56.33 sec\n",
      "SVD++: Processed 641024 (100.0%) in 1.80 sec. MSE loss 1.23E+00. Sample per second: 356412\n",
      "SVD++: Validation begins...\n",
      "EvaluatorHoldout: Processed 6022 (100.0%) in 4.84 sec. Users per second: 1244\n",
      "SVD++: CUTOFF: 10 - PRECISION: 0.0108602, PRECISION_RECALL_MIN_DEN: 0.0118447, RECALL: 0.0047345, MAP: 0.0035727, MAP_MIN_DEN: 0.0038465, MRR: 0.0314956, NDCG: 0.0078245, F1: 0.0065942, HIT_RATE: 0.0974759, ARHR_ALL_HITS: 0.0334742, NOVELTY: 0.0315993, AVERAGE_POPULARITY: 0.1035500, DIVERSITY_MEAN_INTER_LIST: 0.9926266, DIVERSITY_HERFINDAHL: 0.9992462, COVERAGE_ITEM: 0.8488282, COVERAGE_ITEM_HIT: 0.0898790, ITEMS_IN_GT: 0.8913211, COVERAGE_USER: 0.9970199, COVERAGE_USER_HIT: 0.0971854, USERS_IN_GT: 0.9970199, DIVERSITY_GINI: 0.3748743, SHANNON_ENTROPY: 10.9051585, RATIO_DIVERSITY_HERFINDAHL: 1.0000618, RATIO_DIVERSITY_GINI: 1.0720275, RATIO_SHANNON_ENTROPY: 1.0085198, RATIO_AVERAGE_POPULARITY: 0.3717385, RATIO_NOVELTY: 0.1070690, \n",
      "\n",
      "SVD++: New best model found! Updating.\n",
      "SVD++: Epoch 25 of 100. Elapsed time 1.05 min\n",
      "SVD++: Processed 641024 (100.0%) in 2.28 sec. MSE loss 1.23E+00. Sample per second: 280007\n",
      "SVD++: Epoch 26 of 100. Elapsed time 1.07 min\n",
      "SVD++: Processed 641024 (100.0%) in 1.93 sec. MSE loss 1.23E+00. Sample per second: 331795\n"
     ]
    },
    {
     "name": "stdout",
     "output_type": "stream",
     "text": [
      "SVD++: Epoch 27 of 100. Elapsed time 1.10 min\n",
      "SVD++: Processed 641024 (100.0%) in 2.58 sec. MSE loss 1.23E+00. Sample per second: 248232\n",
      "SVD++: Epoch 28 of 100. Elapsed time 1.13 min\n",
      "SVD++: Processed 641024 (100.0%) in 2.31 sec. MSE loss 1.23E+00. Sample per second: 277156\n",
      "SVD++: Epoch 29 of 100. Elapsed time 1.16 min\n",
      "SVD++: Processed 641024 (100.0%) in 1.96 sec. MSE loss 1.23E+00. Sample per second: 326488\n",
      "SVD++: Validation begins...\n",
      "EvaluatorHoldout: Processed 6022 (100.0%) in 4.80 sec. Users per second: 1255\n",
      "SVD++: CUTOFF: 10 - PRECISION: 0.0115908, PRECISION_RECALL_MIN_DEN: 0.0126667, RECALL: 0.0050818, MAP: 0.0039007, MAP_MIN_DEN: 0.0042059, MRR: 0.0342274, NDCG: 0.0086646, F1: 0.0070657, HIT_RATE: 0.1036201, ARHR_ALL_HITS: 0.0364682, NOVELTY: 0.0315264, AVERAGE_POPULARITY: 0.1088291, DIVERSITY_MEAN_INTER_LIST: 0.9923350, DIVERSITY_HERFINDAHL: 0.9992170, COVERAGE_ITEM: 0.8488282, COVERAGE_ITEM_HIT: 0.0901365, ITEMS_IN_GT: 0.8913211, COVERAGE_USER: 0.9970199, COVERAGE_USER_HIT: 0.1033113, USERS_IN_GT: 0.9970199, DIVERSITY_GINI: 0.3713120, SHANNON_ENTROPY: 10.8871188, RATIO_DIVERSITY_HERFINDAHL: 1.0000326, RATIO_DIVERSITY_GINI: 1.0618402, RATIO_SHANNON_ENTROPY: 1.0068515, RATIO_AVERAGE_POPULARITY: 0.3906900, RATIO_NOVELTY: 0.1068219, \n",
      "\n",
      "SVD++: New best model found! Updating.\n",
      "SVD++: Epoch 30 of 100. Elapsed time 1.27 min\n",
      "SVD++: Processed 641024 (100.0%) in 2.46 sec. MSE loss 1.23E+00. Sample per second: 261056\n",
      "SVD++: Epoch 31 of 100. Elapsed time 1.29 min\n",
      "SVD++: Processed 641024 (100.0%) in 2.14 sec. MSE loss 1.23E+00. Sample per second: 299034\n",
      "SVD++: Epoch 32 of 100. Elapsed time 1.32 min\n",
      "SVD++: Processed 641024 (100.0%) in 1.73 sec. MSE loss 1.23E+00. Sample per second: 371444\n",
      "SVD++: Epoch 33 of 100. Elapsed time 1.35 min\n",
      "SVD++: Processed 641024 (100.0%) in 1.91 sec. MSE loss 1.23E+00. Sample per second: 336326\n",
      "SVD++: Epoch 34 of 100. Elapsed time 1.37 min\n",
      "SVD++: Processed 641024 (100.0%) in 2.04 sec. MSE loss 1.22E+00. Sample per second: 314904\n",
      "SVD++: Validation begins...\n",
      "EvaluatorHoldout: Processed 6022 (100.0%) in 5.39 sec. Users per second: 1117\n",
      "SVD++: CUTOFF: 10 - PRECISION: 0.0124045, PRECISION_RECALL_MIN_DEN: 0.0136544, RECALL: 0.0056744, MAP: 0.0042457, MAP_MIN_DEN: 0.0046145, MRR: 0.0373786, NDCG: 0.0095909, F1: 0.0077868, HIT_RATE: 0.1110927, ARHR_ALL_HITS: 0.0397606, NOVELTY: 0.0314343, AVERAGE_POPULARITY: 0.1143114, DIVERSITY_MEAN_INTER_LIST: 0.9919551, DIVERSITY_HERFINDAHL: 0.9991790, COVERAGE_ITEM: 0.8477981, COVERAGE_ITEM_HIT: 0.0903940, ITEMS_IN_GT: 0.8913211, COVERAGE_USER: 0.9970199, COVERAGE_USER_HIT: 0.1107616, USERS_IN_GT: 0.9970199, DIVERSITY_GINI: 0.3671287, SHANNON_ENTROPY: 10.8650908, RATIO_DIVERSITY_HERFINDAHL: 0.9999946, RATIO_DIVERSITY_GINI: 1.0498773, RATIO_SHANNON_ENTROPY: 1.0048143, RATIO_AVERAGE_POPULARITY: 0.4103714, RATIO_NOVELTY: 0.1065100, \n",
      "\n",
      "SVD++: New best model found! Updating.\n",
      "SVD++: Epoch 35 of 100. Elapsed time 1.48 min\n",
      "SVD++: Processed 641024 (100.0%) in 2.11 sec. MSE loss 1.22E+00. Sample per second: 303932\n",
      "SVD++: Epoch 36 of 100. Elapsed time 1.50 min\n",
      "SVD++: Processed 641024 (100.0%) in 1.64 sec. MSE loss 1.22E+00. Sample per second: 391239\n",
      "SVD++: Epoch 37 of 100. Elapsed time 1.53 min\n",
      "SVD++: Processed 641024 (100.0%) in 1.52 sec. MSE loss 1.22E+00. Sample per second: 422618\n",
      "SVD++: Epoch 38 of 100. Elapsed time 1.54 min\n",
      "SVD++: Processed 641024 (100.0%) in 2.19 sec. MSE loss 1.22E+00. Sample per second: 293074\n",
      "SVD++: Epoch 39 of 100. Elapsed time 1.57 min\n",
      "SVD++: Processed 641024 (100.0%) in 1.84 sec. MSE loss 1.22E+00. Sample per second: 349053\n",
      "SVD++: Validation begins...\n",
      "EvaluatorHoldout: Processed 6022 (100.0%) in 5.39 sec. Users per second: 1116\n",
      "SVD++: CUTOFF: 10 - PRECISION: 0.0129193, PRECISION_RECALL_MIN_DEN: 0.0142709, RECALL: 0.0060334, MAP: 0.0045471, MAP_MIN_DEN: 0.0049614, MRR: 0.0401196, NDCG: 0.0103358, F1: 0.0082255, HIT_RATE: 0.1154102, ARHR_ALL_HITS: 0.0426287, NOVELTY: 0.0313200, AVERAGE_POPULARITY: 0.1207030, DIVERSITY_MEAN_INTER_LIST: 0.9914644, DIVERSITY_HERFINDAHL: 0.9991300, COVERAGE_ITEM: 0.8459954, COVERAGE_ITEM_HIT: 0.0909091, ITEMS_IN_GT: 0.8913211, COVERAGE_USER: 0.9970199, COVERAGE_USER_HIT: 0.1150662, USERS_IN_GT: 0.9970199, DIVERSITY_GINI: 0.3627485, SHANNON_ENTROPY: 10.8399128, RATIO_DIVERSITY_HERFINDAHL: 0.9999455, RATIO_DIVERSITY_GINI: 1.0373513, RATIO_SHANNON_ENTROPY: 1.0024858, RATIO_AVERAGE_POPULARITY: 0.4333168, RATIO_NOVELTY: 0.1061225, \n",
      "\n",
      "SVD++: New best model found! Updating.\n",
      "SVD++: Epoch 40 of 100. Elapsed time 1.69 min\n",
      "SVD++: Processed 641024 (100.0%) in 1.22 sec. MSE loss 1.22E+00. Sample per second: 524940\n",
      "SVD++: Epoch 41 of 100. Elapsed time 1.71 min\n",
      "SVD++: Processed 641024 (100.0%) in 1.53 sec. MSE loss 1.23E+00. Sample per second: 418754\n",
      "SVD++: Epoch 42 of 100. Elapsed time 1.73 min\n",
      "SVD++: Processed 641024 (100.0%) in 2.16 sec. MSE loss 1.22E+00. Sample per second: 295491\n",
      "SVD++: Epoch 43 of 100. Elapsed time 1.76 min\n",
      "SVD++: Processed 641024 (100.0%) in 1.80 sec. MSE loss 1.22E+00. Sample per second: 355770\n",
      "SVD++: Epoch 44 of 100. Elapsed time 1.78 min\n",
      "SVD++: Processed 641024 (100.0%) in 2.49 sec. MSE loss 1.22E+00. Sample per second: 257210\n",
      "SVD++: Validation begins...\n",
      "EvaluatorHoldout: Processed 6022 (100.0%) in 4.76 sec. Users per second: 1264\n",
      "SVD++: CUTOFF: 10 - PRECISION: 0.0136500, PRECISION_RECALL_MIN_DEN: 0.0150901, RECALL: 0.0064720, MAP: 0.0049399, MAP_MIN_DEN: 0.0054224, MRR: 0.0438648, NDCG: 0.0113825, F1: 0.0087807, HIT_RATE: 0.1225506, ARHR_ALL_HITS: 0.0464644, NOVELTY: 0.0312127, AVERAGE_POPULARITY: 0.1272505, DIVERSITY_MEAN_INTER_LIST: 0.9908822, DIVERSITY_HERFINDAHL: 0.9990718, COVERAGE_ITEM: 0.8436776, COVERAGE_ITEM_HIT: 0.0901365, ITEMS_IN_GT: 0.8913211, COVERAGE_USER: 0.9970199, COVERAGE_USER_HIT: 0.1221854, USERS_IN_GT: 0.9970199, DIVERSITY_GINI: 0.3576692, SHANNON_ENTROPY: 10.8105236, RATIO_DIVERSITY_HERFINDAHL: 0.9998873, RATIO_DIVERSITY_GINI: 1.0228261, RATIO_SHANNON_ENTROPY: 0.9997679, RATIO_AVERAGE_POPULARITY: 0.4568218, RATIO_NOVELTY: 0.1057588, \n",
      "\n",
      "SVD++: New best model found! Updating.\n",
      "SVD++: Epoch 45 of 100. Elapsed time 1.89 min\n",
      "SVD++: Processed 641024 (100.0%) in 1.99 sec. MSE loss 1.22E+00. Sample per second: 322929\n",
      "SVD++: Epoch 46 of 100. Elapsed time 1.92 min\n",
      "SVD++: Processed 641024 (100.0%) in 2.59 sec. MSE loss 1.22E+00. Sample per second: 247132\n",
      "SVD++: Epoch 47 of 100. Elapsed time 1.95 min\n",
      "SVD++: Processed 641024 (100.0%) in 2.23 sec. MSE loss 1.22E+00. Sample per second: 287968\n",
      "SVD++: Epoch 48 of 100. Elapsed time 1.97 min\n",
      "SVD++: Processed 641024 (100.0%) in 1.89 sec. MSE loss 1.22E+00. Sample per second: 338327\n",
      "SVD++: Epoch 49 of 100. Elapsed time 2.00 min\n",
      "SVD++: Processed 641024 (100.0%) in 2.58 sec. MSE loss 1.22E+00. Sample per second: 248683\n",
      "SVD++: Validation begins...\n",
      "EvaluatorHoldout: Processed 6022 (100.0%) in 4.85 sec. Users per second: 1241\n",
      "SVD++: CUTOFF: 10 - PRECISION: 0.0147459, PRECISION_RECALL_MIN_DEN: 0.0162280, RECALL: 0.0069890, MAP: 0.0053471, MAP_MIN_DEN: 0.0058821, MRR: 0.0473311, NDCG: 0.0125415, F1: 0.0094833, HIT_RATE: 0.1313517, ARHR_ALL_HITS: 0.0501975, NOVELTY: 0.0310978, AVERAGE_POPULARITY: 0.1347448, DIVERSITY_MEAN_INTER_LIST: 0.9901021, DIVERSITY_HERFINDAHL: 0.9989938, COVERAGE_ITEM: 0.8405872, COVERAGE_ITEM_HIT: 0.0896214, ITEMS_IN_GT: 0.8913211, COVERAGE_USER: 0.9970199, COVERAGE_USER_HIT: 0.1309603, USERS_IN_GT: 0.9970199, DIVERSITY_GINI: 0.3520015, SHANNON_ENTROPY: 10.7749584, RATIO_DIVERSITY_HERFINDAHL: 0.9998092, RATIO_DIVERSITY_GINI: 1.0066181, RATIO_SHANNON_ENTROPY: 0.9964788, RATIO_AVERAGE_POPULARITY: 0.4837257, RATIO_NOVELTY: 0.1053698, \n",
      "\n",
      "SVD++: New best model found! Updating.\n",
      "SVD++: Epoch 50 of 100. Elapsed time 2.11 min\n",
      "SVD++: Processed 641024 (100.0%) in 2.13 sec. MSE loss 1.22E+00. Sample per second: 300672\n",
      "SVD++: Epoch 51 of 100. Elapsed time 2.14 min\n",
      "SVD++: Processed 641024 (100.0%) in 1.83 sec. MSE loss 1.22E+00. Sample per second: 349768\n",
      "SVD++: Epoch 52 of 100. Elapsed time 2.17 min\n",
      "SVD++: Processed 641024 (100.0%) in 2.56 sec. MSE loss 1.22E+00. Sample per second: 250090\n",
      "SVD++: Epoch 53 of 100. Elapsed time 2.20 min\n",
      "SVD++: Processed 641024 (100.0%) in 1.47 sec. MSE loss 1.23E+00. Sample per second: 435823\n",
      "SVD++: Epoch 54 of 100. Elapsed time 2.21 min\n",
      "SVD++: Processed 641024 (100.0%) in 1.90 sec. MSE loss 1.22E+00. Sample per second: 337389\n"
     ]
    },
    {
     "name": "stdout",
     "output_type": "stream",
     "text": [
      "SVD++: Validation begins...\n",
      "EvaluatorHoldout: Processed 6022 (100.0%) in 5.37 sec. Users per second: 1121\n",
      "SVD++: CUTOFF: 10 - PRECISION: 0.0158585, PRECISION_RECALL_MIN_DEN: 0.0174195, RECALL: 0.0075158, MAP: 0.0058730, MAP_MIN_DEN: 0.0064594, MRR: 0.0516997, NDCG: 0.0137827, F1: 0.0101983, HIT_RATE: 0.1401528, ARHR_ALL_HITS: 0.0549910, NOVELTY: 0.0309565, AVERAGE_POPULARITY: 0.1430476, DIVERSITY_MEAN_INTER_LIST: 0.9891349, DIVERSITY_HERFINDAHL: 0.9988971, COVERAGE_ITEM: 0.8364666, COVERAGE_ITEM_HIT: 0.0888488, ITEMS_IN_GT: 0.8913211, COVERAGE_USER: 0.9970199, COVERAGE_USER_HIT: 0.1397351, USERS_IN_GT: 0.9970199, DIVERSITY_GINI: 0.3456341, SHANNON_ENTROPY: 10.7330613, RATIO_DIVERSITY_HERFINDAHL: 0.9997124, RATIO_DIVERSITY_GINI: 0.9884093, RATIO_SHANNON_ENTROPY: 0.9926041, RATIO_AVERAGE_POPULARITY: 0.5135326, RATIO_NOVELTY: 0.1048907, \n",
      "\n",
      "SVD++: New best model found! Updating.\n",
      "SVD++: Epoch 55 of 100. Elapsed time 2.32 min\n",
      "SVD++: Processed 641024 (100.0%) in 2.02 sec. MSE loss 1.22E+00. Sample per second: 316797\n",
      "SVD++: Epoch 56 of 100. Elapsed time 2.35 min\n",
      "SVD++: Processed 641024 (100.0%) in 1.26 sec. MSE loss 1.22E+00. Sample per second: 507518\n",
      "SVD++: Epoch 57 of 100. Elapsed time 2.37 min\n",
      "SVD++: Processed 641024 (100.0%) in 1.32 sec. MSE loss 1.22E+00. Sample per second: 484794\n",
      "SVD++: Epoch 58 of 100. Elapsed time 2.39 min\n",
      "SVD++: Processed 641024 (100.0%) in 2.02 sec. MSE loss 1.22E+00. Sample per second: 317213\n",
      "SVD++: Epoch 59 of 100. Elapsed time 2.42 min\n",
      "SVD++: Processed 641024 (100.0%) in 1.70 sec. MSE loss 1.22E+00. Sample per second: 376365\n",
      "SVD++: Validation begins...\n",
      "EvaluatorHoldout: Processed 6022 (100.0%) in 5.33 sec. Users per second: 1129\n",
      "SVD++: CUTOFF: 10 - PRECISION: 0.0170707, PRECISION_RECALL_MIN_DEN: 0.0188401, RECALL: 0.0083231, MAP: 0.0064210, MAP_MIN_DEN: 0.0070958, MRR: 0.0563665, NDCG: 0.0152397, F1: 0.0111902, HIT_RATE: 0.1507805, ARHR_ALL_HITS: 0.0600267, NOVELTY: 0.0308155, AVERAGE_POPULARITY: 0.1518087, DIVERSITY_MEAN_INTER_LIST: 0.9879275, DIVERSITY_HERFINDAHL: 0.9987763, COVERAGE_ITEM: 0.8326037, COVERAGE_ITEM_HIT: 0.0888488, ITEMS_IN_GT: 0.8913211, COVERAGE_USER: 0.9970199, COVERAGE_USER_HIT: 0.1503311, USERS_IN_GT: 0.9970199, DIVERSITY_GINI: 0.3391137, SHANNON_ENTROPY: 10.6870058, RATIO_DIVERSITY_HERFINDAHL: 0.9995916, RATIO_DIVERSITY_GINI: 0.9697627, RATIO_SHANNON_ENTROPY: 0.9883448, RATIO_AVERAGE_POPULARITY: 0.5449843, RATIO_NOVELTY: 0.1044130, \n",
      "\n",
      "SVD++: New best model found! Updating.\n",
      "SVD++: Epoch 60 of 100. Elapsed time 2.54 min\n",
      "SVD++: Processed 641024 (100.0%) in 0.84 sec. MSE loss 1.22E+00. Sample per second: 759708\n",
      "SVD++: Epoch 61 of 100. Elapsed time 2.55 min\n",
      "SVD++: Processed 641024 (100.0%) in 2.54 sec. MSE loss 1.22E+00. Sample per second: 252695\n",
      "SVD++: Epoch 62 of 100. Elapsed time 2.58 min\n",
      "SVD++: Processed 641024 (100.0%) in 2.23 sec. MSE loss 1.22E+00. Sample per second: 287812\n",
      "SVD++: Epoch 63 of 100. Elapsed time 2.61 min\n",
      "SVD++: Processed 641024 (100.0%) in 1.97 sec. MSE loss 1.22E+00. Sample per second: 325743\n",
      "SVD++: Epoch 64 of 100. Elapsed time 2.64 min\n",
      "SVD++: Processed 641024 (100.0%) in 2.69 sec. MSE loss 1.22E+00. Sample per second: 238455\n",
      "SVD++: Validation begins...\n",
      "EvaluatorHoldout: Processed 6022 (100.0%) in 4.85 sec. Users per second: 1241\n",
      "SVD++: CUTOFF: 10 - PRECISION: 0.0180505, PRECISION_RECALL_MIN_DEN: 0.0198987, RECALL: 0.0088619, MAP: 0.0068432, MAP_MIN_DEN: 0.0075659, MRR: 0.0599023, NDCG: 0.0164296, F1: 0.0118876, HIT_RATE: 0.1587512, ARHR_ALL_HITS: 0.0638947, NOVELTY: 0.0306613, AVERAGE_POPULARITY: 0.1612178, DIVERSITY_MEAN_INTER_LIST: 0.9864902, DIVERSITY_HERFINDAHL: 0.9986326, COVERAGE_ITEM: 0.8282256, COVERAGE_ITEM_HIT: 0.0883338, ITEMS_IN_GT: 0.8913211, COVERAGE_USER: 0.9970199, COVERAGE_USER_HIT: 0.1582781, USERS_IN_GT: 0.9970199, DIVERSITY_GINI: 0.3314088, SHANNON_ENTROPY: 10.6332262, RATIO_DIVERSITY_HERFINDAHL: 0.9994478, RATIO_DIVERSITY_GINI: 0.9477291, RATIO_SHANNON_ENTROPY: 0.9833712, RATIO_AVERAGE_POPULARITY: 0.5787625, RATIO_NOVELTY: 0.1038906, \n",
      "\n",
      "SVD++: New best model found! Updating.\n",
      "SVD++: Epoch 65 of 100. Elapsed time 2.74 min\n",
      "SVD++: Processed 641024 (100.0%) in 2.26 sec. MSE loss 1.22E+00. Sample per second: 283594\n",
      "SVD++: Epoch 66 of 100. Elapsed time 2.77 min\n",
      "SVD++: Processed 641024 (100.0%) in 2.00 sec. MSE loss 1.22E+00. Sample per second: 320367\n",
      "SVD++: Epoch 67 of 100. Elapsed time 2.80 min\n",
      "SVD++: Processed 641024 (100.0%) in 1.66 sec. MSE loss 1.22E+00. Sample per second: 385804\n",
      "SVD++: Epoch 68 of 100. Elapsed time 2.83 min\n",
      "SVD++: Processed 641024 (100.0%) in 2.28 sec. MSE loss 1.22E+00. Sample per second: 280864\n",
      "SVD++: Epoch 69 of 100. Elapsed time 2.86 min\n",
      "SVD++: Processed 641024 (100.0%) in 1.47 sec. MSE loss 1.22E+00. Sample per second: 435674\n",
      "SVD++: Validation begins...\n",
      "EvaluatorHoldout: Processed 6022 (100.0%) in 5.02 sec. Users per second: 1199\n",
      "SVD++: CUTOFF: 10 - PRECISION: 0.0193125, PRECISION_RECALL_MIN_DEN: 0.0212928, RECALL: 0.0096054, MAP: 0.0074394, MAP_MIN_DEN: 0.0082664, MRR: 0.0646846, NDCG: 0.0179102, F1: 0.0128297, HIT_RATE: 0.1677184, ARHR_ALL_HITS: 0.0692329, NOVELTY: 0.0305128, AVERAGE_POPULARITY: 0.1713116, DIVERSITY_MEAN_INTER_LIST: 0.9847060, DIVERSITY_HERFINDAHL: 0.9984543, COVERAGE_ITEM: 0.8246201, COVERAGE_ITEM_HIT: 0.0878187, ITEMS_IN_GT: 0.8913211, COVERAGE_USER: 0.9970199, COVERAGE_USER_HIT: 0.1672185, USERS_IN_GT: 0.9970199, DIVERSITY_GINI: 0.3237275, SHANNON_ENTROPY: 10.5745230, RATIO_DIVERSITY_HERFINDAHL: 0.9992692, RATIO_DIVERSITY_GINI: 0.9257630, RATIO_SHANNON_ENTROPY: 0.9779423, RATIO_AVERAGE_POPULARITY: 0.6149987, RATIO_NOVELTY: 0.1033876, \n",
      "\n",
      "SVD++: New best model found! Updating.\n",
      "SVD++: Epoch 70 of 100. Elapsed time 2.96 min\n",
      "SVD++: Processed 641024 (100.0%) in 2.24 sec. MSE loss 1.22E+00. Sample per second: 286710\n",
      "SVD++: Epoch 71 of 100. Elapsed time 2.99 min\n",
      "SVD++: Processed 641024 (100.0%) in 1.95 sec. MSE loss 1.22E+00. Sample per second: 327972\n",
      "SVD++: Epoch 72 of 100. Elapsed time 3.02 min\n",
      "SVD++: Processed 641024 (100.0%) in 2.42 sec. MSE loss 1.21E+00. Sample per second: 265261\n",
      "SVD++: Epoch 73 of 100. Elapsed time 3.04 min\n",
      "SVD++: Processed 641024 (100.0%) in 1.32 sec. MSE loss 1.22E+00. Sample per second: 484232\n",
      "SVD++: Epoch 74 of 100. Elapsed time 3.06 min\n",
      "SVD++: Processed 641024 (100.0%) in 2.03 sec. MSE loss 1.22E+00. Sample per second: 315055\n",
      "SVD++: Validation begins...\n",
      "EvaluatorHoldout: Processed 6022 (100.0%) in 5.39 sec. Users per second: 1117\n",
      "SVD++: CUTOFF: 10 - PRECISION: 0.0208403, PRECISION_RECALL_MIN_DEN: 0.0232026, RECALL: 0.0108112, MAP: 0.0080485, MAP_MIN_DEN: 0.0089545, MRR: 0.0695658, NDCG: 0.0197017, F1: 0.0142368, HIT_RATE: 0.1798406, ARHR_ALL_HITS: 0.0747081, NOVELTY: 0.0303360, AVERAGE_POPULARITY: 0.1820824, DIVERSITY_MEAN_INTER_LIST: 0.9825724, DIVERSITY_HERFINDAHL: 0.9982409, COVERAGE_ITEM: 0.8204996, COVERAGE_ITEM_HIT: 0.0873036, ITEMS_IN_GT: 0.8913211, COVERAGE_USER: 0.9970199, COVERAGE_USER_HIT: 0.1793046, USERS_IN_GT: 0.9970199, DIVERSITY_GINI: 0.3158108, SHANNON_ENTROPY: 10.5098554, RATIO_DIVERSITY_HERFINDAHL: 0.9990557, RATIO_DIVERSITY_GINI: 0.9031236, RATIO_SHANNON_ENTROPY: 0.9719618, RATIO_AVERAGE_POPULARITY: 0.6536650, RATIO_NOVELTY: 0.1027883, \n",
      "\n",
      "SVD++: New best model found! Updating.\n",
      "SVD++: Epoch 75 of 100. Elapsed time 3.18 min\n",
      "SVD++: Processed 641024 (100.0%) in 2.08 sec. MSE loss 1.22E+00. Sample per second: 308049\n",
      "SVD++: Epoch 76 of 100. Elapsed time 3.20 min\n",
      "SVD++: Processed 641024 (100.0%) in 0.95 sec. MSE loss 1.22E+00. Sample per second: 676336\n",
      "SVD++: Epoch 77 of 100. Elapsed time 3.22 min\n",
      "SVD++: Processed 641024 (100.0%) in 2.39 sec. MSE loss 1.22E+00. Sample per second: 268240\n",
      "SVD++: Epoch 78 of 100. Elapsed time 3.24 min\n",
      "SVD++: Processed 641024 (100.0%) in 2.08 sec. MSE loss 1.21E+00. Sample per second: 308443\n",
      "SVD++: Epoch 79 of 100. Elapsed time 3.27 min\n",
      "SVD++: Processed 641024 (100.0%) in 1.78 sec. MSE loss 1.22E+00. Sample per second: 359891\n",
      "SVD++: Validation begins...\n",
      "EvaluatorHoldout: Processed 6022 (100.0%) in 5.09 sec. Users per second: 1183\n",
      "SVD++: CUTOFF: 10 - PRECISION: 0.0221355, PRECISION_RECALL_MIN_DEN: 0.0247228, RECALL: 0.0116489, MAP: 0.0088206, MAP_MIN_DEN: 0.0099228, MRR: 0.0755063, NDCG: 0.0216168, F1: 0.0152647, HIT_RATE: 0.1883095, ARHR_ALL_HITS: 0.0814448, NOVELTY: 0.0301724, AVERAGE_POPULARITY: 0.1930777, DIVERSITY_MEAN_INTER_LIST: 0.9801572, DIVERSITY_HERFINDAHL: 0.9979994, COVERAGE_ITEM: 0.8166366, COVERAGE_ITEM_HIT: 0.0865310, ITEMS_IN_GT: 0.8913211, COVERAGE_USER: 0.9970199, COVERAGE_USER_HIT: 0.1877483, USERS_IN_GT: 0.9970199, DIVERSITY_GINI: 0.3075457, SHANNON_ENTROPY: 10.4402004, RATIO_DIVERSITY_HERFINDAHL: 0.9988141, RATIO_DIVERSITY_GINI: 0.8794879, RATIO_SHANNON_ENTROPY: 0.9655200, RATIO_AVERAGE_POPULARITY: 0.6931376, RATIO_NOVELTY: 0.1022342, \n",
      "\n",
      "SVD++: New best model found! Updating.\n",
      "SVD++: Epoch 80 of 100. Elapsed time 3.38 min\n"
     ]
    },
    {
     "name": "stdout",
     "output_type": "stream",
     "text": [
      "SVD++: Processed 641024 (100.0%) in 2.22 sec. MSE loss 1.21E+00. Sample per second: 288909\n",
      "SVD++: Epoch 81 of 100. Elapsed time 3.41 min\n",
      "SVD++: Processed 641024 (100.0%) in 1.86 sec. MSE loss 1.22E+00. Sample per second: 345166\n",
      "SVD++: Epoch 82 of 100. Elapsed time 3.43 min\n",
      "SVD++: Processed 641024 (100.0%) in 2.52 sec. MSE loss 1.22E+00. Sample per second: 253588\n",
      "SVD++: Epoch 83 of 100. Elapsed time 3.46 min\n",
      "SVD++: Processed 641024 (100.0%) in 2.11 sec. MSE loss 1.21E+00. Sample per second: 303743\n",
      "SVD++: Epoch 84 of 100. Elapsed time 3.49 min\n",
      "SVD++: Processed 641024 (100.0%) in 1.78 sec. MSE loss 1.21E+00. Sample per second: 359946\n",
      "SVD++: Validation begins...\n",
      "EvaluatorHoldout: Processed 6022 (100.0%) in 4.80 sec. Users per second: 1254\n",
      "SVD++: CUTOFF: 10 - PRECISION: 0.0233809, PRECISION_RECALL_MIN_DEN: 0.0260935, RECALL: 0.0123317, MAP: 0.0095417, MAP_MIN_DEN: 0.0107170, MRR: 0.0809909, NDCG: 0.0232706, F1: 0.0161470, HIT_RATE: 0.1967785, ARHR_ALL_HITS: 0.0877698, NOVELTY: 0.0299714, AVERAGE_POPULARITY: 0.2053454, DIVERSITY_MEAN_INTER_LIST: 0.9772313, DIVERSITY_HERFINDAHL: 0.9977069, COVERAGE_ITEM: 0.8101983, COVERAGE_ITEM_HIT: 0.0857584, ITEMS_IN_GT: 0.8913211, COVERAGE_USER: 0.9970199, COVERAGE_USER_HIT: 0.1961921, USERS_IN_GT: 0.9970199, DIVERSITY_GINI: 0.2984015, SHANNON_ENTROPY: 10.3595984, RATIO_DIVERSITY_HERFINDAHL: 0.9985213, RATIO_DIVERSITY_GINI: 0.8533381, RATIO_SHANNON_ENTROPY: 0.9580659, RATIO_AVERAGE_POPULARITY: 0.7371778, RATIO_NOVELTY: 0.1015531, \n",
      "\n",
      "SVD++: New best model found! Updating.\n",
      "SVD++: Epoch 85 of 100. Elapsed time 3.60 min\n",
      "SVD++: Processed 641024 (100.0%) in 2.24 sec. MSE loss 1.21E+00. Sample per second: 285638\n",
      "SVD++: Epoch 86 of 100. Elapsed time 3.62 min\n",
      "SVD++: Processed 641024 (100.0%) in 1.89 sec. MSE loss 1.22E+00. Sample per second: 338653\n",
      "SVD++: Epoch 87 of 100. Elapsed time 3.65 min\n",
      "SVD++: Processed 641024 (100.0%) in 2.51 sec. MSE loss 1.21E+00. Sample per second: 255828\n",
      "SVD++: Epoch 88 of 100. Elapsed time 3.68 min\n",
      "SVD++: Processed 641024 (100.0%) in 2.10 sec. MSE loss 1.22E+00. Sample per second: 305787\n",
      "SVD++: Epoch 89 of 100. Elapsed time 3.70 min\n",
      "SVD++: Processed 641024 (100.0%) in 1.05 sec. MSE loss 1.22E+00. Sample per second: 613046\n",
      "SVD++: Validation begins...\n",
      "EvaluatorHoldout: Processed 6022 (100.0%) in 5.22 sec. Users per second: 1153\n",
      "SVD++: CUTOFF: 10 - PRECISION: 0.0250913, PRECISION_RECALL_MIN_DEN: 0.0281562, RECALL: 0.0135692, MAP: 0.0104404, MAP_MIN_DEN: 0.0117405, MRR: 0.0879646, NDCG: 0.0253960, F1: 0.0176133, HIT_RATE: 0.2090668, ARHR_ALL_HITS: 0.0956541, NOVELTY: 0.0297655, AVERAGE_POPULARITY: 0.2181485, DIVERSITY_MEAN_INTER_LIST: 0.9738744, DIVERSITY_HERFINDAHL: 0.9973713, COVERAGE_ITEM: 0.8037600, COVERAGE_ITEM_HIT: 0.0847283, ITEMS_IN_GT: 0.8913211, COVERAGE_USER: 0.9970199, COVERAGE_USER_HIT: 0.2084437, USERS_IN_GT: 0.9970199, DIVERSITY_GINI: 0.2886227, SHANNON_ENTROPY: 10.2714022, RATIO_DIVERSITY_HERFINDAHL: 0.9981854, RATIO_DIVERSITY_GINI: 0.8253738, RATIO_SHANNON_ENTROPY: 0.9499094, RATIO_AVERAGE_POPULARITY: 0.7831401, RATIO_NOVELTY: 0.1008554, \n",
      "\n",
      "SVD++: New best model found! Updating.\n",
      "SVD++: Epoch 90 of 100. Elapsed time 3.81 min\n",
      "SVD++: Processed 641024 (100.0%) in 1.93 sec. MSE loss 1.21E+00. Sample per second: 332218\n",
      "SVD++: Epoch 91 of 100. Elapsed time 3.83 min\n",
      "SVD++: Processed 641024 (100.0%) in 2.55 sec. MSE loss 1.21E+00. Sample per second: 251365\n",
      "SVD++: Epoch 92 of 100. Elapsed time 3.86 min\n",
      "SVD++: Processed 641024 (100.0%) in 1.84 sec. MSE loss 1.21E+00. Sample per second: 347009\n",
      "SVD++: Epoch 93 of 100. Elapsed time 3.88 min\n",
      "SVD++: Processed 641024 (100.0%) in 1.84 sec. MSE loss 1.21E+00. Sample per second: 348573\n",
      "SVD++: Epoch 94 of 100. Elapsed time 3.90 min\n",
      "SVD++: Processed 641024 (100.0%) in 2.56 sec. MSE loss 1.21E+00. Sample per second: 250437\n",
      "SVD++: Validation begins...\n",
      "EvaluatorHoldout: Processed 6022 (100.0%) in 5.45 sec. Users per second: 1104\n",
      "SVD++: CUTOFF: 10 - PRECISION: 0.0270840, PRECISION_RECALL_MIN_DEN: 0.0303901, RECALL: 0.0147115, MAP: 0.0113704, MAP_MIN_DEN: 0.0127591, MRR: 0.0949036, NDCG: 0.0276296, F1: 0.0190665, HIT_RATE: 0.2243441, ARHR_ALL_HITS: 0.1037136, NOVELTY: 0.0295500, AVERAGE_POPULARITY: 0.2314675, DIVERSITY_MEAN_INTER_LIST: 0.9698835, DIVERSITY_HERFINDAHL: 0.9969722, COVERAGE_ITEM: 0.7988669, COVERAGE_ITEM_HIT: 0.0836982, ITEMS_IN_GT: 0.8913211, COVERAGE_USER: 0.9970199, COVERAGE_USER_HIT: 0.2236755, USERS_IN_GT: 0.9970199, DIVERSITY_GINI: 0.2788696, SHANNON_ENTROPY: 10.1765698, RATIO_DIVERSITY_HERFINDAHL: 0.9977860, RATIO_DIVERSITY_GINI: 0.7974828, RATIO_SHANNON_ENTROPY: 0.9411392, RATIO_AVERAGE_POPULARITY: 0.8309548, RATIO_NOVELTY: 0.1001253, \n",
      "\n",
      "SVD++: New best model found! Updating.\n",
      "SVD++: Epoch 95 of 100. Elapsed time 4.02 min\n",
      "SVD++: Processed 641024 (100.0%) in 1.67 sec. MSE loss 1.22E+00. Sample per second: 383182\n",
      "SVD++: Epoch 96 of 100. Elapsed time 4.05 min\n",
      "SVD++: Processed 641024 (100.0%) in 1.63 sec. MSE loss 1.21E+00. Sample per second: 392738\n",
      "SVD++: Epoch 97 of 100. Elapsed time 4.06 min\n",
      "SVD++: Processed 641024 (100.0%) in 2.35 sec. MSE loss 1.21E+00. Sample per second: 272412\n",
      "SVD++: Epoch 98 of 100. Elapsed time 4.09 min\n",
      "SVD++: Processed 641024 (100.0%) in 2.10 sec. MSE loss 1.21E+00. Sample per second: 304598\n",
      "SVD++: Epoch 99 of 100. Elapsed time 4.12 min\n",
      "SVD++: Processed 641024 (100.0%) in 1.84 sec. MSE loss 1.21E+00. Sample per second: 347679\n",
      "SVD++: Validation begins...\n",
      "EvaluatorHoldout: Processed 6022 (100.0%) in 4.81 sec. Users per second: 1251\n",
      "SVD++: CUTOFF: 10 - PRECISION: 0.0288608, PRECISION_RECALL_MIN_DEN: 0.0325390, RECALL: 0.0158361, MAP: 0.0123429, MAP_MIN_DEN: 0.0138639, MRR: 0.1016325, NDCG: 0.0300688, F1: 0.0204507, HIT_RATE: 0.2341415, ARHR_ALL_HITS: 0.1118103, NOVELTY: 0.0293278, AVERAGE_POPULARITY: 0.2453708, DIVERSITY_MEAN_INTER_LIST: 0.9654609, DIVERSITY_HERFINDAHL: 0.9965301, COVERAGE_ITEM: 0.7921710, COVERAGE_ITEM_HIT: 0.0826680, ITEMS_IN_GT: 0.8913211, COVERAGE_USER: 0.9970199, COVERAGE_USER_HIT: 0.2334437, USERS_IN_GT: 0.9970199, DIVERSITY_GINI: 0.2684863, SHANNON_ENTROPY: 10.0737943, RATIO_DIVERSITY_HERFINDAHL: 0.9973435, RATIO_DIVERSITY_GINI: 0.7677898, RATIO_SHANNON_ENTROPY: 0.9316344, RATIO_AVERAGE_POPULARITY: 0.8808667, RATIO_NOVELTY: 0.0993723, \n",
      "\n",
      "SVD++: New best model found! Updating.\n",
      "SVD++: Epoch 100 of 100. Elapsed time 4.23 min\n",
      "SVD++: Terminating at epoch 100. Best value for 'MAP' at epoch 100 is 0.0123. Elapsed time 4.23 min\n",
      "EvaluatorHoldout: Processed 6022 (100.0%) in 5.43 sec. Users per second: 1108\n"
     ]
    },
    {
     "name": "stderr",
     "output_type": "stream",
     "text": [
      "[I 2023-11-23 14:02:01,132] Trial 7 finished with value: 0.012342910650366629 and parameters: {'num_factors': 26, 'sgd_mode': 'sgd', 'batch_size': 1024, 'item_reg': 0.0004836058980243599, 'user_reg': 0.0004899724863766566, 'learning_rate': 0.0004957733439363911}. Best is trial 3 with value: 0.04762713305182601.\n"
     ]
    },
    {
     "name": "stdout",
     "output_type": "stream",
     "text": [
      "MatrixFactorization_SVDpp_Cython_Recommender: URM Detected 226 ( 5.8%) items with no interactions.\n",
      "SVD++: Processed 640136 (100.0%) in 11.47 sec. MSE loss 1.13E+01. Sample per second: 55824\n",
      "SVD++: Epoch 1 of 100. Elapsed time 11.26 sec\n",
      "SVD++: Processed 640136 (100.0%) in 11.71 sec. MSE loss 8.68E+00. Sample per second: 54670\n",
      "SVD++: Epoch 2 of 100. Elapsed time 22.50 sec\n",
      "SVD++: Processed 640136 (100.0%) in 11.94 sec. MSE loss 7.27E+00. Sample per second: 53610\n",
      "SVD++: Epoch 3 of 100. Elapsed time 33.73 sec\n",
      "SVD++: Processed 640136 (100.0%) in 11.86 sec. MSE loss 6.31E+00. Sample per second: 53950\n",
      "SVD++: Epoch 4 of 100. Elapsed time 44.65 sec\n",
      "SVD++: Processed 640136 (100.0%) in 12.10 sec. MSE loss 5.56E+00. Sample per second: 52903\n",
      "SVD++: Validation begins...\n",
      "EvaluatorHoldout: Processed 6022 (100.0%) in 5.46 sec. Users per second: 1103\n",
      "SVD++: CUTOFF: 10 - PRECISION: 0.0430588, PRECISION_RECALL_MIN_DEN: 0.0478455, RECALL: 0.0213566, MAP: 0.0171635, MAP_MIN_DEN: 0.0190376, MRR: 0.1272202, NDCG: 0.0368742, F1: 0.0285519, HIT_RATE: 0.3189970, ARHR_ALL_HITS: 0.1469911, NOVELTY: 0.0268055, AVERAGE_POPULARITY: 0.3405959, DIVERSITY_MEAN_INTER_LIST: 0.9736776, DIVERSITY_HERFINDAHL: 0.9973516, COVERAGE_ITEM: 0.8562967, COVERAGE_ITEM_HIT: 0.1269637, ITEMS_IN_GT: 0.8913211, COVERAGE_USER: 0.9970199, COVERAGE_USER_HIT: 0.3180464, USERS_IN_GT: 0.9970199, DIVERSITY_GINI: 0.2360393, SHANNON_ENTROPY: 9.9473943, RATIO_DIVERSITY_HERFINDAHL: 0.9981657, RATIO_DIVERSITY_GINI: 0.6750010, RATIO_SHANNON_ENTROPY: 0.9199448, RATIO_AVERAGE_POPULARITY: 1.2227194, RATIO_NOVELTY: 0.0908259, \n",
      "\n",
      "SVD++: New best model found! Updating.\n",
      "SVD++: Epoch 5 of 100. Elapsed time 1.02 min\n",
      "SVD++: Processed 640136 (100.0%) in 11.84 sec. MSE loss 4.97E+00. Sample per second: 54073\n",
      "SVD++: Epoch 6 of 100. Elapsed time 1.21 min\n",
      "SVD++: Processed 640136 (100.0%) in 12.04 sec. MSE loss 4.48E+00. Sample per second: 53157\n",
      "SVD++: Epoch 7 of 100. Elapsed time 1.40 min\n",
      "SVD++: Processed 640136 (100.0%) in 11.02 sec. MSE loss 4.06E+00. Sample per second: 58091\n",
      "SVD++: Epoch 8 of 100. Elapsed time 1.58 min\n",
      "SVD++: Processed 640136 (100.0%) in 11.18 sec. MSE loss 3.71E+00. Sample per second: 57234\n",
      "SVD++: Epoch 9 of 100. Elapsed time 1.77 min\n",
      "SVD++: Processed 640136 (100.0%) in 11.42 sec. MSE loss 3.42E+00. Sample per second: 56021\n",
      "SVD++: Validation begins...\n",
      "EvaluatorHoldout: Processed 6022 (100.0%) in 5.47 sec. Users per second: 1100\n",
      "SVD++: CUTOFF: 10 - PRECISION: 0.0612421, PRECISION_RECALL_MIN_DEN: 0.0681083, RECALL: 0.0310941, MAP: 0.0258761, MAP_MIN_DEN: 0.0285924, MRR: 0.1736254, NDCG: 0.0551160, F1: 0.0412464, HIT_RATE: 0.4103288, ARHR_ALL_HITS: 0.2103625, NOVELTY: 0.0249293, AVERAGE_POPULARITY: 0.4633115, DIVERSITY_MEAN_INTER_LIST: 0.9360505, DIVERSITY_HERFINDAHL: 0.9935895, COVERAGE_ITEM: 0.6482101, COVERAGE_ITEM_HIT: 0.1089364, ITEMS_IN_GT: 0.8913211, COVERAGE_USER: 0.9970199, COVERAGE_USER_HIT: 0.4091060, USERS_IN_GT: 0.9970199, DIVERSITY_GINI: 0.1097128, SHANNON_ENTROPY: 8.6916396, RATIO_DIVERSITY_HERFINDAHL: 0.9944005, RATIO_DIVERSITY_GINI: 0.3137454, RATIO_SHANNON_ENTROPY: 0.8038114, RATIO_AVERAGE_POPULARITY: 1.6632609, RATIO_NOVELTY: 0.0844688, \n",
      "\n",
      "SVD++: New best model found! Updating.\n",
      "SVD++: Epoch 10 of 100. Elapsed time 2.05 min\n",
      "SVD++: Processed 640136 (100.0%) in 12.18 sec. MSE loss 3.17E+00. Sample per second: 52548\n",
      "SVD++: Epoch 11 of 100. Elapsed time 2.23 min\n",
      "SVD++: Processed 640136 (100.0%) in 11.21 sec. MSE loss 2.94E+00. Sample per second: 57094\n",
      "SVD++: Epoch 12 of 100. Elapsed time 2.42 min\n",
      "SVD++: Processed 640136 (100.0%) in 11.32 sec. MSE loss 2.74E+00. Sample per second: 56567\n",
      "SVD++: Epoch 13 of 100. Elapsed time 2.60 min\n",
      "SVD++: Processed 640136 (100.0%) in 11.56 sec. MSE loss 2.58E+00. Sample per second: 55349\n",
      "SVD++: Epoch 14 of 100. Elapsed time 2.79 min\n",
      "SVD++: Processed 640136 (100.0%) in 11.81 sec. MSE loss 2.43E+00. Sample per second: 54210\n",
      "SVD++: Validation begins...\n",
      "EvaluatorHoldout: Processed 6022 (100.0%) in 5.52 sec. Users per second: 1090\n",
      "SVD++: CUTOFF: 10 - PRECISION: 0.0719030, PRECISION_RECALL_MIN_DEN: 0.0799494, RECALL: 0.0364217, MAP: 0.0311547, MAP_MIN_DEN: 0.0343239, MRR: 0.1962665, NDCG: 0.0656810, F1: 0.0483515, HIT_RATE: 0.4541681, ARHR_ALL_HITS: 0.2447845, NOVELTY: 0.0240962, AVERAGE_POPULARITY: 0.5278857, DIVERSITY_MEAN_INTER_LIST: 0.9034621, DIVERSITY_HERFINDAHL: 0.9903312, COVERAGE_ITEM: 0.4802987, COVERAGE_ITEM_HIT: 0.0960597, ITEMS_IN_GT: 0.8913211, COVERAGE_USER: 0.9970199, COVERAGE_USER_HIT: 0.4528146, USERS_IN_GT: 0.9970199, DIVERSITY_GINI: 0.0640849, SHANNON_ENTROPY: 7.9418636, RATIO_DIVERSITY_HERFINDAHL: 0.9911396, RATIO_DIVERSITY_GINI: 0.1832635, RATIO_SHANNON_ENTROPY: 0.7344714, RATIO_AVERAGE_POPULARITY: 1.8950786, RATIO_NOVELTY: 0.0816460, \n",
      "\n",
      "SVD++: New best model found! Updating.\n",
      "SVD++: Epoch 15 of 100. Elapsed time 3.07 min\n",
      "SVD++: Processed 640136 (100.0%) in 11.41 sec. MSE loss 2.29E+00. Sample per second: 56115\n",
      "SVD++: Epoch 16 of 100. Elapsed time 3.25 min\n",
      "SVD++: Processed 640136 (100.0%) in 11.49 sec. MSE loss 2.18E+00. Sample per second: 55730\n",
      "SVD++: Epoch 17 of 100. Elapsed time 3.44 min\n",
      "SVD++: Processed 640136 (100.0%) in 11.75 sec. MSE loss 2.07E+00. Sample per second: 54474\n",
      "SVD++: Epoch 18 of 100. Elapsed time 3.63 min\n",
      "SVD++: Processed 640136 (100.0%) in 11.97 sec. MSE loss 1.97E+00. Sample per second: 53481\n",
      "SVD++: Epoch 19 of 100. Elapsed time 3.81 min\n",
      "SVD++: Processed 640136 (100.0%) in 12.19 sec. MSE loss 1.89E+00. Sample per second: 52534\n",
      "SVD++: Validation begins...\n",
      "EvaluatorHoldout: Processed 6022 (100.0%) in 5.39 sec. Users per second: 1117\n",
      "SVD++: CUTOFF: 10 - PRECISION: 0.0778977, PRECISION_RECALL_MIN_DEN: 0.0866700, RECALL: 0.0396684, MAP: 0.0342128, MAP_MIN_DEN: 0.0376060, MRR: 0.2079349, NDCG: 0.0721366, F1: 0.0525675, HIT_RATE: 0.4792428, ARHR_ALL_HITS: 0.2638126, NOVELTY: 0.0236833, AVERAGE_POPULARITY: 0.5653133, DIVERSITY_MEAN_INTER_LIST: 0.8774307, DIVERSITY_HERFINDAHL: 0.9877285, COVERAGE_ITEM: 0.3801185, COVERAGE_ITEM_HIT: 0.0831831, ITEMS_IN_GT: 0.8913211, COVERAGE_USER: 0.9970199, COVERAGE_USER_HIT: 0.4778146, USERS_IN_GT: 0.9970199, DIVERSITY_GINI: 0.0447772, SHANNON_ENTROPY: 7.4761920, RATIO_DIVERSITY_HERFINDAHL: 0.9885347, RATIO_DIVERSITY_GINI: 0.1280493, RATIO_SHANNON_ENTROPY: 0.6914056, RATIO_AVERAGE_POPULARITY: 2.0294415, RATIO_NOVELTY: 0.0802470, \n",
      "\n",
      "SVD++: New best model found! Updating.\n",
      "SVD++: Epoch 20 of 100. Elapsed time 4.09 min\n",
      "SVD++: Processed 640136 (100.0%) in 11.59 sec. MSE loss 1.81E+00. Sample per second: 55249\n",
      "SVD++: Epoch 21 of 100. Elapsed time 4.27 min\n",
      "SVD++: Processed 640136 (100.0%) in 11.82 sec. MSE loss 1.75E+00. Sample per second: 54166\n",
      "SVD++: Epoch 22 of 100. Elapsed time 4.46 min\n",
      "SVD++: Processed 640136 (100.0%) in 12.08 sec. MSE loss 1.69E+00. Sample per second: 52970\n",
      "SVD++: Epoch 23 of 100. Elapsed time 4.65 min\n",
      "SVD++: Processed 640136 (100.0%) in 11.35 sec. MSE loss 1.63E+00. Sample per second: 56381\n",
      "SVD++: Epoch 24 of 100. Elapsed time 4.84 min\n",
      "SVD++: Processed 640136 (100.0%) in 11.62 sec. MSE loss 1.58E+00. Sample per second: 55103\n",
      "SVD++: Validation begins...\n",
      "EvaluatorHoldout: Processed 6022 (100.0%) in 5.00 sec. Users per second: 1204\n",
      "SVD++: CUTOFF: 10 - PRECISION: 0.0824975, PRECISION_RECALL_MIN_DEN: 0.0918858, RECALL: 0.0423690, MAP: 0.0363792, MAP_MIN_DEN: 0.0399184, MRR: 0.2161129, NDCG: 0.0768617, F1: 0.0559852, HIT_RATE: 0.4965128, ARHR_ALL_HITS: 0.2771455, NOVELTY: 0.0234384, AVERAGE_POPULARITY: 0.5895519, DIVERSITY_MEAN_INTER_LIST: 0.8565121, DIVERSITY_HERFINDAHL: 0.9856370, COVERAGE_ITEM: 0.3072367, COVERAGE_ITEM_HIT: 0.0731393, ITEMS_IN_GT: 0.8913211, COVERAGE_USER: 0.9970199, COVERAGE_USER_HIT: 0.4950331, USERS_IN_GT: 0.9970199, DIVERSITY_GINI: 0.0343893, SHANNON_ENTROPY: 7.1526264, RATIO_DIVERSITY_HERFINDAHL: 0.9864415, RATIO_DIVERSITY_GINI: 0.0983431, RATIO_SHANNON_ENTROPY: 0.6614819, RATIO_AVERAGE_POPULARITY: 2.1164565, RATIO_NOVELTY: 0.0794171, \n",
      "\n",
      "SVD++: New best model found! Updating.\n",
      "SVD++: Epoch 25 of 100. Elapsed time 5.11 min\n",
      "SVD++: Processed 640136 (100.0%) in 11.88 sec. MSE loss 1.54E+00. Sample per second: 53906\n",
      "SVD++: Epoch 26 of 100. Elapsed time 5.29 min\n",
      "SVD++: Processed 640136 (100.0%) in 12.11 sec. MSE loss 1.50E+00. Sample per second: 52854\n",
      "SVD++: Epoch 27 of 100. Elapsed time 5.48 min\n"
     ]
    },
    {
     "name": "stdout",
     "output_type": "stream",
     "text": [
      "SVD++: Processed 640136 (100.0%) in 11.35 sec. MSE loss 1.46E+00. Sample per second: 56376\n",
      "SVD++: Epoch 28 of 100. Elapsed time 5.67 min\n",
      "SVD++: Processed 640136 (100.0%) in 11.64 sec. MSE loss 1.43E+00. Sample per second: 54999\n",
      "SVD++: Epoch 29 of 100. Elapsed time 5.86 min\n",
      "SVD++: Processed 640136 (100.0%) in 11.91 sec. MSE loss 1.40E+00. Sample per second: 53731\n",
      "SVD++: Validation begins...\n",
      "EvaluatorHoldout: Processed 6022 (100.0%) in 5.07 sec. Users per second: 1188\n",
      "SVD++: CUTOFF: 10 - PRECISION: 0.0850050, PRECISION_RECALL_MIN_DEN: 0.0947260, RECALL: 0.0438230, MAP: 0.0376666, MAP_MIN_DEN: 0.0412971, MRR: 0.2203700, NDCG: 0.0796162, F1: 0.0578318, HIT_RATE: 0.5034872, ARHR_ALL_HITS: 0.2847386, NOVELTY: 0.0232843, AVERAGE_POPULARITY: 0.6053961, DIVERSITY_MEAN_INTER_LIST: 0.8401284, DIVERSITY_HERFINDAHL: 0.9839989, COVERAGE_ITEM: 0.2572753, COVERAGE_ITEM_HIT: 0.0672161, ITEMS_IN_GT: 0.8913211, COVERAGE_USER: 0.9970199, COVERAGE_USER_HIT: 0.5019868, USERS_IN_GT: 0.9970199, DIVERSITY_GINI: 0.0282898, SHANNON_ENTROPY: 6.9238217, RATIO_DIVERSITY_HERFINDAHL: 0.9848021, RATIO_DIVERSITY_GINI: 0.0809002, RATIO_SHANNON_ENTROPY: 0.6403218, RATIO_AVERAGE_POPULARITY: 2.1733363, RATIO_NOVELTY: 0.0788948, \n",
      "\n",
      "SVD++: New best model found! Updating.\n",
      "SVD++: Epoch 30 of 100. Elapsed time 6.13 min\n",
      "SVD++: Processed 640136 (100.0%) in 11.23 sec. MSE loss 1.37E+00. Sample per second: 56982\n",
      "SVD++: Epoch 31 of 100. Elapsed time 6.32 min\n",
      "SVD++: Processed 640136 (100.0%) in 11.50 sec. MSE loss 1.35E+00. Sample per second: 55667\n",
      "SVD++: Epoch 32 of 100. Elapsed time 6.50 min\n",
      "SVD++: Processed 640136 (100.0%) in 11.79 sec. MSE loss 1.33E+00. Sample per second: 54296\n",
      "SVD++: Epoch 33 of 100. Elapsed time 6.69 min\n",
      "SVD++: Processed 640136 (100.0%) in 12.06 sec. MSE loss 1.31E+00. Sample per second: 53091\n",
      "SVD++: Epoch 34 of 100. Elapsed time 6.88 min\n",
      "SVD++: Processed 640136 (100.0%) in 11.31 sec. MSE loss 1.29E+00. Sample per second: 56583\n",
      "SVD++: Validation begins...\n",
      "EvaluatorHoldout: Processed 6022 (100.0%) in 4.99 sec. Users per second: 1206\n",
      "SVD++: CUTOFF: 10 - PRECISION: 0.0874626, PRECISION_RECALL_MIN_DEN: 0.0976907, RECALL: 0.0454035, MAP: 0.0387514, MAP_MIN_DEN: 0.0425032, MRR: 0.2235731, NDCG: 0.0821650, F1: 0.0597761, HIT_RATE: 0.5124543, ARHR_ALL_HITS: 0.2905885, NOVELTY: 0.0231770, AVERAGE_POPULARITY: 0.6168367, DIVERSITY_MEAN_INTER_LIST: 0.8262585, DIVERSITY_HERFINDAHL: 0.9826121, COVERAGE_ITEM: 0.2248262, COVERAGE_ITEM_HIT: 0.0630955, ITEMS_IN_GT: 0.8913211, COVERAGE_USER: 0.9970199, COVERAGE_USER_HIT: 0.5109272, USERS_IN_GT: 0.9970199, DIVERSITY_GINI: 0.0244138, SHANNON_ENTROPY: 6.7492695, RATIO_DIVERSITY_HERFINDAHL: 0.9834142, RATIO_DIVERSITY_GINI: 0.0698162, RATIO_SHANNON_ENTROPY: 0.6241791, RATIO_AVERAGE_POPULARITY: 2.2144075, RATIO_NOVELTY: 0.0785312, \n",
      "\n",
      "SVD++: New best model found! Updating.\n",
      "SVD++: Epoch 35 of 100. Elapsed time 7.15 min\n",
      "SVD++: Processed 640136 (100.0%) in 11.64 sec. MSE loss 1.27E+00. Sample per second: 54991\n",
      "SVD++: Epoch 36 of 100. Elapsed time 7.34 min\n",
      "SVD++: Processed 640136 (100.0%) in 11.96 sec. MSE loss 1.26E+00. Sample per second: 53525\n",
      "SVD++: Epoch 37 of 100. Elapsed time 7.53 min\n",
      "SVD++: Processed 640136 (100.0%) in 12.18 sec. MSE loss 1.24E+00. Sample per second: 52535\n",
      "SVD++: Epoch 38 of 100. Elapsed time 7.72 min\n",
      "SVD++: Processed 640136 (100.0%) in 11.41 sec. MSE loss 1.23E+00. Sample per second: 56097\n",
      "SVD++: Epoch 39 of 100. Elapsed time 7.90 min\n",
      "SVD++: Processed 640136 (100.0%) in 11.63 sec. MSE loss 1.22E+00. Sample per second: 55054\n",
      "SVD++: Validation begins...\n",
      "EvaluatorHoldout: Processed 6022 (100.0%) in 4.92 sec. Users per second: 1223\n",
      "SVD++: CUTOFF: 10 - PRECISION: 0.0885918, PRECISION_RECALL_MIN_DEN: 0.0988195, RECALL: 0.0458652, MAP: 0.0394481, MAP_MIN_DEN: 0.0432548, MRR: 0.2262311, NDCG: 0.0838654, F1: 0.0604399, HIT_RATE: 0.5164397, ARHR_ALL_HITS: 0.2948282, NOVELTY: 0.0231032, AVERAGE_POPULARITY: 0.6250265, DIVERSITY_MEAN_INTER_LIST: 0.8139498, DIVERSITY_HERFINDAHL: 0.9813815, COVERAGE_ITEM: 0.2019057, COVERAGE_ITEM_HIT: 0.0589750, ITEMS_IN_GT: 0.8913211, COVERAGE_USER: 0.9970199, COVERAGE_USER_HIT: 0.5149007, USERS_IN_GT: 0.9970199, DIVERSITY_GINI: 0.0217550, SHANNON_ENTROPY: 6.6094515, RATIO_DIVERSITY_HERFINDAHL: 0.9821825, RATIO_DIVERSITY_GINI: 0.0622127, RATIO_SHANNON_ENTROPY: 0.6112486, RATIO_AVERAGE_POPULARITY: 2.2438084, RATIO_NOVELTY: 0.0782813, \n",
      "\n",
      "SVD++: New best model found! Updating.\n",
      "SVD++: Epoch 40 of 100. Elapsed time 8.17 min\n",
      "SVD++: Processed 640136 (100.0%) in 11.85 sec. MSE loss 1.21E+00. Sample per second: 54008\n",
      "SVD++: Epoch 41 of 100. Elapsed time 8.36 min\n",
      "SVD++: Processed 640136 (100.0%) in 12.09 sec. MSE loss 1.20E+00. Sample per second: 52945\n",
      "SVD++: Epoch 42 of 100. Elapsed time 8.55 min\n",
      "SVD++: Processed 640136 (100.0%) in 11.32 sec. MSE loss 1.19E+00. Sample per second: 56540\n",
      "SVD++: Epoch 43 of 100. Elapsed time 8.74 min\n",
      "SVD++: Processed 640136 (100.0%) in 11.59 sec. MSE loss 1.18E+00. Sample per second: 55254\n",
      "SVD++: Epoch 44 of 100. Elapsed time 8.92 min\n",
      "SVD++: Processed 640136 (100.0%) in 11.84 sec. MSE loss 1.17E+00. Sample per second: 54063\n",
      "SVD++: Validation begins...\n",
      "EvaluatorHoldout: Processed 6022 (100.0%) in 4.92 sec. Users per second: 1223\n",
      "SVD++: CUTOFF: 10 - PRECISION: 0.0895051, PRECISION_RECALL_MIN_DEN: 0.0997457, RECALL: 0.0462206, MAP: 0.0398622, MAP_MIN_DEN: 0.0436615, MRR: 0.2266842, NDCG: 0.0848935, F1: 0.0609609, HIT_RATE: 0.5199269, ARHR_ALL_HITS: 0.2967082, NOVELTY: 0.0230542, AVERAGE_POPULARITY: 0.6306923, DIVERSITY_MEAN_INTER_LIST: 0.8038949, DIVERSITY_HERFINDAHL: 0.9803761, COVERAGE_ITEM: 0.1859387, COVERAGE_ITEM_HIT: 0.0566572, ITEMS_IN_GT: 0.8913211, COVERAGE_USER: 0.9970199, COVERAGE_USER_HIT: 0.5183775, USERS_IN_GT: 0.9970199, DIVERSITY_GINI: 0.0199303, SHANNON_ENTROPY: 6.5040299, RATIO_DIVERSITY_HERFINDAHL: 0.9811764, RATIO_DIVERSITY_GINI: 0.0569946, RATIO_SHANNON_ENTROPY: 0.6014991, RATIO_AVERAGE_POPULARITY: 2.2641482, RATIO_NOVELTY: 0.0781153, \n",
      "\n",
      "SVD++: New best model found! Updating.\n",
      "SVD++: Epoch 45 of 100. Elapsed time 9.19 min\n",
      "SVD++: Processed 640136 (100.0%) in 12.05 sec. MSE loss 1.17E+00. Sample per second: 53139\n",
      "SVD++: Epoch 46 of 100. Elapsed time 9.38 min\n",
      "SVD++: Processed 640136 (100.0%) in 11.24 sec. MSE loss 1.16E+00. Sample per second: 56963\n",
      "SVD++: Epoch 47 of 100. Elapsed time 9.57 min\n",
      "SVD++: Processed 640136 (100.0%) in 11.44 sec. MSE loss 1.15E+00. Sample per second: 55942\n",
      "SVD++: Epoch 48 of 100. Elapsed time 9.75 min\n",
      "SVD++: Processed 640136 (100.0%) in 11.70 sec. MSE loss 1.14E+00. Sample per second: 54719\n",
      "SVD++: Epoch 49 of 100. Elapsed time 9.94 min\n",
      "SVD++: Processed 640136 (100.0%) in 11.93 sec. MSE loss 1.14E+00. Sample per second: 53649\n",
      "SVD++: Validation begins...\n",
      "EvaluatorHoldout: Processed 6022 (100.0%) in 5.00 sec. Users per second: 1204\n",
      "SVD++: CUTOFF: 10 - PRECISION: 0.0900365, PRECISION_RECALL_MIN_DEN: 0.1002461, RECALL: 0.0464964, MAP: 0.0402465, MAP_MIN_DEN: 0.0440658, MRR: 0.2278598, NDCG: 0.0858156, F1: 0.0613240, HIT_RATE: 0.5210893, ARHR_ALL_HITS: 0.2990064, NOVELTY: 0.0230166, AVERAGE_POPULARITY: 0.6348782, DIVERSITY_MEAN_INTER_LIST: 0.7953564, DIVERSITY_HERFINDAHL: 0.9795224, COVERAGE_ITEM: 0.1730621, COVERAGE_ITEM_HIT: 0.0535668, ITEMS_IN_GT: 0.8913211, COVERAGE_USER: 0.9970199, COVERAGE_USER_HIT: 0.5195364, USERS_IN_GT: 0.9970199, DIVERSITY_GINI: 0.0185363, SHANNON_ENTROPY: 6.4178496, RATIO_DIVERSITY_HERFINDAHL: 0.9803220, RATIO_DIVERSITY_GINI: 0.0530082, RATIO_SHANNON_ENTROPY: 0.5935290, RATIO_AVERAGE_POPULARITY: 2.2791755, RATIO_NOVELTY: 0.0779880, \n",
      "\n",
      "SVD++: New best model found! Updating.\n",
      "SVD++: Epoch 50 of 100. Elapsed time 10.21 min\n",
      "SVD++: Processed 640136 (100.0%) in 12.22 sec. MSE loss 1.13E+00. Sample per second: 52393\n",
      "SVD++: Epoch 51 of 100. Elapsed time 10.40 min\n",
      "SVD++: Processed 640136 (100.0%) in 11.48 sec. MSE loss 1.13E+00. Sample per second: 55762\n",
      "SVD++: Epoch 52 of 100. Elapsed time 10.59 min\n",
      "SVD++: Processed 640136 (100.0%) in 11.72 sec. MSE loss 1.13E+00. Sample per second: 54604\n",
      "SVD++: Epoch 53 of 100. Elapsed time 10.78 min\n",
      "SVD++: Processed 640136 (100.0%) in 11.99 sec. MSE loss 1.12E+00. Sample per second: 53399\n",
      "SVD++: Epoch 54 of 100. Elapsed time 10.96 min\n",
      "SVD++: Processed 640136 (100.0%) in 11.97 sec. MSE loss 1.12E+00. Sample per second: 53467\n"
     ]
    },
    {
     "name": "stdout",
     "output_type": "stream",
     "text": [
      "SVD++: Validation begins...\n",
      "EvaluatorHoldout: Processed 6022 (100.0%) in 5.41 sec. Users per second: 1114\n",
      "SVD++: CUTOFF: 10 - PRECISION: 0.0907838, PRECISION_RECALL_MIN_DEN: 0.1010447, RECALL: 0.0467171, MAP: 0.0405974, MAP_MIN_DEN: 0.0444262, MRR: 0.2278645, NDCG: 0.0865591, F1: 0.0616891, HIT_RATE: 0.5214215, ARHR_ALL_HITS: 0.3003027, NOVELTY: 0.0229890, AVERAGE_POPULARITY: 0.6380036, DIVERSITY_MEAN_INTER_LIST: 0.7874778, DIVERSITY_HERFINDAHL: 0.9787347, COVERAGE_ITEM: 0.1601854, COVERAGE_ITEM_HIT: 0.0517641, ITEMS_IN_GT: 0.8913211, COVERAGE_USER: 0.9970199, COVERAGE_USER_HIT: 0.5198675, USERS_IN_GT: 0.9970199, DIVERSITY_GINI: 0.0173793, SHANNON_ENTROPY: 6.3415478, RATIO_DIVERSITY_HERFINDAHL: 0.9795336, RATIO_DIVERSITY_GINI: 0.0496995, RATIO_SHANNON_ENTROPY: 0.5864726, RATIO_AVERAGE_POPULARITY: 2.2903955, RATIO_NOVELTY: 0.0778942, \n",
      "\n",
      "SVD++: New best model found! Updating.\n",
      "SVD++: Epoch 55 of 100. Elapsed time 11.24 min\n",
      "SVD++: Processed 640136 (100.0%) in 11.66 sec. MSE loss 1.11E+00. Sample per second: 54886\n",
      "SVD++: Epoch 56 of 100. Elapsed time 11.42 min\n",
      "SVD++: Processed 640136 (100.0%) in 11.88 sec. MSE loss 1.11E+00. Sample per second: 53891\n",
      "SVD++: Epoch 57 of 100. Elapsed time 11.61 min\n",
      "SVD++: Processed 640136 (100.0%) in 12.09 sec. MSE loss 1.11E+00. Sample per second: 52931\n",
      "SVD++: Epoch 58 of 100. Elapsed time 11.80 min\n",
      "SVD++: Processed 640136 (100.0%) in 11.14 sec. MSE loss 1.10E+00. Sample per second: 57455\n",
      "SVD++: Epoch 59 of 100. Elapsed time 11.98 min\n",
      "SVD++: Processed 640136 (100.0%) in 11.23 sec. MSE loss 1.10E+00. Sample per second: 57025\n",
      "SVD++: Validation begins...\n",
      "EvaluatorHoldout: Processed 6022 (100.0%) in 5.72 sec. Users per second: 1054\n",
      "SVD++: CUTOFF: 10 - PRECISION: 0.0916639, PRECISION_RECALL_MIN_DEN: 0.1020692, RECALL: 0.0472402, MAP: 0.0410174, MAP_MIN_DEN: 0.0448687, MRR: 0.2290285, NDCG: 0.0875225, F1: 0.0623483, HIT_RATE: 0.5237463, ARHR_ALL_HITS: 0.3025448, NOVELTY: 0.0229685, AVERAGE_POPULARITY: 0.6402631, DIVERSITY_MEAN_INTER_LIST: 0.7805828, DIVERSITY_HERFINDAHL: 0.9780453, COVERAGE_ITEM: 0.1524594, COVERAGE_ITEM_HIT: 0.0497038, ITEMS_IN_GT: 0.8913211, COVERAGE_USER: 0.9970199, COVERAGE_USER_HIT: 0.5221854, USERS_IN_GT: 0.9970199, DIVERSITY_GINI: 0.0165303, SHANNON_ENTROPY: 6.2797162, RATIO_DIVERSITY_HERFINDAHL: 0.9788437, RATIO_DIVERSITY_GINI: 0.0472716, RATIO_SHANNON_ENTROPY: 0.5807543, RATIO_AVERAGE_POPULARITY: 2.2985070, RATIO_NOVELTY: 0.0778249, \n",
      "\n",
      "SVD++: New best model found! Updating.\n",
      "SVD++: Epoch 60 of 100. Elapsed time 12.26 min\n",
      "SVD++: Processed 640136 (100.0%) in 12.26 sec. MSE loss 1.10E+00. Sample per second: 52192\n",
      "SVD++: Epoch 61 of 100. Elapsed time 12.45 min\n",
      "SVD++: Processed 640136 (100.0%) in 11.51 sec. MSE loss 1.10E+00. Sample per second: 55597\n",
      "SVD++: Epoch 62 of 100. Elapsed time 12.64 min\n",
      "SVD++: Processed 640136 (100.0%) in 11.57 sec. MSE loss 1.10E+00. Sample per second: 55328\n",
      "SVD++: Epoch 63 of 100. Elapsed time 12.82 min\n",
      "SVD++: Processed 640136 (100.0%) in 11.70 sec. MSE loss 1.09E+00. Sample per second: 54696\n",
      "SVD++: Epoch 64 of 100. Elapsed time 13.01 min\n",
      "SVD++: Processed 640136 (100.0%) in 11.97 sec. MSE loss 1.09E+00. Sample per second: 53483\n",
      "SVD++: Validation begins...\n",
      "EvaluatorHoldout: Processed 6022 (100.0%) in 5.53 sec. Users per second: 1090\n",
      "SVD++: CUTOFF: 10 - PRECISION: 0.0923115, PRECISION_RECALL_MIN_DEN: 0.1027479, RECALL: 0.0475326, MAP: 0.0413210, MAP_MIN_DEN: 0.0451458, MRR: 0.2298252, NDCG: 0.0880940, F1: 0.0627528, HIT_RATE: 0.5250747, ARHR_ALL_HITS: 0.3043302, NOVELTY: 0.0229512, AVERAGE_POPULARITY: 0.6421481, DIVERSITY_MEAN_INTER_LIST: 0.7740263, DIVERSITY_HERFINDAHL: 0.9773898, COVERAGE_ITEM: 0.1431883, COVERAGE_ITEM_HIT: 0.0497038, ITEMS_IN_GT: 0.8913211, COVERAGE_USER: 0.9970199, COVERAGE_USER_HIT: 0.5235099, USERS_IN_GT: 0.9970199, DIVERSITY_GINI: 0.0157655, SHANNON_ENTROPY: 6.2222886, RATIO_DIVERSITY_HERFINDAHL: 0.9781876, RATIO_DIVERSITY_GINI: 0.0450844, RATIO_SHANNON_ENTROPY: 0.5754434, RATIO_AVERAGE_POPULARITY: 2.3052738, RATIO_NOVELTY: 0.0777661, \n",
      "\n",
      "SVD++: New best model found! Updating.\n",
      "SVD++: Epoch 65 of 100. Elapsed time 13.29 min\n",
      "SVD++: Processed 640136 (100.0%) in 11.78 sec. MSE loss 1.09E+00. Sample per second: 54354\n",
      "SVD++: Epoch 66 of 100. Elapsed time 13.48 min\n",
      "SVD++: Processed 640136 (100.0%) in 11.85 sec. MSE loss 1.09E+00. Sample per second: 54012\n",
      "SVD++: Epoch 67 of 100. Elapsed time 13.66 min\n",
      "SVD++: Processed 640136 (100.0%) in 11.99 sec. MSE loss 1.08E+00. Sample per second: 53405\n",
      "SVD++: Epoch 68 of 100. Elapsed time 13.85 min\n",
      "SVD++: Processed 640136 (100.0%) in 12.24 sec. MSE loss 1.08E+00. Sample per second: 52299\n",
      "SVD++: Epoch 69 of 100. Elapsed time 14.03 min\n",
      "SVD++: Processed 640136 (100.0%) in 11.49 sec. MSE loss 1.08E+00. Sample per second: 55689\n",
      "SVD++: Validation begins...\n",
      "EvaluatorHoldout: Processed 6022 (100.0%) in 5.61 sec. Users per second: 1074\n",
      "SVD++: CUTOFF: 10 - PRECISION: 0.0928429, PRECISION_RECALL_MIN_DEN: 0.1034652, RECALL: 0.0480156, MAP: 0.0413911, MAP_MIN_DEN: 0.0452214, MRR: 0.2295751, NDCG: 0.0886183, F1: 0.0632962, HIT_RATE: 0.5272335, ARHR_ALL_HITS: 0.3042999, NOVELTY: 0.0229404, AVERAGE_POPULARITY: 0.6432356, DIVERSITY_MEAN_INTER_LIST: 0.7684099, DIVERSITY_HERFINDAHL: 0.9768282, COVERAGE_ITEM: 0.1364924, COVERAGE_ITEM_HIT: 0.0491888, ITEMS_IN_GT: 0.8913211, COVERAGE_USER: 0.9970199, COVERAGE_USER_HIT: 0.5256623, USERS_IN_GT: 0.9970199, DIVERSITY_GINI: 0.0151808, SHANNON_ENTROPY: 6.1754560, RATIO_DIVERSITY_HERFINDAHL: 0.9776256, RATIO_DIVERSITY_GINI: 0.0434124, RATIO_SHANNON_ENTROPY: 0.5711123, RATIO_AVERAGE_POPULARITY: 2.3091778, RATIO_NOVELTY: 0.0777296, \n",
      "\n",
      "SVD++: New best model found! Updating.\n",
      "SVD++: Epoch 70 of 100. Elapsed time 14.32 min\n",
      "SVD++: Processed 640136 (100.0%) in 11.18 sec. MSE loss 1.08E+00. Sample per second: 57274\n",
      "SVD++: Epoch 71 of 100. Elapsed time 14.50 min\n",
      "SVD++: Processed 640136 (100.0%) in 11.29 sec. MSE loss 1.08E+00. Sample per second: 56677\n",
      "SVD++: Epoch 72 of 100. Elapsed time 14.68 min\n",
      "SVD++: Processed 640136 (100.0%) in 11.56 sec. MSE loss 1.07E+00. Sample per second: 55397\n",
      "SVD++: Epoch 73 of 100. Elapsed time 14.87 min\n",
      "SVD++: Processed 640136 (100.0%) in 11.91 sec. MSE loss 1.08E+00. Sample per second: 53763\n",
      "SVD++: Epoch 74 of 100. Elapsed time 15.06 min\n",
      "SVD++: Processed 640136 (100.0%) in 12.14 sec. MSE loss 1.07E+00. Sample per second: 52731\n",
      "SVD++: Validation begins...\n",
      "EvaluatorHoldout: Processed 6022 (100.0%) in 5.28 sec. Users per second: 1140\n",
      "SVD++: CUTOFF: 10 - PRECISION: 0.0931086, PRECISION_RECALL_MIN_DEN: 0.1036449, RECALL: 0.0479943, MAP: 0.0415199, MAP_MIN_DEN: 0.0453509, MRR: 0.2300845, NDCG: 0.0890502, F1: 0.0633393, HIT_RATE: 0.5287280, ARHR_ALL_HITS: 0.3051082, NOVELTY: 0.0229321, AVERAGE_POPULARITY: 0.6440049, DIVERSITY_MEAN_INTER_LIST: 0.7632956, DIVERSITY_HERFINDAHL: 0.9763169, COVERAGE_ITEM: 0.1279938, COVERAGE_ITEM_HIT: 0.0491888, ITEMS_IN_GT: 0.8913211, COVERAGE_USER: 0.9970199, COVERAGE_USER_HIT: 0.5271523, USERS_IN_GT: 0.9970199, DIVERSITY_GINI: 0.0146620, SHANNON_ENTROPY: 6.1330964, RATIO_DIVERSITY_HERFINDAHL: 0.9771138, RATIO_DIVERSITY_GINI: 0.0419289, RATIO_SHANNON_ENTROPY: 0.5671948, RATIO_AVERAGE_POPULARITY: 2.3119395, RATIO_NOVELTY: 0.0777016, \n",
      "\n",
      "SVD++: New best model found! Updating.\n",
      "SVD++: Epoch 75 of 100. Elapsed time 15.34 min\n",
      "SVD++: Processed 640136 (100.0%) in 11.48 sec. MSE loss 1.07E+00. Sample per second: 55785\n",
      "SVD++: Epoch 76 of 100. Elapsed time 15.52 min\n",
      "SVD++: Processed 640136 (100.0%) in 11.72 sec. MSE loss 1.07E+00. Sample per second: 54629\n",
      "SVD++: Epoch 77 of 100. Elapsed time 15.71 min\n",
      "SVD++: Processed 640136 (100.0%) in 12.00 sec. MSE loss 1.06E+00. Sample per second: 53335\n",
      "SVD++: Epoch 78 of 100. Elapsed time 15.90 min\n",
      "SVD++: Processed 640136 (100.0%) in 11.26 sec. MSE loss 1.07E+00. Sample per second: 56862\n",
      "SVD++: Epoch 79 of 100. Elapsed time 16.08 min\n",
      "SVD++: Processed 640136 (100.0%) in 11.53 sec. MSE loss 1.06E+00. Sample per second: 55503\n",
      "SVD++: Validation begins...\n",
      "EvaluatorHoldout: Processed 6022 (100.0%) in 5.00 sec. Users per second: 1204\n",
      "SVD++: CUTOFF: 10 - PRECISION: 0.0935902, PRECISION_RECALL_MIN_DEN: 0.1041684, RECALL: 0.0483354, MAP: 0.0416690, MAP_MIN_DEN: 0.0454699, MRR: 0.2304342, NDCG: 0.0895604, F1: 0.0637478, HIT_RATE: 0.5312189, ARHR_ALL_HITS: 0.3058249, NOVELTY: 0.0229237, AVERAGE_POPULARITY: 0.6448899, DIVERSITY_MEAN_INTER_LIST: 0.7579450, DIVERSITY_HERFINDAHL: 0.9757819, COVERAGE_ITEM: 0.1236158, COVERAGE_ITEM_HIT: 0.0476436, ITEMS_IN_GT: 0.8913211, COVERAGE_USER: 0.9970199, COVERAGE_USER_HIT: 0.5296358, USERS_IN_GT: 0.9970199, DIVERSITY_GINI: 0.0142091, SHANNON_ENTROPY: 6.0918818, RATIO_DIVERSITY_HERFINDAHL: 0.9765784, RATIO_DIVERSITY_GINI: 0.0406337, RATIO_SHANNON_ENTROPY: 0.5633832, RATIO_AVERAGE_POPULARITY: 2.3151167, RATIO_NOVELTY: 0.0776730, \n",
      "\n",
      "SVD++: New best model found! Updating.\n",
      "SVD++: Epoch 80 of 100. Elapsed time 16.36 min\n"
     ]
    },
    {
     "name": "stdout",
     "output_type": "stream",
     "text": [
      "SVD++: Processed 640136 (100.0%) in 11.80 sec. MSE loss 1.06E+00. Sample per second: 54238\n",
      "SVD++: Epoch 81 of 100. Elapsed time 16.54 min\n",
      "SVD++: Processed 640136 (100.0%) in 12.02 sec. MSE loss 1.06E+00. Sample per second: 53243\n",
      "SVD++: Epoch 82 of 100. Elapsed time 16.73 min\n",
      "SVD++: Processed 640136 (100.0%) in 11.24 sec. MSE loss 1.06E+00. Sample per second: 56955\n",
      "SVD++: Epoch 83 of 100. Elapsed time 16.92 min\n",
      "SVD++: Processed 640136 (100.0%) in 11.50 sec. MSE loss 1.06E+00. Sample per second: 55647\n",
      "SVD++: Epoch 84 of 100. Elapsed time 17.10 min\n",
      "SVD++: Processed 640136 (100.0%) in 11.79 sec. MSE loss 1.06E+00. Sample per second: 54300\n",
      "SVD++: Validation begins...\n",
      "EvaluatorHoldout: Processed 6022 (100.0%) in 4.96 sec. Users per second: 1213\n",
      "SVD++: CUTOFF: 10 - PRECISION: 0.0939721, PRECISION_RECALL_MIN_DEN: 0.1045983, RECALL: 0.0484897, MAP: 0.0418220, MAP_MIN_DEN: 0.0456624, MRR: 0.2304916, NDCG: 0.0900260, F1: 0.0639706, HIT_RATE: 0.5320492, ARHR_ALL_HITS: 0.3062486, NOVELTY: 0.0229206, AVERAGE_POPULARITY: 0.6451253, DIVERSITY_MEAN_INTER_LIST: 0.7535970, DIVERSITY_HERFINDAHL: 0.9753472, COVERAGE_ITEM: 0.1197528, COVERAGE_ITEM_HIT: 0.0468710, ITEMS_IN_GT: 0.8913211, COVERAGE_USER: 0.9970199, COVERAGE_USER_HIT: 0.5304636, USERS_IN_GT: 0.9970199, DIVERSITY_GINI: 0.0138354, SHANNON_ENTROPY: 6.0577405, RATIO_DIVERSITY_HERFINDAHL: 0.9761433, RATIO_DIVERSITY_GINI: 0.0395650, RATIO_SHANNON_ENTROPY: 0.5602258, RATIO_AVERAGE_POPULARITY: 2.3159617, RATIO_NOVELTY: 0.0776625, \n",
      "\n",
      "SVD++: New best model found! Updating.\n",
      "SVD++: Epoch 85 of 100. Elapsed time 17.38 min\n",
      "SVD++: Processed 640136 (100.0%) in 12.02 sec. MSE loss 1.06E+00. Sample per second: 53271\n",
      "SVD++: Epoch 86 of 100. Elapsed time 17.56 min\n",
      "SVD++: Processed 640136 (100.0%) in 11.25 sec. MSE loss 1.05E+00. Sample per second: 56910\n",
      "SVD++: Epoch 87 of 100. Elapsed time 17.75 min\n",
      "SVD++: Processed 640136 (100.0%) in 11.48 sec. MSE loss 1.05E+00. Sample per second: 55749\n",
      "SVD++: Epoch 88 of 100. Elapsed time 17.94 min\n",
      "SVD++: Processed 640136 (100.0%) in 11.73 sec. MSE loss 1.05E+00. Sample per second: 54580\n",
      "SVD++: Epoch 89 of 100. Elapsed time 18.13 min\n",
      "SVD++: Processed 640136 (100.0%) in 11.94 sec. MSE loss 1.05E+00. Sample per second: 53596\n",
      "SVD++: Validation begins...\n",
      "EvaluatorHoldout: Processed 6022 (100.0%) in 4.96 sec. Users per second: 1214\n",
      "SVD++: CUTOFF: 10 - PRECISION: 0.0942046, PRECISION_RECALL_MIN_DEN: 0.1047908, RECALL: 0.0485741, MAP: 0.0419600, MAP_MIN_DEN: 0.0458302, MRR: 0.2309052, NDCG: 0.0904983, F1: 0.0640979, HIT_RATE: 0.5335437, ARHR_ALL_HITS: 0.3070821, NOVELTY: 0.0229182, AVERAGE_POPULARITY: 0.6452841, DIVERSITY_MEAN_INTER_LIST: 0.7493477, DIVERSITY_HERFINDAHL: 0.9749223, COVERAGE_ITEM: 0.1161473, COVERAGE_ITEM_HIT: 0.0463559, ITEMS_IN_GT: 0.8913211, COVERAGE_USER: 0.9970199, COVERAGE_USER_HIT: 0.5319536, USERS_IN_GT: 0.9970199, DIVERSITY_GINI: 0.0135022, SHANNON_ENTROPY: 6.0261629, RATIO_DIVERSITY_HERFINDAHL: 0.9757181, RATIO_DIVERSITY_GINI: 0.0386123, RATIO_SHANNON_ENTROPY: 0.5573055, RATIO_AVERAGE_POPULARITY: 2.3165320, RATIO_NOVELTY: 0.0776546, \n",
      "\n",
      "SVD++: New best model found! Updating.\n",
      "SVD++: Epoch 90 of 100. Elapsed time 18.40 min\n",
      "SVD++: Processed 640136 (100.0%) in 12.14 sec. MSE loss 1.05E+00. Sample per second: 52736\n",
      "SVD++: Epoch 91 of 100. Elapsed time 18.58 min\n",
      "SVD++: Processed 640136 (100.0%) in 11.37 sec. MSE loss 1.05E+00. Sample per second: 56298\n",
      "SVD++: Epoch 92 of 100. Elapsed time 18.77 min\n",
      "SVD++: Processed 640136 (100.0%) in 11.61 sec. MSE loss 1.05E+00. Sample per second: 55151\n",
      "SVD++: Epoch 93 of 100. Elapsed time 18.96 min\n",
      "SVD++: Processed 640136 (100.0%) in 11.89 sec. MSE loss 1.05E+00. Sample per second: 53829\n",
      "SVD++: Epoch 94 of 100. Elapsed time 19.14 min\n",
      "SVD++: Processed 640136 (100.0%) in 12.14 sec. MSE loss 1.04E+00. Sample per second: 52743\n",
      "SVD++: Validation begins...\n",
      "EvaluatorHoldout: Processed 6022 (100.0%) in 4.96 sec. Users per second: 1213\n",
      "SVD++: CUTOFF: 10 - PRECISION: 0.0944869, PRECISION_RECALL_MIN_DEN: 0.1050464, RECALL: 0.0485956, MAP: 0.0420363, MAP_MIN_DEN: 0.0458651, MRR: 0.2304391, NDCG: 0.0907083, F1: 0.0641818, HIT_RATE: 0.5327134, ARHR_ALL_HITS: 0.3070213, NOVELTY: 0.0229152, AVERAGE_POPULARITY: 0.6455188, DIVERSITY_MEAN_INTER_LIST: 0.7454427, DIVERSITY_HERFINDAHL: 0.9745319, COVERAGE_ITEM: 0.1120268, COVERAGE_ITEM_HIT: 0.0448107, ITEMS_IN_GT: 0.8913211, COVERAGE_USER: 0.9970199, COVERAGE_USER_HIT: 0.5311258, USERS_IN_GT: 0.9970199, DIVERSITY_GINI: 0.0131709, SHANNON_ENTROPY: 5.9953094, RATIO_DIVERSITY_HERFINDAHL: 0.9753274, RATIO_DIVERSITY_GINI: 0.0376649, RATIO_SHANNON_ENTROPY: 0.5544521, RATIO_AVERAGE_POPULARITY: 2.3173745, RATIO_NOVELTY: 0.0776442, \n",
      "\n",
      "SVD++: New best model found! Updating.\n",
      "SVD++: Epoch 95 of 100. Elapsed time 19.42 min\n",
      "SVD++: Processed 640136 (100.0%) in 11.38 sec. MSE loss 1.05E+00. Sample per second: 56239\n",
      "SVD++: Epoch 96 of 100. Elapsed time 19.60 min\n",
      "SVD++: Processed 640136 (100.0%) in 11.63 sec. MSE loss 1.05E+00. Sample per second: 55054\n",
      "SVD++: Epoch 97 of 100. Elapsed time 19.79 min\n",
      "SVD++: Processed 640136 (100.0%) in 11.88 sec. MSE loss 1.04E+00. Sample per second: 53874\n",
      "SVD++: Epoch 98 of 100. Elapsed time 19.98 min\n",
      "SVD++: Processed 640136 (100.0%) in 12.13 sec. MSE loss 1.04E+00. Sample per second: 52786\n",
      "SVD++: Epoch 99 of 100. Elapsed time 20.17 min\n",
      "SVD++: Processed 640136 (100.0%) in 11.39 sec. MSE loss 1.04E+00. Sample per second: 56191\n",
      "SVD++: Validation begins...\n",
      "EvaluatorHoldout: Processed 6022 (100.0%) in 5.01 sec. Users per second: 1201\n",
      "SVD++: CUTOFF: 10 - PRECISION: 0.0947028, PRECISION_RECALL_MIN_DEN: 0.1052474, RECALL: 0.0486828, MAP: 0.0420283, MAP_MIN_DEN: 0.0458352, MRR: 0.2297749, NDCG: 0.0908620, F1: 0.0643077, HIT_RATE: 0.5335437, ARHR_ALL_HITS: 0.3065706, NOVELTY: 0.0229149, AVERAGE_POPULARITY: 0.6453296, DIVERSITY_MEAN_INTER_LIST: 0.7419088, DIVERSITY_HERFINDAHL: 0.9741786, COVERAGE_ITEM: 0.1073912, COVERAGE_ITEM_HIT: 0.0440381, ITEMS_IN_GT: 0.8913211, COVERAGE_USER: 0.9970199, COVERAGE_USER_HIT: 0.5319536, USERS_IN_GT: 0.9970199, DIVERSITY_GINI: 0.0128996, SHANNON_ENTROPY: 5.9695720, RATIO_DIVERSITY_HERFINDAHL: 0.9749737, RATIO_DIVERSITY_GINI: 0.0368890, RATIO_SHANNON_ENTROPY: 0.5520719, RATIO_AVERAGE_POPULARITY: 2.3166953, RATIO_NOVELTY: 0.0776432, \n",
      "\n",
      "SVD++: Epoch 100 of 100. Elapsed time 20.44 min\n",
      "SVD++: Terminating at epoch 100. Best value for 'MAP' at epoch 95 is 0.0420. Elapsed time 20.44 min\n",
      "EvaluatorHoldout: Processed 6022 (100.0%) in 5.55 sec. Users per second: 1084\n"
     ]
    },
    {
     "name": "stderr",
     "output_type": "stream",
     "text": [
      "[I 2023-11-23 14:22:32,989] Trial 8 finished with value: 0.04203628362670208 and parameters: {'num_factors': 78, 'sgd_mode': 'adagrad', 'batch_size': 4, 'item_reg': 0.004534566274149669, 'user_reg': 3.1266538939390195e-05, 'learning_rate': 0.0009828105483142158}. Best is trial 3 with value: 0.04762713305182601.\n"
     ]
    },
    {
     "name": "stdout",
     "output_type": "stream",
     "text": [
      "MatrixFactorization_SVDpp_Cython_Recommender: URM Detected 226 ( 5.8%) items with no interactions.\n",
      "SVD++: Processed 640160 (100.0%) in 3.18 sec. MSE loss 4.50E+00. Sample per second: 201467\n",
      "SVD++: Epoch 1 of 100. Elapsed time 3.11 sec\n",
      "SVD++: Processed 640160 (100.0%) in 4.17 sec. MSE loss 1.28E+00. Sample per second: 153373\n",
      "SVD++: Epoch 2 of 100. Elapsed time 7.11 sec\n",
      "SVD++: Processed 640160 (100.0%) in 3.69 sec. MSE loss 1.23E+00. Sample per second: 173626\n",
      "SVD++: Epoch 3 of 100. Elapsed time 10.62 sec\n",
      "SVD++: Processed 640160 (100.0%) in 4.23 sec. MSE loss 1.23E+00. Sample per second: 151206\n",
      "SVD++: Epoch 4 of 100. Elapsed time 14.17 sec\n",
      "SVD++: Processed 640160 (100.0%) in 4.20 sec. MSE loss 1.23E+00. Sample per second: 152430\n",
      "SVD++: Validation begins...\n",
      "EvaluatorHoldout: Processed 6022 (100.0%) in 4.75 sec. Users per second: 1267\n",
      "SVD++: CUTOFF: 10 - PRECISION: 0.0098804, PRECISION_RECALL_MIN_DEN: 0.0107281, RECALL: 0.0042535, MAP: 0.0032094, MAP_MIN_DEN: 0.0034635, MRR: 0.0296809, NDCG: 0.0068233, F1: 0.0059469, HIT_RATE: 0.0913318, ARHR_ALL_HITS: 0.0308698, NOVELTY: 0.0318535, AVERAGE_POPULARITY: 0.0861123, DIVERSITY_MEAN_INTER_LIST: 0.9957605, DIVERSITY_HERFINDAHL: 0.9995595, COVERAGE_ITEM: 0.9778522, COVERAGE_ITEM_HIT: 0.0994077, ITEMS_IN_GT: 0.8913211, COVERAGE_USER: 0.9970199, COVERAGE_USER_HIT: 0.0910596, USERS_IN_GT: 0.9970199, DIVERSITY_GINI: 0.5645987, SHANNON_ENTROPY: 11.4646595, RATIO_DIVERSITY_HERFINDAHL: 1.0003754, RATIO_DIVERSITY_GINI: 1.6145818, RATIO_SHANNON_ENTROPY: 1.0602630, RATIO_AVERAGE_POPULARITY: 0.3091383, RATIO_NOVELTY: 0.1079301, \n",
      "\n",
      "SVD++: New best model found! Updating.\n",
      "SVD++: Epoch 5 of 100. Elapsed time 22.90 sec\n",
      "SVD++: Processed 640160 (100.0%) in 4.81 sec. MSE loss 1.23E+00. Sample per second: 133125\n",
      "SVD++: Epoch 6 of 100. Elapsed time 26.74 sec\n",
      "SVD++: Processed 640160 (100.0%) in 4.52 sec. MSE loss 1.23E+00. Sample per second: 141508\n",
      "SVD++: Epoch 7 of 100. Elapsed time 30.46 sec\n",
      "SVD++: Processed 640160 (100.0%) in 3.67 sec. MSE loss 1.23E+00. Sample per second: 174079\n",
      "SVD++: Epoch 8 of 100. Elapsed time 33.61 sec\n",
      "SVD++: Processed 640160 (100.0%) in 4.67 sec. MSE loss 1.23E+00. Sample per second: 137209\n",
      "SVD++: Epoch 9 of 100. Elapsed time 37.60 sec\n",
      "SVD++: Processed 640160 (100.0%) in 4.03 sec. MSE loss 1.23E+00. Sample per second: 158524\n",
      "SVD++: Validation begins...\n",
      "EvaluatorHoldout: Processed 6022 (100.0%) in 5.22 sec. Users per second: 1154\n",
      "SVD++: CUTOFF: 10 - PRECISION: 0.0118067, PRECISION_RECALL_MIN_DEN: 0.0129252, RECALL: 0.0052654, MAP: 0.0041283, MAP_MIN_DEN: 0.0045006, MRR: 0.0377666, NDCG: 0.0092017, F1: 0.0072828, HIT_RATE: 0.1076054, ARHR_ALL_HITS: 0.0394677, NOVELTY: 0.0315684, AVERAGE_POPULARITY: 0.1032407, DIVERSITY_MEAN_INTER_LIST: 0.9951695, DIVERSITY_HERFINDAHL: 0.9995004, COVERAGE_ITEM: 0.9752768, COVERAGE_ITEM_HIT: 0.0976049, ITEMS_IN_GT: 0.8913211, COVERAGE_USER: 0.9970199, COVERAGE_USER_HIT: 0.1072848, USERS_IN_GT: 0.9970199, DIVERSITY_GINI: 0.5461011, SHANNON_ENTROPY: 11.4054233, RATIO_DIVERSITY_HERFINDAHL: 1.0003163, RATIO_DIVERSITY_GINI: 1.5616843, RATIO_SHANNON_ENTROPY: 1.0547848, RATIO_AVERAGE_POPULARITY: 0.3706281, RATIO_NOVELTY: 0.1069642, \n",
      "\n",
      "SVD++: New best model found! Updating.\n",
      "SVD++: Epoch 10 of 100. Elapsed time 46.21 sec\n",
      "SVD++: Processed 640160 (100.0%) in 4.22 sec. MSE loss 1.22E+00. Sample per second: 151662\n",
      "SVD++: Epoch 11 of 100. Elapsed time 50.15 sec\n",
      "SVD++: Processed 640160 (100.0%) in 3.27 sec. MSE loss 1.22E+00. Sample per second: 196037\n",
      "SVD++: Epoch 12 of 100. Elapsed time 53.20 sec\n",
      "SVD++: Processed 640160 (100.0%) in 4.10 sec. MSE loss 1.22E+00. Sample per second: 156089\n",
      "SVD++: Epoch 13 of 100. Elapsed time 57.03 sec\n",
      "SVD++: Processed 640160 (100.0%) in 3.78 sec. MSE loss 1.22E+00. Sample per second: 169499\n",
      "SVD++: Epoch 14 of 100. Elapsed time 1.01 min\n",
      "SVD++: Processed 640160 (100.0%) in 3.97 sec. MSE loss 1.22E+00. Sample per second: 161131\n",
      "SVD++: Validation begins...\n",
      "EvaluatorHoldout: Processed 6022 (100.0%) in 5.38 sec. Users per second: 1119\n",
      "SVD++: CUTOFF: 10 - PRECISION: 0.0150448, PRECISION_RECALL_MIN_DEN: 0.0165054, RECALL: 0.0071498, MAP: 0.0054983, MAP_MIN_DEN: 0.0060056, MRR: 0.0487986, NDCG: 0.0128219, F1: 0.0096931, HIT_RATE: 0.1340086, ARHR_ALL_HITS: 0.0517969, NOVELTY: 0.0311493, AVERAGE_POPULARITY: 0.1295811, DIVERSITY_MEAN_INTER_LIST: 0.9931015, DIVERSITY_HERFINDAHL: 0.9992937, COVERAGE_ITEM: 0.9714139, COVERAGE_ITEM_HIT: 0.0965748, ITEMS_IN_GT: 0.8913211, COVERAGE_USER: 0.9970199, COVERAGE_USER_HIT: 0.1336093, USERS_IN_GT: 0.9970199, DIVERSITY_GINI: 0.5173210, SHANNON_ENTROPY: 11.2807054, RATIO_DIVERSITY_HERFINDAHL: 1.0001093, RATIO_DIVERSITY_GINI: 1.4793819, RATIO_SHANNON_ENTROPY: 1.0432507, RATIO_AVERAGE_POPULARITY: 0.4651886, RATIO_NOVELTY: 0.1055443, \n",
      "\n",
      "SVD++: New best model found! Updating.\n",
      "SVD++: Epoch 15 of 100. Elapsed time 1.16 min\n",
      "SVD++: Processed 640160 (100.0%) in 3.45 sec. MSE loss 1.22E+00. Sample per second: 185532\n",
      "SVD++: Epoch 16 of 100. Elapsed time 1.21 min\n",
      "SVD++: Processed 640160 (100.0%) in 4.29 sec. MSE loss 1.22E+00. Sample per second: 149096\n",
      "SVD++: Epoch 17 of 100. Elapsed time 1.27 min\n",
      "SVD++: Processed 640160 (100.0%) in 4.27 sec. MSE loss 1.21E+00. Sample per second: 149931\n",
      "SVD++: Epoch 18 of 100. Elapsed time 1.34 min\n",
      "SVD++: Processed 640160 (100.0%) in 3.31 sec. MSE loss 1.21E+00. Sample per second: 193108\n",
      "SVD++: Epoch 19 of 100. Elapsed time 1.39 min\n",
      "SVD++: Processed 640160 (100.0%) in 4.24 sec. MSE loss 1.21E+00. Sample per second: 150675\n",
      "SVD++: Validation begins...\n",
      "EvaluatorHoldout: Processed 6022 (100.0%) in 4.84 sec. Users per second: 1244\n",
      "SVD++: CUTOFF: 10 - PRECISION: 0.0198937, PRECISION_RECALL_MIN_DEN: 0.0221486, RECALL: 0.0102215, MAP: 0.0077190, MAP_MIN_DEN: 0.0085192, MRR: 0.0665741, NDCG: 0.0185382, F1: 0.0135044, HIT_RATE: 0.1720359, ARHR_ALL_HITS: 0.0716546, NOVELTY: 0.0305590, AVERAGE_POPULARITY: 0.1670673, DIVERSITY_MEAN_INTER_LIST: 0.9874601, DIVERSITY_HERFINDAHL: 0.9987296, COVERAGE_ITEM: 0.9652331, COVERAGE_ITEM_HIT: 0.0942570, ITEMS_IN_GT: 0.8913211, COVERAGE_USER: 0.9970199, COVERAGE_USER_HIT: 0.1715232, USERS_IN_GT: 0.9970199, DIVERSITY_GINI: 0.4762604, SHANNON_ENTROPY: 11.0546091, RATIO_DIVERSITY_HERFINDAHL: 0.9995448, RATIO_DIVERSITY_GINI: 1.3619609, RATIO_SHANNON_ENTROPY: 1.0223411, RATIO_AVERAGE_POPULARITY: 0.5997617, RATIO_NOVELTY: 0.1035440, \n",
      "\n",
      "SVD++: New best model found! Updating.\n",
      "SVD++: Epoch 20 of 100. Elapsed time 1.53 min\n",
      "SVD++: Processed 640160 (100.0%) in 3.98 sec. MSE loss 1.21E+00. Sample per second: 160837\n",
      "SVD++: Epoch 21 of 100. Elapsed time 1.60 min\n",
      "SVD++: Processed 640160 (100.0%) in 4.85 sec. MSE loss 1.21E+00. Sample per second: 132103\n",
      "SVD++: Epoch 22 of 100. Elapsed time 1.66 min\n",
      "SVD++: Processed 640160 (100.0%) in 4.03 sec. MSE loss 1.21E+00. Sample per second: 158947\n",
      "SVD++: Epoch 23 of 100. Elapsed time 1.72 min\n",
      "SVD++: Processed 640160 (100.0%) in 3.87 sec. MSE loss 1.21E+00. Sample per second: 165266\n",
      "SVD++: Epoch 24 of 100. Elapsed time 1.78 min\n",
      "SVD++: Processed 640160 (100.0%) in 4.82 sec. MSE loss 1.21E+00. Sample per second: 132792\n",
      "SVD++: Validation begins...\n",
      "EvaluatorHoldout: Processed 6022 (100.0%) in 4.84 sec. Users per second: 1244\n",
      "SVD++: CUTOFF: 10 - PRECISION: 0.0265526, PRECISION_RECALL_MIN_DEN: 0.0296531, RECALL: 0.0139893, MAP: 0.0110360, MAP_MIN_DEN: 0.0122089, MRR: 0.0916589, NDCG: 0.0265215, F1: 0.0183243, HIT_RATE: 0.2205247, ARHR_ALL_HITS: 0.1005189, NOVELTY: 0.0298117, AVERAGE_POPULARITY: 0.2133988, DIVERSITY_MEAN_INTER_LIST: 0.9760779, DIVERSITY_HERFINDAHL: 0.9975916, COVERAGE_ITEM: 0.9580221, COVERAGE_ITEM_HIT: 0.0919392, ITEMS_IN_GT: 0.8913211, COVERAGE_USER: 0.9970199, COVERAGE_USER_HIT: 0.2198675, USERS_IN_GT: 0.9970199, DIVERSITY_GINI: 0.4260594, SHANNON_ENTROPY: 10.7241619, RATIO_DIVERSITY_HERFINDAHL: 0.9984059, RATIO_DIVERSITY_GINI: 1.2184012, RATIO_SHANNON_ENTROPY: 0.9917811, RATIO_AVERAGE_POPULARITY: 0.7660893, RATIO_NOVELTY: 0.1010119, \n",
      "\n",
      "SVD++: New best model found! Updating.\n",
      "SVD++: Epoch 25 of 100. Elapsed time 1.93 min\n",
      "SVD++: Processed 640160 (100.0%) in 4.59 sec. MSE loss 1.20E+00. Sample per second: 139506\n",
      "SVD++: Epoch 26 of 100. Elapsed time 1.99 min\n",
      "SVD++: Processed 640160 (100.0%) in 3.67 sec. MSE loss 1.20E+00. Sample per second: 174346\n",
      "SVD++: Epoch 27 of 100. Elapsed time 2.04 min\n"
     ]
    },
    {
     "name": "stdout",
     "output_type": "stream",
     "text": [
      "SVD++: Processed 640160 (100.0%) in 4.66 sec. MSE loss 1.20E+00. Sample per second: 137423\n",
      "SVD++: Epoch 28 of 100. Elapsed time 2.11 min\n",
      "SVD++: Processed 640160 (100.0%) in 4.62 sec. MSE loss 1.20E+00. Sample per second: 138443\n",
      "SVD++: Epoch 29 of 100. Elapsed time 2.18 min\n",
      "SVD++: Processed 640160 (100.0%) in 3.74 sec. MSE loss 1.20E+00. Sample per second: 171250\n",
      "SVD++: Validation begins...\n",
      "EvaluatorHoldout: Processed 6022 (100.0%) in 5.44 sec. Users per second: 1106\n",
      "SVD++: CUTOFF: 10 - PRECISION: 0.0336433, PRECISION_RECALL_MIN_DEN: 0.0379345, RECALL: 0.0184269, MAP: 0.0148839, MAP_MIN_DEN: 0.0165913, MRR: 0.1192006, NDCG: 0.0356325, F1: 0.0238117, HIT_RATE: 0.2681833, ARHR_ALL_HITS: 0.1331112, NOVELTY: 0.0289812, AVERAGE_POPULARITY: 0.2662388, DIVERSITY_MEAN_INTER_LIST: 0.9569341, DIVERSITY_HERFINDAHL: 0.9956775, COVERAGE_ITEM: 0.9436003, COVERAGE_ITEM_HIT: 0.0885913, ITEMS_IN_GT: 0.8913211, COVERAGE_USER: 0.9970199, COVERAGE_USER_HIT: 0.2673841, USERS_IN_GT: 0.9970199, DIVERSITY_GINI: 0.3687924, SHANNON_ENTROPY: 10.2896094, RATIO_DIVERSITY_HERFINDAHL: 0.9964903, RATIO_DIVERSITY_GINI: 1.0546350, RATIO_SHANNON_ENTROPY: 0.9515932, RATIO_AVERAGE_POPULARITY: 0.9557815, RATIO_NOVELTY: 0.0981979, \n",
      "\n",
      "SVD++: New best model found! Updating.\n",
      "SVD++: Epoch 30 of 100. Elapsed time 2.32 min\n",
      "SVD++: Processed 640160 (100.0%) in 3.25 sec. MSE loss 1.20E+00. Sample per second: 196562\n",
      "SVD++: Epoch 31 of 100. Elapsed time 2.37 min\n",
      "SVD++: Processed 640160 (100.0%) in 4.17 sec. MSE loss 1.20E+00. Sample per second: 153408\n",
      "SVD++: Epoch 32 of 100. Elapsed time 2.44 min\n",
      "SVD++: Processed 640160 (100.0%) in 4.08 sec. MSE loss 1.20E+00. Sample per second: 156948\n",
      "SVD++: Epoch 33 of 100. Elapsed time 2.50 min\n",
      "SVD++: Processed 640160 (100.0%) in 3.15 sec. MSE loss 1.20E+00. Sample per second: 203037\n",
      "SVD++: Epoch 34 of 100. Elapsed time 2.55 min\n",
      "SVD++: Processed 640160 (100.0%) in 4.14 sec. MSE loss 1.19E+00. Sample per second: 154743\n",
      "SVD++: Validation begins...\n",
      "EvaluatorHoldout: Processed 6022 (100.0%) in 4.90 sec. Users per second: 1229\n",
      "SVD++: CUTOFF: 10 - PRECISION: 0.0410993, PRECISION_RECALL_MIN_DEN: 0.0466431, RECALL: 0.0231446, MAP: 0.0189310, MAP_MIN_DEN: 0.0211785, MRR: 0.1451711, NDCG: 0.0449644, F1: 0.0296130, HIT_RATE: 0.3155098, ARHR_ALL_HITS: 0.1655980, NOVELTY: 0.0280948, AVERAGE_POPULARITY: 0.3215618, DIVERSITY_MEAN_INTER_LIST: 0.9302792, DIVERSITY_HERFINDAHL: 0.9930125, COVERAGE_ITEM: 0.9271182, COVERAGE_ITEM_HIT: 0.0860160, ITEMS_IN_GT: 0.8913211, COVERAGE_USER: 0.9970199, COVERAGE_USER_HIT: 0.3145695, USERS_IN_GT: 0.9970199, DIVERSITY_GINI: 0.3103071, SHANNON_ENTROPY: 9.7813105, RATIO_DIVERSITY_HERFINDAHL: 0.9938230, RATIO_DIVERSITY_GINI: 0.8873848, RATIO_SHANNON_ENTROPY: 0.9045852, RATIO_AVERAGE_POPULARITY: 1.1543881, RATIO_NOVELTY: 0.0951944, \n",
      "\n",
      "SVD++: New best model found! Updating.\n",
      "SVD++: Epoch 35 of 100. Elapsed time 2.70 min\n",
      "SVD++: Processed 640160 (100.0%) in 3.74 sec. MSE loss 1.20E+00. Sample per second: 170949\n",
      "SVD++: Epoch 36 of 100. Elapsed time 2.76 min\n",
      "SVD++: Processed 640160 (100.0%) in 4.64 sec. MSE loss 1.20E+00. Sample per second: 137959\n",
      "SVD++: Epoch 37 of 100. Elapsed time 2.83 min\n",
      "SVD++: Processed 640160 (100.0%) in 3.66 sec. MSE loss 1.20E+00. Sample per second: 174677\n",
      "SVD++: Epoch 38 of 100. Elapsed time 2.88 min\n",
      "SVD++: Processed 640160 (100.0%) in 4.61 sec. MSE loss 1.19E+00. Sample per second: 138920\n",
      "SVD++: Epoch 39 of 100. Elapsed time 2.94 min\n",
      "SVD++: Processed 640160 (100.0%) in 4.50 sec. MSE loss 1.19E+00. Sample per second: 142403\n",
      "SVD++: Validation begins...\n",
      "EvaluatorHoldout: Processed 6022 (100.0%) in 4.93 sec. Users per second: 1220\n",
      "SVD++: CUTOFF: 10 - PRECISION: 0.0480737, PRECISION_RECALL_MIN_DEN: 0.0544502, RECALL: 0.0269564, MAP: 0.0225764, MAP_MIN_DEN: 0.0253006, MRR: 0.1660173, NDCG: 0.0531964, F1: 0.0345433, HIT_RATE: 0.3532049, ARHR_ALL_HITS: 0.1932042, NOVELTY: 0.0272337, AVERAGE_POPULARITY: 0.3758987, DIVERSITY_MEAN_INTER_LIST: 0.8974748, DIVERSITY_HERFINDAHL: 0.9897326, COVERAGE_ITEM: 0.9034252, COVERAGE_ITEM_HIT: 0.0795776, ITEMS_IN_GT: 0.8913211, COVERAGE_USER: 0.9970199, COVERAGE_USER_HIT: 0.3521523, USERS_IN_GT: 0.9970199, DIVERSITY_GINI: 0.2543134, SHANNON_ENTROPY: 9.2350556, RATIO_DIVERSITY_HERFINDAHL: 0.9905405, RATIO_DIVERSITY_GINI: 0.7272597, RATIO_SHANNON_ENTROPY: 0.8540670, RATIO_AVERAGE_POPULARITY: 1.3494543, RATIO_NOVELTY: 0.0922768, \n",
      "\n",
      "SVD++: New best model found! Updating.\n",
      "SVD++: Epoch 40 of 100. Elapsed time 3.09 min\n",
      "SVD++: Processed 640160 (100.0%) in 4.28 sec. MSE loss 1.19E+00. Sample per second: 149464\n",
      "SVD++: Epoch 41 of 100. Elapsed time 3.15 min\n",
      "SVD++: Processed 640160 (100.0%) in 3.38 sec. MSE loss 1.20E+00. Sample per second: 189595\n",
      "SVD++: Epoch 42 of 100. Elapsed time 3.21 min\n",
      "SVD++: Processed 640160 (100.0%) in 4.24 sec. MSE loss 1.19E+00. Sample per second: 150849\n",
      "SVD++: Epoch 43 of 100. Elapsed time 3.27 min\n",
      "SVD++: Processed 640160 (100.0%) in 4.10 sec. MSE loss 1.19E+00. Sample per second: 156147\n",
      "SVD++: Epoch 44 of 100. Elapsed time 3.33 min\n",
      "SVD++: Processed 640160 (100.0%) in 3.13 sec. MSE loss 1.19E+00. Sample per second: 203678\n",
      "SVD++: Validation begins...\n",
      "EvaluatorHoldout: Processed 6022 (100.0%) in 5.46 sec. Users per second: 1102\n",
      "SVD++: CUTOFF: 10 - PRECISION: 0.0562770, PRECISION_RECALL_MIN_DEN: 0.0635157, RECALL: 0.0314667, MAP: 0.0262221, MAP_MIN_DEN: 0.0292773, MRR: 0.1842581, NDCG: 0.0613550, F1: 0.0403642, HIT_RATE: 0.3957157, ARHR_ALL_HITS: 0.2193229, NOVELTY: 0.0264154, AVERAGE_POPULARITY: 0.4287774, DIVERSITY_MEAN_INTER_LIST: 0.8593294, DIVERSITY_HERFINDAHL: 0.9859187, COVERAGE_ITEM: 0.8681432, COVERAGE_ITEM_HIT: 0.0728818, ITEMS_IN_GT: 0.8913211, COVERAGE_USER: 0.9970199, COVERAGE_USER_HIT: 0.3945364, USERS_IN_GT: 0.9970199, DIVERSITY_GINI: 0.2014118, SHANNON_ENTROPY: 8.6598779, RATIO_DIVERSITY_HERFINDAHL: 0.9867234, RATIO_DIVERSITY_GINI: 0.5759770, RATIO_SHANNON_ENTROPY: 0.8008740, RATIO_AVERAGE_POPULARITY: 1.5392856, RATIO_NOVELTY: 0.0895040, \n",
      "\n",
      "SVD++: New best model found! Updating.\n",
      "SVD++: Epoch 45 of 100. Elapsed time 3.48 min\n",
      "SVD++: Processed 640160 (100.0%) in 4.05 sec. MSE loss 1.19E+00. Sample per second: 157878\n",
      "SVD++: Epoch 46 of 100. Elapsed time 3.53 min\n",
      "SVD++: Processed 640160 (100.0%) in 3.50 sec. MSE loss 1.19E+00. Sample per second: 182989\n",
      "SVD++: Epoch 47 of 100. Elapsed time 3.59 min\n",
      "SVD++: Processed 640160 (100.0%) in 4.38 sec. MSE loss 1.19E+00. Sample per second: 146090\n",
      "SVD++: Epoch 48 of 100. Elapsed time 3.66 min\n",
      "SVD++: Processed 640160 (100.0%) in 3.49 sec. MSE loss 1.19E+00. Sample per second: 183410\n",
      "SVD++: Epoch 49 of 100. Elapsed time 3.71 min\n",
      "SVD++: Processed 640160 (100.0%) in 4.19 sec. MSE loss 1.18E+00. Sample per second: 152904\n",
      "SVD++: Validation begins...\n",
      "EvaluatorHoldout: Processed 6022 (100.0%) in 5.51 sec. Users per second: 1094\n",
      "SVD++: CUTOFF: 10 - PRECISION: 0.0629359, PRECISION_RECALL_MIN_DEN: 0.0709929, RECALL: 0.0351319, MAP: 0.0293245, MAP_MIN_DEN: 0.0325901, MRR: 0.1975737, NDCG: 0.0679110, F1: 0.0450924, HIT_RATE: 0.4257722, ARHR_ALL_HITS: 0.2399022, NOVELTY: 0.0256950, AVERAGE_POPULARITY: 0.4747075, DIVERSITY_MEAN_INTER_LIST: 0.8213369, DIVERSITY_HERFINDAHL: 0.9821201, COVERAGE_ITEM: 0.8246201, COVERAGE_ITEM_HIT: 0.0669585, ITEMS_IN_GT: 0.8913211, COVERAGE_USER: 0.9970199, COVERAGE_USER_HIT: 0.4245033, USERS_IN_GT: 0.9970199, DIVERSITY_GINI: 0.1577242, SHANNON_ENTROPY: 8.1256735, RATIO_DIVERSITY_HERFINDAHL: 0.9829217, RATIO_DIVERSITY_GINI: 0.4510436, RATIO_SHANNON_ENTROPY: 0.7514703, RATIO_AVERAGE_POPULARITY: 1.7041720, RATIO_NOVELTY: 0.0870631, \n",
      "\n",
      "SVD++: New best model found! Updating.\n",
      "SVD++: Epoch 50 of 100. Elapsed time 3.86 min\n",
      "SVD++: Processed 640160 (100.0%) in 3.72 sec. MSE loss 1.18E+00. Sample per second: 172285\n",
      "SVD++: Epoch 51 of 100. Elapsed time 3.91 min\n",
      "SVD++: Processed 640160 (100.0%) in 4.52 sec. MSE loss 1.18E+00. Sample per second: 141584\n",
      "SVD++: Epoch 52 of 100. Elapsed time 3.97 min\n",
      "SVD++: Processed 640160 (100.0%) in 4.15 sec. MSE loss 1.18E+00. Sample per second: 154251\n",
      "SVD++: Epoch 53 of 100. Elapsed time 4.03 min\n",
      "SVD++: Processed 640160 (100.0%) in 3.40 sec. MSE loss 1.18E+00. Sample per second: 188257\n",
      "SVD++: Epoch 54 of 100. Elapsed time 4.09 min\n",
      "SVD++: Processed 640160 (100.0%) in 4.28 sec. MSE loss 1.18E+00. Sample per second: 149688\n"
     ]
    },
    {
     "name": "stdout",
     "output_type": "stream",
     "text": [
      "SVD++: Validation begins...\n",
      "EvaluatorHoldout: Processed 6022 (100.0%) in 4.96 sec. Users per second: 1214\n",
      "SVD++: CUTOFF: 10 - PRECISION: 0.0687811, PRECISION_RECALL_MIN_DEN: 0.0773675, RECALL: 0.0381940, MAP: 0.0319913, MAP_MIN_DEN: 0.0354028, MRR: 0.2075507, NDCG: 0.0734290, F1: 0.0491147, HIT_RATE: 0.4521754, ARHR_ALL_HITS: 0.2566851, NOVELTY: 0.0250551, AVERAGE_POPULARITY: 0.5164967, DIVERSITY_MEAN_INTER_LIST: 0.7823188, DIVERSITY_HERFINDAHL: 0.9782189, COVERAGE_ITEM: 0.7800670, COVERAGE_ITEM_HIT: 0.0612928, ITEMS_IN_GT: 0.8913211, COVERAGE_USER: 0.9970199, COVERAGE_USER_HIT: 0.4508278, USERS_IN_GT: 0.9970199, DIVERSITY_GINI: 0.1208627, SHANNON_ENTROPY: 7.6092835, RATIO_DIVERSITY_HERFINDAHL: 0.9790174, RATIO_DIVERSITY_GINI: 0.3456310, RATIO_SHANNON_ENTROPY: 0.7037140, RATIO_AVERAGE_POPULARITY: 1.8541926, RATIO_NOVELTY: 0.0848950, \n",
      "\n",
      "SVD++: New best model found! Updating.\n",
      "SVD++: Epoch 55 of 100. Elapsed time 4.24 min\n",
      "SVD++: Processed 640160 (100.0%) in 4.19 sec. MSE loss 1.18E+00. Sample per second: 152908\n",
      "SVD++: Epoch 56 of 100. Elapsed time 4.30 min\n",
      "SVD++: Processed 640160 (100.0%) in 4.07 sec. MSE loss 1.18E+00. Sample per second: 157160\n",
      "SVD++: Epoch 57 of 100. Elapsed time 4.37 min\n",
      "SVD++: Processed 640160 (100.0%) in 3.12 sec. MSE loss 1.18E+00. Sample per second: 205281\n",
      "SVD++: Epoch 58 of 100. Elapsed time 4.42 min\n",
      "SVD++: Processed 640160 (100.0%) in 4.06 sec. MSE loss 1.18E+00. Sample per second: 157495\n",
      "SVD++: Epoch 59 of 100. Elapsed time 4.48 min\n",
      "SVD++: Processed 640160 (100.0%) in 3.53 sec. MSE loss 1.17E+00. Sample per second: 181374\n",
      "SVD++: Validation begins...\n",
      "EvaluatorHoldout: Processed 6022 (100.0%) in 5.26 sec. Users per second: 1146\n",
      "SVD++: CUTOFF: 10 - PRECISION: 0.0743109, PRECISION_RECALL_MIN_DEN: 0.0836108, RECALL: 0.0413098, MAP: 0.0342255, MAP_MIN_DEN: 0.0377815, MRR: 0.2139780, NDCG: 0.0781869, F1: 0.0531007, HIT_RATE: 0.4727665, ARHR_ALL_HITS: 0.2695968, NOVELTY: 0.0245196, AVERAGE_POPULARITY: 0.5515078, DIVERSITY_MEAN_INTER_LIST: 0.7457229, DIVERSITY_HERFINDAHL: 0.9745599, COVERAGE_ITEM: 0.7174865, COVERAGE_ITEM_HIT: 0.0569148, ITEMS_IN_GT: 0.8913211, COVERAGE_USER: 0.9970199, COVERAGE_USER_HIT: 0.4713576, USERS_IN_GT: 0.9970199, DIVERSITY_GINI: 0.0899312, SHANNON_ENTROPY: 7.1401332, RATIO_DIVERSITY_HERFINDAHL: 0.9753554, RATIO_DIVERSITY_GINI: 0.2571760, RATIO_SHANNON_ENTROPY: 0.6603266, RATIO_AVERAGE_POPULARITY: 1.9798804, RATIO_NOVELTY: 0.0830804, \n",
      "\n",
      "SVD++: New best model found! Updating.\n",
      "SVD++: Epoch 60 of 100. Elapsed time 4.63 min\n",
      "SVD++: Processed 640160 (100.0%) in 4.66 sec. MSE loss 1.17E+00. Sample per second: 137370\n",
      "SVD++: Epoch 61 of 100. Elapsed time 4.69 min\n",
      "SVD++: Processed 640160 (100.0%) in 3.73 sec. MSE loss 1.17E+00. Sample per second: 171819\n",
      "SVD++: Epoch 62 of 100. Elapsed time 4.74 min\n",
      "SVD++: Processed 640160 (100.0%) in 4.62 sec. MSE loss 1.17E+00. Sample per second: 138508\n",
      "SVD++: Epoch 63 of 100. Elapsed time 4.81 min\n",
      "SVD++: Processed 640160 (100.0%) in 4.40 sec. MSE loss 1.17E+00. Sample per second: 145570\n",
      "SVD++: Epoch 64 of 100. Elapsed time 4.87 min\n",
      "SVD++: Processed 640160 (100.0%) in 3.59 sec. MSE loss 1.17E+00. Sample per second: 178235\n",
      "SVD++: Validation begins...\n",
      "EvaluatorHoldout: Processed 6022 (100.0%) in 5.50 sec. Users per second: 1094\n",
      "SVD++: CUTOFF: 10 - PRECISION: 0.0790933, PRECISION_RECALL_MIN_DEN: 0.0887929, RECALL: 0.0435230, MAP: 0.0360784, MAP_MIN_DEN: 0.0397441, MRR: 0.2177845, NDCG: 0.0820298, F1: 0.0561488, HIT_RATE: 0.4877117, ARHR_ALL_HITS: 0.2790009, NOVELTY: 0.0240883, AVERAGE_POPULARITY: 0.5802261, DIVERSITY_MEAN_INTER_LIST: 0.7129760, DIVERSITY_HERFINDAHL: 0.9712858, COVERAGE_ITEM: 0.6525882, COVERAGE_ITEM_HIT: 0.0520216, ITEMS_IN_GT: 0.8913211, COVERAGE_USER: 0.9970199, COVERAGE_USER_HIT: 0.4862583, USERS_IN_GT: 0.9970199, DIVERSITY_GINI: 0.0663110, SHANNON_ENTROPY: 6.7345348, RATIO_DIVERSITY_HERFINDAHL: 0.9720786, RATIO_DIVERSITY_GINI: 0.1896295, RATIO_SHANNON_ENTROPY: 0.6228164, RATIO_AVERAGE_POPULARITY: 2.0829775, RATIO_NOVELTY: 0.0816190, \n",
      "\n",
      "SVD++: New best model found! Updating.\n",
      "SVD++: Epoch 65 of 100. Elapsed time 5.02 min\n",
      "SVD++: Processed 640160 (100.0%) in 3.19 sec. MSE loss 1.17E+00. Sample per second: 200738\n",
      "SVD++: Epoch 66 of 100. Elapsed time 5.07 min\n",
      "SVD++: Processed 640160 (100.0%) in 4.00 sec. MSE loss 1.17E+00. Sample per second: 159850\n",
      "SVD++: Epoch 67 of 100. Elapsed time 5.13 min\n",
      "SVD++: Processed 640160 (100.0%) in 3.82 sec. MSE loss 1.17E+00. Sample per second: 167566\n",
      "SVD++: Epoch 68 of 100. Elapsed time 5.20 min\n",
      "SVD++: Processed 640160 (100.0%) in 3.77 sec. MSE loss 1.17E+00. Sample per second: 169579\n",
      "SVD++: Epoch 69 of 100. Elapsed time 5.25 min\n",
      "SVD++: Processed 640160 (100.0%) in 4.58 sec. MSE loss 1.17E+00. Sample per second: 139745\n",
      "SVD++: Validation begins...\n",
      "EvaluatorHoldout: Processed 6022 (100.0%) in 4.91 sec. Users per second: 1226\n",
      "SVD++: CUTOFF: 10 - PRECISION: 0.0827134, PRECISION_RECALL_MIN_DEN: 0.0925226, RECALL: 0.0450108, MAP: 0.0375039, MAP_MIN_DEN: 0.0412478, MRR: 0.2216495, NDCG: 0.0848491, F1: 0.0582975, HIT_RATE: 0.5031551, ARHR_ALL_HITS: 0.2868644, NOVELTY: 0.0237325, AVERAGE_POPULARITY: 0.6032292, DIVERSITY_MEAN_INTER_LIST: 0.6843151, DIVERSITY_HERFINDAHL: 0.9684201, COVERAGE_ITEM: 0.5864023, COVERAGE_ITEM_HIT: 0.0489312, ITEMS_IN_GT: 0.8913211, COVERAGE_USER: 0.9970199, COVERAGE_USER_HIT: 0.5016556, USERS_IN_GT: 0.9970199, DIVERSITY_GINI: 0.0491473, SHANNON_ENTROPY: 6.3945503, RATIO_DIVERSITY_HERFINDAHL: 0.9692106, RATIO_DIVERSITY_GINI: 0.1405466, RATIO_SHANNON_ENTROPY: 0.5913743, RATIO_AVERAGE_POPULARITY: 2.1655571, RATIO_NOVELTY: 0.0804137, \n",
      "\n",
      "SVD++: New best model found! Updating.\n",
      "SVD++: Epoch 70 of 100. Elapsed time 5.39 min\n",
      "SVD++: Processed 640160 (100.0%) in 4.36 sec. MSE loss 1.17E+00. Sample per second: 146815\n",
      "SVD++: Epoch 71 of 100. Elapsed time 5.45 min\n",
      "SVD++: Processed 640160 (100.0%) in 4.25 sec. MSE loss 1.17E+00. Sample per second: 150775\n",
      "SVD++: Epoch 72 of 100. Elapsed time 5.52 min\n",
      "SVD++: Processed 640160 (100.0%) in 3.28 sec. MSE loss 1.17E+00. Sample per second: 195075\n",
      "SVD++: Epoch 73 of 100. Elapsed time 5.57 min\n",
      "SVD++: Processed 640160 (100.0%) in 4.24 sec. MSE loss 1.17E+00. Sample per second: 151035\n",
      "SVD++: Epoch 74 of 100. Elapsed time 5.64 min\n",
      "SVD++: Processed 640160 (100.0%) in 4.12 sec. MSE loss 1.17E+00. Sample per second: 155217\n",
      "SVD++: Validation begins...\n",
      "EvaluatorHoldout: Processed 6022 (100.0%) in 4.99 sec. Users per second: 1207\n",
      "SVD++: CUTOFF: 10 - PRECISION: 0.0858187, PRECISION_RECALL_MIN_DEN: 0.0960999, RECALL: 0.0466044, MAP: 0.0387604, MAP_MIN_DEN: 0.0425523, MRR: 0.2241718, NDCG: 0.0872156, F1: 0.0604053, HIT_RATE: 0.5114580, ARHR_ALL_HITS: 0.2930382, NOVELTY: 0.0234670, AVERAGE_POPULARITY: 0.6211493, DIVERSITY_MEAN_INTER_LIST: 0.6600077, DIVERSITY_HERFINDAHL: 0.9659898, COVERAGE_ITEM: 0.5119753, COVERAGE_ITEM_HIT: 0.0437806, ITEMS_IN_GT: 0.8913211, COVERAGE_USER: 0.9970199, COVERAGE_USER_HIT: 0.5099338, USERS_IN_GT: 0.9970199, DIVERSITY_GINI: 0.0362250, SHANNON_ENTROPY: 6.1071541, RATIO_DIVERSITY_HERFINDAHL: 0.9667783, RATIO_DIVERSITY_GINI: 0.1035925, RATIO_SHANNON_ENTROPY: 0.5647956, RATIO_AVERAGE_POPULARITY: 2.2298893, RATIO_NOVELTY: 0.0795139, \n",
      "\n",
      "SVD++: New best model found! Updating.\n",
      "SVD++: Epoch 75 of 100. Elapsed time 5.78 min\n",
      "SVD++: Processed 640160 (100.0%) in 4.07 sec. MSE loss 1.17E+00. Sample per second: 157287\n",
      "SVD++: Epoch 76 of 100. Elapsed time 5.85 min\n",
      "SVD++: Processed 640160 (100.0%) in 3.29 sec. MSE loss 1.16E+00. Sample per second: 194340\n",
      "SVD++: Epoch 77 of 100. Elapsed time 5.90 min\n",
      "SVD++: Processed 640160 (100.0%) in 4.25 sec. MSE loss 1.16E+00. Sample per second: 150702\n",
      "SVD++: Epoch 78 of 100. Elapsed time 5.97 min\n",
      "SVD++: Processed 640160 (100.0%) in 4.21 sec. MSE loss 1.16E+00. Sample per second: 152056\n",
      "SVD++: Epoch 79 of 100. Elapsed time 6.04 min\n",
      "SVD++: Processed 640160 (100.0%) in 3.20 sec. MSE loss 1.16E+00. Sample per second: 199846\n",
      "SVD++: Validation begins...\n",
      "EvaluatorHoldout: Processed 6022 (100.0%) in 5.50 sec. Users per second: 1095\n",
      "SVD++: CUTOFF: 10 - PRECISION: 0.0880438, PRECISION_RECALL_MIN_DEN: 0.0983583, RECALL: 0.0474548, MAP: 0.0398182, MAP_MIN_DEN: 0.0436748, MRR: 0.2262178, NDCG: 0.0890944, F1: 0.0616700, HIT_RATE: 0.5162737, ARHR_ALL_HITS: 0.2980497, NOVELTY: 0.0232619, AVERAGE_POPULARITY: 0.6359721, DIVERSITY_MEAN_INTER_LIST: 0.6385774, DIVERSITY_HERFINDAHL: 0.9638471, COVERAGE_ITEM: 0.4383209, COVERAGE_ITEM_HIT: 0.0419779, ITEMS_IN_GT: 0.8913211, COVERAGE_USER: 0.9970199, COVERAGE_USER_HIT: 0.5147351, USERS_IN_GT: 0.9970199, DIVERSITY_GINI: 0.0265037, SHANNON_ENTROPY: 5.8651099, RATIO_DIVERSITY_HERFINDAHL: 0.9646339, RATIO_DIVERSITY_GINI: 0.0757925, RATIO_SHANNON_ENTROPY: 0.5424111, RATIO_AVERAGE_POPULARITY: 2.2831023, RATIO_NOVELTY: 0.0788189, \n",
      "\n",
      "SVD++: New best model found! Updating.\n",
      "SVD++: Epoch 80 of 100. Elapsed time 6.18 min\n"
     ]
    },
    {
     "name": "stdout",
     "output_type": "stream",
     "text": [
      "SVD++: Processed 640160 (100.0%) in 3.78 sec. MSE loss 1.16E+00. Sample per second: 169257\n",
      "SVD++: Epoch 81 of 100. Elapsed time 6.23 min\n",
      "SVD++: Processed 640160 (100.0%) in 4.70 sec. MSE loss 1.16E+00. Sample per second: 136221\n",
      "SVD++: Epoch 82 of 100. Elapsed time 6.29 min\n",
      "SVD++: Processed 640160 (100.0%) in 4.58 sec. MSE loss 1.16E+00. Sample per second: 139641\n",
      "SVD++: Epoch 83 of 100. Elapsed time 6.36 min\n",
      "SVD++: Processed 640160 (100.0%) in 3.63 sec. MSE loss 1.16E+00. Sample per second: 176381\n",
      "SVD++: Epoch 84 of 100. Elapsed time 6.41 min\n",
      "SVD++: Processed 640160 (100.0%) in 4.58 sec. MSE loss 1.16E+00. Sample per second: 139896\n",
      "SVD++: Validation begins...\n",
      "EvaluatorHoldout: Processed 6022 (100.0%) in 5.06 sec. Users per second: 1190\n",
      "SVD++: CUTOFF: 10 - PRECISION: 0.0900697, PRECISION_RECALL_MIN_DEN: 0.1005716, RECALL: 0.0483269, MAP: 0.0406923, MAP_MIN_DEN: 0.0445974, MRR: 0.2275887, NDCG: 0.0907179, F1: 0.0629031, HIT_RATE: 0.5214215, ARHR_ALL_HITS: 0.3020112, NOVELTY: 0.0231046, AVERAGE_POPULARITY: 0.6469971, DIVERSITY_MEAN_INTER_LIST: 0.6208091, DIVERSITY_HERFINDAHL: 0.9620706, COVERAGE_ITEM: 0.3723925, COVERAGE_ITEM_HIT: 0.0388875, ITEMS_IN_GT: 0.8913211, COVERAGE_USER: 0.9970199, COVERAGE_USER_HIT: 0.5198675, USERS_IN_GT: 0.9970199, DIVERSITY_GINI: 0.0200403, SHANNON_ENTROPY: 5.6724032, RATIO_DIVERSITY_HERFINDAHL: 0.9628559, RATIO_DIVERSITY_GINI: 0.0573091, RATIO_SHANNON_ENTROPY: 0.5245894, RATIO_AVERAGE_POPULARITY: 2.3226816, RATIO_NOVELTY: 0.0782860, \n",
      "\n",
      "SVD++: New best model found! Updating.\n",
      "SVD++: Epoch 85 of 100. Elapsed time 6.56 min\n",
      "SVD++: Processed 640160 (100.0%) in 4.44 sec. MSE loss 1.16E+00. Sample per second: 144314\n",
      "SVD++: Epoch 86 of 100. Elapsed time 6.62 min\n",
      "SVD++: Processed 640160 (100.0%) in 4.47 sec. MSE loss 1.16E+00. Sample per second: 143135\n",
      "SVD++: Epoch 87 of 100. Elapsed time 6.69 min\n",
      "SVD++: Processed 640160 (100.0%) in 3.48 sec. MSE loss 1.15E+00. Sample per second: 184082\n",
      "SVD++: Epoch 88 of 100. Elapsed time 6.74 min\n",
      "SVD++: Processed 640160 (100.0%) in 4.31 sec. MSE loss 1.15E+00. Sample per second: 148411\n",
      "SVD++: Epoch 89 of 100. Elapsed time 6.80 min\n",
      "SVD++: Processed 640160 (100.0%) in 4.19 sec. MSE loss 1.15E+00. Sample per second: 152876\n",
      "SVD++: Validation begins...\n",
      "EvaluatorHoldout: Processed 6022 (100.0%) in 5.02 sec. Users per second: 1200\n",
      "SVD++: CUTOFF: 10 - PRECISION: 0.0920624, PRECISION_RECALL_MIN_DEN: 0.1027962, RECALL: 0.0492758, MAP: 0.0414336, MAP_MIN_DEN: 0.0453670, MRR: 0.2286725, NDCG: 0.0921407, F1: 0.0641929, HIT_RATE: 0.5264032, ARHR_ALL_HITS: 0.3052234, NOVELTY: 0.0229887, AVERAGE_POPULARITY: 0.6555650, DIVERSITY_MEAN_INTER_LIST: 0.6054520, DIVERSITY_HERFINDAHL: 0.9605351, COVERAGE_ITEM: 0.3149627, COVERAGE_ITEM_HIT: 0.0373423, ITEMS_IN_GT: 0.8913211, COVERAGE_USER: 0.9970199, COVERAGE_USER_HIT: 0.5248344, USERS_IN_GT: 0.9970199, DIVERSITY_GINI: 0.0157106, SHANNON_ENTROPY: 5.5167308, RATIO_DIVERSITY_HERFINDAHL: 0.9613192, RATIO_DIVERSITY_GINI: 0.0449275, RATIO_SHANNON_ENTROPY: 0.5101927, RATIO_AVERAGE_POPULARITY: 2.3534398, RATIO_NOVELTY: 0.0778934, \n",
      "\n",
      "SVD++: New best model found! Updating.\n",
      "SVD++: Epoch 90 of 100. Elapsed time 6.95 min\n",
      "SVD++: Processed 640160 (100.0%) in 4.02 sec. MSE loss 1.15E+00. Sample per second: 159395\n",
      "SVD++: Epoch 91 of 100. Elapsed time 7.02 min\n",
      "SVD++: Processed 640160 (100.0%) in 3.12 sec. MSE loss 1.15E+00. Sample per second: 205068\n",
      "SVD++: Epoch 92 of 100. Elapsed time 7.07 min\n",
      "SVD++: Processed 640160 (100.0%) in 4.04 sec. MSE loss 1.15E+00. Sample per second: 158626\n",
      "SVD++: Epoch 93 of 100. Elapsed time 7.13 min\n",
      "SVD++: Processed 640160 (100.0%) in 3.95 sec. MSE loss 1.15E+00. Sample per second: 161893\n",
      "SVD++: Epoch 94 of 100. Elapsed time 7.20 min\n",
      "SVD++: Processed 640160 (100.0%) in 4.02 sec. MSE loss 1.15E+00. Sample per second: 159301\n",
      "SVD++: Validation begins...\n",
      "EvaluatorHoldout: Processed 6022 (100.0%) in 5.59 sec. Users per second: 1077\n",
      "SVD++: CUTOFF: 10 - PRECISION: 0.0933245, PRECISION_RECALL_MIN_DEN: 0.1041781, RECALL: 0.0498269, MAP: 0.0420183, MAP_MIN_DEN: 0.0459502, MRR: 0.2291210, NDCG: 0.0929645, F1: 0.0649672, HIT_RATE: 0.5292262, ARHR_ALL_HITS: 0.3074185, NOVELTY: 0.0229079, AVERAGE_POPULARITY: 0.6621345, DIVERSITY_MEAN_INTER_LIST: 0.5926737, DIVERSITY_HERFINDAHL: 0.9592575, COVERAGE_ITEM: 0.2670616, COVERAGE_ITEM_HIT: 0.0352820, ITEMS_IN_GT: 0.8913211, COVERAGE_USER: 0.9970199, COVERAGE_USER_HIT: 0.5276490, USERS_IN_GT: 0.9970199, DIVERSITY_GINI: 0.0127790, SHANNON_ENTROPY: 5.3916112, RATIO_DIVERSITY_HERFINDAHL: 0.9600405, RATIO_DIVERSITY_GINI: 0.0365440, RATIO_SHANNON_ENTROPY: 0.4986215, RATIO_AVERAGE_POPULARITY: 2.3770239, RATIO_NOVELTY: 0.0776197, \n",
      "\n",
      "SVD++: New best model found! Updating.\n",
      "SVD++: Epoch 95 of 100. Elapsed time 7.34 min\n",
      "SVD++: Processed 640160 (100.0%) in 3.94 sec. MSE loss 1.15E+00. Sample per second: 162491\n",
      "SVD++: Epoch 96 of 100. Elapsed time 7.40 min\n",
      "SVD++: Processed 640160 (100.0%) in 4.61 sec. MSE loss 1.15E+00. Sample per second: 138846\n",
      "SVD++: Epoch 97 of 100. Elapsed time 7.46 min\n",
      "SVD++: Processed 640160 (100.0%) in 4.47 sec. MSE loss 1.15E+00. Sample per second: 143041\n",
      "SVD++: Epoch 98 of 100. Elapsed time 7.52 min\n",
      "SVD++: Processed 640160 (100.0%) in 3.51 sec. MSE loss 1.15E+00. Sample per second: 182385\n",
      "SVD++: Epoch 99 of 100. Elapsed time 7.57 min\n",
      "SVD++: Processed 640160 (100.0%) in 4.48 sec. MSE loss 1.15E+00. Sample per second: 143028\n",
      "SVD++: Validation begins...\n",
      "EvaluatorHoldout: Processed 6022 (100.0%) in 5.27 sec. Users per second: 1142\n",
      "SVD++: CUTOFF: 10 - PRECISION: 0.0948024, PRECISION_RECALL_MIN_DEN: 0.1057942, RECALL: 0.0504289, MAP: 0.0425786, MAP_MIN_DEN: 0.0465410, MRR: 0.2299040, NDCG: 0.0939931, F1: 0.0658368, HIT_RATE: 0.5327134, ARHR_ALL_HITS: 0.3096256, NOVELTY: 0.0228380, AVERAGE_POPULARITY: 0.6675332, DIVERSITY_MEAN_INTER_LIST: 0.5816110, DIVERSITY_HERFINDAHL: 0.9581514, COVERAGE_ITEM: 0.2250837, COVERAGE_ITEM_HIT: 0.0334793, ITEMS_IN_GT: 0.8913211, COVERAGE_USER: 0.9970199, COVERAGE_USER_HIT: 0.5311258, USERS_IN_GT: 0.9970199, DIVERSITY_GINI: 0.0106481, SHANNON_ENTROPY: 5.2858968, RATIO_DIVERSITY_HERFINDAHL: 0.9589335, RATIO_DIVERSITY_GINI: 0.0304504, RATIO_SHANNON_ENTROPY: 0.4888449, RATIO_AVERAGE_POPULARITY: 2.3964050, RATIO_NOVELTY: 0.0773826, \n",
      "\n",
      "SVD++: New best model found! Updating.\n",
      "SVD++: Epoch 100 of 100. Elapsed time 7.73 min\n",
      "SVD++: Terminating at epoch 100. Best value for 'MAP' at epoch 100 is 0.0426. Elapsed time 7.73 min\n",
      "EvaluatorHoldout: Processed 6022 (100.0%) in 5.14 sec. Users per second: 1173\n"
     ]
    },
    {
     "name": "stderr",
     "output_type": "stream",
     "text": [
      "[I 2023-11-23 14:30:21,922] Trial 9 finished with value: 0.04257860727596708 and parameters: {'num_factors': 67, 'sgd_mode': 'sgd', 'batch_size': 32, 'item_reg': 0.002039632392639453, 'user_reg': 0.0009429411014038028, 'learning_rate': 0.00010328797507357167}. Best is trial 3 with value: 0.04762713305182601.\n"
     ]
    }
   ],
   "source": [
    "optuna_study = optuna.create_study(direction=\"maximize\")\n",
    "        \n",
    "save_results = SaveResults()\n",
    "        \n",
    "optuna_study.optimize(objective_function_funksvd,\n",
    "                      callbacks=[save_results],\n",
    "                      n_trials = 10)"
   ]
  },
  {
   "cell_type": "code",
   "execution_count": 18,
   "id": "c501b12e",
   "metadata": {},
   "outputs": [
    {
     "data": {
      "text/plain": [
       "{'num_factors': 48,\n",
       " 'sgd_mode': 'adam',\n",
       " 'batch_size': 128,\n",
       " 'item_reg': 0.0029531550842413195,\n",
       " 'user_reg': 0.0005378698094965328,\n",
       " 'learning_rate': 0.0001832167942980042}"
      ]
     },
     "execution_count": 18,
     "metadata": {},
     "output_type": "execute_result"
    }
   ],
   "source": [
    "optuna_study.best_trial.params"
   ]
  },
  {
   "cell_type": "code",
   "execution_count": 19,
   "id": "e606476a",
   "metadata": {},
   "outputs": [
    {
     "data": {
      "text/plain": [
       "FrozenTrial(number=3, state=TrialState.COMPLETE, values=[0.04762713305182601], datetime_start=datetime.datetime(2023, 11, 23, 13, 14, 34, 392523), datetime_complete=datetime.datetime(2023, 11, 23, 13, 19, 6, 122882), params={'num_factors': 48, 'sgd_mode': 'adam', 'batch_size': 128, 'item_reg': 0.0029531550842413195, 'user_reg': 0.0005378698094965328, 'learning_rate': 0.0001832167942980042}, user_attrs={'epochs': 5}, system_attrs={}, intermediate_values={}, distributions={'num_factors': IntDistribution(high=200, log=False, low=1, step=1), 'sgd_mode': CategoricalDistribution(choices=('sgd', 'adagrad', 'adam')), 'batch_size': CategoricalDistribution(choices=(1, 2, 4, 8, 16, 32, 64, 128, 256, 512, 1024)), 'item_reg': FloatDistribution(high=0.01, log=True, low=1e-05, step=None), 'user_reg': FloatDistribution(high=0.01, log=True, low=1e-05, step=None), 'learning_rate': FloatDistribution(high=0.1, log=True, low=0.0001, step=None)}, trial_id=3, value=None)"
      ]
     },
     "execution_count": 19,
     "metadata": {},
     "output_type": "execute_result"
    }
   ],
   "source": [
    "optuna_study.best_trial"
   ]
  },
  {
   "cell_type": "code",
   "execution_count": 20,
   "id": "17997349",
   "metadata": {},
   "outputs": [
    {
     "data": {
      "text/html": [
       "<div>\n",
       "<style scoped>\n",
       "    .dataframe tbody tr th:only-of-type {\n",
       "        vertical-align: middle;\n",
       "    }\n",
       "\n",
       "    .dataframe tbody tr th {\n",
       "        vertical-align: top;\n",
       "    }\n",
       "\n",
       "    .dataframe thead th {\n",
       "        text-align: right;\n",
       "    }\n",
       "</style>\n",
       "<table border=\"1\" class=\"dataframe\">\n",
       "  <thead>\n",
       "    <tr style=\"text-align: right;\">\n",
       "      <th></th>\n",
       "      <th>batch_size</th>\n",
       "      <th>epochs</th>\n",
       "      <th>item_reg</th>\n",
       "      <th>learning_rate</th>\n",
       "      <th>num_factors</th>\n",
       "      <th>result</th>\n",
       "      <th>sgd_mode</th>\n",
       "      <th>user_reg</th>\n",
       "    </tr>\n",
       "  </thead>\n",
       "  <tbody>\n",
       "    <tr>\n",
       "      <th>0</th>\n",
       "      <td>64.0</td>\n",
       "      <td>20.0</td>\n",
       "      <td>0.000025</td>\n",
       "      <td>0.001327</td>\n",
       "      <td>44.0</td>\n",
       "      <td>0.045425</td>\n",
       "      <td>sgd</td>\n",
       "      <td>0.004970</td>\n",
       "    </tr>\n",
       "    <tr>\n",
       "      <th>1</th>\n",
       "      <td>32.0</td>\n",
       "      <td>5.0</td>\n",
       "      <td>0.004023</td>\n",
       "      <td>0.051815</td>\n",
       "      <td>199.0</td>\n",
       "      <td>0.022639</td>\n",
       "      <td>adagrad</td>\n",
       "      <td>0.000813</td>\n",
       "    </tr>\n",
       "    <tr>\n",
       "      <th>2</th>\n",
       "      <td>16.0</td>\n",
       "      <td>5.0</td>\n",
       "      <td>0.000351</td>\n",
       "      <td>0.000503</td>\n",
       "      <td>110.0</td>\n",
       "      <td>0.032019</td>\n",
       "      <td>adam</td>\n",
       "      <td>0.000015</td>\n",
       "    </tr>\n",
       "    <tr>\n",
       "      <th>3</th>\n",
       "      <td>128.0</td>\n",
       "      <td>5.0</td>\n",
       "      <td>0.002953</td>\n",
       "      <td>0.000183</td>\n",
       "      <td>48.0</td>\n",
       "      <td>0.047627</td>\n",
       "      <td>adam</td>\n",
       "      <td>0.000538</td>\n",
       "    </tr>\n",
       "    <tr>\n",
       "      <th>4</th>\n",
       "      <td>32.0</td>\n",
       "      <td>5.0</td>\n",
       "      <td>0.000894</td>\n",
       "      <td>0.020004</td>\n",
       "      <td>35.0</td>\n",
       "      <td>0.029640</td>\n",
       "      <td>sgd</td>\n",
       "      <td>0.000024</td>\n",
       "    </tr>\n",
       "    <tr>\n",
       "      <th>5</th>\n",
       "      <td>1024.0</td>\n",
       "      <td>100.0</td>\n",
       "      <td>0.008118</td>\n",
       "      <td>0.000326</td>\n",
       "      <td>151.0</td>\n",
       "      <td>0.006981</td>\n",
       "      <td>adagrad</td>\n",
       "      <td>0.000068</td>\n",
       "    </tr>\n",
       "    <tr>\n",
       "      <th>6</th>\n",
       "      <td>8.0</td>\n",
       "      <td>5.0</td>\n",
       "      <td>0.000760</td>\n",
       "      <td>0.000682</td>\n",
       "      <td>67.0</td>\n",
       "      <td>0.028966</td>\n",
       "      <td>adam</td>\n",
       "      <td>0.000015</td>\n",
       "    </tr>\n",
       "    <tr>\n",
       "      <th>7</th>\n",
       "      <td>1024.0</td>\n",
       "      <td>100.0</td>\n",
       "      <td>0.000484</td>\n",
       "      <td>0.000496</td>\n",
       "      <td>26.0</td>\n",
       "      <td>0.012343</td>\n",
       "      <td>sgd</td>\n",
       "      <td>0.000490</td>\n",
       "    </tr>\n",
       "    <tr>\n",
       "      <th>8</th>\n",
       "      <td>4.0</td>\n",
       "      <td>95.0</td>\n",
       "      <td>0.004535</td>\n",
       "      <td>0.000983</td>\n",
       "      <td>78.0</td>\n",
       "      <td>0.042036</td>\n",
       "      <td>adagrad</td>\n",
       "      <td>0.000031</td>\n",
       "    </tr>\n",
       "    <tr>\n",
       "      <th>9</th>\n",
       "      <td>32.0</td>\n",
       "      <td>100.0</td>\n",
       "      <td>0.002040</td>\n",
       "      <td>0.000103</td>\n",
       "      <td>67.0</td>\n",
       "      <td>0.042579</td>\n",
       "      <td>sgd</td>\n",
       "      <td>0.000943</td>\n",
       "    </tr>\n",
       "  </tbody>\n",
       "</table>\n",
       "</div>"
      ],
      "text/plain": [
       "   batch_size  epochs  item_reg  learning_rate  num_factors    result  \\\n",
       "0        64.0    20.0  0.000025       0.001327         44.0  0.045425   \n",
       "1        32.0     5.0  0.004023       0.051815        199.0  0.022639   \n",
       "2        16.0     5.0  0.000351       0.000503        110.0  0.032019   \n",
       "3       128.0     5.0  0.002953       0.000183         48.0  0.047627   \n",
       "4        32.0     5.0  0.000894       0.020004         35.0  0.029640   \n",
       "5      1024.0   100.0  0.008118       0.000326        151.0  0.006981   \n",
       "6         8.0     5.0  0.000760       0.000682         67.0  0.028966   \n",
       "7      1024.0   100.0  0.000484       0.000496         26.0  0.012343   \n",
       "8         4.0    95.0  0.004535       0.000983         78.0  0.042036   \n",
       "9        32.0   100.0  0.002040       0.000103         67.0  0.042579   \n",
       "\n",
       "  sgd_mode  user_reg  \n",
       "0      sgd  0.004970  \n",
       "1  adagrad  0.000813  \n",
       "2     adam  0.000015  \n",
       "3     adam  0.000538  \n",
       "4      sgd  0.000024  \n",
       "5  adagrad  0.000068  \n",
       "6     adam  0.000015  \n",
       "7      sgd  0.000490  \n",
       "8  adagrad  0.000031  \n",
       "9      sgd  0.000943  "
      ]
     },
     "execution_count": 20,
     "metadata": {},
     "output_type": "execute_result"
    }
   ],
   "source": [
    "save_results.results_df"
   ]
  },
  {
   "cell_type": "code",
   "execution_count": null,
   "id": "faffa9ed",
   "metadata": {},
   "outputs": [],
   "source": []
  },
  {
   "cell_type": "code",
   "execution_count": null,
   "id": "a39e0277",
   "metadata": {},
   "outputs": [],
   "source": []
  }
 ],
 "metadata": {
  "kernelspec": {
   "display_name": "Python 3 (ipykernel)",
   "language": "python",
   "name": "python3"
  },
  "language_info": {
   "codemirror_mode": {
    "name": "ipython",
    "version": 3
   },
   "file_extension": ".py",
   "mimetype": "text/x-python",
   "name": "python",
   "nbconvert_exporter": "python",
   "pygments_lexer": "ipython3",
   "version": "3.8.18"
  }
 },
 "nbformat": 4,
 "nbformat_minor": 5
}
